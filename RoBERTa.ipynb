{
  "nbformat": 4,
  "nbformat_minor": 0,
  "metadata": {
    "colab": {
      "name": "RoBERTa.ipynb",
      "provenance": [],
      "collapsed_sections": []
    },
    "kernelspec": {
      "display_name": "Python 3",
      "name": "python3"
    },
    "language_info": {
      "name": "python"
    },
    "widgets": {
      "application/vnd.jupyter.widget-state+json": {
        "868f6c8e34724012916723cd2eed03d4": {
          "model_module": "@jupyter-widgets/controls",
          "model_name": "HBoxModel",
          "state": {
            "_view_name": "HBoxView",
            "_dom_classes": [],
            "_model_name": "HBoxModel",
            "_view_module": "@jupyter-widgets/controls",
            "_model_module_version": "1.5.0",
            "_view_count": null,
            "_view_module_version": "1.5.0",
            "box_style": "",
            "layout": "IPY_MODEL_0b3eed270730499fa5da195b8cd7f98c",
            "_model_module": "@jupyter-widgets/controls",
            "children": [
              "IPY_MODEL_cb031afd2f404ccabfac0502c2785fcd",
              "IPY_MODEL_9e15e24cdbbb4d20b6f874d35f630814"
            ]
          }
        },
        "0b3eed270730499fa5da195b8cd7f98c": {
          "model_module": "@jupyter-widgets/base",
          "model_name": "LayoutModel",
          "state": {
            "_view_name": "LayoutView",
            "grid_template_rows": null,
            "right": null,
            "justify_content": null,
            "_view_module": "@jupyter-widgets/base",
            "overflow": null,
            "_model_module_version": "1.2.0",
            "_view_count": null,
            "flex_flow": null,
            "width": null,
            "min_width": null,
            "border": null,
            "align_items": null,
            "bottom": null,
            "_model_module": "@jupyter-widgets/base",
            "top": null,
            "grid_column": null,
            "overflow_y": null,
            "overflow_x": null,
            "grid_auto_flow": null,
            "grid_area": null,
            "grid_template_columns": null,
            "flex": null,
            "_model_name": "LayoutModel",
            "justify_items": null,
            "grid_row": null,
            "max_height": null,
            "align_content": null,
            "visibility": null,
            "align_self": null,
            "height": null,
            "min_height": null,
            "padding": null,
            "grid_auto_rows": null,
            "grid_gap": null,
            "max_width": null,
            "order": null,
            "_view_module_version": "1.2.0",
            "grid_template_areas": null,
            "object_position": null,
            "object_fit": null,
            "grid_auto_columns": null,
            "margin": null,
            "display": null,
            "left": null
          }
        },
        "cb031afd2f404ccabfac0502c2785fcd": {
          "model_module": "@jupyter-widgets/controls",
          "model_name": "FloatProgressModel",
          "state": {
            "_view_name": "ProgressView",
            "style": "IPY_MODEL_cba5da8f13e8472ea6f12df299f9004b",
            "_dom_classes": [],
            "description": "Downloading: ",
            "_model_name": "FloatProgressModel",
            "bar_style": "success",
            "max": 1430,
            "_view_module": "@jupyter-widgets/controls",
            "_model_module_version": "1.5.0",
            "value": 1430,
            "_view_count": null,
            "_view_module_version": "1.5.0",
            "orientation": "horizontal",
            "min": 0,
            "description_tooltip": null,
            "_model_module": "@jupyter-widgets/controls",
            "layout": "IPY_MODEL_43e5ca687b6647b6ad9ad6d56294a08e"
          }
        },
        "9e15e24cdbbb4d20b6f874d35f630814": {
          "model_module": "@jupyter-widgets/controls",
          "model_name": "HTMLModel",
          "state": {
            "_view_name": "HTMLView",
            "style": "IPY_MODEL_9377484bb59249338366e516d667d843",
            "_dom_classes": [],
            "description": "",
            "_model_name": "HTMLModel",
            "placeholder": "​",
            "_view_module": "@jupyter-widgets/controls",
            "_model_module_version": "1.5.0",
            "value": " 3.07k/? [00:01&lt;00:00, 1.82kB/s]",
            "_view_count": null,
            "_view_module_version": "1.5.0",
            "description_tooltip": null,
            "_model_module": "@jupyter-widgets/controls",
            "layout": "IPY_MODEL_b4401ea31ba44148bd0edbb039324788"
          }
        },
        "cba5da8f13e8472ea6f12df299f9004b": {
          "model_module": "@jupyter-widgets/controls",
          "model_name": "ProgressStyleModel",
          "state": {
            "_view_name": "StyleView",
            "_model_name": "ProgressStyleModel",
            "description_width": "initial",
            "_view_module": "@jupyter-widgets/base",
            "_model_module_version": "1.5.0",
            "_view_count": null,
            "_view_module_version": "1.2.0",
            "bar_color": null,
            "_model_module": "@jupyter-widgets/controls"
          }
        },
        "43e5ca687b6647b6ad9ad6d56294a08e": {
          "model_module": "@jupyter-widgets/base",
          "model_name": "LayoutModel",
          "state": {
            "_view_name": "LayoutView",
            "grid_template_rows": null,
            "right": null,
            "justify_content": null,
            "_view_module": "@jupyter-widgets/base",
            "overflow": null,
            "_model_module_version": "1.2.0",
            "_view_count": null,
            "flex_flow": null,
            "width": null,
            "min_width": null,
            "border": null,
            "align_items": null,
            "bottom": null,
            "_model_module": "@jupyter-widgets/base",
            "top": null,
            "grid_column": null,
            "overflow_y": null,
            "overflow_x": null,
            "grid_auto_flow": null,
            "grid_area": null,
            "grid_template_columns": null,
            "flex": null,
            "_model_name": "LayoutModel",
            "justify_items": null,
            "grid_row": null,
            "max_height": null,
            "align_content": null,
            "visibility": null,
            "align_self": null,
            "height": null,
            "min_height": null,
            "padding": null,
            "grid_auto_rows": null,
            "grid_gap": null,
            "max_width": null,
            "order": null,
            "_view_module_version": "1.2.0",
            "grid_template_areas": null,
            "object_position": null,
            "object_fit": null,
            "grid_auto_columns": null,
            "margin": null,
            "display": null,
            "left": null
          }
        },
        "9377484bb59249338366e516d667d843": {
          "model_module": "@jupyter-widgets/controls",
          "model_name": "DescriptionStyleModel",
          "state": {
            "_view_name": "StyleView",
            "_model_name": "DescriptionStyleModel",
            "description_width": "",
            "_view_module": "@jupyter-widgets/base",
            "_model_module_version": "1.5.0",
            "_view_count": null,
            "_view_module_version": "1.2.0",
            "_model_module": "@jupyter-widgets/controls"
          }
        },
        "b4401ea31ba44148bd0edbb039324788": {
          "model_module": "@jupyter-widgets/base",
          "model_name": "LayoutModel",
          "state": {
            "_view_name": "LayoutView",
            "grid_template_rows": null,
            "right": null,
            "justify_content": null,
            "_view_module": "@jupyter-widgets/base",
            "overflow": null,
            "_model_module_version": "1.2.0",
            "_view_count": null,
            "flex_flow": null,
            "width": null,
            "min_width": null,
            "border": null,
            "align_items": null,
            "bottom": null,
            "_model_module": "@jupyter-widgets/base",
            "top": null,
            "grid_column": null,
            "overflow_y": null,
            "overflow_x": null,
            "grid_auto_flow": null,
            "grid_area": null,
            "grid_template_columns": null,
            "flex": null,
            "_model_name": "LayoutModel",
            "justify_items": null,
            "grid_row": null,
            "max_height": null,
            "align_content": null,
            "visibility": null,
            "align_self": null,
            "height": null,
            "min_height": null,
            "padding": null,
            "grid_auto_rows": null,
            "grid_gap": null,
            "max_width": null,
            "order": null,
            "_view_module_version": "1.2.0",
            "grid_template_areas": null,
            "object_position": null,
            "object_fit": null,
            "grid_auto_columns": null,
            "margin": null,
            "display": null,
            "left": null
          }
        },
        "46399cd555794aadb77fdd93d018d9b1": {
          "model_module": "@jupyter-widgets/controls",
          "model_name": "HBoxModel",
          "state": {
            "_view_name": "HBoxView",
            "_dom_classes": [],
            "_model_name": "HBoxModel",
            "_view_module": "@jupyter-widgets/controls",
            "_model_module_version": "1.5.0",
            "_view_count": null,
            "_view_module_version": "1.5.0",
            "box_style": "",
            "layout": "IPY_MODEL_9dbaef08d2b44bda8cde5800b1bf8e10",
            "_model_module": "@jupyter-widgets/controls",
            "children": [
              "IPY_MODEL_4d068d387d0f468c8c05f9f3fc49afea",
              "IPY_MODEL_c2f5624d75e04b7ea34e67652fde3949"
            ]
          }
        },
        "9dbaef08d2b44bda8cde5800b1bf8e10": {
          "model_module": "@jupyter-widgets/base",
          "model_name": "LayoutModel",
          "state": {
            "_view_name": "LayoutView",
            "grid_template_rows": null,
            "right": null,
            "justify_content": null,
            "_view_module": "@jupyter-widgets/base",
            "overflow": null,
            "_model_module_version": "1.2.0",
            "_view_count": null,
            "flex_flow": null,
            "width": null,
            "min_width": null,
            "border": null,
            "align_items": null,
            "bottom": null,
            "_model_module": "@jupyter-widgets/base",
            "top": null,
            "grid_column": null,
            "overflow_y": null,
            "overflow_x": null,
            "grid_auto_flow": null,
            "grid_area": null,
            "grid_template_columns": null,
            "flex": null,
            "_model_name": "LayoutModel",
            "justify_items": null,
            "grid_row": null,
            "max_height": null,
            "align_content": null,
            "visibility": null,
            "align_self": null,
            "height": null,
            "min_height": null,
            "padding": null,
            "grid_auto_rows": null,
            "grid_gap": null,
            "max_width": null,
            "order": null,
            "_view_module_version": "1.2.0",
            "grid_template_areas": null,
            "object_position": null,
            "object_fit": null,
            "grid_auto_columns": null,
            "margin": null,
            "display": null,
            "left": null
          }
        },
        "4d068d387d0f468c8c05f9f3fc49afea": {
          "model_module": "@jupyter-widgets/controls",
          "model_name": "FloatProgressModel",
          "state": {
            "_view_name": "ProgressView",
            "style": "IPY_MODEL_e170f6eae4024fe68a709894b2fdaa01",
            "_dom_classes": [],
            "description": "Downloading: ",
            "_model_name": "FloatProgressModel",
            "bar_style": "success",
            "max": 827,
            "_view_module": "@jupyter-widgets/controls",
            "_model_module_version": "1.5.0",
            "value": 827,
            "_view_count": null,
            "_view_module_version": "1.5.0",
            "orientation": "horizontal",
            "min": 0,
            "description_tooltip": null,
            "_model_module": "@jupyter-widgets/controls",
            "layout": "IPY_MODEL_9d1f4d02fad245dda47c4900559b7b38"
          }
        },
        "c2f5624d75e04b7ea34e67652fde3949": {
          "model_module": "@jupyter-widgets/controls",
          "model_name": "HTMLModel",
          "state": {
            "_view_name": "HTMLView",
            "style": "IPY_MODEL_0c72493d7f704a0fbad6413807718ef7",
            "_dom_classes": [],
            "description": "",
            "_model_name": "HTMLModel",
            "placeholder": "​",
            "_view_module": "@jupyter-widgets/controls",
            "_model_module_version": "1.5.0",
            "value": " 1.70k/? [00:00&lt;00:00, 22.2kB/s]",
            "_view_count": null,
            "_view_module_version": "1.5.0",
            "description_tooltip": null,
            "_model_module": "@jupyter-widgets/controls",
            "layout": "IPY_MODEL_00e3257487dd4b828b3f8ef0096c4a04"
          }
        },
        "e170f6eae4024fe68a709894b2fdaa01": {
          "model_module": "@jupyter-widgets/controls",
          "model_name": "ProgressStyleModel",
          "state": {
            "_view_name": "StyleView",
            "_model_name": "ProgressStyleModel",
            "description_width": "initial",
            "_view_module": "@jupyter-widgets/base",
            "_model_module_version": "1.5.0",
            "_view_count": null,
            "_view_module_version": "1.2.0",
            "bar_color": null,
            "_model_module": "@jupyter-widgets/controls"
          }
        },
        "9d1f4d02fad245dda47c4900559b7b38": {
          "model_module": "@jupyter-widgets/base",
          "model_name": "LayoutModel",
          "state": {
            "_view_name": "LayoutView",
            "grid_template_rows": null,
            "right": null,
            "justify_content": null,
            "_view_module": "@jupyter-widgets/base",
            "overflow": null,
            "_model_module_version": "1.2.0",
            "_view_count": null,
            "flex_flow": null,
            "width": null,
            "min_width": null,
            "border": null,
            "align_items": null,
            "bottom": null,
            "_model_module": "@jupyter-widgets/base",
            "top": null,
            "grid_column": null,
            "overflow_y": null,
            "overflow_x": null,
            "grid_auto_flow": null,
            "grid_area": null,
            "grid_template_columns": null,
            "flex": null,
            "_model_name": "LayoutModel",
            "justify_items": null,
            "grid_row": null,
            "max_height": null,
            "align_content": null,
            "visibility": null,
            "align_self": null,
            "height": null,
            "min_height": null,
            "padding": null,
            "grid_auto_rows": null,
            "grid_gap": null,
            "max_width": null,
            "order": null,
            "_view_module_version": "1.2.0",
            "grid_template_areas": null,
            "object_position": null,
            "object_fit": null,
            "grid_auto_columns": null,
            "margin": null,
            "display": null,
            "left": null
          }
        },
        "0c72493d7f704a0fbad6413807718ef7": {
          "model_module": "@jupyter-widgets/controls",
          "model_name": "DescriptionStyleModel",
          "state": {
            "_view_name": "StyleView",
            "_model_name": "DescriptionStyleModel",
            "description_width": "",
            "_view_module": "@jupyter-widgets/base",
            "_model_module_version": "1.5.0",
            "_view_count": null,
            "_view_module_version": "1.2.0",
            "_model_module": "@jupyter-widgets/controls"
          }
        },
        "00e3257487dd4b828b3f8ef0096c4a04": {
          "model_module": "@jupyter-widgets/base",
          "model_name": "LayoutModel",
          "state": {
            "_view_name": "LayoutView",
            "grid_template_rows": null,
            "right": null,
            "justify_content": null,
            "_view_module": "@jupyter-widgets/base",
            "overflow": null,
            "_model_module_version": "1.2.0",
            "_view_count": null,
            "flex_flow": null,
            "width": null,
            "min_width": null,
            "border": null,
            "align_items": null,
            "bottom": null,
            "_model_module": "@jupyter-widgets/base",
            "top": null,
            "grid_column": null,
            "overflow_y": null,
            "overflow_x": null,
            "grid_auto_flow": null,
            "grid_area": null,
            "grid_template_columns": null,
            "flex": null,
            "_model_name": "LayoutModel",
            "justify_items": null,
            "grid_row": null,
            "max_height": null,
            "align_content": null,
            "visibility": null,
            "align_self": null,
            "height": null,
            "min_height": null,
            "padding": null,
            "grid_auto_rows": null,
            "grid_gap": null,
            "max_width": null,
            "order": null,
            "_view_module_version": "1.2.0",
            "grid_template_areas": null,
            "object_position": null,
            "object_fit": null,
            "grid_auto_columns": null,
            "margin": null,
            "display": null,
            "left": null
          }
        },
        "cf2ea2350c4842a5acb64f127e905d3c": {
          "model_module": "@jupyter-widgets/controls",
          "model_name": "HBoxModel",
          "state": {
            "_view_name": "HBoxView",
            "_dom_classes": [],
            "_model_name": "HBoxModel",
            "_view_module": "@jupyter-widgets/controls",
            "_model_module_version": "1.5.0",
            "_view_count": null,
            "_view_module_version": "1.5.0",
            "box_style": "",
            "layout": "IPY_MODEL_7b8171b8a39f40aba579525ee81581aa",
            "_model_module": "@jupyter-widgets/controls",
            "children": [
              "IPY_MODEL_6566e1696b4741d5af29ae848604ad9e",
              "IPY_MODEL_1a2b942a8f84422aabee34b54ba9c5dd"
            ]
          }
        },
        "7b8171b8a39f40aba579525ee81581aa": {
          "model_module": "@jupyter-widgets/base",
          "model_name": "LayoutModel",
          "state": {
            "_view_name": "LayoutView",
            "grid_template_rows": null,
            "right": null,
            "justify_content": null,
            "_view_module": "@jupyter-widgets/base",
            "overflow": null,
            "_model_module_version": "1.2.0",
            "_view_count": null,
            "flex_flow": null,
            "width": null,
            "min_width": null,
            "border": null,
            "align_items": null,
            "bottom": null,
            "_model_module": "@jupyter-widgets/base",
            "top": null,
            "grid_column": null,
            "overflow_y": null,
            "overflow_x": null,
            "grid_auto_flow": null,
            "grid_area": null,
            "grid_template_columns": null,
            "flex": null,
            "_model_name": "LayoutModel",
            "justify_items": null,
            "grid_row": null,
            "max_height": null,
            "align_content": null,
            "visibility": null,
            "align_self": null,
            "height": null,
            "min_height": null,
            "padding": null,
            "grid_auto_rows": null,
            "grid_gap": null,
            "max_width": null,
            "order": null,
            "_view_module_version": "1.2.0",
            "grid_template_areas": null,
            "object_position": null,
            "object_fit": null,
            "grid_auto_columns": null,
            "margin": null,
            "display": null,
            "left": null
          }
        },
        "6566e1696b4741d5af29ae848604ad9e": {
          "model_module": "@jupyter-widgets/controls",
          "model_name": "FloatProgressModel",
          "state": {
            "_view_name": "ProgressView",
            "style": "IPY_MODEL_65143976b0404f91b3bb2cf3532ece12",
            "_dom_classes": [],
            "description": "Downloading: ",
            "_model_name": "FloatProgressModel",
            "bar_style": "success",
            "max": 1276746,
            "_view_module": "@jupyter-widgets/controls",
            "_model_module_version": "1.5.0",
            "value": 1276746,
            "_view_count": null,
            "_view_module_version": "1.5.0",
            "orientation": "horizontal",
            "min": 0,
            "description_tooltip": null,
            "_model_module": "@jupyter-widgets/controls",
            "layout": "IPY_MODEL_ed160034910c42a5b403b48e5b9965e6"
          }
        },
        "1a2b942a8f84422aabee34b54ba9c5dd": {
          "model_module": "@jupyter-widgets/controls",
          "model_name": "HTMLModel",
          "state": {
            "_view_name": "HTMLView",
            "style": "IPY_MODEL_d53ad48e47764a2e9329b01fc59a6f1e",
            "_dom_classes": [],
            "description": "",
            "_model_name": "HTMLModel",
            "placeholder": "​",
            "_view_module": "@jupyter-widgets/controls",
            "_model_module_version": "1.5.0",
            "value": " 3.10M/? [00:00&lt;00:00, 6.06MB/s]",
            "_view_count": null,
            "_view_module_version": "1.5.0",
            "description_tooltip": null,
            "_model_module": "@jupyter-widgets/controls",
            "layout": "IPY_MODEL_2912464f07be4721a27e5948558166a2"
          }
        },
        "65143976b0404f91b3bb2cf3532ece12": {
          "model_module": "@jupyter-widgets/controls",
          "model_name": "ProgressStyleModel",
          "state": {
            "_view_name": "StyleView",
            "_model_name": "ProgressStyleModel",
            "description_width": "initial",
            "_view_module": "@jupyter-widgets/base",
            "_model_module_version": "1.5.0",
            "_view_count": null,
            "_view_module_version": "1.2.0",
            "bar_color": null,
            "_model_module": "@jupyter-widgets/controls"
          }
        },
        "ed160034910c42a5b403b48e5b9965e6": {
          "model_module": "@jupyter-widgets/base",
          "model_name": "LayoutModel",
          "state": {
            "_view_name": "LayoutView",
            "grid_template_rows": null,
            "right": null,
            "justify_content": null,
            "_view_module": "@jupyter-widgets/base",
            "overflow": null,
            "_model_module_version": "1.2.0",
            "_view_count": null,
            "flex_flow": null,
            "width": null,
            "min_width": null,
            "border": null,
            "align_items": null,
            "bottom": null,
            "_model_module": "@jupyter-widgets/base",
            "top": null,
            "grid_column": null,
            "overflow_y": null,
            "overflow_x": null,
            "grid_auto_flow": null,
            "grid_area": null,
            "grid_template_columns": null,
            "flex": null,
            "_model_name": "LayoutModel",
            "justify_items": null,
            "grid_row": null,
            "max_height": null,
            "align_content": null,
            "visibility": null,
            "align_self": null,
            "height": null,
            "min_height": null,
            "padding": null,
            "grid_auto_rows": null,
            "grid_gap": null,
            "max_width": null,
            "order": null,
            "_view_module_version": "1.2.0",
            "grid_template_areas": null,
            "object_position": null,
            "object_fit": null,
            "grid_auto_columns": null,
            "margin": null,
            "display": null,
            "left": null
          }
        },
        "d53ad48e47764a2e9329b01fc59a6f1e": {
          "model_module": "@jupyter-widgets/controls",
          "model_name": "DescriptionStyleModel",
          "state": {
            "_view_name": "StyleView",
            "_model_name": "DescriptionStyleModel",
            "description_width": "",
            "_view_module": "@jupyter-widgets/base",
            "_model_module_version": "1.5.0",
            "_view_count": null,
            "_view_module_version": "1.2.0",
            "_model_module": "@jupyter-widgets/controls"
          }
        },
        "2912464f07be4721a27e5948558166a2": {
          "model_module": "@jupyter-widgets/base",
          "model_name": "LayoutModel",
          "state": {
            "_view_name": "LayoutView",
            "grid_template_rows": null,
            "right": null,
            "justify_content": null,
            "_view_module": "@jupyter-widgets/base",
            "overflow": null,
            "_model_module_version": "1.2.0",
            "_view_count": null,
            "flex_flow": null,
            "width": null,
            "min_width": null,
            "border": null,
            "align_items": null,
            "bottom": null,
            "_model_module": "@jupyter-widgets/base",
            "top": null,
            "grid_column": null,
            "overflow_y": null,
            "overflow_x": null,
            "grid_auto_flow": null,
            "grid_area": null,
            "grid_template_columns": null,
            "flex": null,
            "_model_name": "LayoutModel",
            "justify_items": null,
            "grid_row": null,
            "max_height": null,
            "align_content": null,
            "visibility": null,
            "align_self": null,
            "height": null,
            "min_height": null,
            "padding": null,
            "grid_auto_rows": null,
            "grid_gap": null,
            "max_width": null,
            "order": null,
            "_view_module_version": "1.2.0",
            "grid_template_areas": null,
            "object_position": null,
            "object_fit": null,
            "grid_auto_columns": null,
            "margin": null,
            "display": null,
            "left": null
          }
        },
        "95136fb0a92d4b17be8a07f068216502": {
          "model_module": "@jupyter-widgets/controls",
          "model_name": "HBoxModel",
          "state": {
            "_view_name": "HBoxView",
            "_dom_classes": [],
            "_model_name": "HBoxModel",
            "_view_module": "@jupyter-widgets/controls",
            "_model_module_version": "1.5.0",
            "_view_count": null,
            "_view_module_version": "1.5.0",
            "box_style": "",
            "layout": "IPY_MODEL_45a076f89d15420baa5774b41d0baafd",
            "_model_module": "@jupyter-widgets/controls",
            "children": [
              "IPY_MODEL_ca6832807dc7494d9aa2364708ef5c6f",
              "IPY_MODEL_1aa0315c8ce8480dade9e80428e2c43e"
            ]
          }
        },
        "45a076f89d15420baa5774b41d0baafd": {
          "model_module": "@jupyter-widgets/base",
          "model_name": "LayoutModel",
          "state": {
            "_view_name": "LayoutView",
            "grid_template_rows": null,
            "right": null,
            "justify_content": null,
            "_view_module": "@jupyter-widgets/base",
            "overflow": null,
            "_model_module_version": "1.2.0",
            "_view_count": null,
            "flex_flow": null,
            "width": null,
            "min_width": null,
            "border": null,
            "align_items": null,
            "bottom": null,
            "_model_module": "@jupyter-widgets/base",
            "top": null,
            "grid_column": null,
            "overflow_y": null,
            "overflow_x": null,
            "grid_auto_flow": null,
            "grid_area": null,
            "grid_template_columns": null,
            "flex": null,
            "_model_name": "LayoutModel",
            "justify_items": null,
            "grid_row": null,
            "max_height": null,
            "align_content": null,
            "visibility": null,
            "align_self": null,
            "height": null,
            "min_height": null,
            "padding": null,
            "grid_auto_rows": null,
            "grid_gap": null,
            "max_width": null,
            "order": null,
            "_view_module_version": "1.2.0",
            "grid_template_areas": null,
            "object_position": null,
            "object_fit": null,
            "grid_auto_columns": null,
            "margin": null,
            "display": null,
            "left": null
          }
        },
        "ca6832807dc7494d9aa2364708ef5c6f": {
          "model_module": "@jupyter-widgets/controls",
          "model_name": "FloatProgressModel",
          "state": {
            "_view_name": "ProgressView",
            "style": "IPY_MODEL_85e5adbe74954372bac5ab5e40bcb60d",
            "_dom_classes": [],
            "description": "",
            "_model_name": "FloatProgressModel",
            "bar_style": "info",
            "max": 1,
            "_view_module": "@jupyter-widgets/controls",
            "_model_module_version": "1.5.0",
            "value": 1,
            "_view_count": null,
            "_view_module_version": "1.5.0",
            "orientation": "horizontal",
            "min": 0,
            "description_tooltip": null,
            "_model_module": "@jupyter-widgets/controls",
            "layout": "IPY_MODEL_09133d97130d42088b7aa493a31cf441"
          }
        },
        "1aa0315c8ce8480dade9e80428e2c43e": {
          "model_module": "@jupyter-widgets/controls",
          "model_name": "HTMLModel",
          "state": {
            "_view_name": "HTMLView",
            "style": "IPY_MODEL_abd13ed2fec94d23a966064d72c0c88f",
            "_dom_classes": [],
            "description": "",
            "_model_name": "HTMLModel",
            "placeholder": "​",
            "_view_module": "@jupyter-widgets/controls",
            "_model_module_version": "1.5.0",
            "value": " 31962/0 [00:02&lt;00:00,  7.01 examples/s]",
            "_view_count": null,
            "_view_module_version": "1.5.0",
            "description_tooltip": null,
            "_model_module": "@jupyter-widgets/controls",
            "layout": "IPY_MODEL_f47cf050c63b4613976eb7a90d015527"
          }
        },
        "85e5adbe74954372bac5ab5e40bcb60d": {
          "model_module": "@jupyter-widgets/controls",
          "model_name": "ProgressStyleModel",
          "state": {
            "_view_name": "StyleView",
            "_model_name": "ProgressStyleModel",
            "description_width": "initial",
            "_view_module": "@jupyter-widgets/base",
            "_model_module_version": "1.5.0",
            "_view_count": null,
            "_view_module_version": "1.2.0",
            "bar_color": null,
            "_model_module": "@jupyter-widgets/controls"
          }
        },
        "09133d97130d42088b7aa493a31cf441": {
          "model_module": "@jupyter-widgets/base",
          "model_name": "LayoutModel",
          "state": {
            "_view_name": "LayoutView",
            "grid_template_rows": null,
            "right": null,
            "justify_content": null,
            "_view_module": "@jupyter-widgets/base",
            "overflow": null,
            "_model_module_version": "1.2.0",
            "_view_count": null,
            "flex_flow": null,
            "width": null,
            "min_width": null,
            "border": null,
            "align_items": null,
            "bottom": null,
            "_model_module": "@jupyter-widgets/base",
            "top": null,
            "grid_column": null,
            "overflow_y": null,
            "overflow_x": null,
            "grid_auto_flow": null,
            "grid_area": null,
            "grid_template_columns": null,
            "flex": null,
            "_model_name": "LayoutModel",
            "justify_items": null,
            "grid_row": null,
            "max_height": null,
            "align_content": null,
            "visibility": null,
            "align_self": null,
            "height": null,
            "min_height": null,
            "padding": null,
            "grid_auto_rows": null,
            "grid_gap": null,
            "max_width": null,
            "order": null,
            "_view_module_version": "1.2.0",
            "grid_template_areas": null,
            "object_position": null,
            "object_fit": null,
            "grid_auto_columns": null,
            "margin": null,
            "display": null,
            "left": null
          }
        },
        "abd13ed2fec94d23a966064d72c0c88f": {
          "model_module": "@jupyter-widgets/controls",
          "model_name": "DescriptionStyleModel",
          "state": {
            "_view_name": "StyleView",
            "_model_name": "DescriptionStyleModel",
            "description_width": "",
            "_view_module": "@jupyter-widgets/base",
            "_model_module_version": "1.5.0",
            "_view_count": null,
            "_view_module_version": "1.2.0",
            "_model_module": "@jupyter-widgets/controls"
          }
        },
        "f47cf050c63b4613976eb7a90d015527": {
          "model_module": "@jupyter-widgets/base",
          "model_name": "LayoutModel",
          "state": {
            "_view_name": "LayoutView",
            "grid_template_rows": null,
            "right": null,
            "justify_content": null,
            "_view_module": "@jupyter-widgets/base",
            "overflow": null,
            "_model_module_version": "1.2.0",
            "_view_count": null,
            "flex_flow": null,
            "width": null,
            "min_width": null,
            "border": null,
            "align_items": null,
            "bottom": null,
            "_model_module": "@jupyter-widgets/base",
            "top": null,
            "grid_column": null,
            "overflow_y": null,
            "overflow_x": null,
            "grid_auto_flow": null,
            "grid_area": null,
            "grid_template_columns": null,
            "flex": null,
            "_model_name": "LayoutModel",
            "justify_items": null,
            "grid_row": null,
            "max_height": null,
            "align_content": null,
            "visibility": null,
            "align_self": null,
            "height": null,
            "min_height": null,
            "padding": null,
            "grid_auto_rows": null,
            "grid_gap": null,
            "max_width": null,
            "order": null,
            "_view_module_version": "1.2.0",
            "grid_template_areas": null,
            "object_position": null,
            "object_fit": null,
            "grid_auto_columns": null,
            "margin": null,
            "display": null,
            "left": null
          }
        },
        "60ffe3e9ef7b41728ba8a132f24585ca": {
          "model_module": "@jupyter-widgets/controls",
          "model_name": "HBoxModel",
          "state": {
            "_view_name": "HBoxView",
            "_dom_classes": [],
            "_model_name": "HBoxModel",
            "_view_module": "@jupyter-widgets/controls",
            "_model_module_version": "1.5.0",
            "_view_count": null,
            "_view_module_version": "1.5.0",
            "box_style": "",
            "layout": "IPY_MODEL_a921d5041e104c25b813427e0af7fae9",
            "_model_module": "@jupyter-widgets/controls",
            "children": [
              "IPY_MODEL_e0f07f4863ed472faf50fca33aaec206",
              "IPY_MODEL_c234698389eb4d10b40289d42722eda6"
            ]
          }
        },
        "a921d5041e104c25b813427e0af7fae9": {
          "model_module": "@jupyter-widgets/base",
          "model_name": "LayoutModel",
          "state": {
            "_view_name": "LayoutView",
            "grid_template_rows": null,
            "right": null,
            "justify_content": null,
            "_view_module": "@jupyter-widgets/base",
            "overflow": null,
            "_model_module_version": "1.2.0",
            "_view_count": null,
            "flex_flow": null,
            "width": null,
            "min_width": null,
            "border": null,
            "align_items": null,
            "bottom": null,
            "_model_module": "@jupyter-widgets/base",
            "top": null,
            "grid_column": null,
            "overflow_y": null,
            "overflow_x": null,
            "grid_auto_flow": null,
            "grid_area": null,
            "grid_template_columns": null,
            "flex": null,
            "_model_name": "LayoutModel",
            "justify_items": null,
            "grid_row": null,
            "max_height": null,
            "align_content": null,
            "visibility": null,
            "align_self": null,
            "height": null,
            "min_height": null,
            "padding": null,
            "grid_auto_rows": null,
            "grid_gap": null,
            "max_width": null,
            "order": null,
            "_view_module_version": "1.2.0",
            "grid_template_areas": null,
            "object_position": null,
            "object_fit": null,
            "grid_auto_columns": null,
            "margin": null,
            "display": null,
            "left": null
          }
        },
        "e0f07f4863ed472faf50fca33aaec206": {
          "model_module": "@jupyter-widgets/controls",
          "model_name": "FloatProgressModel",
          "state": {
            "_view_name": "ProgressView",
            "style": "IPY_MODEL_5fdb3698769b479981416444a1fd0a4d",
            "_dom_classes": [],
            "description": "Downloading: 100%",
            "_model_name": "FloatProgressModel",
            "bar_style": "success",
            "max": 898823,
            "_view_module": "@jupyter-widgets/controls",
            "_model_module_version": "1.5.0",
            "value": 898823,
            "_view_count": null,
            "_view_module_version": "1.5.0",
            "orientation": "horizontal",
            "min": 0,
            "description_tooltip": null,
            "_model_module": "@jupyter-widgets/controls",
            "layout": "IPY_MODEL_d3313977b77546bbad17c6b97fc73c27"
          }
        },
        "c234698389eb4d10b40289d42722eda6": {
          "model_module": "@jupyter-widgets/controls",
          "model_name": "HTMLModel",
          "state": {
            "_view_name": "HTMLView",
            "style": "IPY_MODEL_c1b22ecd62a44f1ab66679eb8e4b7dd6",
            "_dom_classes": [],
            "description": "",
            "_model_name": "HTMLModel",
            "placeholder": "​",
            "_view_module": "@jupyter-widgets/controls",
            "_model_module_version": "1.5.0",
            "value": " 899k/899k [00:02&lt;00:00, 346kB/s]",
            "_view_count": null,
            "_view_module_version": "1.5.0",
            "description_tooltip": null,
            "_model_module": "@jupyter-widgets/controls",
            "layout": "IPY_MODEL_1a42335b9483487fb403ecd532b325e8"
          }
        },
        "5fdb3698769b479981416444a1fd0a4d": {
          "model_module": "@jupyter-widgets/controls",
          "model_name": "ProgressStyleModel",
          "state": {
            "_view_name": "StyleView",
            "_model_name": "ProgressStyleModel",
            "description_width": "initial",
            "_view_module": "@jupyter-widgets/base",
            "_model_module_version": "1.5.0",
            "_view_count": null,
            "_view_module_version": "1.2.0",
            "bar_color": null,
            "_model_module": "@jupyter-widgets/controls"
          }
        },
        "d3313977b77546bbad17c6b97fc73c27": {
          "model_module": "@jupyter-widgets/base",
          "model_name": "LayoutModel",
          "state": {
            "_view_name": "LayoutView",
            "grid_template_rows": null,
            "right": null,
            "justify_content": null,
            "_view_module": "@jupyter-widgets/base",
            "overflow": null,
            "_model_module_version": "1.2.0",
            "_view_count": null,
            "flex_flow": null,
            "width": null,
            "min_width": null,
            "border": null,
            "align_items": null,
            "bottom": null,
            "_model_module": "@jupyter-widgets/base",
            "top": null,
            "grid_column": null,
            "overflow_y": null,
            "overflow_x": null,
            "grid_auto_flow": null,
            "grid_area": null,
            "grid_template_columns": null,
            "flex": null,
            "_model_name": "LayoutModel",
            "justify_items": null,
            "grid_row": null,
            "max_height": null,
            "align_content": null,
            "visibility": null,
            "align_self": null,
            "height": null,
            "min_height": null,
            "padding": null,
            "grid_auto_rows": null,
            "grid_gap": null,
            "max_width": null,
            "order": null,
            "_view_module_version": "1.2.0",
            "grid_template_areas": null,
            "object_position": null,
            "object_fit": null,
            "grid_auto_columns": null,
            "margin": null,
            "display": null,
            "left": null
          }
        },
        "c1b22ecd62a44f1ab66679eb8e4b7dd6": {
          "model_module": "@jupyter-widgets/controls",
          "model_name": "DescriptionStyleModel",
          "state": {
            "_view_name": "StyleView",
            "_model_name": "DescriptionStyleModel",
            "description_width": "",
            "_view_module": "@jupyter-widgets/base",
            "_model_module_version": "1.5.0",
            "_view_count": null,
            "_view_module_version": "1.2.0",
            "_model_module": "@jupyter-widgets/controls"
          }
        },
        "1a42335b9483487fb403ecd532b325e8": {
          "model_module": "@jupyter-widgets/base",
          "model_name": "LayoutModel",
          "state": {
            "_view_name": "LayoutView",
            "grid_template_rows": null,
            "right": null,
            "justify_content": null,
            "_view_module": "@jupyter-widgets/base",
            "overflow": null,
            "_model_module_version": "1.2.0",
            "_view_count": null,
            "flex_flow": null,
            "width": null,
            "min_width": null,
            "border": null,
            "align_items": null,
            "bottom": null,
            "_model_module": "@jupyter-widgets/base",
            "top": null,
            "grid_column": null,
            "overflow_y": null,
            "overflow_x": null,
            "grid_auto_flow": null,
            "grid_area": null,
            "grid_template_columns": null,
            "flex": null,
            "_model_name": "LayoutModel",
            "justify_items": null,
            "grid_row": null,
            "max_height": null,
            "align_content": null,
            "visibility": null,
            "align_self": null,
            "height": null,
            "min_height": null,
            "padding": null,
            "grid_auto_rows": null,
            "grid_gap": null,
            "max_width": null,
            "order": null,
            "_view_module_version": "1.2.0",
            "grid_template_areas": null,
            "object_position": null,
            "object_fit": null,
            "grid_auto_columns": null,
            "margin": null,
            "display": null,
            "left": null
          }
        },
        "5f477efdf69a4bab993383179e20ee33": {
          "model_module": "@jupyter-widgets/controls",
          "model_name": "HBoxModel",
          "state": {
            "_view_name": "HBoxView",
            "_dom_classes": [],
            "_model_name": "HBoxModel",
            "_view_module": "@jupyter-widgets/controls",
            "_model_module_version": "1.5.0",
            "_view_count": null,
            "_view_module_version": "1.5.0",
            "box_style": "",
            "layout": "IPY_MODEL_cc8a442ff2054090a215c13b4dafb96d",
            "_model_module": "@jupyter-widgets/controls",
            "children": [
              "IPY_MODEL_dc516ad8fe6c444080519bfbfd04caab",
              "IPY_MODEL_2b4bb9fbf8dd40698cfb70d7f524ef4b"
            ]
          }
        },
        "cc8a442ff2054090a215c13b4dafb96d": {
          "model_module": "@jupyter-widgets/base",
          "model_name": "LayoutModel",
          "state": {
            "_view_name": "LayoutView",
            "grid_template_rows": null,
            "right": null,
            "justify_content": null,
            "_view_module": "@jupyter-widgets/base",
            "overflow": null,
            "_model_module_version": "1.2.0",
            "_view_count": null,
            "flex_flow": null,
            "width": null,
            "min_width": null,
            "border": null,
            "align_items": null,
            "bottom": null,
            "_model_module": "@jupyter-widgets/base",
            "top": null,
            "grid_column": null,
            "overflow_y": null,
            "overflow_x": null,
            "grid_auto_flow": null,
            "grid_area": null,
            "grid_template_columns": null,
            "flex": null,
            "_model_name": "LayoutModel",
            "justify_items": null,
            "grid_row": null,
            "max_height": null,
            "align_content": null,
            "visibility": null,
            "align_self": null,
            "height": null,
            "min_height": null,
            "padding": null,
            "grid_auto_rows": null,
            "grid_gap": null,
            "max_width": null,
            "order": null,
            "_view_module_version": "1.2.0",
            "grid_template_areas": null,
            "object_position": null,
            "object_fit": null,
            "grid_auto_columns": null,
            "margin": null,
            "display": null,
            "left": null
          }
        },
        "dc516ad8fe6c444080519bfbfd04caab": {
          "model_module": "@jupyter-widgets/controls",
          "model_name": "FloatProgressModel",
          "state": {
            "_view_name": "ProgressView",
            "style": "IPY_MODEL_b9f0c7f67fd945baa7340ef6845b2958",
            "_dom_classes": [],
            "description": "Downloading: 100%",
            "_model_name": "FloatProgressModel",
            "bar_style": "success",
            "max": 456318,
            "_view_module": "@jupyter-widgets/controls",
            "_model_module_version": "1.5.0",
            "value": 456318,
            "_view_count": null,
            "_view_module_version": "1.5.0",
            "orientation": "horizontal",
            "min": 0,
            "description_tooltip": null,
            "_model_module": "@jupyter-widgets/controls",
            "layout": "IPY_MODEL_ba0ba06558734057963b08610c5bf03c"
          }
        },
        "2b4bb9fbf8dd40698cfb70d7f524ef4b": {
          "model_module": "@jupyter-widgets/controls",
          "model_name": "HTMLModel",
          "state": {
            "_view_name": "HTMLView",
            "style": "IPY_MODEL_7796e4a6b872422689615dfc604b8d8c",
            "_dom_classes": [],
            "description": "",
            "_model_name": "HTMLModel",
            "placeholder": "​",
            "_view_module": "@jupyter-widgets/controls",
            "_model_module_version": "1.5.0",
            "value": " 456k/456k [00:01&lt;00:00, 254kB/s]",
            "_view_count": null,
            "_view_module_version": "1.5.0",
            "description_tooltip": null,
            "_model_module": "@jupyter-widgets/controls",
            "layout": "IPY_MODEL_eda96449bcc648fd9be58e378b1df7b7"
          }
        },
        "b9f0c7f67fd945baa7340ef6845b2958": {
          "model_module": "@jupyter-widgets/controls",
          "model_name": "ProgressStyleModel",
          "state": {
            "_view_name": "StyleView",
            "_model_name": "ProgressStyleModel",
            "description_width": "initial",
            "_view_module": "@jupyter-widgets/base",
            "_model_module_version": "1.5.0",
            "_view_count": null,
            "_view_module_version": "1.2.0",
            "bar_color": null,
            "_model_module": "@jupyter-widgets/controls"
          }
        },
        "ba0ba06558734057963b08610c5bf03c": {
          "model_module": "@jupyter-widgets/base",
          "model_name": "LayoutModel",
          "state": {
            "_view_name": "LayoutView",
            "grid_template_rows": null,
            "right": null,
            "justify_content": null,
            "_view_module": "@jupyter-widgets/base",
            "overflow": null,
            "_model_module_version": "1.2.0",
            "_view_count": null,
            "flex_flow": null,
            "width": null,
            "min_width": null,
            "border": null,
            "align_items": null,
            "bottom": null,
            "_model_module": "@jupyter-widgets/base",
            "top": null,
            "grid_column": null,
            "overflow_y": null,
            "overflow_x": null,
            "grid_auto_flow": null,
            "grid_area": null,
            "grid_template_columns": null,
            "flex": null,
            "_model_name": "LayoutModel",
            "justify_items": null,
            "grid_row": null,
            "max_height": null,
            "align_content": null,
            "visibility": null,
            "align_self": null,
            "height": null,
            "min_height": null,
            "padding": null,
            "grid_auto_rows": null,
            "grid_gap": null,
            "max_width": null,
            "order": null,
            "_view_module_version": "1.2.0",
            "grid_template_areas": null,
            "object_position": null,
            "object_fit": null,
            "grid_auto_columns": null,
            "margin": null,
            "display": null,
            "left": null
          }
        },
        "7796e4a6b872422689615dfc604b8d8c": {
          "model_module": "@jupyter-widgets/controls",
          "model_name": "DescriptionStyleModel",
          "state": {
            "_view_name": "StyleView",
            "_model_name": "DescriptionStyleModel",
            "description_width": "",
            "_view_module": "@jupyter-widgets/base",
            "_model_module_version": "1.5.0",
            "_view_count": null,
            "_view_module_version": "1.2.0",
            "_model_module": "@jupyter-widgets/controls"
          }
        },
        "eda96449bcc648fd9be58e378b1df7b7": {
          "model_module": "@jupyter-widgets/base",
          "model_name": "LayoutModel",
          "state": {
            "_view_name": "LayoutView",
            "grid_template_rows": null,
            "right": null,
            "justify_content": null,
            "_view_module": "@jupyter-widgets/base",
            "overflow": null,
            "_model_module_version": "1.2.0",
            "_view_count": null,
            "flex_flow": null,
            "width": null,
            "min_width": null,
            "border": null,
            "align_items": null,
            "bottom": null,
            "_model_module": "@jupyter-widgets/base",
            "top": null,
            "grid_column": null,
            "overflow_y": null,
            "overflow_x": null,
            "grid_auto_flow": null,
            "grid_area": null,
            "grid_template_columns": null,
            "flex": null,
            "_model_name": "LayoutModel",
            "justify_items": null,
            "grid_row": null,
            "max_height": null,
            "align_content": null,
            "visibility": null,
            "align_self": null,
            "height": null,
            "min_height": null,
            "padding": null,
            "grid_auto_rows": null,
            "grid_gap": null,
            "max_width": null,
            "order": null,
            "_view_module_version": "1.2.0",
            "grid_template_areas": null,
            "object_position": null,
            "object_fit": null,
            "grid_auto_columns": null,
            "margin": null,
            "display": null,
            "left": null
          }
        },
        "2c9ee97459764b12b0199bc4cf664663": {
          "model_module": "@jupyter-widgets/controls",
          "model_name": "HBoxModel",
          "state": {
            "_view_name": "HBoxView",
            "_dom_classes": [],
            "_model_name": "HBoxModel",
            "_view_module": "@jupyter-widgets/controls",
            "_model_module_version": "1.5.0",
            "_view_count": null,
            "_view_module_version": "1.5.0",
            "box_style": "",
            "layout": "IPY_MODEL_b67db8ddd7e14b81841deb51fbd9b715",
            "_model_module": "@jupyter-widgets/controls",
            "children": [
              "IPY_MODEL_5c8942876d2543ff9c535830e4dab211",
              "IPY_MODEL_0f0c9cc078844f8dbb69ce6957bce73e"
            ]
          }
        },
        "b67db8ddd7e14b81841deb51fbd9b715": {
          "model_module": "@jupyter-widgets/base",
          "model_name": "LayoutModel",
          "state": {
            "_view_name": "LayoutView",
            "grid_template_rows": null,
            "right": null,
            "justify_content": null,
            "_view_module": "@jupyter-widgets/base",
            "overflow": null,
            "_model_module_version": "1.2.0",
            "_view_count": null,
            "flex_flow": null,
            "width": null,
            "min_width": null,
            "border": null,
            "align_items": null,
            "bottom": null,
            "_model_module": "@jupyter-widgets/base",
            "top": null,
            "grid_column": null,
            "overflow_y": null,
            "overflow_x": null,
            "grid_auto_flow": null,
            "grid_area": null,
            "grid_template_columns": null,
            "flex": null,
            "_model_name": "LayoutModel",
            "justify_items": null,
            "grid_row": null,
            "max_height": null,
            "align_content": null,
            "visibility": null,
            "align_self": null,
            "height": null,
            "min_height": null,
            "padding": null,
            "grid_auto_rows": null,
            "grid_gap": null,
            "max_width": null,
            "order": null,
            "_view_module_version": "1.2.0",
            "grid_template_areas": null,
            "object_position": null,
            "object_fit": null,
            "grid_auto_columns": null,
            "margin": null,
            "display": null,
            "left": null
          }
        },
        "5c8942876d2543ff9c535830e4dab211": {
          "model_module": "@jupyter-widgets/controls",
          "model_name": "FloatProgressModel",
          "state": {
            "_view_name": "ProgressView",
            "style": "IPY_MODEL_7f9e44bf496c461cbeea2a62d504446a",
            "_dom_classes": [],
            "description": "Downloading: 100%",
            "_model_name": "FloatProgressModel",
            "bar_style": "success",
            "max": 1355863,
            "_view_module": "@jupyter-widgets/controls",
            "_model_module_version": "1.5.0",
            "value": 1355863,
            "_view_count": null,
            "_view_module_version": "1.5.0",
            "orientation": "horizontal",
            "min": 0,
            "description_tooltip": null,
            "_model_module": "@jupyter-widgets/controls",
            "layout": "IPY_MODEL_a412b0b155884003b98dcf39c5c52388"
          }
        },
        "0f0c9cc078844f8dbb69ce6957bce73e": {
          "model_module": "@jupyter-widgets/controls",
          "model_name": "HTMLModel",
          "state": {
            "_view_name": "HTMLView",
            "style": "IPY_MODEL_5c6a7c3a8e404b819295f0c98e00508a",
            "_dom_classes": [],
            "description": "",
            "_model_name": "HTMLModel",
            "placeholder": "​",
            "_view_module": "@jupyter-widgets/controls",
            "_model_module_version": "1.5.0",
            "value": " 1.36M/1.36M [00:00&lt;00:00, 3.03MB/s]",
            "_view_count": null,
            "_view_module_version": "1.5.0",
            "description_tooltip": null,
            "_model_module": "@jupyter-widgets/controls",
            "layout": "IPY_MODEL_e7b6c126529c4845923072c3f484f1aa"
          }
        },
        "7f9e44bf496c461cbeea2a62d504446a": {
          "model_module": "@jupyter-widgets/controls",
          "model_name": "ProgressStyleModel",
          "state": {
            "_view_name": "StyleView",
            "_model_name": "ProgressStyleModel",
            "description_width": "initial",
            "_view_module": "@jupyter-widgets/base",
            "_model_module_version": "1.5.0",
            "_view_count": null,
            "_view_module_version": "1.2.0",
            "bar_color": null,
            "_model_module": "@jupyter-widgets/controls"
          }
        },
        "a412b0b155884003b98dcf39c5c52388": {
          "model_module": "@jupyter-widgets/base",
          "model_name": "LayoutModel",
          "state": {
            "_view_name": "LayoutView",
            "grid_template_rows": null,
            "right": null,
            "justify_content": null,
            "_view_module": "@jupyter-widgets/base",
            "overflow": null,
            "_model_module_version": "1.2.0",
            "_view_count": null,
            "flex_flow": null,
            "width": null,
            "min_width": null,
            "border": null,
            "align_items": null,
            "bottom": null,
            "_model_module": "@jupyter-widgets/base",
            "top": null,
            "grid_column": null,
            "overflow_y": null,
            "overflow_x": null,
            "grid_auto_flow": null,
            "grid_area": null,
            "grid_template_columns": null,
            "flex": null,
            "_model_name": "LayoutModel",
            "justify_items": null,
            "grid_row": null,
            "max_height": null,
            "align_content": null,
            "visibility": null,
            "align_self": null,
            "height": null,
            "min_height": null,
            "padding": null,
            "grid_auto_rows": null,
            "grid_gap": null,
            "max_width": null,
            "order": null,
            "_view_module_version": "1.2.0",
            "grid_template_areas": null,
            "object_position": null,
            "object_fit": null,
            "grid_auto_columns": null,
            "margin": null,
            "display": null,
            "left": null
          }
        },
        "5c6a7c3a8e404b819295f0c98e00508a": {
          "model_module": "@jupyter-widgets/controls",
          "model_name": "DescriptionStyleModel",
          "state": {
            "_view_name": "StyleView",
            "_model_name": "DescriptionStyleModel",
            "description_width": "",
            "_view_module": "@jupyter-widgets/base",
            "_model_module_version": "1.5.0",
            "_view_count": null,
            "_view_module_version": "1.2.0",
            "_model_module": "@jupyter-widgets/controls"
          }
        },
        "e7b6c126529c4845923072c3f484f1aa": {
          "model_module": "@jupyter-widgets/base",
          "model_name": "LayoutModel",
          "state": {
            "_view_name": "LayoutView",
            "grid_template_rows": null,
            "right": null,
            "justify_content": null,
            "_view_module": "@jupyter-widgets/base",
            "overflow": null,
            "_model_module_version": "1.2.0",
            "_view_count": null,
            "flex_flow": null,
            "width": null,
            "min_width": null,
            "border": null,
            "align_items": null,
            "bottom": null,
            "_model_module": "@jupyter-widgets/base",
            "top": null,
            "grid_column": null,
            "overflow_y": null,
            "overflow_x": null,
            "grid_auto_flow": null,
            "grid_area": null,
            "grid_template_columns": null,
            "flex": null,
            "_model_name": "LayoutModel",
            "justify_items": null,
            "grid_row": null,
            "max_height": null,
            "align_content": null,
            "visibility": null,
            "align_self": null,
            "height": null,
            "min_height": null,
            "padding": null,
            "grid_auto_rows": null,
            "grid_gap": null,
            "max_width": null,
            "order": null,
            "_view_module_version": "1.2.0",
            "grid_template_areas": null,
            "object_position": null,
            "object_fit": null,
            "grid_auto_columns": null,
            "margin": null,
            "display": null,
            "left": null
          }
        },
        "bc4d16f0343f48a6ac2562ff35858842": {
          "model_module": "@jupyter-widgets/controls",
          "model_name": "HBoxModel",
          "state": {
            "_view_name": "HBoxView",
            "_dom_classes": [],
            "_model_name": "HBoxModel",
            "_view_module": "@jupyter-widgets/controls",
            "_model_module_version": "1.5.0",
            "_view_count": null,
            "_view_module_version": "1.5.0",
            "box_style": "",
            "layout": "IPY_MODEL_810bc06fff2d42d9b303baabaf046ed9",
            "_model_module": "@jupyter-widgets/controls",
            "children": [
              "IPY_MODEL_c58fdd1dcde74bb79e6127bd410a4a2a",
              "IPY_MODEL_582516ed489f42eb8b286095f4b00f25"
            ]
          }
        },
        "810bc06fff2d42d9b303baabaf046ed9": {
          "model_module": "@jupyter-widgets/base",
          "model_name": "LayoutModel",
          "state": {
            "_view_name": "LayoutView",
            "grid_template_rows": null,
            "right": null,
            "justify_content": null,
            "_view_module": "@jupyter-widgets/base",
            "overflow": null,
            "_model_module_version": "1.2.0",
            "_view_count": null,
            "flex_flow": null,
            "width": null,
            "min_width": null,
            "border": null,
            "align_items": null,
            "bottom": null,
            "_model_module": "@jupyter-widgets/base",
            "top": null,
            "grid_column": null,
            "overflow_y": null,
            "overflow_x": null,
            "grid_auto_flow": null,
            "grid_area": null,
            "grid_template_columns": null,
            "flex": null,
            "_model_name": "LayoutModel",
            "justify_items": null,
            "grid_row": null,
            "max_height": null,
            "align_content": null,
            "visibility": null,
            "align_self": null,
            "height": null,
            "min_height": null,
            "padding": null,
            "grid_auto_rows": null,
            "grid_gap": null,
            "max_width": null,
            "order": null,
            "_view_module_version": "1.2.0",
            "grid_template_areas": null,
            "object_position": null,
            "object_fit": null,
            "grid_auto_columns": null,
            "margin": null,
            "display": null,
            "left": null
          }
        },
        "c58fdd1dcde74bb79e6127bd410a4a2a": {
          "model_module": "@jupyter-widgets/controls",
          "model_name": "FloatProgressModel",
          "state": {
            "_view_name": "ProgressView",
            "style": "IPY_MODEL_1c291b7a7c484ff28c7423af8f22d9c7",
            "_dom_classes": [],
            "description": "Downloading: 100%",
            "_model_name": "FloatProgressModel",
            "bar_style": "success",
            "max": 482,
            "_view_module": "@jupyter-widgets/controls",
            "_model_module_version": "1.5.0",
            "value": 482,
            "_view_count": null,
            "_view_module_version": "1.5.0",
            "orientation": "horizontal",
            "min": 0,
            "description_tooltip": null,
            "_model_module": "@jupyter-widgets/controls",
            "layout": "IPY_MODEL_dbd923337c5d4572bf18472e45021775"
          }
        },
        "582516ed489f42eb8b286095f4b00f25": {
          "model_module": "@jupyter-widgets/controls",
          "model_name": "HTMLModel",
          "state": {
            "_view_name": "HTMLView",
            "style": "IPY_MODEL_6a42e386d82349ee8363046f27505f73",
            "_dom_classes": [],
            "description": "",
            "_model_name": "HTMLModel",
            "placeholder": "​",
            "_view_module": "@jupyter-widgets/controls",
            "_model_module_version": "1.5.0",
            "value": " 482/482 [00:00&lt;00:00, 1.91kB/s]",
            "_view_count": null,
            "_view_module_version": "1.5.0",
            "description_tooltip": null,
            "_model_module": "@jupyter-widgets/controls",
            "layout": "IPY_MODEL_674e32f736c5430f9e6f5b7cd9f2efaf"
          }
        },
        "1c291b7a7c484ff28c7423af8f22d9c7": {
          "model_module": "@jupyter-widgets/controls",
          "model_name": "ProgressStyleModel",
          "state": {
            "_view_name": "StyleView",
            "_model_name": "ProgressStyleModel",
            "description_width": "initial",
            "_view_module": "@jupyter-widgets/base",
            "_model_module_version": "1.5.0",
            "_view_count": null,
            "_view_module_version": "1.2.0",
            "bar_color": null,
            "_model_module": "@jupyter-widgets/controls"
          }
        },
        "dbd923337c5d4572bf18472e45021775": {
          "model_module": "@jupyter-widgets/base",
          "model_name": "LayoutModel",
          "state": {
            "_view_name": "LayoutView",
            "grid_template_rows": null,
            "right": null,
            "justify_content": null,
            "_view_module": "@jupyter-widgets/base",
            "overflow": null,
            "_model_module_version": "1.2.0",
            "_view_count": null,
            "flex_flow": null,
            "width": null,
            "min_width": null,
            "border": null,
            "align_items": null,
            "bottom": null,
            "_model_module": "@jupyter-widgets/base",
            "top": null,
            "grid_column": null,
            "overflow_y": null,
            "overflow_x": null,
            "grid_auto_flow": null,
            "grid_area": null,
            "grid_template_columns": null,
            "flex": null,
            "_model_name": "LayoutModel",
            "justify_items": null,
            "grid_row": null,
            "max_height": null,
            "align_content": null,
            "visibility": null,
            "align_self": null,
            "height": null,
            "min_height": null,
            "padding": null,
            "grid_auto_rows": null,
            "grid_gap": null,
            "max_width": null,
            "order": null,
            "_view_module_version": "1.2.0",
            "grid_template_areas": null,
            "object_position": null,
            "object_fit": null,
            "grid_auto_columns": null,
            "margin": null,
            "display": null,
            "left": null
          }
        },
        "6a42e386d82349ee8363046f27505f73": {
          "model_module": "@jupyter-widgets/controls",
          "model_name": "DescriptionStyleModel",
          "state": {
            "_view_name": "StyleView",
            "_model_name": "DescriptionStyleModel",
            "description_width": "",
            "_view_module": "@jupyter-widgets/base",
            "_model_module_version": "1.5.0",
            "_view_count": null,
            "_view_module_version": "1.2.0",
            "_model_module": "@jupyter-widgets/controls"
          }
        },
        "674e32f736c5430f9e6f5b7cd9f2efaf": {
          "model_module": "@jupyter-widgets/base",
          "model_name": "LayoutModel",
          "state": {
            "_view_name": "LayoutView",
            "grid_template_rows": null,
            "right": null,
            "justify_content": null,
            "_view_module": "@jupyter-widgets/base",
            "overflow": null,
            "_model_module_version": "1.2.0",
            "_view_count": null,
            "flex_flow": null,
            "width": null,
            "min_width": null,
            "border": null,
            "align_items": null,
            "bottom": null,
            "_model_module": "@jupyter-widgets/base",
            "top": null,
            "grid_column": null,
            "overflow_y": null,
            "overflow_x": null,
            "grid_auto_flow": null,
            "grid_area": null,
            "grid_template_columns": null,
            "flex": null,
            "_model_name": "LayoutModel",
            "justify_items": null,
            "grid_row": null,
            "max_height": null,
            "align_content": null,
            "visibility": null,
            "align_self": null,
            "height": null,
            "min_height": null,
            "padding": null,
            "grid_auto_rows": null,
            "grid_gap": null,
            "max_width": null,
            "order": null,
            "_view_module_version": "1.2.0",
            "grid_template_areas": null,
            "object_position": null,
            "object_fit": null,
            "grid_auto_columns": null,
            "margin": null,
            "display": null,
            "left": null
          }
        },
        "3227dcd5cd514875a586cc8b8c876961": {
          "model_module": "@jupyter-widgets/controls",
          "model_name": "HBoxModel",
          "state": {
            "_view_name": "HBoxView",
            "_dom_classes": [],
            "_model_name": "HBoxModel",
            "_view_module": "@jupyter-widgets/controls",
            "_model_module_version": "1.5.0",
            "_view_count": null,
            "_view_module_version": "1.5.0",
            "box_style": "",
            "layout": "IPY_MODEL_2a8183b90ead4c888bfa473ef1ae8c61",
            "_model_module": "@jupyter-widgets/controls",
            "children": [
              "IPY_MODEL_fd94b03a28aa4b78a664e31bec10be62",
              "IPY_MODEL_8697520af4244c85a879cf2ac5d98021"
            ]
          }
        },
        "2a8183b90ead4c888bfa473ef1ae8c61": {
          "model_module": "@jupyter-widgets/base",
          "model_name": "LayoutModel",
          "state": {
            "_view_name": "LayoutView",
            "grid_template_rows": null,
            "right": null,
            "justify_content": null,
            "_view_module": "@jupyter-widgets/base",
            "overflow": null,
            "_model_module_version": "1.2.0",
            "_view_count": null,
            "flex_flow": null,
            "width": null,
            "min_width": null,
            "border": null,
            "align_items": null,
            "bottom": null,
            "_model_module": "@jupyter-widgets/base",
            "top": null,
            "grid_column": null,
            "overflow_y": null,
            "overflow_x": null,
            "grid_auto_flow": null,
            "grid_area": null,
            "grid_template_columns": null,
            "flex": null,
            "_model_name": "LayoutModel",
            "justify_items": null,
            "grid_row": null,
            "max_height": null,
            "align_content": null,
            "visibility": null,
            "align_self": null,
            "height": null,
            "min_height": null,
            "padding": null,
            "grid_auto_rows": null,
            "grid_gap": null,
            "max_width": null,
            "order": null,
            "_view_module_version": "1.2.0",
            "grid_template_areas": null,
            "object_position": null,
            "object_fit": null,
            "grid_auto_columns": null,
            "margin": null,
            "display": null,
            "left": null
          }
        },
        "fd94b03a28aa4b78a664e31bec10be62": {
          "model_module": "@jupyter-widgets/controls",
          "model_name": "FloatProgressModel",
          "state": {
            "_view_name": "ProgressView",
            "style": "IPY_MODEL_be7e9414ec214198937724e5e062b079",
            "_dom_classes": [],
            "description": "Downloading: 100%",
            "_model_name": "FloatProgressModel",
            "bar_style": "success",
            "max": 1425941629,
            "_view_module": "@jupyter-widgets/controls",
            "_model_module_version": "1.5.0",
            "value": 1425941629,
            "_view_count": null,
            "_view_module_version": "1.5.0",
            "orientation": "horizontal",
            "min": 0,
            "description_tooltip": null,
            "_model_module": "@jupyter-widgets/controls",
            "layout": "IPY_MODEL_f0a5f1f085c34a43ada2880e9964a4e3"
          }
        },
        "8697520af4244c85a879cf2ac5d98021": {
          "model_module": "@jupyter-widgets/controls",
          "model_name": "HTMLModel",
          "state": {
            "_view_name": "HTMLView",
            "style": "IPY_MODEL_c161333383ea4a5481ebdb6369f3fc9b",
            "_dom_classes": [],
            "description": "",
            "_model_name": "HTMLModel",
            "placeholder": "​",
            "_view_module": "@jupyter-widgets/controls",
            "_model_module_version": "1.5.0",
            "value": " 1.43G/1.43G [00:33&lt;00:00, 42.6MB/s]",
            "_view_count": null,
            "_view_module_version": "1.5.0",
            "description_tooltip": null,
            "_model_module": "@jupyter-widgets/controls",
            "layout": "IPY_MODEL_c6c43166f2ea40fdb26d0650448458ac"
          }
        },
        "be7e9414ec214198937724e5e062b079": {
          "model_module": "@jupyter-widgets/controls",
          "model_name": "ProgressStyleModel",
          "state": {
            "_view_name": "StyleView",
            "_model_name": "ProgressStyleModel",
            "description_width": "initial",
            "_view_module": "@jupyter-widgets/base",
            "_model_module_version": "1.5.0",
            "_view_count": null,
            "_view_module_version": "1.2.0",
            "bar_color": null,
            "_model_module": "@jupyter-widgets/controls"
          }
        },
        "f0a5f1f085c34a43ada2880e9964a4e3": {
          "model_module": "@jupyter-widgets/base",
          "model_name": "LayoutModel",
          "state": {
            "_view_name": "LayoutView",
            "grid_template_rows": null,
            "right": null,
            "justify_content": null,
            "_view_module": "@jupyter-widgets/base",
            "overflow": null,
            "_model_module_version": "1.2.0",
            "_view_count": null,
            "flex_flow": null,
            "width": null,
            "min_width": null,
            "border": null,
            "align_items": null,
            "bottom": null,
            "_model_module": "@jupyter-widgets/base",
            "top": null,
            "grid_column": null,
            "overflow_y": null,
            "overflow_x": null,
            "grid_auto_flow": null,
            "grid_area": null,
            "grid_template_columns": null,
            "flex": null,
            "_model_name": "LayoutModel",
            "justify_items": null,
            "grid_row": null,
            "max_height": null,
            "align_content": null,
            "visibility": null,
            "align_self": null,
            "height": null,
            "min_height": null,
            "padding": null,
            "grid_auto_rows": null,
            "grid_gap": null,
            "max_width": null,
            "order": null,
            "_view_module_version": "1.2.0",
            "grid_template_areas": null,
            "object_position": null,
            "object_fit": null,
            "grid_auto_columns": null,
            "margin": null,
            "display": null,
            "left": null
          }
        },
        "c161333383ea4a5481ebdb6369f3fc9b": {
          "model_module": "@jupyter-widgets/controls",
          "model_name": "DescriptionStyleModel",
          "state": {
            "_view_name": "StyleView",
            "_model_name": "DescriptionStyleModel",
            "description_width": "",
            "_view_module": "@jupyter-widgets/base",
            "_model_module_version": "1.5.0",
            "_view_count": null,
            "_view_module_version": "1.2.0",
            "_model_module": "@jupyter-widgets/controls"
          }
        },
        "c6c43166f2ea40fdb26d0650448458ac": {
          "model_module": "@jupyter-widgets/base",
          "model_name": "LayoutModel",
          "state": {
            "_view_name": "LayoutView",
            "grid_template_rows": null,
            "right": null,
            "justify_content": null,
            "_view_module": "@jupyter-widgets/base",
            "overflow": null,
            "_model_module_version": "1.2.0",
            "_view_count": null,
            "flex_flow": null,
            "width": null,
            "min_width": null,
            "border": null,
            "align_items": null,
            "bottom": null,
            "_model_module": "@jupyter-widgets/base",
            "top": null,
            "grid_column": null,
            "overflow_y": null,
            "overflow_x": null,
            "grid_auto_flow": null,
            "grid_area": null,
            "grid_template_columns": null,
            "flex": null,
            "_model_name": "LayoutModel",
            "justify_items": null,
            "grid_row": null,
            "max_height": null,
            "align_content": null,
            "visibility": null,
            "align_self": null,
            "height": null,
            "min_height": null,
            "padding": null,
            "grid_auto_rows": null,
            "grid_gap": null,
            "max_width": null,
            "order": null,
            "_view_module_version": "1.2.0",
            "grid_template_areas": null,
            "object_position": null,
            "object_fit": null,
            "grid_auto_columns": null,
            "margin": null,
            "display": null,
            "left": null
          }
        },
        "46e5d838cb094d56ac3396012ced15c9": {
          "model_module": "@jupyter-widgets/controls",
          "model_name": "HBoxModel",
          "state": {
            "_view_name": "HBoxView",
            "_dom_classes": [],
            "_model_name": "HBoxModel",
            "_view_module": "@jupyter-widgets/controls",
            "_model_module_version": "1.5.0",
            "_view_count": null,
            "_view_module_version": "1.5.0",
            "box_style": "",
            "layout": "IPY_MODEL_1c80281f033a43c499c5312d7ff68039",
            "_model_module": "@jupyter-widgets/controls",
            "children": [
              "IPY_MODEL_ad74e576fd4045a5a1c4d79587597b34",
              "IPY_MODEL_a7dc0fc3668b42acad4bfc73d6e75964"
            ]
          }
        },
        "1c80281f033a43c499c5312d7ff68039": {
          "model_module": "@jupyter-widgets/base",
          "model_name": "LayoutModel",
          "state": {
            "_view_name": "LayoutView",
            "grid_template_rows": null,
            "right": null,
            "justify_content": null,
            "_view_module": "@jupyter-widgets/base",
            "overflow": null,
            "_model_module_version": "1.2.0",
            "_view_count": null,
            "flex_flow": null,
            "width": null,
            "min_width": null,
            "border": null,
            "align_items": null,
            "bottom": null,
            "_model_module": "@jupyter-widgets/base",
            "top": null,
            "grid_column": null,
            "overflow_y": null,
            "overflow_x": null,
            "grid_auto_flow": null,
            "grid_area": null,
            "grid_template_columns": null,
            "flex": null,
            "_model_name": "LayoutModel",
            "justify_items": null,
            "grid_row": null,
            "max_height": null,
            "align_content": null,
            "visibility": null,
            "align_self": null,
            "height": null,
            "min_height": null,
            "padding": null,
            "grid_auto_rows": null,
            "grid_gap": null,
            "max_width": null,
            "order": null,
            "_view_module_version": "1.2.0",
            "grid_template_areas": null,
            "object_position": null,
            "object_fit": null,
            "grid_auto_columns": null,
            "margin": null,
            "display": null,
            "left": null
          }
        },
        "ad74e576fd4045a5a1c4d79587597b34": {
          "model_module": "@jupyter-widgets/controls",
          "model_name": "FloatProgressModel",
          "state": {
            "_view_name": "ProgressView",
            "style": "IPY_MODEL_aefbd17bc9af4fed913eda15b61b8710",
            "_dom_classes": [],
            "description": "  0%",
            "_model_name": "FloatProgressModel",
            "bar_style": "danger",
            "max": 1359,
            "_view_module": "@jupyter-widgets/controls",
            "_model_module_version": "1.5.0",
            "value": 1,
            "_view_count": null,
            "_view_module_version": "1.5.0",
            "orientation": "horizontal",
            "min": 0,
            "description_tooltip": null,
            "_model_module": "@jupyter-widgets/controls",
            "layout": "IPY_MODEL_fe9148e0d78c4ac9a4eb787f696826b6"
          }
        },
        "a7dc0fc3668b42acad4bfc73d6e75964": {
          "model_module": "@jupyter-widgets/controls",
          "model_name": "HTMLModel",
          "state": {
            "_view_name": "HTMLView",
            "style": "IPY_MODEL_d6eef72334ff4a4cab55848ed6d6bd59",
            "_dom_classes": [],
            "description": "",
            "_model_name": "HTMLModel",
            "placeholder": "​",
            "_view_module": "@jupyter-widgets/controls",
            "_model_module_version": "1.5.0",
            "value": " 1/1359 [06:06&lt;138:22:40, 366.83s/it]",
            "_view_count": null,
            "_view_module_version": "1.5.0",
            "description_tooltip": null,
            "_model_module": "@jupyter-widgets/controls",
            "layout": "IPY_MODEL_c0ecd11bf69d478f9d7fd447661f26ed"
          }
        },
        "aefbd17bc9af4fed913eda15b61b8710": {
          "model_module": "@jupyter-widgets/controls",
          "model_name": "ProgressStyleModel",
          "state": {
            "_view_name": "StyleView",
            "_model_name": "ProgressStyleModel",
            "description_width": "initial",
            "_view_module": "@jupyter-widgets/base",
            "_model_module_version": "1.5.0",
            "_view_count": null,
            "_view_module_version": "1.2.0",
            "bar_color": null,
            "_model_module": "@jupyter-widgets/controls"
          }
        },
        "fe9148e0d78c4ac9a4eb787f696826b6": {
          "model_module": "@jupyter-widgets/base",
          "model_name": "LayoutModel",
          "state": {
            "_view_name": "LayoutView",
            "grid_template_rows": null,
            "right": null,
            "justify_content": null,
            "_view_module": "@jupyter-widgets/base",
            "overflow": null,
            "_model_module_version": "1.2.0",
            "_view_count": null,
            "flex_flow": null,
            "width": null,
            "min_width": null,
            "border": null,
            "align_items": null,
            "bottom": null,
            "_model_module": "@jupyter-widgets/base",
            "top": null,
            "grid_column": null,
            "overflow_y": null,
            "overflow_x": null,
            "grid_auto_flow": null,
            "grid_area": null,
            "grid_template_columns": null,
            "flex": null,
            "_model_name": "LayoutModel",
            "justify_items": null,
            "grid_row": null,
            "max_height": null,
            "align_content": null,
            "visibility": null,
            "align_self": null,
            "height": null,
            "min_height": null,
            "padding": null,
            "grid_auto_rows": null,
            "grid_gap": null,
            "max_width": null,
            "order": null,
            "_view_module_version": "1.2.0",
            "grid_template_areas": null,
            "object_position": null,
            "object_fit": null,
            "grid_auto_columns": null,
            "margin": null,
            "display": null,
            "left": null
          }
        },
        "d6eef72334ff4a4cab55848ed6d6bd59": {
          "model_module": "@jupyter-widgets/controls",
          "model_name": "DescriptionStyleModel",
          "state": {
            "_view_name": "StyleView",
            "_model_name": "DescriptionStyleModel",
            "description_width": "",
            "_view_module": "@jupyter-widgets/base",
            "_model_module_version": "1.5.0",
            "_view_count": null,
            "_view_module_version": "1.2.0",
            "_model_module": "@jupyter-widgets/controls"
          }
        },
        "c0ecd11bf69d478f9d7fd447661f26ed": {
          "model_module": "@jupyter-widgets/base",
          "model_name": "LayoutModel",
          "state": {
            "_view_name": "LayoutView",
            "grid_template_rows": null,
            "right": null,
            "justify_content": null,
            "_view_module": "@jupyter-widgets/base",
            "overflow": null,
            "_model_module_version": "1.2.0",
            "_view_count": null,
            "flex_flow": null,
            "width": null,
            "min_width": null,
            "border": null,
            "align_items": null,
            "bottom": null,
            "_model_module": "@jupyter-widgets/base",
            "top": null,
            "grid_column": null,
            "overflow_y": null,
            "overflow_x": null,
            "grid_auto_flow": null,
            "grid_area": null,
            "grid_template_columns": null,
            "flex": null,
            "_model_name": "LayoutModel",
            "justify_items": null,
            "grid_row": null,
            "max_height": null,
            "align_content": null,
            "visibility": null,
            "align_self": null,
            "height": null,
            "min_height": null,
            "padding": null,
            "grid_auto_rows": null,
            "grid_gap": null,
            "max_width": null,
            "order": null,
            "_view_module_version": "1.2.0",
            "grid_template_areas": null,
            "object_position": null,
            "object_fit": null,
            "grid_auto_columns": null,
            "margin": null,
            "display": null,
            "left": null
          }
        },
        "0d6dd006441a4d4bb7c29f1d5a6c2094": {
          "model_module": "@jupyter-widgets/controls",
          "model_name": "HBoxModel",
          "state": {
            "_view_name": "HBoxView",
            "_dom_classes": [],
            "_model_name": "HBoxModel",
            "_view_module": "@jupyter-widgets/controls",
            "_model_module_version": "1.5.0",
            "_view_count": null,
            "_view_module_version": "1.5.0",
            "box_style": "",
            "layout": "IPY_MODEL_0a9876eeca244c1fb5c019020cec527d",
            "_model_module": "@jupyter-widgets/controls",
            "children": [
              "IPY_MODEL_a2147aca5d9d44c69a7204121e4ba8d6",
              "IPY_MODEL_c6d3eee8547147659e4c63dcb072e122"
            ]
          }
        },
        "0a9876eeca244c1fb5c019020cec527d": {
          "model_module": "@jupyter-widgets/base",
          "model_name": "LayoutModel",
          "state": {
            "_view_name": "LayoutView",
            "grid_template_rows": null,
            "right": null,
            "justify_content": null,
            "_view_module": "@jupyter-widgets/base",
            "overflow": null,
            "_model_module_version": "1.2.0",
            "_view_count": null,
            "flex_flow": null,
            "width": null,
            "min_width": null,
            "border": null,
            "align_items": null,
            "bottom": null,
            "_model_module": "@jupyter-widgets/base",
            "top": null,
            "grid_column": null,
            "overflow_y": null,
            "overflow_x": null,
            "grid_auto_flow": null,
            "grid_area": null,
            "grid_template_columns": null,
            "flex": null,
            "_model_name": "LayoutModel",
            "justify_items": null,
            "grid_row": null,
            "max_height": null,
            "align_content": null,
            "visibility": null,
            "align_self": null,
            "height": null,
            "min_height": null,
            "padding": null,
            "grid_auto_rows": null,
            "grid_gap": null,
            "max_width": null,
            "order": null,
            "_view_module_version": "1.2.0",
            "grid_template_areas": null,
            "object_position": null,
            "object_fit": null,
            "grid_auto_columns": null,
            "margin": null,
            "display": null,
            "left": null
          }
        },
        "a2147aca5d9d44c69a7204121e4ba8d6": {
          "model_module": "@jupyter-widgets/controls",
          "model_name": "FloatProgressModel",
          "state": {
            "_view_name": "ProgressView",
            "style": "IPY_MODEL_da9276168963443e8216dad1e8fb63aa",
            "_dom_classes": [],
            "description": "  2%",
            "_model_name": "FloatProgressModel",
            "bar_style": "danger",
            "max": 240,
            "_view_module": "@jupyter-widgets/controls",
            "_model_module_version": "1.5.0",
            "value": 5,
            "_view_count": null,
            "_view_module_version": "1.5.0",
            "orientation": "horizontal",
            "min": 0,
            "description_tooltip": null,
            "_model_module": "@jupyter-widgets/controls",
            "layout": "IPY_MODEL_889547cdd44748c58285392f89688d30"
          }
        },
        "c6d3eee8547147659e4c63dcb072e122": {
          "model_module": "@jupyter-widgets/controls",
          "model_name": "HTMLModel",
          "state": {
            "_view_name": "HTMLView",
            "style": "IPY_MODEL_974e9f1bb0b34088b1567852fffb0c66",
            "_dom_classes": [],
            "description": "",
            "_model_name": "HTMLModel",
            "placeholder": "​",
            "_view_module": "@jupyter-widgets/controls",
            "_model_module_version": "1.5.0",
            "value": " 5/240 [02:46&lt;2:03:23, 31.51s/it]",
            "_view_count": null,
            "_view_module_version": "1.5.0",
            "description_tooltip": null,
            "_model_module": "@jupyter-widgets/controls",
            "layout": "IPY_MODEL_da523233e85d433188a9bdb492c15a98"
          }
        },
        "da9276168963443e8216dad1e8fb63aa": {
          "model_module": "@jupyter-widgets/controls",
          "model_name": "ProgressStyleModel",
          "state": {
            "_view_name": "StyleView",
            "_model_name": "ProgressStyleModel",
            "description_width": "initial",
            "_view_module": "@jupyter-widgets/base",
            "_model_module_version": "1.5.0",
            "_view_count": null,
            "_view_module_version": "1.2.0",
            "bar_color": null,
            "_model_module": "@jupyter-widgets/controls"
          }
        },
        "889547cdd44748c58285392f89688d30": {
          "model_module": "@jupyter-widgets/base",
          "model_name": "LayoutModel",
          "state": {
            "_view_name": "LayoutView",
            "grid_template_rows": null,
            "right": null,
            "justify_content": null,
            "_view_module": "@jupyter-widgets/base",
            "overflow": null,
            "_model_module_version": "1.2.0",
            "_view_count": null,
            "flex_flow": null,
            "width": null,
            "min_width": null,
            "border": null,
            "align_items": null,
            "bottom": null,
            "_model_module": "@jupyter-widgets/base",
            "top": null,
            "grid_column": null,
            "overflow_y": null,
            "overflow_x": null,
            "grid_auto_flow": null,
            "grid_area": null,
            "grid_template_columns": null,
            "flex": null,
            "_model_name": "LayoutModel",
            "justify_items": null,
            "grid_row": null,
            "max_height": null,
            "align_content": null,
            "visibility": null,
            "align_self": null,
            "height": null,
            "min_height": null,
            "padding": null,
            "grid_auto_rows": null,
            "grid_gap": null,
            "max_width": null,
            "order": null,
            "_view_module_version": "1.2.0",
            "grid_template_areas": null,
            "object_position": null,
            "object_fit": null,
            "grid_auto_columns": null,
            "margin": null,
            "display": null,
            "left": null
          }
        },
        "974e9f1bb0b34088b1567852fffb0c66": {
          "model_module": "@jupyter-widgets/controls",
          "model_name": "DescriptionStyleModel",
          "state": {
            "_view_name": "StyleView",
            "_model_name": "DescriptionStyleModel",
            "description_width": "",
            "_view_module": "@jupyter-widgets/base",
            "_model_module_version": "1.5.0",
            "_view_count": null,
            "_view_module_version": "1.2.0",
            "_model_module": "@jupyter-widgets/controls"
          }
        },
        "da523233e85d433188a9bdb492c15a98": {
          "model_module": "@jupyter-widgets/base",
          "model_name": "LayoutModel",
          "state": {
            "_view_name": "LayoutView",
            "grid_template_rows": null,
            "right": null,
            "justify_content": null,
            "_view_module": "@jupyter-widgets/base",
            "overflow": null,
            "_model_module_version": "1.2.0",
            "_view_count": null,
            "flex_flow": null,
            "width": null,
            "min_width": null,
            "border": null,
            "align_items": null,
            "bottom": null,
            "_model_module": "@jupyter-widgets/base",
            "top": null,
            "grid_column": null,
            "overflow_y": null,
            "overflow_x": null,
            "grid_auto_flow": null,
            "grid_area": null,
            "grid_template_columns": null,
            "flex": null,
            "_model_name": "LayoutModel",
            "justify_items": null,
            "grid_row": null,
            "max_height": null,
            "align_content": null,
            "visibility": null,
            "align_self": null,
            "height": null,
            "min_height": null,
            "padding": null,
            "grid_auto_rows": null,
            "grid_gap": null,
            "max_width": null,
            "order": null,
            "_view_module_version": "1.2.0",
            "grid_template_areas": null,
            "object_position": null,
            "object_fit": null,
            "grid_auto_columns": null,
            "margin": null,
            "display": null,
            "left": null
          }
        }
      }
    }
  },
  "cells": [
    {
      "cell_type": "code",
      "metadata": {
        "colab": {
          "base_uri": "https://localhost:8080/"
        },
        "id": "QVc1vvG9xsH6",
        "outputId": "2f0615de-2605-4100-8a06-85f740178c11"
      },
      "source": [
        "!pip install transformers\n",
        "!pip install datasets"
      ],
      "execution_count": 1,
      "outputs": [
        {
          "output_type": "stream",
          "text": [
            "Requirement already satisfied: transformers in /usr/local/lib/python3.7/dist-packages (4.5.0)\n",
            "Requirement already satisfied: sacremoses in /usr/local/lib/python3.7/dist-packages (from transformers) (0.0.44)\n",
            "Requirement already satisfied: importlib-metadata; python_version < \"3.8\" in /usr/local/lib/python3.7/dist-packages (from transformers) (3.8.1)\n",
            "Requirement already satisfied: numpy>=1.17 in /usr/local/lib/python3.7/dist-packages (from transformers) (1.20.2)\n",
            "Requirement already satisfied: filelock in /usr/local/lib/python3.7/dist-packages (from transformers) (3.0.12)\n",
            "Requirement already satisfied: tqdm>=4.27 in /usr/local/lib/python3.7/dist-packages (from transformers) (4.41.1)\n",
            "Requirement already satisfied: tokenizers<0.11,>=0.10.1 in /usr/local/lib/python3.7/dist-packages (from transformers) (0.10.2)\n",
            "Requirement already satisfied: requests in /usr/local/lib/python3.7/dist-packages (from transformers) (2.23.0)\n",
            "Requirement already satisfied: regex!=2019.12.17 in /usr/local/lib/python3.7/dist-packages (from transformers) (2019.12.20)\n",
            "Requirement already satisfied: packaging in /usr/local/lib/python3.7/dist-packages (from transformers) (20.9)\n",
            "Requirement already satisfied: click in /usr/local/lib/python3.7/dist-packages (from sacremoses->transformers) (7.1.2)\n",
            "Requirement already satisfied: six in /usr/local/lib/python3.7/dist-packages (from sacremoses->transformers) (1.15.0)\n",
            "Requirement already satisfied: joblib in /usr/local/lib/python3.7/dist-packages (from sacremoses->transformers) (1.0.1)\n",
            "Requirement already satisfied: typing-extensions>=3.6.4; python_version < \"3.8\" in /usr/local/lib/python3.7/dist-packages (from importlib-metadata; python_version < \"3.8\"->transformers) (3.7.4.3)\n",
            "Requirement already satisfied: zipp>=0.5 in /usr/local/lib/python3.7/dist-packages (from importlib-metadata; python_version < \"3.8\"->transformers) (3.4.1)\n",
            "Requirement already satisfied: certifi>=2017.4.17 in /usr/local/lib/python3.7/dist-packages (from requests->transformers) (2020.12.5)\n",
            "Requirement already satisfied: urllib3!=1.25.0,!=1.25.1,<1.26,>=1.21.1 in /usr/local/lib/python3.7/dist-packages (from requests->transformers) (1.24.3)\n",
            "Requirement already satisfied: idna<3,>=2.5 in /usr/local/lib/python3.7/dist-packages (from requests->transformers) (2.10)\n",
            "Requirement already satisfied: chardet<4,>=3.0.2 in /usr/local/lib/python3.7/dist-packages (from requests->transformers) (3.0.4)\n",
            "Requirement already satisfied: pyparsing>=2.0.2 in /usr/local/lib/python3.7/dist-packages (from packaging->transformers) (2.4.7)\n",
            "Requirement already satisfied: datasets in /usr/local/lib/python3.7/dist-packages (1.5.0)\n",
            "Requirement already satisfied: importlib-metadata; python_version < \"3.8\" in /usr/local/lib/python3.7/dist-packages (from datasets) (3.8.1)\n",
            "Requirement already satisfied: huggingface-hub<0.1.0 in /usr/local/lib/python3.7/dist-packages (from datasets) (0.0.8)\n",
            "Requirement already satisfied: tqdm<4.50.0,>=4.27 in /usr/local/lib/python3.7/dist-packages (from datasets) (4.41.1)\n",
            "Requirement already satisfied: numpy>=1.17 in /usr/local/lib/python3.7/dist-packages (from datasets) (1.20.2)\n",
            "Requirement already satisfied: pyarrow>=0.17.1 in /usr/local/lib/python3.7/dist-packages (from datasets) (3.0.0)\n",
            "Requirement already satisfied: requests>=2.19.0 in /usr/local/lib/python3.7/dist-packages (from datasets) (2.23.0)\n",
            "Requirement already satisfied: xxhash in /usr/local/lib/python3.7/dist-packages (from datasets) (2.0.0)\n",
            "Requirement already satisfied: multiprocess in /usr/local/lib/python3.7/dist-packages (from datasets) (0.70.11.1)\n",
            "Requirement already satisfied: fsspec in /usr/local/lib/python3.7/dist-packages (from datasets) (0.9.0)\n",
            "Requirement already satisfied: dill in /usr/local/lib/python3.7/dist-packages (from datasets) (0.3.3)\n",
            "Requirement already satisfied: pandas in /usr/local/lib/python3.7/dist-packages (from datasets) (1.1.5)\n",
            "Requirement already satisfied: zipp>=0.5 in /usr/local/lib/python3.7/dist-packages (from importlib-metadata; python_version < \"3.8\"->datasets) (3.4.1)\n",
            "Requirement already satisfied: typing-extensions>=3.6.4; python_version < \"3.8\" in /usr/local/lib/python3.7/dist-packages (from importlib-metadata; python_version < \"3.8\"->datasets) (3.7.4.3)\n",
            "Requirement already satisfied: filelock in /usr/local/lib/python3.7/dist-packages (from huggingface-hub<0.1.0->datasets) (3.0.12)\n",
            "Requirement already satisfied: chardet<4,>=3.0.2 in /usr/local/lib/python3.7/dist-packages (from requests>=2.19.0->datasets) (3.0.4)\n",
            "Requirement already satisfied: idna<3,>=2.5 in /usr/local/lib/python3.7/dist-packages (from requests>=2.19.0->datasets) (2.10)\n",
            "Requirement already satisfied: urllib3!=1.25.0,!=1.25.1,<1.26,>=1.21.1 in /usr/local/lib/python3.7/dist-packages (from requests>=2.19.0->datasets) (1.24.3)\n",
            "Requirement already satisfied: certifi>=2017.4.17 in /usr/local/lib/python3.7/dist-packages (from requests>=2.19.0->datasets) (2020.12.5)\n",
            "Requirement already satisfied: pytz>=2017.2 in /usr/local/lib/python3.7/dist-packages (from pandas->datasets) (2018.9)\n",
            "Requirement already satisfied: python-dateutil>=2.7.3 in /usr/local/lib/python3.7/dist-packages (from pandas->datasets) (2.8.1)\n",
            "Requirement already satisfied: six>=1.5 in /usr/local/lib/python3.7/dist-packages (from python-dateutil>=2.7.3->pandas->datasets) (1.15.0)\n"
          ],
          "name": "stdout"
        }
      ]
    },
    {
      "cell_type": "code",
      "metadata": {
        "id": "ymBo4tDfxwe4"
      },
      "source": [
        "from transformers import RobertaConfig, RobertaModel\n",
        "from transformers import RobertaTokenizer\n",
        "import torch\n",
        "import torch.nn as nn\n",
        "from datasets import load_dataset\n",
        "import pandas as pd\n",
        "from tqdm.notebook import tqdm\n",
        "import numpy as np"
      ],
      "execution_count": 2,
      "outputs": []
    },
    {
      "cell_type": "code",
      "metadata": {
        "colab": {
          "base_uri": "https://localhost:8080/",
          "height": 237,
          "referenced_widgets": [
            "868f6c8e34724012916723cd2eed03d4",
            "0b3eed270730499fa5da195b8cd7f98c",
            "cb031afd2f404ccabfac0502c2785fcd",
            "9e15e24cdbbb4d20b6f874d35f630814",
            "cba5da8f13e8472ea6f12df299f9004b",
            "43e5ca687b6647b6ad9ad6d56294a08e",
            "9377484bb59249338366e516d667d843",
            "b4401ea31ba44148bd0edbb039324788",
            "46399cd555794aadb77fdd93d018d9b1",
            "9dbaef08d2b44bda8cde5800b1bf8e10",
            "4d068d387d0f468c8c05f9f3fc49afea",
            "c2f5624d75e04b7ea34e67652fde3949",
            "e170f6eae4024fe68a709894b2fdaa01",
            "9d1f4d02fad245dda47c4900559b7b38",
            "0c72493d7f704a0fbad6413807718ef7",
            "00e3257487dd4b828b3f8ef0096c4a04",
            "cf2ea2350c4842a5acb64f127e905d3c",
            "7b8171b8a39f40aba579525ee81581aa",
            "6566e1696b4741d5af29ae848604ad9e",
            "1a2b942a8f84422aabee34b54ba9c5dd",
            "65143976b0404f91b3bb2cf3532ece12",
            "ed160034910c42a5b403b48e5b9965e6",
            "d53ad48e47764a2e9329b01fc59a6f1e",
            "2912464f07be4721a27e5948558166a2",
            "95136fb0a92d4b17be8a07f068216502",
            "45a076f89d15420baa5774b41d0baafd",
            "ca6832807dc7494d9aa2364708ef5c6f",
            "1aa0315c8ce8480dade9e80428e2c43e",
            "85e5adbe74954372bac5ab5e40bcb60d",
            "09133d97130d42088b7aa493a31cf441",
            "abd13ed2fec94d23a966064d72c0c88f",
            "f47cf050c63b4613976eb7a90d015527"
          ]
        },
        "id": "3Djg2rKay5TT",
        "outputId": "37d0a389-ce87-483d-ff06-2f399641d124"
      },
      "source": [
        "# loading tweets\n",
        "dataset = load_dataset(\"tweets_hate_speech_detection\")"
      ],
      "execution_count": 3,
      "outputs": [
        {
          "output_type": "display_data",
          "data": {
            "application/vnd.jupyter.widget-view+json": {
              "model_id": "868f6c8e34724012916723cd2eed03d4",
              "version_minor": 0,
              "version_major": 2
            },
            "text/plain": [
              "HBox(children=(FloatProgress(value=0.0, description='Downloading', max=1430.0, style=ProgressStyle(description…"
            ]
          },
          "metadata": {
            "tags": []
          }
        },
        {
          "output_type": "stream",
          "text": [
            "\n"
          ],
          "name": "stdout"
        },
        {
          "output_type": "display_data",
          "data": {
            "application/vnd.jupyter.widget-view+json": {
              "model_id": "46399cd555794aadb77fdd93d018d9b1",
              "version_minor": 0,
              "version_major": 2
            },
            "text/plain": [
              "HBox(children=(FloatProgress(value=0.0, description='Downloading', max=827.0, style=ProgressStyle(description_…"
            ]
          },
          "metadata": {
            "tags": []
          }
        },
        {
          "output_type": "stream",
          "text": [
            "Using custom data configuration default\n"
          ],
          "name": "stderr"
        },
        {
          "output_type": "stream",
          "text": [
            "\n",
            "Downloading and preparing dataset tweets_hate_speech_detection/default (download: 2.96 MiB, generated: 3.04 MiB, post-processed: Unknown size, total: 6.00 MiB) to /root/.cache/huggingface/datasets/tweets_hate_speech_detection/default/0.0.0/c32a982d8b2d6233065d820ac655454174f8aaa8faddc74979cf793486acd3b0...\n"
          ],
          "name": "stdout"
        },
        {
          "output_type": "display_data",
          "data": {
            "application/vnd.jupyter.widget-view+json": {
              "model_id": "cf2ea2350c4842a5acb64f127e905d3c",
              "version_minor": 0,
              "version_major": 2
            },
            "text/plain": [
              "HBox(children=(FloatProgress(value=0.0, description='Downloading', max=1276746.0, style=ProgressStyle(descript…"
            ]
          },
          "metadata": {
            "tags": []
          }
        },
        {
          "output_type": "stream",
          "text": [
            "\n"
          ],
          "name": "stdout"
        },
        {
          "output_type": "display_data",
          "data": {
            "application/vnd.jupyter.widget-view+json": {
              "model_id": "95136fb0a92d4b17be8a07f068216502",
              "version_minor": 0,
              "version_major": 2
            },
            "text/plain": [
              "HBox(children=(FloatProgress(value=1.0, bar_style='info', max=1.0), HTML(value='')))"
            ]
          },
          "metadata": {
            "tags": []
          }
        },
        {
          "output_type": "stream",
          "text": [
            "\rDataset tweets_hate_speech_detection downloaded and prepared to /root/.cache/huggingface/datasets/tweets_hate_speech_detection/default/0.0.0/c32a982d8b2d6233065d820ac655454174f8aaa8faddc74979cf793486acd3b0. Subsequent calls will reuse this data.\n"
          ],
          "name": "stdout"
        }
      ]
    },
    {
      "cell_type": "code",
      "metadata": {
        "colab": {
          "base_uri": "https://localhost:8080/"
        },
        "id": "abol2wOPAkzl",
        "outputId": "20e827b9-c31e-4b36-cc02-3e5a4bc3c9ac"
      },
      "source": [
        "from sklearn.model_selection import train_test_split\n",
        "\n",
        "# convertind dataset to the pandas dataframe + train_test_split \n",
        "def data_preprocessing(dataset):\n",
        "    data = {'tweets': [], 'labels': []}\n",
        "    for record in dataset['train']:\n",
        "        data['tweets'].append(record['tweet'])\n",
        "        data['labels'].append(record['label'])\n",
        "    \n",
        "    dataframe = pd.DataFrame(data=data)\n",
        "    dataframe.reset_index(drop=True, inplace=True)\n",
        "    train_tweets, test_tweets, train_labels, test_labels = train_test_split(dataframe['tweets'], \n",
        "                                                                            dataframe['labels'],\n",
        "                                                                            test_size=0.15,\n",
        "                                                                            random_state=42,\n",
        "                                                                            shuffle=True)\n",
        "    train_tweets = train_tweets.reset_index(drop=True)\n",
        "    test_tweets = test_tweets.reset_index(drop=True)\n",
        "    train_labels = train_labels.reset_index(drop=True)\n",
        "    test_labels = test_labels.reset_index(drop=True)\n",
        "\n",
        "    return (\n",
        "        train_tweets,\n",
        "        test_tweets, \n",
        "        train_labels, \n",
        "        test_labels\n",
        "    )\n",
        "\n",
        "train_tweets, test_tweets, train_labels, test_labels = data_preprocessing(dataset)\n",
        "print(train_tweets.shape)\n",
        "print(test_tweets.shape)"
      ],
      "execution_count": 4,
      "outputs": [
        {
          "output_type": "stream",
          "text": [
            "(27167,)\n",
            "(4795,)\n"
          ],
          "name": "stdout"
        }
      ]
    },
    {
      "cell_type": "code",
      "metadata": {
        "id": "B7YkTedoBtM5"
      },
      "source": [
        "import re\n",
        "\n",
        "class Dataset():\n",
        "    def __init__(self, tweet, label):\n",
        "        self.tweet = tweet\n",
        "        self.label = label\n",
        "        self.tokenizer = RobertaTokenizer.from_pretrained('roberta-large', add_prefix_space=True)\n",
        "        self.max_len = 140\n",
        "\n",
        "    def __len__(self):\n",
        "        return len(self.tweet)\n",
        "      \n",
        "    def _process_tweet(self, tweet):\n",
        "\n",
        "        cleaned_tweet = re.sub(r'@[A-Za-z0-9]+', '', tweet) # remove all @mentions\n",
        "        cleaned_tweet = re.sub(r'[^A-Za-z0-9, ]', '', cleaned_tweet)\n",
        "\n",
        "        encoding = self.tokenizer.encode(cleaned_tweet)\n",
        "        mask = [1] * len(encoding)\n",
        "\n",
        "        padding_length = self.max_len - len(encoding)\n",
        "        if padding_length > 0:\n",
        "            encoding = encoding + ([1] * padding_length)\n",
        "            mask = mask + ([0] * padding_length)\n",
        "        return encoding, mask\n",
        "\n",
        "    def __getitem__(self, item):\n",
        "        encoding, mask = self._process_tweet(self.tweet[item])\n",
        "        return { 'tweet_ids': torch.tensor(encoding, dtype=torch.long),\n",
        "                 'mask': torch.tensor(mask, dtype=torch.long),\n",
        "                 'label_ids': torch.tensor(self.label[item], dtype=torch.float64) \n",
        "        }"
      ],
      "execution_count": 5,
      "outputs": []
    },
    {
      "cell_type": "code",
      "metadata": {
        "id": "u67nIHsVqRQl"
      },
      "source": [
        "class Model(nn.Module):\n",
        "    def __init__(self):\n",
        "        super(Model, self).__init__()\n",
        "\n",
        "        config = RobertaConfig.from_pretrained('roberta-large')    \n",
        "        self.model = RobertaModel.from_pretrained('roberta-large', config=config)\n",
        "\n",
        "        # for param in self.model.parameters():\n",
        "        #     param.requires_grad = False\n",
        "\n",
        "        self.l0 = nn.Linear(config.hidden_size, 1)\n",
        "        self.act = nn.Sigmoid()\n",
        "        # torch.nn.init.normal_(self.l0.weight, std=0.02)\n",
        "\n",
        "    def forward(self, ids, mask):\n",
        "        # return the hidden states from the BERT backbone\n",
        "        out = self.model(ids, attention_mask=mask)\n",
        "        logits = self.l0(out[-1])\n",
        "        act = self.act(logits)\n",
        "\n",
        "        return act"
      ],
      "execution_count": 6,
      "outputs": []
    },
    {
      "cell_type": "code",
      "metadata": {
        "id": "XsvHcB9wSqq2",
        "colab": {
          "base_uri": "https://localhost:8080/",
          "height": 165,
          "referenced_widgets": [
            "60ffe3e9ef7b41728ba8a132f24585ca",
            "a921d5041e104c25b813427e0af7fae9",
            "e0f07f4863ed472faf50fca33aaec206",
            "c234698389eb4d10b40289d42722eda6",
            "5fdb3698769b479981416444a1fd0a4d",
            "d3313977b77546bbad17c6b97fc73c27",
            "c1b22ecd62a44f1ab66679eb8e4b7dd6",
            "1a42335b9483487fb403ecd532b325e8",
            "5f477efdf69a4bab993383179e20ee33",
            "cc8a442ff2054090a215c13b4dafb96d",
            "dc516ad8fe6c444080519bfbfd04caab",
            "2b4bb9fbf8dd40698cfb70d7f524ef4b",
            "b9f0c7f67fd945baa7340ef6845b2958",
            "ba0ba06558734057963b08610c5bf03c",
            "7796e4a6b872422689615dfc604b8d8c",
            "eda96449bcc648fd9be58e378b1df7b7",
            "2c9ee97459764b12b0199bc4cf664663",
            "b67db8ddd7e14b81841deb51fbd9b715",
            "5c8942876d2543ff9c535830e4dab211",
            "0f0c9cc078844f8dbb69ce6957bce73e",
            "7f9e44bf496c461cbeea2a62d504446a",
            "a412b0b155884003b98dcf39c5c52388",
            "5c6a7c3a8e404b819295f0c98e00508a",
            "e7b6c126529c4845923072c3f484f1aa"
          ]
        },
        "outputId": "8501dc39-d9a6-4264-bac8-286e039094da"
      },
      "source": [
        "train_dataset = Dataset(train_tweets, train_labels)"
      ],
      "execution_count": 7,
      "outputs": [
        {
          "output_type": "display_data",
          "data": {
            "application/vnd.jupyter.widget-view+json": {
              "model_id": "60ffe3e9ef7b41728ba8a132f24585ca",
              "version_minor": 0,
              "version_major": 2
            },
            "text/plain": [
              "HBox(children=(FloatProgress(value=0.0, description='Downloading', max=898823.0, style=ProgressStyle(descripti…"
            ]
          },
          "metadata": {
            "tags": []
          }
        },
        {
          "output_type": "stream",
          "text": [
            "\n"
          ],
          "name": "stdout"
        },
        {
          "output_type": "display_data",
          "data": {
            "application/vnd.jupyter.widget-view+json": {
              "model_id": "5f477efdf69a4bab993383179e20ee33",
              "version_minor": 0,
              "version_major": 2
            },
            "text/plain": [
              "HBox(children=(FloatProgress(value=0.0, description='Downloading', max=456318.0, style=ProgressStyle(descripti…"
            ]
          },
          "metadata": {
            "tags": []
          }
        },
        {
          "output_type": "stream",
          "text": [
            "\n"
          ],
          "name": "stdout"
        },
        {
          "output_type": "display_data",
          "data": {
            "application/vnd.jupyter.widget-view+json": {
              "model_id": "2c9ee97459764b12b0199bc4cf664663",
              "version_minor": 0,
              "version_major": 2
            },
            "text/plain": [
              "HBox(children=(FloatProgress(value=0.0, description='Downloading', max=1355863.0, style=ProgressStyle(descript…"
            ]
          },
          "metadata": {
            "tags": []
          }
        },
        {
          "output_type": "stream",
          "text": [
            "\n"
          ],
          "name": "stdout"
        }
      ]
    },
    {
      "cell_type": "code",
      "metadata": {
        "id": "TxGValTemrca"
      },
      "source": [
        "train_data_loader = torch.utils.data.DataLoader(\n",
        "    train_dataset,\n",
        "    batch_size=20,\n",
        "    num_workers=2\n",
        ")"
      ],
      "execution_count": 8,
      "outputs": []
    },
    {
      "cell_type": "code",
      "metadata": {
        "id": "EnFISyT8EYiI"
      },
      "source": [
        "validation_dataset = Dataset(test_tweets, test_labels)"
      ],
      "execution_count": 9,
      "outputs": []
    },
    {
      "cell_type": "code",
      "metadata": {
        "id": "TLXoT308Efha"
      },
      "source": [
        "test_data_loader = torch.utils.data.DataLoader(\n",
        "    validation_dataset,\n",
        "    batch_size=20,\n",
        "    num_workers=2\n",
        ")"
      ],
      "execution_count": 10,
      "outputs": []
    },
    {
      "cell_type": "code",
      "metadata": {
        "id": "Qi6c9K_GmyV5",
        "colab": {
          "base_uri": "https://localhost:8080/",
          "height": 116,
          "referenced_widgets": [
            "bc4d16f0343f48a6ac2562ff35858842",
            "810bc06fff2d42d9b303baabaf046ed9",
            "c58fdd1dcde74bb79e6127bd410a4a2a",
            "582516ed489f42eb8b286095f4b00f25",
            "1c291b7a7c484ff28c7423af8f22d9c7",
            "dbd923337c5d4572bf18472e45021775",
            "6a42e386d82349ee8363046f27505f73",
            "674e32f736c5430f9e6f5b7cd9f2efaf",
            "3227dcd5cd514875a586cc8b8c876961",
            "2a8183b90ead4c888bfa473ef1ae8c61",
            "fd94b03a28aa4b78a664e31bec10be62",
            "8697520af4244c85a879cf2ac5d98021",
            "be7e9414ec214198937724e5e062b079",
            "f0a5f1f085c34a43ada2880e9964a4e3",
            "c161333383ea4a5481ebdb6369f3fc9b",
            "c6c43166f2ea40fdb26d0650448458ac"
          ]
        },
        "outputId": "1a15ab0e-28b9-4d05-9527-4e4d1ec2ad87"
      },
      "source": [
        "model = Model()"
      ],
      "execution_count": 11,
      "outputs": [
        {
          "output_type": "display_data",
          "data": {
            "application/vnd.jupyter.widget-view+json": {
              "model_id": "bc4d16f0343f48a6ac2562ff35858842",
              "version_minor": 0,
              "version_major": 2
            },
            "text/plain": [
              "HBox(children=(FloatProgress(value=0.0, description='Downloading', max=482.0, style=ProgressStyle(description_…"
            ]
          },
          "metadata": {
            "tags": []
          }
        },
        {
          "output_type": "stream",
          "text": [
            "\n"
          ],
          "name": "stdout"
        },
        {
          "output_type": "display_data",
          "data": {
            "application/vnd.jupyter.widget-view+json": {
              "model_id": "3227dcd5cd514875a586cc8b8c876961",
              "version_minor": 0,
              "version_major": 2
            },
            "text/plain": [
              "HBox(children=(FloatProgress(value=0.0, description='Downloading', max=1425941629.0, style=ProgressStyle(descr…"
            ]
          },
          "metadata": {
            "tags": []
          }
        },
        {
          "output_type": "stream",
          "text": [
            "\n"
          ],
          "name": "stdout"
        }
      ]
    },
    {
      "cell_type": "code",
      "metadata": {
        "colab": {
          "base_uri": "https://localhost:8080/",
          "height": 499,
          "referenced_widgets": [
            "46e5d838cb094d56ac3396012ced15c9",
            "1c80281f033a43c499c5312d7ff68039",
            "ad74e576fd4045a5a1c4d79587597b34",
            "a7dc0fc3668b42acad4bfc73d6e75964",
            "aefbd17bc9af4fed913eda15b61b8710",
            "fe9148e0d78c4ac9a4eb787f696826b6",
            "d6eef72334ff4a4cab55848ed6d6bd59",
            "c0ecd11bf69d478f9d7fd447661f26ed"
          ]
        },
        "id": "qkIKBb9nXEE-",
        "outputId": "cadd05bf-28c9-48c1-de6d-2535ed96a9c5"
      },
      "source": [
        "def train_model(model, train_iter, val_iter, optim, loss, num_epochs, batch_size=20):\n",
        "    device = torch.device('cuda:0' if torch.cuda.is_available() else 'cpu')\n",
        "    for epoch in range(num_epochs):\n",
        "      \n",
        "        model.train()\n",
        "        train_epoch_loss = []\n",
        "        train_epoch_acc = []\n",
        "        val_epoch_loss = []\n",
        "        val_epoch_acc = []\n",
        "        \n",
        "        for idx, batch in enumerate(tqdm(train_iter)):\n",
        "            tweet_ids = batch['tweet_ids'].to(device)\n",
        "            mask = batch['mask'].to(device)\n",
        "            labels = batch['label_ids'].to(dtype=float).to(device)\n",
        "\n",
        "            optim.zero_grad()\n",
        "            prediction = model(tweet_ids, mask).squeeze().to(dtype=float)\n",
        "            # prediction = torch.softmax(prediction, dim=0)\n",
        "\n",
        "            output = (prediction>0.2).float()\n",
        "            print(prediction)\n",
        "            print(labels)\n",
        "\n",
        "            loss_train = loss(prediction, labels)\n",
        "            loss_train.backward()\n",
        "\n",
        "            num_corrects = (labels == output).float().sum()\n",
        "\n",
        "            acc = 100.0 * num_corrects / batch_size\n",
        "            print(acc)\n",
        "            train_epoch_loss.append(loss_train.item())\n",
        "            train_epoch_acc.append(acc.item())\n",
        "\n",
        "            optim.step()\n",
        "\n",
        "        print(f'Train Epoch: {epoch}, Training Loss: {np.mean(train_epoch_loss):.4f}, Training Accuracy: {np.mean(train_epoch_acc): .2f}%')\n",
        "            \n",
        "        model.eval()\n",
        "\n",
        "        with torch.no_grad():\n",
        "            _predictions = []\n",
        "            _labels = []\n",
        "            for idx, batch in enumerate(tqdm(val_iter)):\n",
        "\n",
        "                tweet_ids = batch['tweet_ids'].to(device)\n",
        "                mask = batch['mask'].to(device)\n",
        "                labels = batch['label_ids'].to(dtype=float).to(device)\n",
        "\n",
        "                prediction = model(tweet_ids, mask).squeeze().to(dtype=float)\n",
        "                loss_val = loss(prediction, labels)\n",
        "\n",
        "                _predictions += prediction\n",
        "                _labels += labels\n",
        "\n",
        "                output = (prediction>0.2).float()\n",
        "                num_corrects = (labels == output).float().sum()\n",
        "\n",
        "                acc = 100.0 * num_corrects / batch_size\n",
        "                val_epoch_loss.append(loss_val.item())\n",
        "                val_epoch_acc.append(acc.item())\n",
        "            \n",
        "            np.save('current.npy', {'predictions': _predictions, 'labels': _labels}) \n",
        "\n",
        "            print(f'Vadlidation Epoch: {epoch}, Vadlidation Loss: {np.mean(val_epoch_loss):.4f}, Vadlidation Accuracy: {np.mean(val_epoch_acc): .2f}%')\n",
        "\n",
        "\n",
        "\n",
        "device = torch.device('cuda:0' if torch.cuda.is_available() else 'cpu')\n",
        "num_epochs = 1\n",
        "lr = 1e-4\n",
        "\n",
        "model.to(device)\n",
        "optim = torch.optim.Adam(model.parameters(), lr=lr)\n",
        "loss = nn.BCELoss()\n",
        "\n",
        "train_model(model, train_data_loader, test_data_loader, optim, loss, num_epochs)"
      ],
      "execution_count": 12,
      "outputs": [
        {
          "output_type": "display_data",
          "data": {
            "application/vnd.jupyter.widget-view+json": {
              "model_id": "46e5d838cb094d56ac3396012ced15c9",
              "version_minor": 0,
              "version_major": 2
            },
            "text/plain": [
              "HBox(children=(FloatProgress(value=0.0, max=1359.0), HTML(value='')))"
            ]
          },
          "metadata": {
            "tags": []
          }
        },
        {
          "output_type": "stream",
          "text": [
            "tensor([0.4498, 0.4477, 0.4508, 0.5085, 0.5817, 0.4514, 0.4496, 0.4529, 0.4446,\n",
            "        0.4477, 0.4529, 0.4800, 0.4482, 0.4581, 0.4504, 0.4522, 0.4517, 0.4519,\n",
            "        0.4475, 0.4541], dtype=torch.float64, grad_fn=<CopyBackwards>)\n",
            "tensor([0., 0., 0., 0., 0., 0., 0., 0., 0., 0., 0., 0., 0., 1., 0., 0., 0., 0.,\n",
            "        0., 0.], dtype=torch.float64)\n",
            "tensor(5.)\n"
          ],
          "name": "stdout"
        },
        {
          "output_type": "error",
          "ename": "RuntimeError",
          "evalue": "ignored",
          "traceback": [
            "\u001b[0;31m---------------------------------------------------------------------------\u001b[0m",
            "\u001b[0;31mRuntimeError\u001b[0m                              Traceback (most recent call last)",
            "\u001b[0;32m<ipython-input-12-f6373d5fad05>\u001b[0m in \u001b[0;36m<module>\u001b[0;34m()\u001b[0m\n\u001b[1;32m     74\u001b[0m \u001b[0mloss\u001b[0m \u001b[0;34m=\u001b[0m \u001b[0mnn\u001b[0m\u001b[0;34m.\u001b[0m\u001b[0mBCELoss\u001b[0m\u001b[0;34m(\u001b[0m\u001b[0;34m)\u001b[0m\u001b[0;34m\u001b[0m\u001b[0;34m\u001b[0m\u001b[0m\n\u001b[1;32m     75\u001b[0m \u001b[0;34m\u001b[0m\u001b[0m\n\u001b[0;32m---> 76\u001b[0;31m \u001b[0mtrain_model\u001b[0m\u001b[0;34m(\u001b[0m\u001b[0mmodel\u001b[0m\u001b[0;34m,\u001b[0m \u001b[0mtrain_data_loader\u001b[0m\u001b[0;34m,\u001b[0m \u001b[0mtest_data_loader\u001b[0m\u001b[0;34m,\u001b[0m \u001b[0moptim\u001b[0m\u001b[0;34m,\u001b[0m \u001b[0mloss\u001b[0m\u001b[0;34m,\u001b[0m \u001b[0mnum_epochs\u001b[0m\u001b[0;34m)\u001b[0m\u001b[0;34m\u001b[0m\u001b[0;34m\u001b[0m\u001b[0m\n\u001b[0m",
            "\u001b[0;32m<ipython-input-12-f6373d5fad05>\u001b[0m in \u001b[0;36mtrain_model\u001b[0;34m(model, train_iter, val_iter, optim, loss, num_epochs, batch_size)\u001b[0m\n\u001b[1;32m     15\u001b[0m \u001b[0;34m\u001b[0m\u001b[0m\n\u001b[1;32m     16\u001b[0m             \u001b[0moptim\u001b[0m\u001b[0;34m.\u001b[0m\u001b[0mzero_grad\u001b[0m\u001b[0;34m(\u001b[0m\u001b[0;34m)\u001b[0m\u001b[0;34m\u001b[0m\u001b[0;34m\u001b[0m\u001b[0m\n\u001b[0;32m---> 17\u001b[0;31m             \u001b[0mprediction\u001b[0m \u001b[0;34m=\u001b[0m \u001b[0mmodel\u001b[0m\u001b[0;34m(\u001b[0m\u001b[0mtweet_ids\u001b[0m\u001b[0;34m,\u001b[0m \u001b[0mmask\u001b[0m\u001b[0;34m)\u001b[0m\u001b[0;34m.\u001b[0m\u001b[0msqueeze\u001b[0m\u001b[0;34m(\u001b[0m\u001b[0;34m)\u001b[0m\u001b[0;34m.\u001b[0m\u001b[0mto\u001b[0m\u001b[0;34m(\u001b[0m\u001b[0mdtype\u001b[0m\u001b[0;34m=\u001b[0m\u001b[0mfloat\u001b[0m\u001b[0;34m)\u001b[0m\u001b[0;34m\u001b[0m\u001b[0;34m\u001b[0m\u001b[0m\n\u001b[0m\u001b[1;32m     18\u001b[0m             \u001b[0;31m# prediction = torch.softmax(prediction, dim=0)\u001b[0m\u001b[0;34m\u001b[0m\u001b[0;34m\u001b[0m\u001b[0;34m\u001b[0m\u001b[0m\n\u001b[1;32m     19\u001b[0m \u001b[0;34m\u001b[0m\u001b[0m\n",
            "\u001b[0;32m/usr/local/lib/python3.7/dist-packages/torch/nn/modules/module.py\u001b[0m in \u001b[0;36m_call_impl\u001b[0;34m(self, *input, **kwargs)\u001b[0m\n\u001b[1;32m    887\u001b[0m             \u001b[0mresult\u001b[0m \u001b[0;34m=\u001b[0m \u001b[0mself\u001b[0m\u001b[0;34m.\u001b[0m\u001b[0m_slow_forward\u001b[0m\u001b[0;34m(\u001b[0m\u001b[0;34m*\u001b[0m\u001b[0minput\u001b[0m\u001b[0;34m,\u001b[0m \u001b[0;34m**\u001b[0m\u001b[0mkwargs\u001b[0m\u001b[0;34m)\u001b[0m\u001b[0;34m\u001b[0m\u001b[0;34m\u001b[0m\u001b[0m\n\u001b[1;32m    888\u001b[0m         \u001b[0;32melse\u001b[0m\u001b[0;34m:\u001b[0m\u001b[0;34m\u001b[0m\u001b[0;34m\u001b[0m\u001b[0m\n\u001b[0;32m--> 889\u001b[0;31m             \u001b[0mresult\u001b[0m \u001b[0;34m=\u001b[0m \u001b[0mself\u001b[0m\u001b[0;34m.\u001b[0m\u001b[0mforward\u001b[0m\u001b[0;34m(\u001b[0m\u001b[0;34m*\u001b[0m\u001b[0minput\u001b[0m\u001b[0;34m,\u001b[0m \u001b[0;34m**\u001b[0m\u001b[0mkwargs\u001b[0m\u001b[0;34m)\u001b[0m\u001b[0;34m\u001b[0m\u001b[0;34m\u001b[0m\u001b[0m\n\u001b[0m\u001b[1;32m    890\u001b[0m         for hook in itertools.chain(\n\u001b[1;32m    891\u001b[0m                 \u001b[0m_global_forward_hooks\u001b[0m\u001b[0;34m.\u001b[0m\u001b[0mvalues\u001b[0m\u001b[0;34m(\u001b[0m\u001b[0;34m)\u001b[0m\u001b[0;34m,\u001b[0m\u001b[0;34m\u001b[0m\u001b[0;34m\u001b[0m\u001b[0m\n",
            "\u001b[0;32m<ipython-input-6-c21085ef755c>\u001b[0m in \u001b[0;36mforward\u001b[0;34m(self, ids, mask)\u001b[0m\n\u001b[1;32m     15\u001b[0m     \u001b[0;32mdef\u001b[0m \u001b[0mforward\u001b[0m\u001b[0;34m(\u001b[0m\u001b[0mself\u001b[0m\u001b[0;34m,\u001b[0m \u001b[0mids\u001b[0m\u001b[0;34m,\u001b[0m \u001b[0mmask\u001b[0m\u001b[0;34m)\u001b[0m\u001b[0;34m:\u001b[0m\u001b[0;34m\u001b[0m\u001b[0;34m\u001b[0m\u001b[0m\n\u001b[1;32m     16\u001b[0m         \u001b[0;31m# return the hidden states from the BERT backbone\u001b[0m\u001b[0;34m\u001b[0m\u001b[0;34m\u001b[0m\u001b[0;34m\u001b[0m\u001b[0m\n\u001b[0;32m---> 17\u001b[0;31m         \u001b[0mout\u001b[0m \u001b[0;34m=\u001b[0m \u001b[0mself\u001b[0m\u001b[0;34m.\u001b[0m\u001b[0mmodel\u001b[0m\u001b[0;34m(\u001b[0m\u001b[0mids\u001b[0m\u001b[0;34m,\u001b[0m \u001b[0mattention_mask\u001b[0m\u001b[0;34m=\u001b[0m\u001b[0mmask\u001b[0m\u001b[0;34m)\u001b[0m\u001b[0;34m\u001b[0m\u001b[0;34m\u001b[0m\u001b[0m\n\u001b[0m\u001b[1;32m     18\u001b[0m         \u001b[0mlogits\u001b[0m \u001b[0;34m=\u001b[0m \u001b[0mself\u001b[0m\u001b[0;34m.\u001b[0m\u001b[0ml0\u001b[0m\u001b[0;34m(\u001b[0m\u001b[0mout\u001b[0m\u001b[0;34m[\u001b[0m\u001b[0;34m-\u001b[0m\u001b[0;36m1\u001b[0m\u001b[0;34m]\u001b[0m\u001b[0;34m)\u001b[0m\u001b[0;34m\u001b[0m\u001b[0;34m\u001b[0m\u001b[0m\n\u001b[1;32m     19\u001b[0m         \u001b[0mact\u001b[0m \u001b[0;34m=\u001b[0m \u001b[0mself\u001b[0m\u001b[0;34m.\u001b[0m\u001b[0mact\u001b[0m\u001b[0;34m(\u001b[0m\u001b[0mlogits\u001b[0m\u001b[0;34m)\u001b[0m\u001b[0;34m\u001b[0m\u001b[0;34m\u001b[0m\u001b[0m\n",
            "\u001b[0;32m/usr/local/lib/python3.7/dist-packages/torch/nn/modules/module.py\u001b[0m in \u001b[0;36m_call_impl\u001b[0;34m(self, *input, **kwargs)\u001b[0m\n\u001b[1;32m    887\u001b[0m             \u001b[0mresult\u001b[0m \u001b[0;34m=\u001b[0m \u001b[0mself\u001b[0m\u001b[0;34m.\u001b[0m\u001b[0m_slow_forward\u001b[0m\u001b[0;34m(\u001b[0m\u001b[0;34m*\u001b[0m\u001b[0minput\u001b[0m\u001b[0;34m,\u001b[0m \u001b[0;34m**\u001b[0m\u001b[0mkwargs\u001b[0m\u001b[0;34m)\u001b[0m\u001b[0;34m\u001b[0m\u001b[0;34m\u001b[0m\u001b[0m\n\u001b[1;32m    888\u001b[0m         \u001b[0;32melse\u001b[0m\u001b[0;34m:\u001b[0m\u001b[0;34m\u001b[0m\u001b[0;34m\u001b[0m\u001b[0m\n\u001b[0;32m--> 889\u001b[0;31m             \u001b[0mresult\u001b[0m \u001b[0;34m=\u001b[0m \u001b[0mself\u001b[0m\u001b[0;34m.\u001b[0m\u001b[0mforward\u001b[0m\u001b[0;34m(\u001b[0m\u001b[0;34m*\u001b[0m\u001b[0minput\u001b[0m\u001b[0;34m,\u001b[0m \u001b[0;34m**\u001b[0m\u001b[0mkwargs\u001b[0m\u001b[0;34m)\u001b[0m\u001b[0;34m\u001b[0m\u001b[0;34m\u001b[0m\u001b[0m\n\u001b[0m\u001b[1;32m    890\u001b[0m         for hook in itertools.chain(\n\u001b[1;32m    891\u001b[0m                 \u001b[0m_global_forward_hooks\u001b[0m\u001b[0;34m.\u001b[0m\u001b[0mvalues\u001b[0m\u001b[0;34m(\u001b[0m\u001b[0;34m)\u001b[0m\u001b[0;34m,\u001b[0m\u001b[0;34m\u001b[0m\u001b[0;34m\u001b[0m\u001b[0m\n",
            "\u001b[0;32m/usr/local/lib/python3.7/dist-packages/transformers/models/roberta/modeling_roberta.py\u001b[0m in \u001b[0;36mforward\u001b[0;34m(self, input_ids, attention_mask, token_type_ids, position_ids, head_mask, inputs_embeds, encoder_hidden_states, encoder_attention_mask, past_key_values, use_cache, output_attentions, output_hidden_states, return_dict)\u001b[0m\n\u001b[1;32m    823\u001b[0m             \u001b[0moutput_attentions\u001b[0m\u001b[0;34m=\u001b[0m\u001b[0moutput_attentions\u001b[0m\u001b[0;34m,\u001b[0m\u001b[0;34m\u001b[0m\u001b[0;34m\u001b[0m\u001b[0m\n\u001b[1;32m    824\u001b[0m             \u001b[0moutput_hidden_states\u001b[0m\u001b[0;34m=\u001b[0m\u001b[0moutput_hidden_states\u001b[0m\u001b[0;34m,\u001b[0m\u001b[0;34m\u001b[0m\u001b[0;34m\u001b[0m\u001b[0m\n\u001b[0;32m--> 825\u001b[0;31m             \u001b[0mreturn_dict\u001b[0m\u001b[0;34m=\u001b[0m\u001b[0mreturn_dict\u001b[0m\u001b[0;34m,\u001b[0m\u001b[0;34m\u001b[0m\u001b[0;34m\u001b[0m\u001b[0m\n\u001b[0m\u001b[1;32m    826\u001b[0m         )\n\u001b[1;32m    827\u001b[0m         \u001b[0msequence_output\u001b[0m \u001b[0;34m=\u001b[0m \u001b[0mencoder_outputs\u001b[0m\u001b[0;34m[\u001b[0m\u001b[0;36m0\u001b[0m\u001b[0;34m]\u001b[0m\u001b[0;34m\u001b[0m\u001b[0;34m\u001b[0m\u001b[0m\n",
            "\u001b[0;32m/usr/local/lib/python3.7/dist-packages/torch/nn/modules/module.py\u001b[0m in \u001b[0;36m_call_impl\u001b[0;34m(self, *input, **kwargs)\u001b[0m\n\u001b[1;32m    887\u001b[0m             \u001b[0mresult\u001b[0m \u001b[0;34m=\u001b[0m \u001b[0mself\u001b[0m\u001b[0;34m.\u001b[0m\u001b[0m_slow_forward\u001b[0m\u001b[0;34m(\u001b[0m\u001b[0;34m*\u001b[0m\u001b[0minput\u001b[0m\u001b[0;34m,\u001b[0m \u001b[0;34m**\u001b[0m\u001b[0mkwargs\u001b[0m\u001b[0;34m)\u001b[0m\u001b[0;34m\u001b[0m\u001b[0;34m\u001b[0m\u001b[0m\n\u001b[1;32m    888\u001b[0m         \u001b[0;32melse\u001b[0m\u001b[0;34m:\u001b[0m\u001b[0;34m\u001b[0m\u001b[0;34m\u001b[0m\u001b[0m\n\u001b[0;32m--> 889\u001b[0;31m             \u001b[0mresult\u001b[0m \u001b[0;34m=\u001b[0m \u001b[0mself\u001b[0m\u001b[0;34m.\u001b[0m\u001b[0mforward\u001b[0m\u001b[0;34m(\u001b[0m\u001b[0;34m*\u001b[0m\u001b[0minput\u001b[0m\u001b[0;34m,\u001b[0m \u001b[0;34m**\u001b[0m\u001b[0mkwargs\u001b[0m\u001b[0;34m)\u001b[0m\u001b[0;34m\u001b[0m\u001b[0;34m\u001b[0m\u001b[0m\n\u001b[0m\u001b[1;32m    890\u001b[0m         for hook in itertools.chain(\n\u001b[1;32m    891\u001b[0m                 \u001b[0m_global_forward_hooks\u001b[0m\u001b[0;34m.\u001b[0m\u001b[0mvalues\u001b[0m\u001b[0;34m(\u001b[0m\u001b[0;34m)\u001b[0m\u001b[0;34m,\u001b[0m\u001b[0;34m\u001b[0m\u001b[0;34m\u001b[0m\u001b[0m\n",
            "\u001b[0;32m/usr/local/lib/python3.7/dist-packages/transformers/models/roberta/modeling_roberta.py\u001b[0m in \u001b[0;36mforward\u001b[0;34m(self, hidden_states, attention_mask, head_mask, encoder_hidden_states, encoder_attention_mask, past_key_values, use_cache, output_attentions, output_hidden_states, return_dict)\u001b[0m\n\u001b[1;32m    513\u001b[0m                     \u001b[0mencoder_attention_mask\u001b[0m\u001b[0;34m,\u001b[0m\u001b[0;34m\u001b[0m\u001b[0;34m\u001b[0m\u001b[0m\n\u001b[1;32m    514\u001b[0m                     \u001b[0mpast_key_value\u001b[0m\u001b[0;34m,\u001b[0m\u001b[0;34m\u001b[0m\u001b[0;34m\u001b[0m\u001b[0m\n\u001b[0;32m--> 515\u001b[0;31m                     \u001b[0moutput_attentions\u001b[0m\u001b[0;34m,\u001b[0m\u001b[0;34m\u001b[0m\u001b[0;34m\u001b[0m\u001b[0m\n\u001b[0m\u001b[1;32m    516\u001b[0m                 )\n\u001b[1;32m    517\u001b[0m \u001b[0;34m\u001b[0m\u001b[0m\n",
            "\u001b[0;32m/usr/local/lib/python3.7/dist-packages/torch/nn/modules/module.py\u001b[0m in \u001b[0;36m_call_impl\u001b[0;34m(self, *input, **kwargs)\u001b[0m\n\u001b[1;32m    887\u001b[0m             \u001b[0mresult\u001b[0m \u001b[0;34m=\u001b[0m \u001b[0mself\u001b[0m\u001b[0;34m.\u001b[0m\u001b[0m_slow_forward\u001b[0m\u001b[0;34m(\u001b[0m\u001b[0;34m*\u001b[0m\u001b[0minput\u001b[0m\u001b[0;34m,\u001b[0m \u001b[0;34m**\u001b[0m\u001b[0mkwargs\u001b[0m\u001b[0;34m)\u001b[0m\u001b[0;34m\u001b[0m\u001b[0;34m\u001b[0m\u001b[0m\n\u001b[1;32m    888\u001b[0m         \u001b[0;32melse\u001b[0m\u001b[0;34m:\u001b[0m\u001b[0;34m\u001b[0m\u001b[0;34m\u001b[0m\u001b[0m\n\u001b[0;32m--> 889\u001b[0;31m             \u001b[0mresult\u001b[0m \u001b[0;34m=\u001b[0m \u001b[0mself\u001b[0m\u001b[0;34m.\u001b[0m\u001b[0mforward\u001b[0m\u001b[0;34m(\u001b[0m\u001b[0;34m*\u001b[0m\u001b[0minput\u001b[0m\u001b[0;34m,\u001b[0m \u001b[0;34m**\u001b[0m\u001b[0mkwargs\u001b[0m\u001b[0;34m)\u001b[0m\u001b[0;34m\u001b[0m\u001b[0;34m\u001b[0m\u001b[0m\n\u001b[0m\u001b[1;32m    890\u001b[0m         for hook in itertools.chain(\n\u001b[1;32m    891\u001b[0m                 \u001b[0m_global_forward_hooks\u001b[0m\u001b[0;34m.\u001b[0m\u001b[0mvalues\u001b[0m\u001b[0;34m(\u001b[0m\u001b[0;34m)\u001b[0m\u001b[0;34m,\u001b[0m\u001b[0;34m\u001b[0m\u001b[0;34m\u001b[0m\u001b[0m\n",
            "\u001b[0;32m/usr/local/lib/python3.7/dist-packages/transformers/models/roberta/modeling_roberta.py\u001b[0m in \u001b[0;36mforward\u001b[0;34m(self, hidden_states, attention_mask, head_mask, encoder_hidden_states, encoder_attention_mask, past_key_value, output_attentions)\u001b[0m\n\u001b[1;32m    434\u001b[0m \u001b[0;34m\u001b[0m\u001b[0m\n\u001b[1;32m    435\u001b[0m         layer_output = apply_chunking_to_forward(\n\u001b[0;32m--> 436\u001b[0;31m             \u001b[0mself\u001b[0m\u001b[0;34m.\u001b[0m\u001b[0mfeed_forward_chunk\u001b[0m\u001b[0;34m,\u001b[0m \u001b[0mself\u001b[0m\u001b[0;34m.\u001b[0m\u001b[0mchunk_size_feed_forward\u001b[0m\u001b[0;34m,\u001b[0m \u001b[0mself\u001b[0m\u001b[0;34m.\u001b[0m\u001b[0mseq_len_dim\u001b[0m\u001b[0;34m,\u001b[0m \u001b[0mattention_output\u001b[0m\u001b[0;34m\u001b[0m\u001b[0;34m\u001b[0m\u001b[0m\n\u001b[0m\u001b[1;32m    437\u001b[0m         )\n\u001b[1;32m    438\u001b[0m         \u001b[0moutputs\u001b[0m \u001b[0;34m=\u001b[0m \u001b[0;34m(\u001b[0m\u001b[0mlayer_output\u001b[0m\u001b[0;34m,\u001b[0m\u001b[0;34m)\u001b[0m \u001b[0;34m+\u001b[0m \u001b[0moutputs\u001b[0m\u001b[0;34m\u001b[0m\u001b[0;34m\u001b[0m\u001b[0m\n",
            "\u001b[0;32m/usr/local/lib/python3.7/dist-packages/transformers/modeling_utils.py\u001b[0m in \u001b[0;36mapply_chunking_to_forward\u001b[0;34m(forward_fn, chunk_size, chunk_dim, *input_tensors)\u001b[0m\n\u001b[1;32m   1815\u001b[0m         \u001b[0;32mreturn\u001b[0m \u001b[0mtorch\u001b[0m\u001b[0;34m.\u001b[0m\u001b[0mcat\u001b[0m\u001b[0;34m(\u001b[0m\u001b[0moutput_chunks\u001b[0m\u001b[0;34m,\u001b[0m \u001b[0mdim\u001b[0m\u001b[0;34m=\u001b[0m\u001b[0mchunk_dim\u001b[0m\u001b[0;34m)\u001b[0m\u001b[0;34m\u001b[0m\u001b[0;34m\u001b[0m\u001b[0m\n\u001b[1;32m   1816\u001b[0m \u001b[0;34m\u001b[0m\u001b[0m\n\u001b[0;32m-> 1817\u001b[0;31m     \u001b[0;32mreturn\u001b[0m \u001b[0mforward_fn\u001b[0m\u001b[0;34m(\u001b[0m\u001b[0;34m*\u001b[0m\u001b[0minput_tensors\u001b[0m\u001b[0;34m)\u001b[0m\u001b[0;34m\u001b[0m\u001b[0;34m\u001b[0m\u001b[0m\n\u001b[0m",
            "\u001b[0;32m/usr/local/lib/python3.7/dist-packages/transformers/models/roberta/modeling_roberta.py\u001b[0m in \u001b[0;36mfeed_forward_chunk\u001b[0;34m(self, attention_output)\u001b[0m\n\u001b[1;32m    445\u001b[0m \u001b[0;34m\u001b[0m\u001b[0m\n\u001b[1;32m    446\u001b[0m     \u001b[0;32mdef\u001b[0m \u001b[0mfeed_forward_chunk\u001b[0m\u001b[0;34m(\u001b[0m\u001b[0mself\u001b[0m\u001b[0;34m,\u001b[0m \u001b[0mattention_output\u001b[0m\u001b[0;34m)\u001b[0m\u001b[0;34m:\u001b[0m\u001b[0;34m\u001b[0m\u001b[0;34m\u001b[0m\u001b[0m\n\u001b[0;32m--> 447\u001b[0;31m         \u001b[0mintermediate_output\u001b[0m \u001b[0;34m=\u001b[0m \u001b[0mself\u001b[0m\u001b[0;34m.\u001b[0m\u001b[0mintermediate\u001b[0m\u001b[0;34m(\u001b[0m\u001b[0mattention_output\u001b[0m\u001b[0;34m)\u001b[0m\u001b[0;34m\u001b[0m\u001b[0;34m\u001b[0m\u001b[0m\n\u001b[0m\u001b[1;32m    448\u001b[0m         \u001b[0mlayer_output\u001b[0m \u001b[0;34m=\u001b[0m \u001b[0mself\u001b[0m\u001b[0;34m.\u001b[0m\u001b[0moutput\u001b[0m\u001b[0;34m(\u001b[0m\u001b[0mintermediate_output\u001b[0m\u001b[0;34m,\u001b[0m \u001b[0mattention_output\u001b[0m\u001b[0;34m)\u001b[0m\u001b[0;34m\u001b[0m\u001b[0;34m\u001b[0m\u001b[0m\n\u001b[1;32m    449\u001b[0m         \u001b[0;32mreturn\u001b[0m \u001b[0mlayer_output\u001b[0m\u001b[0;34m\u001b[0m\u001b[0;34m\u001b[0m\u001b[0m\n",
            "\u001b[0;32m/usr/local/lib/python3.7/dist-packages/torch/nn/modules/module.py\u001b[0m in \u001b[0;36m_call_impl\u001b[0;34m(self, *input, **kwargs)\u001b[0m\n\u001b[1;32m    887\u001b[0m             \u001b[0mresult\u001b[0m \u001b[0;34m=\u001b[0m \u001b[0mself\u001b[0m\u001b[0;34m.\u001b[0m\u001b[0m_slow_forward\u001b[0m\u001b[0;34m(\u001b[0m\u001b[0;34m*\u001b[0m\u001b[0minput\u001b[0m\u001b[0;34m,\u001b[0m \u001b[0;34m**\u001b[0m\u001b[0mkwargs\u001b[0m\u001b[0;34m)\u001b[0m\u001b[0;34m\u001b[0m\u001b[0;34m\u001b[0m\u001b[0m\n\u001b[1;32m    888\u001b[0m         \u001b[0;32melse\u001b[0m\u001b[0;34m:\u001b[0m\u001b[0;34m\u001b[0m\u001b[0;34m\u001b[0m\u001b[0m\n\u001b[0;32m--> 889\u001b[0;31m             \u001b[0mresult\u001b[0m \u001b[0;34m=\u001b[0m \u001b[0mself\u001b[0m\u001b[0;34m.\u001b[0m\u001b[0mforward\u001b[0m\u001b[0;34m(\u001b[0m\u001b[0;34m*\u001b[0m\u001b[0minput\u001b[0m\u001b[0;34m,\u001b[0m \u001b[0;34m**\u001b[0m\u001b[0mkwargs\u001b[0m\u001b[0;34m)\u001b[0m\u001b[0;34m\u001b[0m\u001b[0;34m\u001b[0m\u001b[0m\n\u001b[0m\u001b[1;32m    890\u001b[0m         for hook in itertools.chain(\n\u001b[1;32m    891\u001b[0m                 \u001b[0m_global_forward_hooks\u001b[0m\u001b[0;34m.\u001b[0m\u001b[0mvalues\u001b[0m\u001b[0;34m(\u001b[0m\u001b[0;34m)\u001b[0m\u001b[0;34m,\u001b[0m\u001b[0;34m\u001b[0m\u001b[0;34m\u001b[0m\u001b[0m\n",
            "\u001b[0;32m/usr/local/lib/python3.7/dist-packages/transformers/models/roberta/modeling_roberta.py\u001b[0m in \u001b[0;36mforward\u001b[0;34m(self, hidden_states)\u001b[0m\n\u001b[1;32m    347\u001b[0m     \u001b[0;32mdef\u001b[0m \u001b[0mforward\u001b[0m\u001b[0;34m(\u001b[0m\u001b[0mself\u001b[0m\u001b[0;34m,\u001b[0m \u001b[0mhidden_states\u001b[0m\u001b[0;34m)\u001b[0m\u001b[0;34m:\u001b[0m\u001b[0;34m\u001b[0m\u001b[0;34m\u001b[0m\u001b[0m\n\u001b[1;32m    348\u001b[0m         \u001b[0mhidden_states\u001b[0m \u001b[0;34m=\u001b[0m \u001b[0mself\u001b[0m\u001b[0;34m.\u001b[0m\u001b[0mdense\u001b[0m\u001b[0;34m(\u001b[0m\u001b[0mhidden_states\u001b[0m\u001b[0;34m)\u001b[0m\u001b[0;34m\u001b[0m\u001b[0;34m\u001b[0m\u001b[0m\n\u001b[0;32m--> 349\u001b[0;31m         \u001b[0mhidden_states\u001b[0m \u001b[0;34m=\u001b[0m \u001b[0mself\u001b[0m\u001b[0;34m.\u001b[0m\u001b[0mintermediate_act_fn\u001b[0m\u001b[0;34m(\u001b[0m\u001b[0mhidden_states\u001b[0m\u001b[0;34m)\u001b[0m\u001b[0;34m\u001b[0m\u001b[0;34m\u001b[0m\u001b[0m\n\u001b[0m\u001b[1;32m    350\u001b[0m         \u001b[0;32mreturn\u001b[0m \u001b[0mhidden_states\u001b[0m\u001b[0;34m\u001b[0m\u001b[0;34m\u001b[0m\u001b[0m\n\u001b[1;32m    351\u001b[0m \u001b[0;34m\u001b[0m\u001b[0m\n",
            "\u001b[0;32m/usr/local/lib/python3.7/dist-packages/torch/nn/functional.py\u001b[0m in \u001b[0;36mgelu\u001b[0;34m(input)\u001b[0m\n\u001b[1;32m   1457\u001b[0m     \u001b[0;32mif\u001b[0m \u001b[0mhas_torch_function_unary\u001b[0m\u001b[0;34m(\u001b[0m\u001b[0minput\u001b[0m\u001b[0;34m)\u001b[0m\u001b[0;34m:\u001b[0m\u001b[0;34m\u001b[0m\u001b[0;34m\u001b[0m\u001b[0m\n\u001b[1;32m   1458\u001b[0m         \u001b[0;32mreturn\u001b[0m \u001b[0mhandle_torch_function\u001b[0m\u001b[0;34m(\u001b[0m\u001b[0mgelu\u001b[0m\u001b[0;34m,\u001b[0m \u001b[0;34m(\u001b[0m\u001b[0minput\u001b[0m\u001b[0;34m,\u001b[0m\u001b[0;34m)\u001b[0m\u001b[0;34m,\u001b[0m \u001b[0minput\u001b[0m\u001b[0;34m)\u001b[0m\u001b[0;34m\u001b[0m\u001b[0;34m\u001b[0m\u001b[0m\n\u001b[0;32m-> 1459\u001b[0;31m     \u001b[0;32mreturn\u001b[0m \u001b[0mtorch\u001b[0m\u001b[0;34m.\u001b[0m\u001b[0m_C\u001b[0m\u001b[0;34m.\u001b[0m\u001b[0m_nn\u001b[0m\u001b[0;34m.\u001b[0m\u001b[0mgelu\u001b[0m\u001b[0;34m(\u001b[0m\u001b[0minput\u001b[0m\u001b[0;34m)\u001b[0m\u001b[0;34m\u001b[0m\u001b[0;34m\u001b[0m\u001b[0m\n\u001b[0m\u001b[1;32m   1460\u001b[0m \u001b[0;34m\u001b[0m\u001b[0m\n\u001b[1;32m   1461\u001b[0m \u001b[0;34m\u001b[0m\u001b[0m\n",
            "\u001b[0;32m/usr/local/lib/python3.7/dist-packages/torch/utils/data/_utils/signal_handling.py\u001b[0m in \u001b[0;36mhandler\u001b[0;34m(signum, frame)\u001b[0m\n\u001b[1;32m     64\u001b[0m         \u001b[0;31m# This following call uses `waitid` with WNOHANG from C side. Therefore,\u001b[0m\u001b[0;34m\u001b[0m\u001b[0;34m\u001b[0m\u001b[0;34m\u001b[0m\u001b[0m\n\u001b[1;32m     65\u001b[0m         \u001b[0;31m# Python can still get and update the process status successfully.\u001b[0m\u001b[0;34m\u001b[0m\u001b[0;34m\u001b[0m\u001b[0;34m\u001b[0m\u001b[0m\n\u001b[0;32m---> 66\u001b[0;31m         \u001b[0m_error_if_any_worker_fails\u001b[0m\u001b[0;34m(\u001b[0m\u001b[0;34m)\u001b[0m\u001b[0;34m\u001b[0m\u001b[0;34m\u001b[0m\u001b[0m\n\u001b[0m\u001b[1;32m     67\u001b[0m         \u001b[0;32mif\u001b[0m \u001b[0mprevious_handler\u001b[0m \u001b[0;32mis\u001b[0m \u001b[0;32mnot\u001b[0m \u001b[0;32mNone\u001b[0m\u001b[0;34m:\u001b[0m\u001b[0;34m\u001b[0m\u001b[0;34m\u001b[0m\u001b[0m\n\u001b[1;32m     68\u001b[0m             \u001b[0;32massert\u001b[0m \u001b[0mcallable\u001b[0m\u001b[0;34m(\u001b[0m\u001b[0mprevious_handler\u001b[0m\u001b[0;34m)\u001b[0m\u001b[0;34m\u001b[0m\u001b[0;34m\u001b[0m\u001b[0m\n",
            "\u001b[0;31mRuntimeError\u001b[0m: DataLoader worker (pid 494) is killed by signal: Killed. "
          ]
        }
      ]
    },
    {
      "cell_type": "code",
      "metadata": {
        "colab": {
          "base_uri": "https://localhost:8080/",
          "height": 918
        },
        "id": "uy5UttScp29o",
        "outputId": "a39c9d1d-7630-41f5-d46a-7af1cd89a526"
      },
      "source": [
        "loss = nn.CrossEntropyLoss()\n",
        "\n",
        "for record in train_data_loader:\n",
        "    print(record['label_ids'])\n",
        "    prediction = model(record['tweet_ids'], record['mask']).squeeze().to(dtype=float)\n",
        "    print(prediction)\n",
        "    record = record['label_ids'].to(dtype=float)\n",
        "    loss_train = loss(prediction, record)\n",
        "    print(loss_train)"
      ],
      "execution_count": null,
      "outputs": [
        {
          "output_type": "stream",
          "text": [
            "tensor([0., 0.], dtype=torch.float64)\n",
            "tensor([0.6005, 0.5993], dtype=torch.float64, grad_fn=<CopyBackwards>)\n",
            "tensor(0.9160, dtype=torch.float64, grad_fn=<BinaryCrossEntropyBackward>)\n",
            "tensor([0., 0.], dtype=torch.float64)\n",
            "tensor([0.6042, 0.5977], dtype=torch.float64, grad_fn=<CopyBackwards>)\n",
            "tensor(0.9188, dtype=torch.float64, grad_fn=<BinaryCrossEntropyBackward>)\n",
            "tensor([0., 0.], dtype=torch.float64)\n",
            "tensor([0.5975, 0.6019], dtype=torch.float64, grad_fn=<CopyBackwards>)\n",
            "tensor(0.9155, dtype=torch.float64, grad_fn=<BinaryCrossEntropyBackward>)\n",
            "tensor([0., 0.], dtype=torch.float64)\n",
            "tensor([0.6051, 0.6033], dtype=torch.float64, grad_fn=<CopyBackwards>)\n",
            "tensor(0.9268, dtype=torch.float64, grad_fn=<BinaryCrossEntropyBackward>)\n",
            "tensor([0., 0.], dtype=torch.float64)\n",
            "tensor([0.5979, 0.5971], dtype=torch.float64, grad_fn=<CopyBackwards>)\n",
            "tensor(0.9101, dtype=torch.float64, grad_fn=<BinaryCrossEntropyBackward>)\n",
            "tensor([0., 0.], dtype=torch.float64)\n",
            "tensor([0.5992, 0.5954], dtype=torch.float64, grad_fn=<CopyBackwards>)\n",
            "tensor(0.9096, dtype=torch.float64, grad_fn=<BinaryCrossEntropyBackward>)\n",
            "tensor([0., 1.], dtype=torch.float64)\n",
            "tensor([0.6001, 0.6023], dtype=torch.float64, grad_fn=<CopyBackwards>)\n",
            "tensor(0.7118, dtype=torch.float64, grad_fn=<BinaryCrossEntropyBackward>)\n",
            "tensor([0., 0.], dtype=torch.float64)\n",
            "tensor([0.6010, 0.6007], dtype=torch.float64, grad_fn=<CopyBackwards>)\n",
            "tensor(0.9184, dtype=torch.float64, grad_fn=<BinaryCrossEntropyBackward>)\n",
            "tensor([0., 0.], dtype=torch.float64)\n",
            "tensor([0.5977, 0.5974], dtype=torch.float64, grad_fn=<CopyBackwards>)\n",
            "tensor(0.9102, dtype=torch.float64, grad_fn=<BinaryCrossEntropyBackward>)\n",
            "tensor([0., 0.], dtype=torch.float64)\n",
            "tensor([0.5986, 0.5994], dtype=torch.float64, grad_fn=<CopyBackwards>)\n",
            "tensor(0.9138, dtype=torch.float64, grad_fn=<BinaryCrossEntropyBackward>)\n",
            "tensor([0., 0.], dtype=torch.float64)\n"
          ],
          "name": "stdout"
        },
        {
          "output_type": "error",
          "ename": "KeyboardInterrupt",
          "evalue": "ignored",
          "traceback": [
            "\u001b[0;31m---------------------------------------------------------------------------\u001b[0m",
            "\u001b[0;31mKeyboardInterrupt\u001b[0m                         Traceback (most recent call last)",
            "\u001b[0;32m<ipython-input-22-63744f7c1bac>\u001b[0m in \u001b[0;36m<module>\u001b[0;34m()\u001b[0m\n\u001b[1;32m      3\u001b[0m \u001b[0;32mfor\u001b[0m \u001b[0mrecord\u001b[0m \u001b[0;32min\u001b[0m \u001b[0mtrain_data_loader\u001b[0m\u001b[0;34m:\u001b[0m\u001b[0;34m\u001b[0m\u001b[0;34m\u001b[0m\u001b[0m\n\u001b[1;32m      4\u001b[0m     \u001b[0mprint\u001b[0m\u001b[0;34m(\u001b[0m\u001b[0mrecord\u001b[0m\u001b[0;34m[\u001b[0m\u001b[0;34m'label_ids'\u001b[0m\u001b[0;34m]\u001b[0m\u001b[0;34m)\u001b[0m\u001b[0;34m\u001b[0m\u001b[0;34m\u001b[0m\u001b[0m\n\u001b[0;32m----> 5\u001b[0;31m     \u001b[0mprediction\u001b[0m \u001b[0;34m=\u001b[0m \u001b[0mmodel\u001b[0m\u001b[0;34m(\u001b[0m\u001b[0mrecord\u001b[0m\u001b[0;34m[\u001b[0m\u001b[0;34m'tweet_ids'\u001b[0m\u001b[0;34m]\u001b[0m\u001b[0;34m,\u001b[0m \u001b[0mrecord\u001b[0m\u001b[0;34m[\u001b[0m\u001b[0;34m'mask'\u001b[0m\u001b[0;34m]\u001b[0m\u001b[0;34m)\u001b[0m\u001b[0;34m.\u001b[0m\u001b[0msqueeze\u001b[0m\u001b[0;34m(\u001b[0m\u001b[0;34m)\u001b[0m\u001b[0;34m.\u001b[0m\u001b[0mto\u001b[0m\u001b[0;34m(\u001b[0m\u001b[0mdtype\u001b[0m\u001b[0;34m=\u001b[0m\u001b[0mfloat\u001b[0m\u001b[0;34m)\u001b[0m\u001b[0;34m\u001b[0m\u001b[0;34m\u001b[0m\u001b[0m\n\u001b[0m\u001b[1;32m      6\u001b[0m     \u001b[0mprint\u001b[0m\u001b[0;34m(\u001b[0m\u001b[0mprediction\u001b[0m\u001b[0;34m)\u001b[0m\u001b[0;34m\u001b[0m\u001b[0;34m\u001b[0m\u001b[0m\n\u001b[1;32m      7\u001b[0m     \u001b[0mrecord\u001b[0m \u001b[0;34m=\u001b[0m \u001b[0mrecord\u001b[0m\u001b[0;34m[\u001b[0m\u001b[0;34m'label_ids'\u001b[0m\u001b[0;34m]\u001b[0m\u001b[0;34m.\u001b[0m\u001b[0mto\u001b[0m\u001b[0;34m(\u001b[0m\u001b[0mdtype\u001b[0m\u001b[0;34m=\u001b[0m\u001b[0mfloat\u001b[0m\u001b[0;34m)\u001b[0m\u001b[0;34m\u001b[0m\u001b[0;34m\u001b[0m\u001b[0m\n",
            "\u001b[0;32m/usr/local/lib/python3.7/dist-packages/torch/nn/modules/module.py\u001b[0m in \u001b[0;36m_call_impl\u001b[0;34m(self, *input, **kwargs)\u001b[0m\n\u001b[1;32m    887\u001b[0m             \u001b[0mresult\u001b[0m \u001b[0;34m=\u001b[0m \u001b[0mself\u001b[0m\u001b[0;34m.\u001b[0m\u001b[0m_slow_forward\u001b[0m\u001b[0;34m(\u001b[0m\u001b[0;34m*\u001b[0m\u001b[0minput\u001b[0m\u001b[0;34m,\u001b[0m \u001b[0;34m**\u001b[0m\u001b[0mkwargs\u001b[0m\u001b[0;34m)\u001b[0m\u001b[0;34m\u001b[0m\u001b[0;34m\u001b[0m\u001b[0m\n\u001b[1;32m    888\u001b[0m         \u001b[0;32melse\u001b[0m\u001b[0;34m:\u001b[0m\u001b[0;34m\u001b[0m\u001b[0;34m\u001b[0m\u001b[0m\n\u001b[0;32m--> 889\u001b[0;31m             \u001b[0mresult\u001b[0m \u001b[0;34m=\u001b[0m \u001b[0mself\u001b[0m\u001b[0;34m.\u001b[0m\u001b[0mforward\u001b[0m\u001b[0;34m(\u001b[0m\u001b[0;34m*\u001b[0m\u001b[0minput\u001b[0m\u001b[0;34m,\u001b[0m \u001b[0;34m**\u001b[0m\u001b[0mkwargs\u001b[0m\u001b[0;34m)\u001b[0m\u001b[0;34m\u001b[0m\u001b[0;34m\u001b[0m\u001b[0m\n\u001b[0m\u001b[1;32m    890\u001b[0m         for hook in itertools.chain(\n\u001b[1;32m    891\u001b[0m                 \u001b[0m_global_forward_hooks\u001b[0m\u001b[0;34m.\u001b[0m\u001b[0mvalues\u001b[0m\u001b[0;34m(\u001b[0m\u001b[0;34m)\u001b[0m\u001b[0;34m,\u001b[0m\u001b[0;34m\u001b[0m\u001b[0;34m\u001b[0m\u001b[0m\n",
            "\u001b[0;32m<ipython-input-16-b5733a36a002>\u001b[0m in \u001b[0;36mforward\u001b[0;34m(self, ids, mask)\u001b[0m\n\u001b[1;32m     12\u001b[0m     \u001b[0;32mdef\u001b[0m \u001b[0mforward\u001b[0m\u001b[0;34m(\u001b[0m\u001b[0mself\u001b[0m\u001b[0;34m,\u001b[0m \u001b[0mids\u001b[0m\u001b[0;34m,\u001b[0m \u001b[0mmask\u001b[0m\u001b[0;34m)\u001b[0m\u001b[0;34m:\u001b[0m\u001b[0;34m\u001b[0m\u001b[0;34m\u001b[0m\u001b[0m\n\u001b[1;32m     13\u001b[0m         \u001b[0;31m# return the hidden states from the BERT backbone\u001b[0m\u001b[0;34m\u001b[0m\u001b[0;34m\u001b[0m\u001b[0;34m\u001b[0m\u001b[0m\n\u001b[0;32m---> 14\u001b[0;31m         \u001b[0mout\u001b[0m \u001b[0;34m=\u001b[0m \u001b[0mself\u001b[0m\u001b[0;34m.\u001b[0m\u001b[0mmodel\u001b[0m\u001b[0;34m(\u001b[0m\u001b[0mids\u001b[0m\u001b[0;34m,\u001b[0m \u001b[0mattention_mask\u001b[0m\u001b[0;34m=\u001b[0m\u001b[0mmask\u001b[0m\u001b[0;34m)\u001b[0m\u001b[0;34m\u001b[0m\u001b[0;34m\u001b[0m\u001b[0m\n\u001b[0m\u001b[1;32m     15\u001b[0m         \u001b[0mlogits\u001b[0m \u001b[0;34m=\u001b[0m \u001b[0mself\u001b[0m\u001b[0;34m.\u001b[0m\u001b[0ml0\u001b[0m\u001b[0;34m(\u001b[0m\u001b[0mout\u001b[0m\u001b[0;34m[\u001b[0m\u001b[0;34m-\u001b[0m\u001b[0;36m1\u001b[0m\u001b[0;34m]\u001b[0m\u001b[0;34m)\u001b[0m\u001b[0;34m\u001b[0m\u001b[0;34m\u001b[0m\u001b[0m\n\u001b[1;32m     16\u001b[0m         \u001b[0mact\u001b[0m \u001b[0;34m=\u001b[0m \u001b[0mself\u001b[0m\u001b[0;34m.\u001b[0m\u001b[0mact\u001b[0m\u001b[0;34m(\u001b[0m\u001b[0mlogits\u001b[0m\u001b[0;34m)\u001b[0m\u001b[0;34m\u001b[0m\u001b[0;34m\u001b[0m\u001b[0m\n",
            "\u001b[0;32m/usr/local/lib/python3.7/dist-packages/torch/nn/modules/module.py\u001b[0m in \u001b[0;36m_call_impl\u001b[0;34m(self, *input, **kwargs)\u001b[0m\n\u001b[1;32m    887\u001b[0m             \u001b[0mresult\u001b[0m \u001b[0;34m=\u001b[0m \u001b[0mself\u001b[0m\u001b[0;34m.\u001b[0m\u001b[0m_slow_forward\u001b[0m\u001b[0;34m(\u001b[0m\u001b[0;34m*\u001b[0m\u001b[0minput\u001b[0m\u001b[0;34m,\u001b[0m \u001b[0;34m**\u001b[0m\u001b[0mkwargs\u001b[0m\u001b[0;34m)\u001b[0m\u001b[0;34m\u001b[0m\u001b[0;34m\u001b[0m\u001b[0m\n\u001b[1;32m    888\u001b[0m         \u001b[0;32melse\u001b[0m\u001b[0;34m:\u001b[0m\u001b[0;34m\u001b[0m\u001b[0;34m\u001b[0m\u001b[0m\n\u001b[0;32m--> 889\u001b[0;31m             \u001b[0mresult\u001b[0m \u001b[0;34m=\u001b[0m \u001b[0mself\u001b[0m\u001b[0;34m.\u001b[0m\u001b[0mforward\u001b[0m\u001b[0;34m(\u001b[0m\u001b[0;34m*\u001b[0m\u001b[0minput\u001b[0m\u001b[0;34m,\u001b[0m \u001b[0;34m**\u001b[0m\u001b[0mkwargs\u001b[0m\u001b[0;34m)\u001b[0m\u001b[0;34m\u001b[0m\u001b[0;34m\u001b[0m\u001b[0m\n\u001b[0m\u001b[1;32m    890\u001b[0m         for hook in itertools.chain(\n\u001b[1;32m    891\u001b[0m                 \u001b[0m_global_forward_hooks\u001b[0m\u001b[0;34m.\u001b[0m\u001b[0mvalues\u001b[0m\u001b[0;34m(\u001b[0m\u001b[0;34m)\u001b[0m\u001b[0;34m,\u001b[0m\u001b[0;34m\u001b[0m\u001b[0;34m\u001b[0m\u001b[0m\n",
            "\u001b[0;32m/usr/local/lib/python3.7/dist-packages/transformers/models/roberta/modeling_roberta.py\u001b[0m in \u001b[0;36mforward\u001b[0;34m(self, input_ids, attention_mask, token_type_ids, position_ids, head_mask, inputs_embeds, encoder_hidden_states, encoder_attention_mask, past_key_values, use_cache, output_attentions, output_hidden_states, return_dict)\u001b[0m\n\u001b[1;32m    823\u001b[0m             \u001b[0moutput_attentions\u001b[0m\u001b[0;34m=\u001b[0m\u001b[0moutput_attentions\u001b[0m\u001b[0;34m,\u001b[0m\u001b[0;34m\u001b[0m\u001b[0;34m\u001b[0m\u001b[0m\n\u001b[1;32m    824\u001b[0m             \u001b[0moutput_hidden_states\u001b[0m\u001b[0;34m=\u001b[0m\u001b[0moutput_hidden_states\u001b[0m\u001b[0;34m,\u001b[0m\u001b[0;34m\u001b[0m\u001b[0;34m\u001b[0m\u001b[0m\n\u001b[0;32m--> 825\u001b[0;31m             \u001b[0mreturn_dict\u001b[0m\u001b[0;34m=\u001b[0m\u001b[0mreturn_dict\u001b[0m\u001b[0;34m,\u001b[0m\u001b[0;34m\u001b[0m\u001b[0;34m\u001b[0m\u001b[0m\n\u001b[0m\u001b[1;32m    826\u001b[0m         )\n\u001b[1;32m    827\u001b[0m         \u001b[0msequence_output\u001b[0m \u001b[0;34m=\u001b[0m \u001b[0mencoder_outputs\u001b[0m\u001b[0;34m[\u001b[0m\u001b[0;36m0\u001b[0m\u001b[0;34m]\u001b[0m\u001b[0;34m\u001b[0m\u001b[0;34m\u001b[0m\u001b[0m\n",
            "\u001b[0;32m/usr/local/lib/python3.7/dist-packages/torch/nn/modules/module.py\u001b[0m in \u001b[0;36m_call_impl\u001b[0;34m(self, *input, **kwargs)\u001b[0m\n\u001b[1;32m    887\u001b[0m             \u001b[0mresult\u001b[0m \u001b[0;34m=\u001b[0m \u001b[0mself\u001b[0m\u001b[0;34m.\u001b[0m\u001b[0m_slow_forward\u001b[0m\u001b[0;34m(\u001b[0m\u001b[0;34m*\u001b[0m\u001b[0minput\u001b[0m\u001b[0;34m,\u001b[0m \u001b[0;34m**\u001b[0m\u001b[0mkwargs\u001b[0m\u001b[0;34m)\u001b[0m\u001b[0;34m\u001b[0m\u001b[0;34m\u001b[0m\u001b[0m\n\u001b[1;32m    888\u001b[0m         \u001b[0;32melse\u001b[0m\u001b[0;34m:\u001b[0m\u001b[0;34m\u001b[0m\u001b[0;34m\u001b[0m\u001b[0m\n\u001b[0;32m--> 889\u001b[0;31m             \u001b[0mresult\u001b[0m \u001b[0;34m=\u001b[0m \u001b[0mself\u001b[0m\u001b[0;34m.\u001b[0m\u001b[0mforward\u001b[0m\u001b[0;34m(\u001b[0m\u001b[0;34m*\u001b[0m\u001b[0minput\u001b[0m\u001b[0;34m,\u001b[0m \u001b[0;34m**\u001b[0m\u001b[0mkwargs\u001b[0m\u001b[0;34m)\u001b[0m\u001b[0;34m\u001b[0m\u001b[0;34m\u001b[0m\u001b[0m\n\u001b[0m\u001b[1;32m    890\u001b[0m         for hook in itertools.chain(\n\u001b[1;32m    891\u001b[0m                 \u001b[0m_global_forward_hooks\u001b[0m\u001b[0;34m.\u001b[0m\u001b[0mvalues\u001b[0m\u001b[0;34m(\u001b[0m\u001b[0;34m)\u001b[0m\u001b[0;34m,\u001b[0m\u001b[0;34m\u001b[0m\u001b[0;34m\u001b[0m\u001b[0m\n",
            "\u001b[0;32m/usr/local/lib/python3.7/dist-packages/transformers/models/roberta/modeling_roberta.py\u001b[0m in \u001b[0;36mforward\u001b[0;34m(self, hidden_states, attention_mask, head_mask, encoder_hidden_states, encoder_attention_mask, past_key_values, use_cache, output_attentions, output_hidden_states, return_dict)\u001b[0m\n\u001b[1;32m    513\u001b[0m                     \u001b[0mencoder_attention_mask\u001b[0m\u001b[0;34m,\u001b[0m\u001b[0;34m\u001b[0m\u001b[0;34m\u001b[0m\u001b[0m\n\u001b[1;32m    514\u001b[0m                     \u001b[0mpast_key_value\u001b[0m\u001b[0;34m,\u001b[0m\u001b[0;34m\u001b[0m\u001b[0;34m\u001b[0m\u001b[0m\n\u001b[0;32m--> 515\u001b[0;31m                     \u001b[0moutput_attentions\u001b[0m\u001b[0;34m,\u001b[0m\u001b[0;34m\u001b[0m\u001b[0;34m\u001b[0m\u001b[0m\n\u001b[0m\u001b[1;32m    516\u001b[0m                 )\n\u001b[1;32m    517\u001b[0m \u001b[0;34m\u001b[0m\u001b[0m\n",
            "\u001b[0;32m/usr/local/lib/python3.7/dist-packages/torch/nn/modules/module.py\u001b[0m in \u001b[0;36m_call_impl\u001b[0;34m(self, *input, **kwargs)\u001b[0m\n\u001b[1;32m    887\u001b[0m             \u001b[0mresult\u001b[0m \u001b[0;34m=\u001b[0m \u001b[0mself\u001b[0m\u001b[0;34m.\u001b[0m\u001b[0m_slow_forward\u001b[0m\u001b[0;34m(\u001b[0m\u001b[0;34m*\u001b[0m\u001b[0minput\u001b[0m\u001b[0;34m,\u001b[0m \u001b[0;34m**\u001b[0m\u001b[0mkwargs\u001b[0m\u001b[0;34m)\u001b[0m\u001b[0;34m\u001b[0m\u001b[0;34m\u001b[0m\u001b[0m\n\u001b[1;32m    888\u001b[0m         \u001b[0;32melse\u001b[0m\u001b[0;34m:\u001b[0m\u001b[0;34m\u001b[0m\u001b[0;34m\u001b[0m\u001b[0m\n\u001b[0;32m--> 889\u001b[0;31m             \u001b[0mresult\u001b[0m \u001b[0;34m=\u001b[0m \u001b[0mself\u001b[0m\u001b[0;34m.\u001b[0m\u001b[0mforward\u001b[0m\u001b[0;34m(\u001b[0m\u001b[0;34m*\u001b[0m\u001b[0minput\u001b[0m\u001b[0;34m,\u001b[0m \u001b[0;34m**\u001b[0m\u001b[0mkwargs\u001b[0m\u001b[0;34m)\u001b[0m\u001b[0;34m\u001b[0m\u001b[0;34m\u001b[0m\u001b[0m\n\u001b[0m\u001b[1;32m    890\u001b[0m         for hook in itertools.chain(\n\u001b[1;32m    891\u001b[0m                 \u001b[0m_global_forward_hooks\u001b[0m\u001b[0;34m.\u001b[0m\u001b[0mvalues\u001b[0m\u001b[0;34m(\u001b[0m\u001b[0;34m)\u001b[0m\u001b[0;34m,\u001b[0m\u001b[0;34m\u001b[0m\u001b[0;34m\u001b[0m\u001b[0m\n",
            "\u001b[0;32m/usr/local/lib/python3.7/dist-packages/transformers/models/roberta/modeling_roberta.py\u001b[0m in \u001b[0;36mforward\u001b[0;34m(self, hidden_states, attention_mask, head_mask, encoder_hidden_states, encoder_attention_mask, past_key_value, output_attentions)\u001b[0m\n\u001b[1;32m    434\u001b[0m \u001b[0;34m\u001b[0m\u001b[0m\n\u001b[1;32m    435\u001b[0m         layer_output = apply_chunking_to_forward(\n\u001b[0;32m--> 436\u001b[0;31m             \u001b[0mself\u001b[0m\u001b[0;34m.\u001b[0m\u001b[0mfeed_forward_chunk\u001b[0m\u001b[0;34m,\u001b[0m \u001b[0mself\u001b[0m\u001b[0;34m.\u001b[0m\u001b[0mchunk_size_feed_forward\u001b[0m\u001b[0;34m,\u001b[0m \u001b[0mself\u001b[0m\u001b[0;34m.\u001b[0m\u001b[0mseq_len_dim\u001b[0m\u001b[0;34m,\u001b[0m \u001b[0mattention_output\u001b[0m\u001b[0;34m\u001b[0m\u001b[0;34m\u001b[0m\u001b[0m\n\u001b[0m\u001b[1;32m    437\u001b[0m         )\n\u001b[1;32m    438\u001b[0m         \u001b[0moutputs\u001b[0m \u001b[0;34m=\u001b[0m \u001b[0;34m(\u001b[0m\u001b[0mlayer_output\u001b[0m\u001b[0;34m,\u001b[0m\u001b[0;34m)\u001b[0m \u001b[0;34m+\u001b[0m \u001b[0moutputs\u001b[0m\u001b[0;34m\u001b[0m\u001b[0;34m\u001b[0m\u001b[0m\n",
            "\u001b[0;32m/usr/local/lib/python3.7/dist-packages/transformers/modeling_utils.py\u001b[0m in \u001b[0;36mapply_chunking_to_forward\u001b[0;34m(forward_fn, chunk_size, chunk_dim, *input_tensors)\u001b[0m\n\u001b[1;32m   1815\u001b[0m         \u001b[0;32mreturn\u001b[0m \u001b[0mtorch\u001b[0m\u001b[0;34m.\u001b[0m\u001b[0mcat\u001b[0m\u001b[0;34m(\u001b[0m\u001b[0moutput_chunks\u001b[0m\u001b[0;34m,\u001b[0m \u001b[0mdim\u001b[0m\u001b[0;34m=\u001b[0m\u001b[0mchunk_dim\u001b[0m\u001b[0;34m)\u001b[0m\u001b[0;34m\u001b[0m\u001b[0;34m\u001b[0m\u001b[0m\n\u001b[1;32m   1816\u001b[0m \u001b[0;34m\u001b[0m\u001b[0m\n\u001b[0;32m-> 1817\u001b[0;31m     \u001b[0;32mreturn\u001b[0m \u001b[0mforward_fn\u001b[0m\u001b[0;34m(\u001b[0m\u001b[0;34m*\u001b[0m\u001b[0minput_tensors\u001b[0m\u001b[0;34m)\u001b[0m\u001b[0;34m\u001b[0m\u001b[0;34m\u001b[0m\u001b[0m\n\u001b[0m",
            "\u001b[0;32m/usr/local/lib/python3.7/dist-packages/transformers/models/roberta/modeling_roberta.py\u001b[0m in \u001b[0;36mfeed_forward_chunk\u001b[0;34m(self, attention_output)\u001b[0m\n\u001b[1;32m    445\u001b[0m \u001b[0;34m\u001b[0m\u001b[0m\n\u001b[1;32m    446\u001b[0m     \u001b[0;32mdef\u001b[0m \u001b[0mfeed_forward_chunk\u001b[0m\u001b[0;34m(\u001b[0m\u001b[0mself\u001b[0m\u001b[0;34m,\u001b[0m \u001b[0mattention_output\u001b[0m\u001b[0;34m)\u001b[0m\u001b[0;34m:\u001b[0m\u001b[0;34m\u001b[0m\u001b[0;34m\u001b[0m\u001b[0m\n\u001b[0;32m--> 447\u001b[0;31m         \u001b[0mintermediate_output\u001b[0m \u001b[0;34m=\u001b[0m \u001b[0mself\u001b[0m\u001b[0;34m.\u001b[0m\u001b[0mintermediate\u001b[0m\u001b[0;34m(\u001b[0m\u001b[0mattention_output\u001b[0m\u001b[0;34m)\u001b[0m\u001b[0;34m\u001b[0m\u001b[0;34m\u001b[0m\u001b[0m\n\u001b[0m\u001b[1;32m    448\u001b[0m         \u001b[0mlayer_output\u001b[0m \u001b[0;34m=\u001b[0m \u001b[0mself\u001b[0m\u001b[0;34m.\u001b[0m\u001b[0moutput\u001b[0m\u001b[0;34m(\u001b[0m\u001b[0mintermediate_output\u001b[0m\u001b[0;34m,\u001b[0m \u001b[0mattention_output\u001b[0m\u001b[0;34m)\u001b[0m\u001b[0;34m\u001b[0m\u001b[0;34m\u001b[0m\u001b[0m\n\u001b[1;32m    449\u001b[0m         \u001b[0;32mreturn\u001b[0m \u001b[0mlayer_output\u001b[0m\u001b[0;34m\u001b[0m\u001b[0;34m\u001b[0m\u001b[0m\n",
            "\u001b[0;32m/usr/local/lib/python3.7/dist-packages/torch/nn/modules/module.py\u001b[0m in \u001b[0;36m_call_impl\u001b[0;34m(self, *input, **kwargs)\u001b[0m\n\u001b[1;32m    887\u001b[0m             \u001b[0mresult\u001b[0m \u001b[0;34m=\u001b[0m \u001b[0mself\u001b[0m\u001b[0;34m.\u001b[0m\u001b[0m_slow_forward\u001b[0m\u001b[0;34m(\u001b[0m\u001b[0;34m*\u001b[0m\u001b[0minput\u001b[0m\u001b[0;34m,\u001b[0m \u001b[0;34m**\u001b[0m\u001b[0mkwargs\u001b[0m\u001b[0;34m)\u001b[0m\u001b[0;34m\u001b[0m\u001b[0;34m\u001b[0m\u001b[0m\n\u001b[1;32m    888\u001b[0m         \u001b[0;32melse\u001b[0m\u001b[0;34m:\u001b[0m\u001b[0;34m\u001b[0m\u001b[0;34m\u001b[0m\u001b[0m\n\u001b[0;32m--> 889\u001b[0;31m             \u001b[0mresult\u001b[0m \u001b[0;34m=\u001b[0m \u001b[0mself\u001b[0m\u001b[0;34m.\u001b[0m\u001b[0mforward\u001b[0m\u001b[0;34m(\u001b[0m\u001b[0;34m*\u001b[0m\u001b[0minput\u001b[0m\u001b[0;34m,\u001b[0m \u001b[0;34m**\u001b[0m\u001b[0mkwargs\u001b[0m\u001b[0;34m)\u001b[0m\u001b[0;34m\u001b[0m\u001b[0;34m\u001b[0m\u001b[0m\n\u001b[0m\u001b[1;32m    890\u001b[0m         for hook in itertools.chain(\n\u001b[1;32m    891\u001b[0m                 \u001b[0m_global_forward_hooks\u001b[0m\u001b[0;34m.\u001b[0m\u001b[0mvalues\u001b[0m\u001b[0;34m(\u001b[0m\u001b[0;34m)\u001b[0m\u001b[0;34m,\u001b[0m\u001b[0;34m\u001b[0m\u001b[0;34m\u001b[0m\u001b[0m\n",
            "\u001b[0;32m/usr/local/lib/python3.7/dist-packages/transformers/models/roberta/modeling_roberta.py\u001b[0m in \u001b[0;36mforward\u001b[0;34m(self, hidden_states)\u001b[0m\n\u001b[1;32m    346\u001b[0m \u001b[0;34m\u001b[0m\u001b[0m\n\u001b[1;32m    347\u001b[0m     \u001b[0;32mdef\u001b[0m \u001b[0mforward\u001b[0m\u001b[0;34m(\u001b[0m\u001b[0mself\u001b[0m\u001b[0;34m,\u001b[0m \u001b[0mhidden_states\u001b[0m\u001b[0;34m)\u001b[0m\u001b[0;34m:\u001b[0m\u001b[0;34m\u001b[0m\u001b[0;34m\u001b[0m\u001b[0m\n\u001b[0;32m--> 348\u001b[0;31m         \u001b[0mhidden_states\u001b[0m \u001b[0;34m=\u001b[0m \u001b[0mself\u001b[0m\u001b[0;34m.\u001b[0m\u001b[0mdense\u001b[0m\u001b[0;34m(\u001b[0m\u001b[0mhidden_states\u001b[0m\u001b[0;34m)\u001b[0m\u001b[0;34m\u001b[0m\u001b[0;34m\u001b[0m\u001b[0m\n\u001b[0m\u001b[1;32m    349\u001b[0m         \u001b[0mhidden_states\u001b[0m \u001b[0;34m=\u001b[0m \u001b[0mself\u001b[0m\u001b[0;34m.\u001b[0m\u001b[0mintermediate_act_fn\u001b[0m\u001b[0;34m(\u001b[0m\u001b[0mhidden_states\u001b[0m\u001b[0;34m)\u001b[0m\u001b[0;34m\u001b[0m\u001b[0;34m\u001b[0m\u001b[0m\n\u001b[1;32m    350\u001b[0m         \u001b[0;32mreturn\u001b[0m \u001b[0mhidden_states\u001b[0m\u001b[0;34m\u001b[0m\u001b[0;34m\u001b[0m\u001b[0m\n",
            "\u001b[0;32m/usr/local/lib/python3.7/dist-packages/torch/nn/modules/module.py\u001b[0m in \u001b[0;36m_call_impl\u001b[0;34m(self, *input, **kwargs)\u001b[0m\n\u001b[1;32m    887\u001b[0m             \u001b[0mresult\u001b[0m \u001b[0;34m=\u001b[0m \u001b[0mself\u001b[0m\u001b[0;34m.\u001b[0m\u001b[0m_slow_forward\u001b[0m\u001b[0;34m(\u001b[0m\u001b[0;34m*\u001b[0m\u001b[0minput\u001b[0m\u001b[0;34m,\u001b[0m \u001b[0;34m**\u001b[0m\u001b[0mkwargs\u001b[0m\u001b[0;34m)\u001b[0m\u001b[0;34m\u001b[0m\u001b[0;34m\u001b[0m\u001b[0m\n\u001b[1;32m    888\u001b[0m         \u001b[0;32melse\u001b[0m\u001b[0;34m:\u001b[0m\u001b[0;34m\u001b[0m\u001b[0;34m\u001b[0m\u001b[0m\n\u001b[0;32m--> 889\u001b[0;31m             \u001b[0mresult\u001b[0m \u001b[0;34m=\u001b[0m \u001b[0mself\u001b[0m\u001b[0;34m.\u001b[0m\u001b[0mforward\u001b[0m\u001b[0;34m(\u001b[0m\u001b[0;34m*\u001b[0m\u001b[0minput\u001b[0m\u001b[0;34m,\u001b[0m \u001b[0;34m**\u001b[0m\u001b[0mkwargs\u001b[0m\u001b[0;34m)\u001b[0m\u001b[0;34m\u001b[0m\u001b[0;34m\u001b[0m\u001b[0m\n\u001b[0m\u001b[1;32m    890\u001b[0m         for hook in itertools.chain(\n\u001b[1;32m    891\u001b[0m                 \u001b[0m_global_forward_hooks\u001b[0m\u001b[0;34m.\u001b[0m\u001b[0mvalues\u001b[0m\u001b[0;34m(\u001b[0m\u001b[0;34m)\u001b[0m\u001b[0;34m,\u001b[0m\u001b[0;34m\u001b[0m\u001b[0;34m\u001b[0m\u001b[0m\n",
            "\u001b[0;32m/usr/local/lib/python3.7/dist-packages/torch/nn/modules/linear.py\u001b[0m in \u001b[0;36mforward\u001b[0;34m(self, input)\u001b[0m\n\u001b[1;32m     92\u001b[0m \u001b[0;34m\u001b[0m\u001b[0m\n\u001b[1;32m     93\u001b[0m     \u001b[0;32mdef\u001b[0m \u001b[0mforward\u001b[0m\u001b[0;34m(\u001b[0m\u001b[0mself\u001b[0m\u001b[0;34m,\u001b[0m \u001b[0minput\u001b[0m\u001b[0;34m:\u001b[0m \u001b[0mTensor\u001b[0m\u001b[0;34m)\u001b[0m \u001b[0;34m->\u001b[0m \u001b[0mTensor\u001b[0m\u001b[0;34m:\u001b[0m\u001b[0;34m\u001b[0m\u001b[0;34m\u001b[0m\u001b[0m\n\u001b[0;32m---> 94\u001b[0;31m         \u001b[0;32mreturn\u001b[0m \u001b[0mF\u001b[0m\u001b[0;34m.\u001b[0m\u001b[0mlinear\u001b[0m\u001b[0;34m(\u001b[0m\u001b[0minput\u001b[0m\u001b[0;34m,\u001b[0m \u001b[0mself\u001b[0m\u001b[0;34m.\u001b[0m\u001b[0mweight\u001b[0m\u001b[0;34m,\u001b[0m \u001b[0mself\u001b[0m\u001b[0;34m.\u001b[0m\u001b[0mbias\u001b[0m\u001b[0;34m)\u001b[0m\u001b[0;34m\u001b[0m\u001b[0;34m\u001b[0m\u001b[0m\n\u001b[0m\u001b[1;32m     95\u001b[0m \u001b[0;34m\u001b[0m\u001b[0m\n\u001b[1;32m     96\u001b[0m     \u001b[0;32mdef\u001b[0m \u001b[0mextra_repr\u001b[0m\u001b[0;34m(\u001b[0m\u001b[0mself\u001b[0m\u001b[0;34m)\u001b[0m \u001b[0;34m->\u001b[0m \u001b[0mstr\u001b[0m\u001b[0;34m:\u001b[0m\u001b[0;34m\u001b[0m\u001b[0;34m\u001b[0m\u001b[0m\n",
            "\u001b[0;32m/usr/local/lib/python3.7/dist-packages/torch/nn/functional.py\u001b[0m in \u001b[0;36mlinear\u001b[0;34m(input, weight, bias)\u001b[0m\n\u001b[1;32m   1751\u001b[0m     \u001b[0;32mif\u001b[0m \u001b[0mhas_torch_function_variadic\u001b[0m\u001b[0;34m(\u001b[0m\u001b[0minput\u001b[0m\u001b[0;34m,\u001b[0m \u001b[0mweight\u001b[0m\u001b[0;34m)\u001b[0m\u001b[0;34m:\u001b[0m\u001b[0;34m\u001b[0m\u001b[0;34m\u001b[0m\u001b[0m\n\u001b[1;32m   1752\u001b[0m         \u001b[0;32mreturn\u001b[0m \u001b[0mhandle_torch_function\u001b[0m\u001b[0;34m(\u001b[0m\u001b[0mlinear\u001b[0m\u001b[0;34m,\u001b[0m \u001b[0;34m(\u001b[0m\u001b[0minput\u001b[0m\u001b[0;34m,\u001b[0m \u001b[0mweight\u001b[0m\u001b[0;34m)\u001b[0m\u001b[0;34m,\u001b[0m \u001b[0minput\u001b[0m\u001b[0;34m,\u001b[0m \u001b[0mweight\u001b[0m\u001b[0;34m,\u001b[0m \u001b[0mbias\u001b[0m\u001b[0;34m=\u001b[0m\u001b[0mbias\u001b[0m\u001b[0;34m)\u001b[0m\u001b[0;34m\u001b[0m\u001b[0;34m\u001b[0m\u001b[0m\n\u001b[0;32m-> 1753\u001b[0;31m     \u001b[0;32mreturn\u001b[0m \u001b[0mtorch\u001b[0m\u001b[0;34m.\u001b[0m\u001b[0m_C\u001b[0m\u001b[0;34m.\u001b[0m\u001b[0m_nn\u001b[0m\u001b[0;34m.\u001b[0m\u001b[0mlinear\u001b[0m\u001b[0;34m(\u001b[0m\u001b[0minput\u001b[0m\u001b[0;34m,\u001b[0m \u001b[0mweight\u001b[0m\u001b[0;34m,\u001b[0m \u001b[0mbias\u001b[0m\u001b[0;34m)\u001b[0m\u001b[0;34m\u001b[0m\u001b[0;34m\u001b[0m\u001b[0m\n\u001b[0m\u001b[1;32m   1754\u001b[0m \u001b[0;34m\u001b[0m\u001b[0m\n\u001b[1;32m   1755\u001b[0m \u001b[0;34m\u001b[0m\u001b[0m\n",
            "\u001b[0;31mKeyboardInterrupt\u001b[0m: "
          ]
        }
      ]
    },
    {
      "cell_type": "code",
      "metadata": {
        "id": "5M0q9aQA-7a-"
      },
      "source": [
        "device = torch.device('cuda:0' if torch.cuda.is_available() else 'cpu')\n",
        "model.to(device)\n",
        "loss = nn.BCELoss()\n",
        "\n",
        "def evaluation(model, test_data_loader):\n",
        "    model.eval()\n",
        "    val_epoch_loss = []\n",
        "    val_epoch_acc = []\n",
        "    predictions = []\n",
        "    targets = []\n",
        "    with torch.no_grad():\n",
        "        for idx, batch in enumerate(tqdm(test_data_loader)):\n",
        "\n",
        "            batch_size = len(batch['tweet_ids'])\n",
        "\n",
        "            tweet_ids = batch['tweet_ids'].to(device)\n",
        "            mask = batch['mask'].to(device)\n",
        "            labels = batch['label_ids'].to(dtype=float).to(device)\n",
        "\n",
        "            prediction = model(tweet_ids, mask).squeeze().to(dtype=float)\n",
        "            loss_val = loss(prediction, labels)\n",
        "\n",
        "            predictions += prediction\n",
        "            targets += labels\n",
        "\n",
        "            output = (prediction>0.2).float()\n",
        "            num_corrects = (labels == output).float().sum()\n",
        "\n",
        "            acc = 100.0 * num_corrects / batch_size\n",
        "            val_epoch_loss.append(loss_val.item())\n",
        "            val_epoch_acc.append(acc.item())\n",
        "    return {'predictions': predictions, 'targets': targets, 'val_epoch_loss': val_epoch_loss, 'val_epoch_acc': val_epoch_acc}\n",
        "        # print(f'Vadlidation Epoch: {epoch}, Vadlidation Loss: {np.mean(val_epoch_loss):.4f}, Vadlidation Accuracy: {np.mean(val_epoch_acc): .2f}%')\n"
      ],
      "execution_count": 21,
      "outputs": []
    },
    {
      "cell_type": "code",
      "metadata": {
        "colab": {
          "base_uri": "https://localhost:8080/",
          "height": 343,
          "referenced_widgets": [
            "0d6dd006441a4d4bb7c29f1d5a6c2094",
            "0a9876eeca244c1fb5c019020cec527d",
            "a2147aca5d9d44c69a7204121e4ba8d6",
            "c6d3eee8547147659e4c63dcb072e122",
            "da9276168963443e8216dad1e8fb63aa",
            "889547cdd44748c58285392f89688d30",
            "974e9f1bb0b34088b1567852fffb0c66",
            "da523233e85d433188a9bdb492c15a98"
          ]
        },
        "id": "9jrYTvt0BXo4",
        "outputId": "f2aa11b5-07d2-4091-d55d-794db5ef52bb"
      },
      "source": [
        "result = evaluation(model, test_data_loader)"
      ],
      "execution_count": 23,
      "outputs": [
        {
          "output_type": "display_data",
          "data": {
            "application/vnd.jupyter.widget-view+json": {
              "model_id": "0d6dd006441a4d4bb7c29f1d5a6c2094",
              "version_minor": 0,
              "version_major": 2
            },
            "text/plain": [
              "HBox(children=(FloatProgress(value=0.0, max=240.0), HTML(value='')))"
            ]
          },
          "metadata": {
            "tags": []
          }
        },
        {
          "output_type": "error",
          "ename": "KeyboardInterrupt",
          "evalue": "ignored",
          "traceback": [
            "\u001b[0;31m---------------------------------------------------------------------------\u001b[0m",
            "\u001b[0;31mKeyboardInterrupt\u001b[0m                         Traceback (most recent call last)",
            "\u001b[0;32m<ipython-input-23-dab3512c26c2>\u001b[0m in \u001b[0;36m<module>\u001b[0;34m()\u001b[0m\n\u001b[0;32m----> 1\u001b[0;31m \u001b[0mresult\u001b[0m \u001b[0;34m=\u001b[0m \u001b[0mevaluation\u001b[0m\u001b[0;34m(\u001b[0m\u001b[0mmodel\u001b[0m\u001b[0;34m,\u001b[0m \u001b[0mtest_data_loader\u001b[0m\u001b[0;34m)\u001b[0m\u001b[0;34m\u001b[0m\u001b[0;34m\u001b[0m\u001b[0m\n\u001b[0m",
            "\u001b[0;32m<ipython-input-21-f36c52e31e6f>\u001b[0m in \u001b[0;36mevaluation\u001b[0;34m(model, test_data_loader)\u001b[0m\n\u001b[1;32m     18\u001b[0m             \u001b[0mlabels\u001b[0m \u001b[0;34m=\u001b[0m \u001b[0mbatch\u001b[0m\u001b[0;34m[\u001b[0m\u001b[0;34m'label_ids'\u001b[0m\u001b[0;34m]\u001b[0m\u001b[0;34m.\u001b[0m\u001b[0mto\u001b[0m\u001b[0;34m(\u001b[0m\u001b[0mdtype\u001b[0m\u001b[0;34m=\u001b[0m\u001b[0mfloat\u001b[0m\u001b[0;34m)\u001b[0m\u001b[0;34m.\u001b[0m\u001b[0mto\u001b[0m\u001b[0;34m(\u001b[0m\u001b[0mdevice\u001b[0m\u001b[0;34m)\u001b[0m\u001b[0;34m\u001b[0m\u001b[0;34m\u001b[0m\u001b[0m\n\u001b[1;32m     19\u001b[0m \u001b[0;34m\u001b[0m\u001b[0m\n\u001b[0;32m---> 20\u001b[0;31m             \u001b[0mprediction\u001b[0m \u001b[0;34m=\u001b[0m \u001b[0mmodel\u001b[0m\u001b[0;34m(\u001b[0m\u001b[0mtweet_ids\u001b[0m\u001b[0;34m,\u001b[0m \u001b[0mmask\u001b[0m\u001b[0;34m)\u001b[0m\u001b[0;34m.\u001b[0m\u001b[0msqueeze\u001b[0m\u001b[0;34m(\u001b[0m\u001b[0;34m)\u001b[0m\u001b[0;34m.\u001b[0m\u001b[0mto\u001b[0m\u001b[0;34m(\u001b[0m\u001b[0mdtype\u001b[0m\u001b[0;34m=\u001b[0m\u001b[0mfloat\u001b[0m\u001b[0;34m)\u001b[0m\u001b[0;34m\u001b[0m\u001b[0;34m\u001b[0m\u001b[0m\n\u001b[0m\u001b[1;32m     21\u001b[0m             \u001b[0mloss_val\u001b[0m \u001b[0;34m=\u001b[0m \u001b[0mloss\u001b[0m\u001b[0;34m(\u001b[0m\u001b[0mprediction\u001b[0m\u001b[0;34m,\u001b[0m \u001b[0mlabels\u001b[0m\u001b[0;34m)\u001b[0m\u001b[0;34m\u001b[0m\u001b[0;34m\u001b[0m\u001b[0m\n\u001b[1;32m     22\u001b[0m \u001b[0;34m\u001b[0m\u001b[0m\n",
            "\u001b[0;32m/usr/local/lib/python3.7/dist-packages/torch/nn/modules/module.py\u001b[0m in \u001b[0;36m_call_impl\u001b[0;34m(self, *input, **kwargs)\u001b[0m\n\u001b[1;32m    887\u001b[0m             \u001b[0mresult\u001b[0m \u001b[0;34m=\u001b[0m \u001b[0mself\u001b[0m\u001b[0;34m.\u001b[0m\u001b[0m_slow_forward\u001b[0m\u001b[0;34m(\u001b[0m\u001b[0;34m*\u001b[0m\u001b[0minput\u001b[0m\u001b[0;34m,\u001b[0m \u001b[0;34m**\u001b[0m\u001b[0mkwargs\u001b[0m\u001b[0;34m)\u001b[0m\u001b[0;34m\u001b[0m\u001b[0;34m\u001b[0m\u001b[0m\n\u001b[1;32m    888\u001b[0m         \u001b[0;32melse\u001b[0m\u001b[0;34m:\u001b[0m\u001b[0;34m\u001b[0m\u001b[0;34m\u001b[0m\u001b[0m\n\u001b[0;32m--> 889\u001b[0;31m             \u001b[0mresult\u001b[0m \u001b[0;34m=\u001b[0m \u001b[0mself\u001b[0m\u001b[0;34m.\u001b[0m\u001b[0mforward\u001b[0m\u001b[0;34m(\u001b[0m\u001b[0;34m*\u001b[0m\u001b[0minput\u001b[0m\u001b[0;34m,\u001b[0m \u001b[0;34m**\u001b[0m\u001b[0mkwargs\u001b[0m\u001b[0;34m)\u001b[0m\u001b[0;34m\u001b[0m\u001b[0;34m\u001b[0m\u001b[0m\n\u001b[0m\u001b[1;32m    890\u001b[0m         for hook in itertools.chain(\n\u001b[1;32m    891\u001b[0m                 \u001b[0m_global_forward_hooks\u001b[0m\u001b[0;34m.\u001b[0m\u001b[0mvalues\u001b[0m\u001b[0;34m(\u001b[0m\u001b[0;34m)\u001b[0m\u001b[0;34m,\u001b[0m\u001b[0;34m\u001b[0m\u001b[0;34m\u001b[0m\u001b[0m\n",
            "\u001b[0;32m<ipython-input-6-c21085ef755c>\u001b[0m in \u001b[0;36mforward\u001b[0;34m(self, ids, mask)\u001b[0m\n\u001b[1;32m     15\u001b[0m     \u001b[0;32mdef\u001b[0m \u001b[0mforward\u001b[0m\u001b[0;34m(\u001b[0m\u001b[0mself\u001b[0m\u001b[0;34m,\u001b[0m \u001b[0mids\u001b[0m\u001b[0;34m,\u001b[0m \u001b[0mmask\u001b[0m\u001b[0;34m)\u001b[0m\u001b[0;34m:\u001b[0m\u001b[0;34m\u001b[0m\u001b[0;34m\u001b[0m\u001b[0m\n\u001b[1;32m     16\u001b[0m         \u001b[0;31m# return the hidden states from the BERT backbone\u001b[0m\u001b[0;34m\u001b[0m\u001b[0;34m\u001b[0m\u001b[0;34m\u001b[0m\u001b[0m\n\u001b[0;32m---> 17\u001b[0;31m         \u001b[0mout\u001b[0m \u001b[0;34m=\u001b[0m \u001b[0mself\u001b[0m\u001b[0;34m.\u001b[0m\u001b[0mmodel\u001b[0m\u001b[0;34m(\u001b[0m\u001b[0mids\u001b[0m\u001b[0;34m,\u001b[0m \u001b[0mattention_mask\u001b[0m\u001b[0;34m=\u001b[0m\u001b[0mmask\u001b[0m\u001b[0;34m)\u001b[0m\u001b[0;34m\u001b[0m\u001b[0;34m\u001b[0m\u001b[0m\n\u001b[0m\u001b[1;32m     18\u001b[0m         \u001b[0mlogits\u001b[0m \u001b[0;34m=\u001b[0m \u001b[0mself\u001b[0m\u001b[0;34m.\u001b[0m\u001b[0ml0\u001b[0m\u001b[0;34m(\u001b[0m\u001b[0mout\u001b[0m\u001b[0;34m[\u001b[0m\u001b[0;34m-\u001b[0m\u001b[0;36m1\u001b[0m\u001b[0;34m]\u001b[0m\u001b[0;34m)\u001b[0m\u001b[0;34m\u001b[0m\u001b[0;34m\u001b[0m\u001b[0m\n\u001b[1;32m     19\u001b[0m         \u001b[0mact\u001b[0m \u001b[0;34m=\u001b[0m \u001b[0mself\u001b[0m\u001b[0;34m.\u001b[0m\u001b[0mact\u001b[0m\u001b[0;34m(\u001b[0m\u001b[0mlogits\u001b[0m\u001b[0;34m)\u001b[0m\u001b[0;34m\u001b[0m\u001b[0;34m\u001b[0m\u001b[0m\n",
            "\u001b[0;32m/usr/local/lib/python3.7/dist-packages/torch/nn/modules/module.py\u001b[0m in \u001b[0;36m_call_impl\u001b[0;34m(self, *input, **kwargs)\u001b[0m\n\u001b[1;32m    887\u001b[0m             \u001b[0mresult\u001b[0m \u001b[0;34m=\u001b[0m \u001b[0mself\u001b[0m\u001b[0;34m.\u001b[0m\u001b[0m_slow_forward\u001b[0m\u001b[0;34m(\u001b[0m\u001b[0;34m*\u001b[0m\u001b[0minput\u001b[0m\u001b[0;34m,\u001b[0m \u001b[0;34m**\u001b[0m\u001b[0mkwargs\u001b[0m\u001b[0;34m)\u001b[0m\u001b[0;34m\u001b[0m\u001b[0;34m\u001b[0m\u001b[0m\n\u001b[1;32m    888\u001b[0m         \u001b[0;32melse\u001b[0m\u001b[0;34m:\u001b[0m\u001b[0;34m\u001b[0m\u001b[0;34m\u001b[0m\u001b[0m\n\u001b[0;32m--> 889\u001b[0;31m             \u001b[0mresult\u001b[0m \u001b[0;34m=\u001b[0m \u001b[0mself\u001b[0m\u001b[0;34m.\u001b[0m\u001b[0mforward\u001b[0m\u001b[0;34m(\u001b[0m\u001b[0;34m*\u001b[0m\u001b[0minput\u001b[0m\u001b[0;34m,\u001b[0m \u001b[0;34m**\u001b[0m\u001b[0mkwargs\u001b[0m\u001b[0;34m)\u001b[0m\u001b[0;34m\u001b[0m\u001b[0;34m\u001b[0m\u001b[0m\n\u001b[0m\u001b[1;32m    890\u001b[0m         for hook in itertools.chain(\n\u001b[1;32m    891\u001b[0m                 \u001b[0m_global_forward_hooks\u001b[0m\u001b[0;34m.\u001b[0m\u001b[0mvalues\u001b[0m\u001b[0;34m(\u001b[0m\u001b[0;34m)\u001b[0m\u001b[0;34m,\u001b[0m\u001b[0;34m\u001b[0m\u001b[0;34m\u001b[0m\u001b[0m\n",
            "\u001b[0;32m/usr/local/lib/python3.7/dist-packages/transformers/models/roberta/modeling_roberta.py\u001b[0m in \u001b[0;36mforward\u001b[0;34m(self, input_ids, attention_mask, token_type_ids, position_ids, head_mask, inputs_embeds, encoder_hidden_states, encoder_attention_mask, past_key_values, use_cache, output_attentions, output_hidden_states, return_dict)\u001b[0m\n\u001b[1;32m    823\u001b[0m             \u001b[0moutput_attentions\u001b[0m\u001b[0;34m=\u001b[0m\u001b[0moutput_attentions\u001b[0m\u001b[0;34m,\u001b[0m\u001b[0;34m\u001b[0m\u001b[0;34m\u001b[0m\u001b[0m\n\u001b[1;32m    824\u001b[0m             \u001b[0moutput_hidden_states\u001b[0m\u001b[0;34m=\u001b[0m\u001b[0moutput_hidden_states\u001b[0m\u001b[0;34m,\u001b[0m\u001b[0;34m\u001b[0m\u001b[0;34m\u001b[0m\u001b[0m\n\u001b[0;32m--> 825\u001b[0;31m             \u001b[0mreturn_dict\u001b[0m\u001b[0;34m=\u001b[0m\u001b[0mreturn_dict\u001b[0m\u001b[0;34m,\u001b[0m\u001b[0;34m\u001b[0m\u001b[0;34m\u001b[0m\u001b[0m\n\u001b[0m\u001b[1;32m    826\u001b[0m         )\n\u001b[1;32m    827\u001b[0m         \u001b[0msequence_output\u001b[0m \u001b[0;34m=\u001b[0m \u001b[0mencoder_outputs\u001b[0m\u001b[0;34m[\u001b[0m\u001b[0;36m0\u001b[0m\u001b[0;34m]\u001b[0m\u001b[0;34m\u001b[0m\u001b[0;34m\u001b[0m\u001b[0m\n",
            "\u001b[0;32m/usr/local/lib/python3.7/dist-packages/torch/nn/modules/module.py\u001b[0m in \u001b[0;36m_call_impl\u001b[0;34m(self, *input, **kwargs)\u001b[0m\n\u001b[1;32m    887\u001b[0m             \u001b[0mresult\u001b[0m \u001b[0;34m=\u001b[0m \u001b[0mself\u001b[0m\u001b[0;34m.\u001b[0m\u001b[0m_slow_forward\u001b[0m\u001b[0;34m(\u001b[0m\u001b[0;34m*\u001b[0m\u001b[0minput\u001b[0m\u001b[0;34m,\u001b[0m \u001b[0;34m**\u001b[0m\u001b[0mkwargs\u001b[0m\u001b[0;34m)\u001b[0m\u001b[0;34m\u001b[0m\u001b[0;34m\u001b[0m\u001b[0m\n\u001b[1;32m    888\u001b[0m         \u001b[0;32melse\u001b[0m\u001b[0;34m:\u001b[0m\u001b[0;34m\u001b[0m\u001b[0;34m\u001b[0m\u001b[0m\n\u001b[0;32m--> 889\u001b[0;31m             \u001b[0mresult\u001b[0m \u001b[0;34m=\u001b[0m \u001b[0mself\u001b[0m\u001b[0;34m.\u001b[0m\u001b[0mforward\u001b[0m\u001b[0;34m(\u001b[0m\u001b[0;34m*\u001b[0m\u001b[0minput\u001b[0m\u001b[0;34m,\u001b[0m \u001b[0;34m**\u001b[0m\u001b[0mkwargs\u001b[0m\u001b[0;34m)\u001b[0m\u001b[0;34m\u001b[0m\u001b[0;34m\u001b[0m\u001b[0m\n\u001b[0m\u001b[1;32m    890\u001b[0m         for hook in itertools.chain(\n\u001b[1;32m    891\u001b[0m                 \u001b[0m_global_forward_hooks\u001b[0m\u001b[0;34m.\u001b[0m\u001b[0mvalues\u001b[0m\u001b[0;34m(\u001b[0m\u001b[0;34m)\u001b[0m\u001b[0;34m,\u001b[0m\u001b[0;34m\u001b[0m\u001b[0;34m\u001b[0m\u001b[0m\n",
            "\u001b[0;32m/usr/local/lib/python3.7/dist-packages/transformers/models/roberta/modeling_roberta.py\u001b[0m in \u001b[0;36mforward\u001b[0;34m(self, hidden_states, attention_mask, head_mask, encoder_hidden_states, encoder_attention_mask, past_key_values, use_cache, output_attentions, output_hidden_states, return_dict)\u001b[0m\n\u001b[1;32m    513\u001b[0m                     \u001b[0mencoder_attention_mask\u001b[0m\u001b[0;34m,\u001b[0m\u001b[0;34m\u001b[0m\u001b[0;34m\u001b[0m\u001b[0m\n\u001b[1;32m    514\u001b[0m                     \u001b[0mpast_key_value\u001b[0m\u001b[0;34m,\u001b[0m\u001b[0;34m\u001b[0m\u001b[0;34m\u001b[0m\u001b[0m\n\u001b[0;32m--> 515\u001b[0;31m                     \u001b[0moutput_attentions\u001b[0m\u001b[0;34m,\u001b[0m\u001b[0;34m\u001b[0m\u001b[0;34m\u001b[0m\u001b[0m\n\u001b[0m\u001b[1;32m    516\u001b[0m                 )\n\u001b[1;32m    517\u001b[0m \u001b[0;34m\u001b[0m\u001b[0m\n",
            "\u001b[0;32m/usr/local/lib/python3.7/dist-packages/torch/nn/modules/module.py\u001b[0m in \u001b[0;36m_call_impl\u001b[0;34m(self, *input, **kwargs)\u001b[0m\n\u001b[1;32m    887\u001b[0m             \u001b[0mresult\u001b[0m \u001b[0;34m=\u001b[0m \u001b[0mself\u001b[0m\u001b[0;34m.\u001b[0m\u001b[0m_slow_forward\u001b[0m\u001b[0;34m(\u001b[0m\u001b[0;34m*\u001b[0m\u001b[0minput\u001b[0m\u001b[0;34m,\u001b[0m \u001b[0;34m**\u001b[0m\u001b[0mkwargs\u001b[0m\u001b[0;34m)\u001b[0m\u001b[0;34m\u001b[0m\u001b[0;34m\u001b[0m\u001b[0m\n\u001b[1;32m    888\u001b[0m         \u001b[0;32melse\u001b[0m\u001b[0;34m:\u001b[0m\u001b[0;34m\u001b[0m\u001b[0;34m\u001b[0m\u001b[0m\n\u001b[0;32m--> 889\u001b[0;31m             \u001b[0mresult\u001b[0m \u001b[0;34m=\u001b[0m \u001b[0mself\u001b[0m\u001b[0;34m.\u001b[0m\u001b[0mforward\u001b[0m\u001b[0;34m(\u001b[0m\u001b[0;34m*\u001b[0m\u001b[0minput\u001b[0m\u001b[0;34m,\u001b[0m \u001b[0;34m**\u001b[0m\u001b[0mkwargs\u001b[0m\u001b[0;34m)\u001b[0m\u001b[0;34m\u001b[0m\u001b[0;34m\u001b[0m\u001b[0m\n\u001b[0m\u001b[1;32m    890\u001b[0m         for hook in itertools.chain(\n\u001b[1;32m    891\u001b[0m                 \u001b[0m_global_forward_hooks\u001b[0m\u001b[0;34m.\u001b[0m\u001b[0mvalues\u001b[0m\u001b[0;34m(\u001b[0m\u001b[0;34m)\u001b[0m\u001b[0;34m,\u001b[0m\u001b[0;34m\u001b[0m\u001b[0;34m\u001b[0m\u001b[0m\n",
            "\u001b[0;32m/usr/local/lib/python3.7/dist-packages/transformers/models/roberta/modeling_roberta.py\u001b[0m in \u001b[0;36mforward\u001b[0;34m(self, hidden_states, attention_mask, head_mask, encoder_hidden_states, encoder_attention_mask, past_key_value, output_attentions)\u001b[0m\n\u001b[1;32m    434\u001b[0m \u001b[0;34m\u001b[0m\u001b[0m\n\u001b[1;32m    435\u001b[0m         layer_output = apply_chunking_to_forward(\n\u001b[0;32m--> 436\u001b[0;31m             \u001b[0mself\u001b[0m\u001b[0;34m.\u001b[0m\u001b[0mfeed_forward_chunk\u001b[0m\u001b[0;34m,\u001b[0m \u001b[0mself\u001b[0m\u001b[0;34m.\u001b[0m\u001b[0mchunk_size_feed_forward\u001b[0m\u001b[0;34m,\u001b[0m \u001b[0mself\u001b[0m\u001b[0;34m.\u001b[0m\u001b[0mseq_len_dim\u001b[0m\u001b[0;34m,\u001b[0m \u001b[0mattention_output\u001b[0m\u001b[0;34m\u001b[0m\u001b[0;34m\u001b[0m\u001b[0m\n\u001b[0m\u001b[1;32m    437\u001b[0m         )\n\u001b[1;32m    438\u001b[0m         \u001b[0moutputs\u001b[0m \u001b[0;34m=\u001b[0m \u001b[0;34m(\u001b[0m\u001b[0mlayer_output\u001b[0m\u001b[0;34m,\u001b[0m\u001b[0;34m)\u001b[0m \u001b[0;34m+\u001b[0m \u001b[0moutputs\u001b[0m\u001b[0;34m\u001b[0m\u001b[0;34m\u001b[0m\u001b[0m\n",
            "\u001b[0;32m/usr/local/lib/python3.7/dist-packages/transformers/modeling_utils.py\u001b[0m in \u001b[0;36mapply_chunking_to_forward\u001b[0;34m(forward_fn, chunk_size, chunk_dim, *input_tensors)\u001b[0m\n\u001b[1;32m   1815\u001b[0m         \u001b[0;32mreturn\u001b[0m \u001b[0mtorch\u001b[0m\u001b[0;34m.\u001b[0m\u001b[0mcat\u001b[0m\u001b[0;34m(\u001b[0m\u001b[0moutput_chunks\u001b[0m\u001b[0;34m,\u001b[0m \u001b[0mdim\u001b[0m\u001b[0;34m=\u001b[0m\u001b[0mchunk_dim\u001b[0m\u001b[0;34m)\u001b[0m\u001b[0;34m\u001b[0m\u001b[0;34m\u001b[0m\u001b[0m\n\u001b[1;32m   1816\u001b[0m \u001b[0;34m\u001b[0m\u001b[0m\n\u001b[0;32m-> 1817\u001b[0;31m     \u001b[0;32mreturn\u001b[0m \u001b[0mforward_fn\u001b[0m\u001b[0;34m(\u001b[0m\u001b[0;34m*\u001b[0m\u001b[0minput_tensors\u001b[0m\u001b[0;34m)\u001b[0m\u001b[0;34m\u001b[0m\u001b[0;34m\u001b[0m\u001b[0m\n\u001b[0m",
            "\u001b[0;32m/usr/local/lib/python3.7/dist-packages/transformers/models/roberta/modeling_roberta.py\u001b[0m in \u001b[0;36mfeed_forward_chunk\u001b[0;34m(self, attention_output)\u001b[0m\n\u001b[1;32m    445\u001b[0m \u001b[0;34m\u001b[0m\u001b[0m\n\u001b[1;32m    446\u001b[0m     \u001b[0;32mdef\u001b[0m \u001b[0mfeed_forward_chunk\u001b[0m\u001b[0;34m(\u001b[0m\u001b[0mself\u001b[0m\u001b[0;34m,\u001b[0m \u001b[0mattention_output\u001b[0m\u001b[0;34m)\u001b[0m\u001b[0;34m:\u001b[0m\u001b[0;34m\u001b[0m\u001b[0;34m\u001b[0m\u001b[0m\n\u001b[0;32m--> 447\u001b[0;31m         \u001b[0mintermediate_output\u001b[0m \u001b[0;34m=\u001b[0m \u001b[0mself\u001b[0m\u001b[0;34m.\u001b[0m\u001b[0mintermediate\u001b[0m\u001b[0;34m(\u001b[0m\u001b[0mattention_output\u001b[0m\u001b[0;34m)\u001b[0m\u001b[0;34m\u001b[0m\u001b[0;34m\u001b[0m\u001b[0m\n\u001b[0m\u001b[1;32m    448\u001b[0m         \u001b[0mlayer_output\u001b[0m \u001b[0;34m=\u001b[0m \u001b[0mself\u001b[0m\u001b[0;34m.\u001b[0m\u001b[0moutput\u001b[0m\u001b[0;34m(\u001b[0m\u001b[0mintermediate_output\u001b[0m\u001b[0;34m,\u001b[0m \u001b[0mattention_output\u001b[0m\u001b[0;34m)\u001b[0m\u001b[0;34m\u001b[0m\u001b[0;34m\u001b[0m\u001b[0m\n\u001b[1;32m    449\u001b[0m         \u001b[0;32mreturn\u001b[0m \u001b[0mlayer_output\u001b[0m\u001b[0;34m\u001b[0m\u001b[0;34m\u001b[0m\u001b[0m\n",
            "\u001b[0;32m/usr/local/lib/python3.7/dist-packages/torch/nn/modules/module.py\u001b[0m in \u001b[0;36m_call_impl\u001b[0;34m(self, *input, **kwargs)\u001b[0m\n\u001b[1;32m    887\u001b[0m             \u001b[0mresult\u001b[0m \u001b[0;34m=\u001b[0m \u001b[0mself\u001b[0m\u001b[0;34m.\u001b[0m\u001b[0m_slow_forward\u001b[0m\u001b[0;34m(\u001b[0m\u001b[0;34m*\u001b[0m\u001b[0minput\u001b[0m\u001b[0;34m,\u001b[0m \u001b[0;34m**\u001b[0m\u001b[0mkwargs\u001b[0m\u001b[0;34m)\u001b[0m\u001b[0;34m\u001b[0m\u001b[0;34m\u001b[0m\u001b[0m\n\u001b[1;32m    888\u001b[0m         \u001b[0;32melse\u001b[0m\u001b[0;34m:\u001b[0m\u001b[0;34m\u001b[0m\u001b[0;34m\u001b[0m\u001b[0m\n\u001b[0;32m--> 889\u001b[0;31m             \u001b[0mresult\u001b[0m \u001b[0;34m=\u001b[0m \u001b[0mself\u001b[0m\u001b[0;34m.\u001b[0m\u001b[0mforward\u001b[0m\u001b[0;34m(\u001b[0m\u001b[0;34m*\u001b[0m\u001b[0minput\u001b[0m\u001b[0;34m,\u001b[0m \u001b[0;34m**\u001b[0m\u001b[0mkwargs\u001b[0m\u001b[0;34m)\u001b[0m\u001b[0;34m\u001b[0m\u001b[0;34m\u001b[0m\u001b[0m\n\u001b[0m\u001b[1;32m    890\u001b[0m         for hook in itertools.chain(\n\u001b[1;32m    891\u001b[0m                 \u001b[0m_global_forward_hooks\u001b[0m\u001b[0;34m.\u001b[0m\u001b[0mvalues\u001b[0m\u001b[0;34m(\u001b[0m\u001b[0;34m)\u001b[0m\u001b[0;34m,\u001b[0m\u001b[0;34m\u001b[0m\u001b[0;34m\u001b[0m\u001b[0m\n",
            "\u001b[0;32m/usr/local/lib/python3.7/dist-packages/transformers/models/roberta/modeling_roberta.py\u001b[0m in \u001b[0;36mforward\u001b[0;34m(self, hidden_states)\u001b[0m\n\u001b[1;32m    346\u001b[0m \u001b[0;34m\u001b[0m\u001b[0m\n\u001b[1;32m    347\u001b[0m     \u001b[0;32mdef\u001b[0m \u001b[0mforward\u001b[0m\u001b[0;34m(\u001b[0m\u001b[0mself\u001b[0m\u001b[0;34m,\u001b[0m \u001b[0mhidden_states\u001b[0m\u001b[0;34m)\u001b[0m\u001b[0;34m:\u001b[0m\u001b[0;34m\u001b[0m\u001b[0;34m\u001b[0m\u001b[0m\n\u001b[0;32m--> 348\u001b[0;31m         \u001b[0mhidden_states\u001b[0m \u001b[0;34m=\u001b[0m \u001b[0mself\u001b[0m\u001b[0;34m.\u001b[0m\u001b[0mdense\u001b[0m\u001b[0;34m(\u001b[0m\u001b[0mhidden_states\u001b[0m\u001b[0;34m)\u001b[0m\u001b[0;34m\u001b[0m\u001b[0;34m\u001b[0m\u001b[0m\n\u001b[0m\u001b[1;32m    349\u001b[0m         \u001b[0mhidden_states\u001b[0m \u001b[0;34m=\u001b[0m \u001b[0mself\u001b[0m\u001b[0;34m.\u001b[0m\u001b[0mintermediate_act_fn\u001b[0m\u001b[0;34m(\u001b[0m\u001b[0mhidden_states\u001b[0m\u001b[0;34m)\u001b[0m\u001b[0;34m\u001b[0m\u001b[0;34m\u001b[0m\u001b[0m\n\u001b[1;32m    350\u001b[0m         \u001b[0;32mreturn\u001b[0m \u001b[0mhidden_states\u001b[0m\u001b[0;34m\u001b[0m\u001b[0;34m\u001b[0m\u001b[0m\n",
            "\u001b[0;32m/usr/local/lib/python3.7/dist-packages/torch/nn/modules/module.py\u001b[0m in \u001b[0;36m_call_impl\u001b[0;34m(self, *input, **kwargs)\u001b[0m\n\u001b[1;32m    887\u001b[0m             \u001b[0mresult\u001b[0m \u001b[0;34m=\u001b[0m \u001b[0mself\u001b[0m\u001b[0;34m.\u001b[0m\u001b[0m_slow_forward\u001b[0m\u001b[0;34m(\u001b[0m\u001b[0;34m*\u001b[0m\u001b[0minput\u001b[0m\u001b[0;34m,\u001b[0m \u001b[0;34m**\u001b[0m\u001b[0mkwargs\u001b[0m\u001b[0;34m)\u001b[0m\u001b[0;34m\u001b[0m\u001b[0;34m\u001b[0m\u001b[0m\n\u001b[1;32m    888\u001b[0m         \u001b[0;32melse\u001b[0m\u001b[0;34m:\u001b[0m\u001b[0;34m\u001b[0m\u001b[0;34m\u001b[0m\u001b[0m\n\u001b[0;32m--> 889\u001b[0;31m             \u001b[0mresult\u001b[0m \u001b[0;34m=\u001b[0m \u001b[0mself\u001b[0m\u001b[0;34m.\u001b[0m\u001b[0mforward\u001b[0m\u001b[0;34m(\u001b[0m\u001b[0;34m*\u001b[0m\u001b[0minput\u001b[0m\u001b[0;34m,\u001b[0m \u001b[0;34m**\u001b[0m\u001b[0mkwargs\u001b[0m\u001b[0;34m)\u001b[0m\u001b[0;34m\u001b[0m\u001b[0;34m\u001b[0m\u001b[0m\n\u001b[0m\u001b[1;32m    890\u001b[0m         for hook in itertools.chain(\n\u001b[1;32m    891\u001b[0m                 \u001b[0m_global_forward_hooks\u001b[0m\u001b[0;34m.\u001b[0m\u001b[0mvalues\u001b[0m\u001b[0;34m(\u001b[0m\u001b[0;34m)\u001b[0m\u001b[0;34m,\u001b[0m\u001b[0;34m\u001b[0m\u001b[0;34m\u001b[0m\u001b[0m\n",
            "\u001b[0;32m/usr/local/lib/python3.7/dist-packages/torch/nn/modules/linear.py\u001b[0m in \u001b[0;36mforward\u001b[0;34m(self, input)\u001b[0m\n\u001b[1;32m     92\u001b[0m \u001b[0;34m\u001b[0m\u001b[0m\n\u001b[1;32m     93\u001b[0m     \u001b[0;32mdef\u001b[0m \u001b[0mforward\u001b[0m\u001b[0;34m(\u001b[0m\u001b[0mself\u001b[0m\u001b[0;34m,\u001b[0m \u001b[0minput\u001b[0m\u001b[0;34m:\u001b[0m \u001b[0mTensor\u001b[0m\u001b[0;34m)\u001b[0m \u001b[0;34m->\u001b[0m \u001b[0mTensor\u001b[0m\u001b[0;34m:\u001b[0m\u001b[0;34m\u001b[0m\u001b[0;34m\u001b[0m\u001b[0m\n\u001b[0;32m---> 94\u001b[0;31m         \u001b[0;32mreturn\u001b[0m \u001b[0mF\u001b[0m\u001b[0;34m.\u001b[0m\u001b[0mlinear\u001b[0m\u001b[0;34m(\u001b[0m\u001b[0minput\u001b[0m\u001b[0;34m,\u001b[0m \u001b[0mself\u001b[0m\u001b[0;34m.\u001b[0m\u001b[0mweight\u001b[0m\u001b[0;34m,\u001b[0m \u001b[0mself\u001b[0m\u001b[0;34m.\u001b[0m\u001b[0mbias\u001b[0m\u001b[0;34m)\u001b[0m\u001b[0;34m\u001b[0m\u001b[0;34m\u001b[0m\u001b[0m\n\u001b[0m\u001b[1;32m     95\u001b[0m \u001b[0;34m\u001b[0m\u001b[0m\n\u001b[1;32m     96\u001b[0m     \u001b[0;32mdef\u001b[0m \u001b[0mextra_repr\u001b[0m\u001b[0;34m(\u001b[0m\u001b[0mself\u001b[0m\u001b[0;34m)\u001b[0m \u001b[0;34m->\u001b[0m \u001b[0mstr\u001b[0m\u001b[0;34m:\u001b[0m\u001b[0;34m\u001b[0m\u001b[0;34m\u001b[0m\u001b[0m\n",
            "\u001b[0;32m/usr/local/lib/python3.7/dist-packages/torch/nn/functional.py\u001b[0m in \u001b[0;36mlinear\u001b[0;34m(input, weight, bias)\u001b[0m\n\u001b[1;32m   1751\u001b[0m     \u001b[0;32mif\u001b[0m \u001b[0mhas_torch_function_variadic\u001b[0m\u001b[0;34m(\u001b[0m\u001b[0minput\u001b[0m\u001b[0;34m,\u001b[0m \u001b[0mweight\u001b[0m\u001b[0;34m)\u001b[0m\u001b[0;34m:\u001b[0m\u001b[0;34m\u001b[0m\u001b[0;34m\u001b[0m\u001b[0m\n\u001b[1;32m   1752\u001b[0m         \u001b[0;32mreturn\u001b[0m \u001b[0mhandle_torch_function\u001b[0m\u001b[0;34m(\u001b[0m\u001b[0mlinear\u001b[0m\u001b[0;34m,\u001b[0m \u001b[0;34m(\u001b[0m\u001b[0minput\u001b[0m\u001b[0;34m,\u001b[0m \u001b[0mweight\u001b[0m\u001b[0;34m)\u001b[0m\u001b[0;34m,\u001b[0m \u001b[0minput\u001b[0m\u001b[0;34m,\u001b[0m \u001b[0mweight\u001b[0m\u001b[0;34m,\u001b[0m \u001b[0mbias\u001b[0m\u001b[0;34m=\u001b[0m\u001b[0mbias\u001b[0m\u001b[0;34m)\u001b[0m\u001b[0;34m\u001b[0m\u001b[0;34m\u001b[0m\u001b[0m\n\u001b[0;32m-> 1753\u001b[0;31m     \u001b[0;32mreturn\u001b[0m \u001b[0mtorch\u001b[0m\u001b[0;34m.\u001b[0m\u001b[0m_C\u001b[0m\u001b[0;34m.\u001b[0m\u001b[0m_nn\u001b[0m\u001b[0;34m.\u001b[0m\u001b[0mlinear\u001b[0m\u001b[0;34m(\u001b[0m\u001b[0minput\u001b[0m\u001b[0;34m,\u001b[0m \u001b[0mweight\u001b[0m\u001b[0;34m,\u001b[0m \u001b[0mbias\u001b[0m\u001b[0;34m)\u001b[0m\u001b[0;34m\u001b[0m\u001b[0;34m\u001b[0m\u001b[0m\n\u001b[0m\u001b[1;32m   1754\u001b[0m \u001b[0;34m\u001b[0m\u001b[0m\n\u001b[1;32m   1755\u001b[0m \u001b[0;34m\u001b[0m\u001b[0m\n",
            "\u001b[0;31mKeyboardInterrupt\u001b[0m: "
          ]
        }
      ]
    },
    {
      "cell_type": "code",
      "metadata": {
        "colab": {
          "base_uri": "https://localhost:8080/"
        },
        "id": "9-SXR38ju9AR",
        "outputId": "e0aab49d-007f-495b-faca-44500bca996c"
      },
      "source": [
        "data = {'tweets': [], 'labels': []}\n",
        "for record in dataset['train']:\n",
        "    data['tweets'].append(record['tweet'])\n",
        "    data['labels'].append(record['label'])\n",
        "\n",
        "dataframe = pd.DataFrame(data=data)\n",
        "\n",
        "maxx = 0\n",
        "tweet = ''\n",
        "for t in dataframe['tweets']:\n",
        "    t = re.sub(r'@[A-Za-z0-9]+', '', t) # remove all @mentions\n",
        "    t = re.sub(r'[^A-Za-z0-9, ]', '', t)\n",
        "    if len(t) > maxx:\n",
        "        maxx = len(t)\n",
        "        tweet = t\n",
        "print(maxx)\n",
        "print(tweet)"
      ],
      "execution_count": null,
      "outputs": [
        {
          "output_type": "stream",
          "text": [
            "139\n",
            "we live in a world where people complain amp post things to justify their laziness instead of getting up amp doing something to change it  \n"
          ],
          "name": "stdout"
        }
      ]
    },
    {
      "cell_type": "code",
      "metadata": {
        "id": "Fu1yOCfmBtak",
        "colab": {
          "base_uri": "https://localhost:8080/"
        },
        "outputId": "11770055-e571-422c-ac7d-819d519bff64"
      },
      "source": [
        "print(result)"
      ],
      "execution_count": 24,
      "outputs": [
        {
          "output_type": "stream",
          "text": [
            "{'predictions': [tensor(0.4407, dtype=torch.float64), tensor(0.4343, dtype=torch.float64), tensor(0.4374, dtype=torch.float64), tensor(0.4416, dtype=torch.float64), tensor(0.4407, dtype=torch.float64), tensor(0.4357, dtype=torch.float64), tensor(0.4440, dtype=torch.float64), tensor(0.4378, dtype=torch.float64), tensor(0.4400, dtype=torch.float64), tensor(0.4376, dtype=torch.float64), tensor(0.4338, dtype=torch.float64), tensor(0.4369, dtype=torch.float64), tensor(0.4316, dtype=torch.float64), tensor(0.4380, dtype=torch.float64), tensor(0.4404, dtype=torch.float64), tensor(0.4350, dtype=torch.float64), tensor(0.4367, dtype=torch.float64), tensor(0.4376, dtype=torch.float64), tensor(0.4359, dtype=torch.float64), tensor(0.4357, dtype=torch.float64), tensor(0.4347, dtype=torch.float64), tensor(0.4390, dtype=torch.float64), tensor(0.4354, dtype=torch.float64), tensor(0.4427, dtype=torch.float64), tensor(0.4379, dtype=torch.float64), tensor(0.4368, dtype=torch.float64), tensor(0.4344, dtype=torch.float64), tensor(0.4393, dtype=torch.float64), tensor(0.4389, dtype=torch.float64), tensor(0.4384, dtype=torch.float64), tensor(0.4387, dtype=torch.float64), tensor(0.4370, dtype=torch.float64), tensor(0.4413, dtype=torch.float64), tensor(0.4413, dtype=torch.float64), tensor(0.4361, dtype=torch.float64), tensor(0.4390, dtype=torch.float64), tensor(0.4370, dtype=torch.float64), tensor(0.4359, dtype=torch.float64), tensor(0.4418, dtype=torch.float64), tensor(0.4388, dtype=torch.float64), tensor(0.4398, dtype=torch.float64), tensor(0.4402, dtype=torch.float64), tensor(0.4376, dtype=torch.float64), tensor(0.4368, dtype=torch.float64), tensor(0.4405, dtype=torch.float64), tensor(0.4360, dtype=torch.float64), tensor(0.4384, dtype=torch.float64), tensor(0.4329, dtype=torch.float64), tensor(0.4369, dtype=torch.float64), tensor(0.4325, dtype=torch.float64), tensor(0.4355, dtype=torch.float64), tensor(0.4377, dtype=torch.float64), tensor(0.4367, dtype=torch.float64), tensor(0.4376, dtype=torch.float64), tensor(0.4359, dtype=torch.float64), tensor(0.4449, dtype=torch.float64), tensor(0.4448, dtype=torch.float64), tensor(0.4365, dtype=torch.float64), tensor(0.4407, dtype=torch.float64), tensor(0.4378, dtype=torch.float64), tensor(0.4384, dtype=torch.float64), tensor(0.4369, dtype=torch.float64), tensor(0.4420, dtype=torch.float64), tensor(0.4376, dtype=torch.float64), tensor(0.4402, dtype=torch.float64), tensor(0.4448, dtype=torch.float64), tensor(0.4369, dtype=torch.float64), tensor(0.4371, dtype=torch.float64), tensor(0.4338, dtype=torch.float64), tensor(0.4403, dtype=torch.float64), tensor(0.4427, dtype=torch.float64), tensor(0.4405, dtype=torch.float64), tensor(0.4370, dtype=torch.float64), tensor(0.4360, dtype=torch.float64), tensor(0.4360, dtype=torch.float64), tensor(0.4364, dtype=torch.float64), tensor(0.4323, dtype=torch.float64), tensor(0.4362, dtype=torch.float64), tensor(0.4360, dtype=torch.float64), tensor(0.4360, dtype=torch.float64), tensor(0.4346, dtype=torch.float64), tensor(0.4417, dtype=torch.float64), tensor(0.4389, dtype=torch.float64), tensor(0.4380, dtype=torch.float64), tensor(0.4371, dtype=torch.float64), tensor(0.4406, dtype=torch.float64), tensor(0.4413, dtype=torch.float64), tensor(0.4368, dtype=torch.float64), tensor(0.4421, dtype=torch.float64), tensor(0.4333, dtype=torch.float64), tensor(0.4360, dtype=torch.float64), tensor(0.4399, dtype=torch.float64), tensor(0.4363, dtype=torch.float64), tensor(0.4370, dtype=torch.float64), tensor(0.4372, dtype=torch.float64), tensor(0.4403, dtype=torch.float64), tensor(0.4378, dtype=torch.float64), tensor(0.4366, dtype=torch.float64), tensor(0.4427, dtype=torch.float64), tensor(0.4411, dtype=torch.float64), tensor(0.4369, dtype=torch.float64), tensor(0.4348, dtype=torch.float64), tensor(0.4375, dtype=torch.float64), tensor(0.4379, dtype=torch.float64), tensor(0.4355, dtype=torch.float64), tensor(0.4409, dtype=torch.float64), tensor(0.4347, dtype=torch.float64), tensor(0.4385, dtype=torch.float64), tensor(0.4391, dtype=torch.float64), tensor(0.4397, dtype=torch.float64), tensor(0.4391, dtype=torch.float64), tensor(0.4356, dtype=torch.float64), tensor(0.4358, dtype=torch.float64), tensor(0.4426, dtype=torch.float64), tensor(0.4378, dtype=torch.float64), tensor(0.4377, dtype=torch.float64), tensor(0.4352, dtype=torch.float64), tensor(0.4407, dtype=torch.float64), tensor(0.4374, dtype=torch.float64), tensor(0.4429, dtype=torch.float64), tensor(0.4400, dtype=torch.float64), tensor(0.4375, dtype=torch.float64), tensor(0.4373, dtype=torch.float64), tensor(0.4389, dtype=torch.float64), tensor(0.4379, dtype=torch.float64), tensor(0.4351, dtype=torch.float64), tensor(0.4423, dtype=torch.float64), tensor(0.4409, dtype=torch.float64), tensor(0.4351, dtype=torch.float64), tensor(0.4385, dtype=torch.float64), tensor(0.4391, dtype=torch.float64), tensor(0.4363, dtype=torch.float64), tensor(0.4387, dtype=torch.float64), tensor(0.4377, dtype=torch.float64), tensor(0.4361, dtype=torch.float64), tensor(0.4373, dtype=torch.float64), tensor(0.4378, dtype=torch.float64), tensor(0.4369, dtype=torch.float64), tensor(0.4412, dtype=torch.float64), tensor(0.4382, dtype=torch.float64), tensor(0.4348, dtype=torch.float64), tensor(0.4375, dtype=torch.float64), tensor(0.4370, dtype=torch.float64), tensor(0.4378, dtype=torch.float64), tensor(0.4365, dtype=torch.float64), tensor(0.4366, dtype=torch.float64), tensor(0.4368, dtype=torch.float64), tensor(0.4387, dtype=torch.float64), tensor(0.4406, dtype=torch.float64), tensor(0.4407, dtype=torch.float64), tensor(0.4373, dtype=torch.float64), tensor(0.4368, dtype=torch.float64), tensor(0.4421, dtype=torch.float64), tensor(0.4366, dtype=torch.float64), tensor(0.4394, dtype=torch.float64), tensor(0.4391, dtype=torch.float64), tensor(0.4409, dtype=torch.float64), tensor(0.4335, dtype=torch.float64), tensor(0.4333, dtype=torch.float64), tensor(0.4359, dtype=torch.float64), tensor(0.4376, dtype=torch.float64), tensor(0.4357, dtype=torch.float64), tensor(0.4382, dtype=torch.float64), tensor(0.4369, dtype=torch.float64), tensor(0.4359, dtype=torch.float64), tensor(0.4367, dtype=torch.float64), tensor(0.4404, dtype=torch.float64), tensor(0.4361, dtype=torch.float64), tensor(0.4359, dtype=torch.float64), tensor(0.4358, dtype=torch.float64), tensor(0.4365, dtype=torch.float64), tensor(0.4390, dtype=torch.float64), tensor(0.4387, dtype=torch.float64), tensor(0.4409, dtype=torch.float64), tensor(0.4405, dtype=torch.float64), tensor(0.4372, dtype=torch.float64), tensor(0.4386, dtype=torch.float64), tensor(0.4416, dtype=torch.float64), tensor(0.4361, dtype=torch.float64), tensor(0.4413, dtype=torch.float64), tensor(0.4366, dtype=torch.float64), tensor(0.4360, dtype=torch.float64), tensor(0.4392, dtype=torch.float64), tensor(0.4400, dtype=torch.float64), tensor(0.4385, dtype=torch.float64), tensor(0.4367, dtype=torch.float64), tensor(0.4377, dtype=torch.float64), tensor(0.4384, dtype=torch.float64), tensor(0.4385, dtype=torch.float64), tensor(0.4367, dtype=torch.float64), tensor(0.4370, dtype=torch.float64), tensor(0.4347, dtype=torch.float64), tensor(0.4359, dtype=torch.float64), tensor(0.4370, dtype=torch.float64), tensor(0.4398, dtype=torch.float64), tensor(0.4389, dtype=torch.float64), tensor(0.4377, dtype=torch.float64), tensor(0.4359, dtype=torch.float64), tensor(0.4399, dtype=torch.float64), tensor(0.4318, dtype=torch.float64), tensor(0.4366, dtype=torch.float64), tensor(0.4379, dtype=torch.float64), tensor(0.4406, dtype=torch.float64), tensor(0.4389, dtype=torch.float64), tensor(0.4367, dtype=torch.float64), tensor(0.4409, dtype=torch.float64), tensor(0.4392, dtype=torch.float64), tensor(0.4383, dtype=torch.float64), tensor(0.4359, dtype=torch.float64), tensor(0.4377, dtype=torch.float64), tensor(0.4340, dtype=torch.float64), tensor(0.4400, dtype=torch.float64), tensor(0.4389, dtype=torch.float64), tensor(0.4420, dtype=torch.float64), tensor(0.4368, dtype=torch.float64), tensor(0.4342, dtype=torch.float64), tensor(0.4381, dtype=torch.float64), tensor(0.4355, dtype=torch.float64), tensor(0.4380, dtype=torch.float64), tensor(0.4332, dtype=torch.float64), tensor(0.4342, dtype=torch.float64), tensor(0.4389, dtype=torch.float64), tensor(0.4389, dtype=torch.float64), tensor(0.4381, dtype=torch.float64), tensor(0.4393, dtype=torch.float64), tensor(0.4394, dtype=torch.float64), tensor(0.4343, dtype=torch.float64), tensor(0.4375, dtype=torch.float64), tensor(0.4376, dtype=torch.float64), tensor(0.4354, dtype=torch.float64), tensor(0.4369, dtype=torch.float64), tensor(0.4361, dtype=torch.float64), tensor(0.4355, dtype=torch.float64), tensor(0.4399, dtype=torch.float64), tensor(0.4382, dtype=torch.float64), tensor(0.4369, dtype=torch.float64), tensor(0.4354, dtype=torch.float64), tensor(0.4413, dtype=torch.float64), tensor(0.4406, dtype=torch.float64), tensor(0.4365, dtype=torch.float64), tensor(0.4380, dtype=torch.float64), tensor(0.4428, dtype=torch.float64), tensor(0.4368, dtype=torch.float64), tensor(0.4421, dtype=torch.float64), tensor(0.4446, dtype=torch.float64), tensor(0.4365, dtype=torch.float64), tensor(0.4371, dtype=torch.float64), tensor(0.4397, dtype=torch.float64), tensor(0.4390, dtype=torch.float64), tensor(0.4381, dtype=torch.float64), tensor(0.4433, dtype=torch.float64), tensor(0.4365, dtype=torch.float64), tensor(0.4389, dtype=torch.float64), tensor(0.4391, dtype=torch.float64), tensor(0.4371, dtype=torch.float64), tensor(0.4376, dtype=torch.float64), tensor(0.4378, dtype=torch.float64), tensor(0.4384, dtype=torch.float64), tensor(0.4395, dtype=torch.float64), tensor(0.4389, dtype=torch.float64), tensor(0.4407, dtype=torch.float64), tensor(0.4381, dtype=torch.float64), tensor(0.4390, dtype=torch.float64), tensor(0.4353, dtype=torch.float64), tensor(0.4418, dtype=torch.float64), tensor(0.4354, dtype=torch.float64), tensor(0.4365, dtype=torch.float64), tensor(0.4415, dtype=torch.float64), tensor(0.4369, dtype=torch.float64), tensor(0.4404, dtype=torch.float64), tensor(0.4398, dtype=torch.float64), tensor(0.4382, dtype=torch.float64), tensor(0.4362, dtype=torch.float64), tensor(0.4371, dtype=torch.float64), tensor(0.4384, dtype=torch.float64), tensor(0.4392, dtype=torch.float64), tensor(0.4385, dtype=torch.float64), tensor(0.4320, dtype=torch.float64), tensor(0.4359, dtype=torch.float64), tensor(0.4361, dtype=torch.float64), tensor(0.4388, dtype=torch.float64), tensor(0.4377, dtype=torch.float64), tensor(0.4368, dtype=torch.float64), tensor(0.4409, dtype=torch.float64), tensor(0.4355, dtype=torch.float64), tensor(0.4319, dtype=torch.float64), tensor(0.4374, dtype=torch.float64), tensor(0.4387, dtype=torch.float64), tensor(0.4348, dtype=torch.float64), tensor(0.4331, dtype=torch.float64), tensor(0.4335, dtype=torch.float64), tensor(0.4364, dtype=torch.float64), tensor(0.4393, dtype=torch.float64), tensor(0.4380, dtype=torch.float64), tensor(0.4350, dtype=torch.float64), tensor(0.4400, dtype=torch.float64), tensor(0.4390, dtype=torch.float64), tensor(0.4380, dtype=torch.float64), tensor(0.4384, dtype=torch.float64), tensor(0.4386, dtype=torch.float64), tensor(0.4395, dtype=torch.float64), tensor(0.4336, dtype=torch.float64), tensor(0.4309, dtype=torch.float64), tensor(0.4386, dtype=torch.float64), tensor(0.4381, dtype=torch.float64), tensor(0.4339, dtype=torch.float64), tensor(0.4364, dtype=torch.float64), tensor(0.4367, dtype=torch.float64), tensor(0.4361, dtype=torch.float64), tensor(0.4371, dtype=torch.float64), tensor(0.4363, dtype=torch.float64), tensor(0.4403, dtype=torch.float64), tensor(0.4384, dtype=torch.float64), tensor(0.4329, dtype=torch.float64), tensor(0.4390, dtype=torch.float64), tensor(0.4384, dtype=torch.float64), tensor(0.4359, dtype=torch.float64), tensor(0.4356, dtype=torch.float64), tensor(0.4378, dtype=torch.float64), tensor(0.4354, dtype=torch.float64), tensor(0.4370, dtype=torch.float64), tensor(0.4337, dtype=torch.float64), tensor(0.4449, dtype=torch.float64), tensor(0.4401, dtype=torch.float64), tensor(0.4344, dtype=torch.float64), tensor(0.4347, dtype=torch.float64), tensor(0.4410, dtype=torch.float64), tensor(0.4360, dtype=torch.float64), tensor(0.4377, dtype=torch.float64), tensor(0.4412, dtype=torch.float64), tensor(0.4411, dtype=torch.float64), tensor(0.4361, dtype=torch.float64), tensor(0.4359, dtype=torch.float64), tensor(0.4405, dtype=torch.float64), tensor(0.4392, dtype=torch.float64), tensor(0.4335, dtype=torch.float64), tensor(0.4362, dtype=torch.float64), tensor(0.4379, dtype=torch.float64), tensor(0.4313, dtype=torch.float64), tensor(0.4439, dtype=torch.float64), tensor(0.4352, dtype=torch.float64), tensor(0.4372, dtype=torch.float64), tensor(0.4343, dtype=torch.float64), tensor(0.4418, dtype=torch.float64), tensor(0.4402, dtype=torch.float64), tensor(0.4358, dtype=torch.float64), tensor(0.4375, dtype=torch.float64), tensor(0.4416, dtype=torch.float64), tensor(0.4344, dtype=torch.float64), tensor(0.4382, dtype=torch.float64), tensor(0.4349, dtype=torch.float64), tensor(0.4395, dtype=torch.float64), tensor(0.4364, dtype=torch.float64), tensor(0.4414, dtype=torch.float64), tensor(0.4403, dtype=torch.float64), tensor(0.4347, dtype=torch.float64), tensor(0.4338, dtype=torch.float64), tensor(0.4369, dtype=torch.float64), tensor(0.4340, dtype=torch.float64), tensor(0.4371, dtype=torch.float64), tensor(0.4409, dtype=torch.float64), tensor(0.4366, dtype=torch.float64), tensor(0.4437, dtype=torch.float64), tensor(0.4368, dtype=torch.float64), tensor(0.4370, dtype=torch.float64), tensor(0.4399, dtype=torch.float64), tensor(0.4410, dtype=torch.float64), tensor(0.4394, dtype=torch.float64), tensor(0.4373, dtype=torch.float64), tensor(0.4376, dtype=torch.float64), tensor(0.4368, dtype=torch.float64), tensor(0.4355, dtype=torch.float64), tensor(0.4369, dtype=torch.float64), tensor(0.4344, dtype=torch.float64), tensor(0.4368, dtype=torch.float64), tensor(0.4453, dtype=torch.float64), tensor(0.4361, dtype=torch.float64), tensor(0.4371, dtype=torch.float64), tensor(0.4365, dtype=torch.float64), tensor(0.4387, dtype=torch.float64), tensor(0.4394, dtype=torch.float64), tensor(0.4380, dtype=torch.float64), tensor(0.4379, dtype=torch.float64), tensor(0.4358, dtype=torch.float64), tensor(0.4395, dtype=torch.float64), tensor(0.4384, dtype=torch.float64), tensor(0.4377, dtype=torch.float64), tensor(0.4386, dtype=torch.float64), tensor(0.4396, dtype=torch.float64), tensor(0.4427, dtype=torch.float64), tensor(0.4375, dtype=torch.float64), tensor(0.4370, dtype=torch.float64), tensor(0.4395, dtype=torch.float64), tensor(0.4357, dtype=torch.float64), tensor(0.4397, dtype=torch.float64), tensor(0.4398, dtype=torch.float64), tensor(0.4329, dtype=torch.float64), tensor(0.4363, dtype=torch.float64), tensor(0.4340, dtype=torch.float64), tensor(0.4407, dtype=torch.float64), tensor(0.4406, dtype=torch.float64), tensor(0.4401, dtype=torch.float64), tensor(0.4397, dtype=torch.float64), tensor(0.4369, dtype=torch.float64), tensor(0.4417, dtype=torch.float64), tensor(0.4377, dtype=torch.float64), tensor(0.4402, dtype=torch.float64), tensor(0.4400, dtype=torch.float64), tensor(0.4397, dtype=torch.float64), tensor(0.4385, dtype=torch.float64), tensor(0.4367, dtype=torch.float64), tensor(0.4397, dtype=torch.float64), tensor(0.4384, dtype=torch.float64), tensor(0.4351, dtype=torch.float64), tensor(0.4371, dtype=torch.float64), tensor(0.4363, dtype=torch.float64), tensor(0.4407, dtype=torch.float64), tensor(0.4399, dtype=torch.float64), tensor(0.4359, dtype=torch.float64), tensor(0.4389, dtype=torch.float64), tensor(0.4367, dtype=torch.float64), tensor(0.4377, dtype=torch.float64), tensor(0.4363, dtype=torch.float64), tensor(0.4417, dtype=torch.float64), tensor(0.4352, dtype=torch.float64), tensor(0.4375, dtype=torch.float64), tensor(0.4413, dtype=torch.float64), tensor(0.4332, dtype=torch.float64), tensor(0.4375, dtype=torch.float64), tensor(0.4374, dtype=torch.float64), tensor(0.4390, dtype=torch.float64), tensor(0.4359, dtype=torch.float64), tensor(0.4373, dtype=torch.float64), tensor(0.4396, dtype=torch.float64), tensor(0.4392, dtype=torch.float64), tensor(0.4352, dtype=torch.float64), tensor(0.4415, dtype=torch.float64), tensor(0.4345, dtype=torch.float64), tensor(0.4338, dtype=torch.float64), tensor(0.4377, dtype=torch.float64), tensor(0.4350, dtype=torch.float64), tensor(0.4428, dtype=torch.float64), tensor(0.4400, dtype=torch.float64), tensor(0.4365, dtype=torch.float64), tensor(0.4364, dtype=torch.float64), tensor(0.4415, dtype=torch.float64), tensor(0.4358, dtype=torch.float64), tensor(0.4401, dtype=torch.float64), tensor(0.4368, dtype=torch.float64), tensor(0.4384, dtype=torch.float64), tensor(0.4425, dtype=torch.float64), tensor(0.4397, dtype=torch.float64), tensor(0.4367, dtype=torch.float64), tensor(0.4359, dtype=torch.float64), tensor(0.4366, dtype=torch.float64), tensor(0.4342, dtype=torch.float64), tensor(0.4391, dtype=torch.float64), tensor(0.4376, dtype=torch.float64), tensor(0.4453, dtype=torch.float64), tensor(0.4413, dtype=torch.float64), tensor(0.4366, dtype=torch.float64), tensor(0.4411, dtype=torch.float64), tensor(0.4430, dtype=torch.float64), tensor(0.4361, dtype=torch.float64), tensor(0.4404, dtype=torch.float64), tensor(0.4355, dtype=torch.float64), tensor(0.4364, dtype=torch.float64), tensor(0.4374, dtype=torch.float64), tensor(0.4371, dtype=torch.float64), tensor(0.4392, dtype=torch.float64), tensor(0.4410, dtype=torch.float64), tensor(0.4355, dtype=torch.float64), tensor(0.4387, dtype=torch.float64), tensor(0.4420, dtype=torch.float64), tensor(0.4451, dtype=torch.float64), tensor(0.4355, dtype=torch.float64), tensor(0.4378, dtype=torch.float64), tensor(0.4369, dtype=torch.float64), tensor(0.4418, dtype=torch.float64), tensor(0.4376, dtype=torch.float64), tensor(0.4373, dtype=torch.float64), tensor(0.4361, dtype=torch.float64), tensor(0.4305, dtype=torch.float64), tensor(0.4374, dtype=torch.float64), tensor(0.4379, dtype=torch.float64), tensor(0.4351, dtype=torch.float64), tensor(0.4394, dtype=torch.float64), tensor(0.4410, dtype=torch.float64), tensor(0.4357, dtype=torch.float64), tensor(0.4376, dtype=torch.float64), tensor(0.4369, dtype=torch.float64), tensor(0.4362, dtype=torch.float64), tensor(0.4367, dtype=torch.float64), tensor(0.4327, dtype=torch.float64), tensor(0.4357, dtype=torch.float64), tensor(0.4418, dtype=torch.float64), tensor(0.4401, dtype=torch.float64), tensor(0.4368, dtype=torch.float64), tensor(0.4366, dtype=torch.float64), tensor(0.4419, dtype=torch.float64), tensor(0.4365, dtype=torch.float64), tensor(0.4385, dtype=torch.float64), tensor(0.4406, dtype=torch.float64), tensor(0.4380, dtype=torch.float64), tensor(0.4394, dtype=torch.float64), tensor(0.4379, dtype=torch.float64), tensor(0.4342, dtype=torch.float64), tensor(0.4392, dtype=torch.float64), tensor(0.4358, dtype=torch.float64), tensor(0.4398, dtype=torch.float64), tensor(0.4357, dtype=torch.float64), tensor(0.4353, dtype=torch.float64), tensor(0.4383, dtype=torch.float64), tensor(0.4377, dtype=torch.float64), tensor(0.4381, dtype=torch.float64), tensor(0.4378, dtype=torch.float64), tensor(0.4349, dtype=torch.float64), tensor(0.4377, dtype=torch.float64), tensor(0.4355, dtype=torch.float64), tensor(0.4399, dtype=torch.float64), tensor(0.4384, dtype=torch.float64), tensor(0.4366, dtype=torch.float64), tensor(0.4338, dtype=torch.float64), tensor(0.4385, dtype=torch.float64), tensor(0.4351, dtype=torch.float64), tensor(0.4383, dtype=torch.float64), tensor(0.4428, dtype=torch.float64), tensor(0.4364, dtype=torch.float64), tensor(0.4375, dtype=torch.float64), tensor(0.4339, dtype=torch.float64), tensor(0.4418, dtype=torch.float64), tensor(0.4374, dtype=torch.float64), tensor(0.4362, dtype=torch.float64), tensor(0.4349, dtype=torch.float64), tensor(0.4362, dtype=torch.float64), tensor(0.4376, dtype=torch.float64), tensor(0.4404, dtype=torch.float64), tensor(0.4363, dtype=torch.float64), tensor(0.4370, dtype=torch.float64), tensor(0.4352, dtype=torch.float64), tensor(0.4414, dtype=torch.float64), tensor(0.4389, dtype=torch.float64), tensor(0.4336, dtype=torch.float64), tensor(0.4319, dtype=torch.float64), tensor(0.4379, dtype=torch.float64), tensor(0.4412, dtype=torch.float64), tensor(0.4370, dtype=torch.float64), tensor(0.4351, dtype=torch.float64), tensor(0.4381, dtype=torch.float64), tensor(0.4351, dtype=torch.float64), tensor(0.4373, dtype=torch.float64), tensor(0.4347, dtype=torch.float64), tensor(0.4359, dtype=torch.float64), tensor(0.4360, dtype=torch.float64), tensor(0.4369, dtype=torch.float64), tensor(0.4398, dtype=torch.float64), tensor(0.4369, dtype=torch.float64), tensor(0.4378, dtype=torch.float64), tensor(0.4408, dtype=torch.float64), tensor(0.4363, dtype=torch.float64), tensor(0.4345, dtype=torch.float64), tensor(0.4336, dtype=torch.float64), tensor(0.4392, dtype=torch.float64), tensor(0.4393, dtype=torch.float64), tensor(0.4402, dtype=torch.float64), tensor(0.4369, dtype=torch.float64), tensor(0.4414, dtype=torch.float64), tensor(0.4418, dtype=torch.float64), tensor(0.4394, dtype=torch.float64), tensor(0.4368, dtype=torch.float64), tensor(0.4410, dtype=torch.float64), tensor(0.4373, dtype=torch.float64), tensor(0.4386, dtype=torch.float64), tensor(0.4358, dtype=torch.float64), tensor(0.4378, dtype=torch.float64), tensor(0.4371, dtype=torch.float64), tensor(0.4381, dtype=torch.float64), tensor(0.4390, dtype=torch.float64), tensor(0.4356, dtype=torch.float64), tensor(0.4379, dtype=torch.float64), tensor(0.4368, dtype=torch.float64), tensor(0.4367, dtype=torch.float64), tensor(0.4386, dtype=torch.float64), tensor(0.4359, dtype=torch.float64), tensor(0.4380, dtype=torch.float64), tensor(0.4330, dtype=torch.float64), tensor(0.4408, dtype=torch.float64), tensor(0.4442, dtype=torch.float64), tensor(0.4408, dtype=torch.float64), tensor(0.4383, dtype=torch.float64), tensor(0.4388, dtype=torch.float64), tensor(0.4347, dtype=torch.float64), tensor(0.4346, dtype=torch.float64), tensor(0.4383, dtype=torch.float64), tensor(0.4367, dtype=torch.float64), tensor(0.4395, dtype=torch.float64), tensor(0.4389, dtype=torch.float64), tensor(0.4348, dtype=torch.float64), tensor(0.4387, dtype=torch.float64), tensor(0.4356, dtype=torch.float64), tensor(0.4339, dtype=torch.float64), tensor(0.4370, dtype=torch.float64), tensor(0.4395, dtype=torch.float64), tensor(0.4363, dtype=torch.float64), tensor(0.4418, dtype=torch.float64), tensor(0.4378, dtype=torch.float64), tensor(0.4362, dtype=torch.float64), tensor(0.4349, dtype=torch.float64), tensor(0.4396, dtype=torch.float64), tensor(0.4350, dtype=torch.float64), tensor(0.4382, dtype=torch.float64), tensor(0.4334, dtype=torch.float64), tensor(0.4316, dtype=torch.float64), tensor(0.4351, dtype=torch.float64), tensor(0.4396, dtype=torch.float64), tensor(0.4373, dtype=torch.float64), tensor(0.4376, dtype=torch.float64), tensor(0.4386, dtype=torch.float64), tensor(0.4366, dtype=torch.float64), tensor(0.4385, dtype=torch.float64), tensor(0.4386, dtype=torch.float64), tensor(0.4416, dtype=torch.float64), tensor(0.4377, dtype=torch.float64), tensor(0.4363, dtype=torch.float64), tensor(0.4406, dtype=torch.float64), tensor(0.4348, dtype=torch.float64), tensor(0.4406, dtype=torch.float64), tensor(0.4398, dtype=torch.float64), tensor(0.4399, dtype=torch.float64), tensor(0.4436, dtype=torch.float64), tensor(0.4396, dtype=torch.float64), tensor(0.4381, dtype=torch.float64), tensor(0.4424, dtype=torch.float64), tensor(0.4400, dtype=torch.float64), tensor(0.4378, dtype=torch.float64), tensor(0.4390, dtype=torch.float64), tensor(0.4400, dtype=torch.float64), tensor(0.4390, dtype=torch.float64), tensor(0.4377, dtype=torch.float64), tensor(0.4372, dtype=torch.float64), tensor(0.4374, dtype=torch.float64), tensor(0.4350, dtype=torch.float64), tensor(0.4365, dtype=torch.float64), tensor(0.4360, dtype=torch.float64), tensor(0.4335, dtype=torch.float64), tensor(0.4389, dtype=torch.float64), tensor(0.4387, dtype=torch.float64), tensor(0.4350, dtype=torch.float64), tensor(0.4382, dtype=torch.float64), tensor(0.4400, dtype=torch.float64), tensor(0.4409, dtype=torch.float64), tensor(0.4343, dtype=torch.float64), tensor(0.4426, dtype=torch.float64), tensor(0.4355, dtype=torch.float64), tensor(0.4367, dtype=torch.float64), tensor(0.4389, dtype=torch.float64), tensor(0.4372, dtype=torch.float64), tensor(0.4384, dtype=torch.float64), tensor(0.4440, dtype=torch.float64), tensor(0.4355, dtype=torch.float64), tensor(0.4385, dtype=torch.float64), tensor(0.4443, dtype=torch.float64), tensor(0.4402, dtype=torch.float64), tensor(0.4376, dtype=torch.float64), tensor(0.4364, dtype=torch.float64), tensor(0.4393, dtype=torch.float64), tensor(0.4363, dtype=torch.float64), tensor(0.4370, dtype=torch.float64), tensor(0.4378, dtype=torch.float64), tensor(0.4364, dtype=torch.float64), tensor(0.4376, dtype=torch.float64), tensor(0.4352, dtype=torch.float64), tensor(0.4377, dtype=torch.float64), tensor(0.4395, dtype=torch.float64), tensor(0.4373, dtype=torch.float64), tensor(0.4361, dtype=torch.float64), tensor(0.4387, dtype=torch.float64), tensor(0.4365, dtype=torch.float64), tensor(0.4370, dtype=torch.float64), tensor(0.4377, dtype=torch.float64), tensor(0.4381, dtype=torch.float64), tensor(0.4358, dtype=torch.float64), tensor(0.4362, dtype=torch.float64), tensor(0.4370, dtype=torch.float64), tensor(0.4377, dtype=torch.float64), tensor(0.4337, dtype=torch.float64), tensor(0.4370, dtype=torch.float64), tensor(0.4392, dtype=torch.float64), tensor(0.4349, dtype=torch.float64), tensor(0.4374, dtype=torch.float64), tensor(0.4403, dtype=torch.float64), tensor(0.4376, dtype=torch.float64), tensor(0.4386, dtype=torch.float64), tensor(0.4361, dtype=torch.float64), tensor(0.4397, dtype=torch.float64), tensor(0.4377, dtype=torch.float64), tensor(0.4378, dtype=torch.float64), tensor(0.4401, dtype=torch.float64), tensor(0.4363, dtype=torch.float64), tensor(0.4393, dtype=torch.float64), tensor(0.4347, dtype=torch.float64), tensor(0.4330, dtype=torch.float64), tensor(0.4417, dtype=torch.float64), tensor(0.4365, dtype=torch.float64), tensor(0.4335, dtype=torch.float64), tensor(0.4322, dtype=torch.float64), tensor(0.4377, dtype=torch.float64), tensor(0.4386, dtype=torch.float64), tensor(0.4409, dtype=torch.float64), tensor(0.4359, dtype=torch.float64), tensor(0.4333, dtype=torch.float64), tensor(0.4325, dtype=torch.float64), tensor(0.4363, dtype=torch.float64), tensor(0.4373, dtype=torch.float64), tensor(0.4381, dtype=torch.float64), tensor(0.4382, dtype=torch.float64), tensor(0.4344, dtype=torch.float64), tensor(0.4363, dtype=torch.float64), tensor(0.4373, dtype=torch.float64), tensor(0.4365, dtype=torch.float64), tensor(0.4360, dtype=torch.float64), tensor(0.4383, dtype=torch.float64), tensor(0.4360, dtype=torch.float64), tensor(0.4398, dtype=torch.float64), tensor(0.4385, dtype=torch.float64), tensor(0.4381, dtype=torch.float64), tensor(0.4377, dtype=torch.float64), tensor(0.4392, dtype=torch.float64), tensor(0.4319, dtype=torch.float64), tensor(0.4420, dtype=torch.float64), tensor(0.4355, dtype=torch.float64), tensor(0.4396, dtype=torch.float64), tensor(0.4441, dtype=torch.float64), tensor(0.4352, dtype=torch.float64), tensor(0.4372, dtype=torch.float64), tensor(0.4376, dtype=torch.float64), tensor(0.4379, dtype=torch.float64), tensor(0.4355, dtype=torch.float64), tensor(0.4347, dtype=torch.float64), tensor(0.4411, dtype=torch.float64), tensor(0.4385, dtype=torch.float64), tensor(0.4425, dtype=torch.float64), tensor(0.4367, dtype=torch.float64), tensor(0.4371, dtype=torch.float64), tensor(0.4395, dtype=torch.float64), tensor(0.4358, dtype=torch.float64), tensor(0.4374, dtype=torch.float64), tensor(0.4367, dtype=torch.float64), tensor(0.4318, dtype=torch.float64), tensor(0.4364, dtype=torch.float64), tensor(0.4435, dtype=torch.float64), tensor(0.4417, dtype=torch.float64), tensor(0.4374, dtype=torch.float64), tensor(0.4374, dtype=torch.float64), tensor(0.4382, dtype=torch.float64), tensor(0.4418, dtype=torch.float64), tensor(0.4422, dtype=torch.float64), tensor(0.4378, dtype=torch.float64), tensor(0.4407, dtype=torch.float64), tensor(0.4400, dtype=torch.float64), tensor(0.4377, dtype=torch.float64), tensor(0.4327, dtype=torch.float64), tensor(0.4376, dtype=torch.float64), tensor(0.4365, dtype=torch.float64), tensor(0.4355, dtype=torch.float64), tensor(0.4364, dtype=torch.float64), tensor(0.4385, dtype=torch.float64), tensor(0.4337, dtype=torch.float64), tensor(0.4289, dtype=torch.float64), tensor(0.4418, dtype=torch.float64), tensor(0.4382, dtype=torch.float64), tensor(0.4361, dtype=torch.float64), tensor(0.4370, dtype=torch.float64), tensor(0.4352, dtype=torch.float64), tensor(0.4373, dtype=torch.float64), tensor(0.4385, dtype=torch.float64), tensor(0.4386, dtype=torch.float64), tensor(0.4381, dtype=torch.float64), tensor(0.4383, dtype=torch.float64), tensor(0.4380, dtype=torch.float64), tensor(0.4360, dtype=torch.float64), tensor(0.4368, dtype=torch.float64), tensor(0.4376, dtype=torch.float64), tensor(0.4356, dtype=torch.float64), tensor(0.4386, dtype=torch.float64), tensor(0.4387, dtype=torch.float64), tensor(0.4365, dtype=torch.float64), tensor(0.4370, dtype=torch.float64), tensor(0.4367, dtype=torch.float64), tensor(0.4337, dtype=torch.float64), tensor(0.4361, dtype=torch.float64), tensor(0.4392, dtype=torch.float64), tensor(0.4372, dtype=torch.float64), tensor(0.4385, dtype=torch.float64), tensor(0.4399, dtype=torch.float64), tensor(0.4331, dtype=torch.float64), tensor(0.4425, dtype=torch.float64), tensor(0.4362, dtype=torch.float64), tensor(0.4377, dtype=torch.float64), tensor(0.4372, dtype=torch.float64), tensor(0.4349, dtype=torch.float64), tensor(0.4374, dtype=torch.float64), tensor(0.4360, dtype=torch.float64), tensor(0.4377, dtype=torch.float64), tensor(0.4408, dtype=torch.float64), tensor(0.4342, dtype=torch.float64), tensor(0.4374, dtype=torch.float64), tensor(0.4373, dtype=torch.float64), tensor(0.4436, dtype=torch.float64), tensor(0.4367, dtype=torch.float64), tensor(0.4364, dtype=torch.float64), tensor(0.4381, dtype=torch.float64), tensor(0.4417, dtype=torch.float64), tensor(0.4375, dtype=torch.float64), tensor(0.4333, dtype=torch.float64), tensor(0.4372, dtype=torch.float64), tensor(0.4360, dtype=torch.float64), tensor(0.4380, dtype=torch.float64), tensor(0.4364, dtype=torch.float64), tensor(0.4352, dtype=torch.float64), tensor(0.4380, dtype=torch.float64), tensor(0.4380, dtype=torch.float64), tensor(0.4328, dtype=torch.float64), tensor(0.4397, dtype=torch.float64), tensor(0.4352, dtype=torch.float64), tensor(0.4349, dtype=torch.float64), tensor(0.4401, dtype=torch.float64), tensor(0.4338, dtype=torch.float64), tensor(0.4396, dtype=torch.float64), tensor(0.4386, dtype=torch.float64), tensor(0.4392, dtype=torch.float64), tensor(0.4315, dtype=torch.float64), tensor(0.4401, dtype=torch.float64), tensor(0.4377, dtype=torch.float64), tensor(0.4417, dtype=torch.float64), tensor(0.4388, dtype=torch.float64), tensor(0.4379, dtype=torch.float64), tensor(0.4365, dtype=torch.float64), tensor(0.4341, dtype=torch.float64), tensor(0.4348, dtype=torch.float64), tensor(0.4396, dtype=torch.float64), tensor(0.4396, dtype=torch.float64), tensor(0.4370, dtype=torch.float64), tensor(0.4361, dtype=torch.float64), tensor(0.4365, dtype=torch.float64), tensor(0.4367, dtype=torch.float64), tensor(0.4370, dtype=torch.float64), tensor(0.4377, dtype=torch.float64), tensor(0.4375, dtype=torch.float64), tensor(0.4301, dtype=torch.float64), tensor(0.4366, dtype=torch.float64), tensor(0.4365, dtype=torch.float64), tensor(0.4363, dtype=torch.float64), tensor(0.4356, dtype=torch.float64), tensor(0.4388, dtype=torch.float64), tensor(0.4377, dtype=torch.float64), tensor(0.4372, dtype=torch.float64), tensor(0.4410, dtype=torch.float64), tensor(0.4385, dtype=torch.float64), tensor(0.4386, dtype=torch.float64), tensor(0.4346, dtype=torch.float64), tensor(0.4398, dtype=torch.float64), tensor(0.4429, dtype=torch.float64), tensor(0.4365, dtype=torch.float64), tensor(0.4406, dtype=torch.float64), tensor(0.4344, dtype=torch.float64), tensor(0.4377, dtype=torch.float64), tensor(0.4452, dtype=torch.float64), tensor(0.4442, dtype=torch.float64), tensor(0.4374, dtype=torch.float64), tensor(0.4352, dtype=torch.float64), tensor(0.4393, dtype=torch.float64), tensor(0.4351, dtype=torch.float64), tensor(0.4406, dtype=torch.float64), tensor(0.4343, dtype=torch.float64), tensor(0.4354, dtype=torch.float64), tensor(0.4361, dtype=torch.float64), tensor(0.4384, dtype=torch.float64), tensor(0.4358, dtype=torch.float64), tensor(0.4400, dtype=torch.float64), tensor(0.4399, dtype=torch.float64), tensor(0.4392, dtype=torch.float64), tensor(0.4363, dtype=torch.float64), tensor(0.4409, dtype=torch.float64), tensor(0.4395, dtype=torch.float64), tensor(0.4226, dtype=torch.float64), tensor(0.4385, dtype=torch.float64), tensor(0.4378, dtype=torch.float64), tensor(0.4419, dtype=torch.float64), tensor(0.4387, dtype=torch.float64), tensor(0.4350, dtype=torch.float64), tensor(0.4371, dtype=torch.float64), tensor(0.4369, dtype=torch.float64), tensor(0.4334, dtype=torch.float64), tensor(0.4377, dtype=torch.float64), tensor(0.4382, dtype=torch.float64), tensor(0.4397, dtype=torch.float64), tensor(0.4385, dtype=torch.float64), tensor(0.4337, dtype=torch.float64), tensor(0.4358, dtype=torch.float64), tensor(0.4414, dtype=torch.float64), tensor(0.4372, dtype=torch.float64), tensor(0.4350, dtype=torch.float64), tensor(0.4360, dtype=torch.float64), tensor(0.4369, dtype=torch.float64), tensor(0.4371, dtype=torch.float64), tensor(0.4386, dtype=torch.float64), tensor(0.4352, dtype=torch.float64), tensor(0.4444, dtype=torch.float64), tensor(0.4359, dtype=torch.float64), tensor(0.4364, dtype=torch.float64), tensor(0.4395, dtype=torch.float64), tensor(0.4433, dtype=torch.float64), tensor(0.4371, dtype=torch.float64), tensor(0.4373, dtype=torch.float64), tensor(0.4360, dtype=torch.float64), tensor(0.4357, dtype=torch.float64), tensor(0.4370, dtype=torch.float64), tensor(0.4383, dtype=torch.float64), tensor(0.4342, dtype=torch.float64), tensor(0.4391, dtype=torch.float64), tensor(0.4362, dtype=torch.float64), tensor(0.4369, dtype=torch.float64), tensor(0.4355, dtype=torch.float64), tensor(0.4405, dtype=torch.float64), tensor(0.4394, dtype=torch.float64), tensor(0.4346, dtype=torch.float64), tensor(0.4371, dtype=torch.float64), tensor(0.4398, dtype=torch.float64), tensor(0.4385, dtype=torch.float64), tensor(0.4377, dtype=torch.float64), tensor(0.4403, dtype=torch.float64), tensor(0.4400, dtype=torch.float64), tensor(0.4382, dtype=torch.float64), tensor(0.4377, dtype=torch.float64), tensor(0.4365, dtype=torch.float64), tensor(0.4339, dtype=torch.float64), tensor(0.4373, dtype=torch.float64), tensor(0.4368, dtype=torch.float64), tensor(0.4361, dtype=torch.float64), tensor(0.4360, dtype=torch.float64), tensor(0.4382, dtype=torch.float64), tensor(0.4435, dtype=torch.float64), tensor(0.4277, dtype=torch.float64), tensor(0.4350, dtype=torch.float64), tensor(0.4358, dtype=torch.float64), tensor(0.4379, dtype=torch.float64), tensor(0.4368, dtype=torch.float64), tensor(0.4406, dtype=torch.float64), tensor(0.4372, dtype=torch.float64), tensor(0.4363, dtype=torch.float64), tensor(0.4356, dtype=torch.float64), tensor(0.4338, dtype=torch.float64), tensor(0.4363, dtype=torch.float64), tensor(0.4366, dtype=torch.float64), tensor(0.4338, dtype=torch.float64), tensor(0.4357, dtype=torch.float64), tensor(0.4365, dtype=torch.float64), tensor(0.4401, dtype=torch.float64), tensor(0.4386, dtype=torch.float64), tensor(0.4384, dtype=torch.float64), tensor(0.4382, dtype=torch.float64), tensor(0.4304, dtype=torch.float64), tensor(0.4404, dtype=torch.float64), tensor(0.4388, dtype=torch.float64), tensor(0.4404, dtype=torch.float64), tensor(0.4380, dtype=torch.float64), tensor(0.4298, dtype=torch.float64), tensor(0.4389, dtype=torch.float64), tensor(0.4347, dtype=torch.float64), tensor(0.4372, dtype=torch.float64), tensor(0.4401, dtype=torch.float64), tensor(0.4370, dtype=torch.float64), tensor(0.4378, dtype=torch.float64), tensor(0.4395, dtype=torch.float64), tensor(0.4380, dtype=torch.float64), tensor(0.4370, dtype=torch.float64), tensor(0.4418, dtype=torch.float64), tensor(0.4350, dtype=torch.float64), tensor(0.4320, dtype=torch.float64), tensor(0.4370, dtype=torch.float64), tensor(0.4412, dtype=torch.float64), tensor(0.4397, dtype=torch.float64), tensor(0.4387, dtype=torch.float64), tensor(0.4362, dtype=torch.float64), tensor(0.4420, dtype=torch.float64), tensor(0.4388, dtype=torch.float64), tensor(0.4400, dtype=torch.float64), tensor(0.4349, dtype=torch.float64), tensor(0.4360, dtype=torch.float64), tensor(0.4360, dtype=torch.float64), tensor(0.4369, dtype=torch.float64), tensor(0.4356, dtype=torch.float64), tensor(0.4371, dtype=torch.float64), tensor(0.4405, dtype=torch.float64), tensor(0.4331, dtype=torch.float64), tensor(0.4375, dtype=torch.float64), tensor(0.4386, dtype=torch.float64), tensor(0.4377, dtype=torch.float64), tensor(0.4369, dtype=torch.float64), tensor(0.4381, dtype=torch.float64), tensor(0.4415, dtype=torch.float64), tensor(0.4359, dtype=torch.float64), tensor(0.4330, dtype=torch.float64), tensor(0.4358, dtype=torch.float64), tensor(0.4367, dtype=torch.float64), tensor(0.4382, dtype=torch.float64), tensor(0.4378, dtype=torch.float64), tensor(0.4394, dtype=torch.float64), tensor(0.4351, dtype=torch.float64), tensor(0.4306, dtype=torch.float64), tensor(0.4418, dtype=torch.float64), tensor(0.4371, dtype=torch.float64), tensor(0.4382, dtype=torch.float64), tensor(0.4403, dtype=torch.float64), tensor(0.4403, dtype=torch.float64), tensor(0.4371, dtype=torch.float64), tensor(0.4371, dtype=torch.float64), tensor(0.4326, dtype=torch.float64), tensor(0.4386, dtype=torch.float64), tensor(0.4442, dtype=torch.float64), tensor(0.4401, dtype=torch.float64), tensor(0.4358, dtype=torch.float64), tensor(0.4382, dtype=torch.float64), tensor(0.4380, dtype=torch.float64), tensor(0.4386, dtype=torch.float64), tensor(0.4386, dtype=torch.float64), tensor(0.4375, dtype=torch.float64), tensor(0.4364, dtype=torch.float64), tensor(0.4368, dtype=torch.float64), tensor(0.4393, dtype=torch.float64), tensor(0.4418, dtype=torch.float64), tensor(0.4349, dtype=torch.float64), tensor(0.4355, dtype=torch.float64), tensor(0.4422, dtype=torch.float64), tensor(0.4427, dtype=torch.float64), tensor(0.4347, dtype=torch.float64), tensor(0.4414, dtype=torch.float64), tensor(0.4371, dtype=torch.float64), tensor(0.4394, dtype=torch.float64), tensor(0.4351, dtype=torch.float64), tensor(0.4376, dtype=torch.float64), tensor(0.4359, dtype=torch.float64), tensor(0.4367, dtype=torch.float64), tensor(0.4378, dtype=torch.float64), tensor(0.4385, dtype=torch.float64), tensor(0.4370, dtype=torch.float64), tensor(0.4387, dtype=torch.float64), tensor(0.4351, dtype=torch.float64), tensor(0.4400, dtype=torch.float64), tensor(0.4377, dtype=torch.float64), tensor(0.4367, dtype=torch.float64), tensor(0.4353, dtype=torch.float64), tensor(0.4329, dtype=torch.float64), tensor(0.4372, dtype=torch.float64), tensor(0.4431, dtype=torch.float64), tensor(0.4352, dtype=torch.float64), tensor(0.4392, dtype=torch.float64), tensor(0.4375, dtype=torch.float64), tensor(0.4359, dtype=torch.float64), tensor(0.4400, dtype=torch.float64), tensor(0.4368, dtype=torch.float64), tensor(0.4364, dtype=torch.float64), tensor(0.4321, dtype=torch.float64), tensor(0.4413, dtype=torch.float64), tensor(0.4404, dtype=torch.float64), tensor(0.4328, dtype=torch.float64), tensor(0.4401, dtype=torch.float64), tensor(0.4415, dtype=torch.float64), tensor(0.4363, dtype=torch.float64), tensor(0.4374, dtype=torch.float64), tensor(0.4378, dtype=torch.float64), tensor(0.4357, dtype=torch.float64), tensor(0.4363, dtype=torch.float64), tensor(0.4381, dtype=torch.float64), tensor(0.4435, dtype=torch.float64), tensor(0.4377, dtype=torch.float64), tensor(0.4372, dtype=torch.float64), tensor(0.4410, dtype=torch.float64), tensor(0.4360, dtype=torch.float64), tensor(0.4363, dtype=torch.float64), tensor(0.4406, dtype=torch.float64), tensor(0.4405, dtype=torch.float64), tensor(0.4376, dtype=torch.float64), tensor(0.4375, dtype=torch.float64), tensor(0.4382, dtype=torch.float64), tensor(0.4368, dtype=torch.float64), tensor(0.4396, dtype=torch.float64), tensor(0.4365, dtype=torch.float64), tensor(0.4348, dtype=torch.float64), tensor(0.4381, dtype=torch.float64), tensor(0.4329, dtype=torch.float64), tensor(0.4415, dtype=torch.float64), tensor(0.4386, dtype=torch.float64), tensor(0.4417, dtype=torch.float64), tensor(0.4397, dtype=torch.float64), tensor(0.4410, dtype=torch.float64), tensor(0.4388, dtype=torch.float64), tensor(0.4341, dtype=torch.float64), tensor(0.4473, dtype=torch.float64), tensor(0.4357, dtype=torch.float64), tensor(0.4414, dtype=torch.float64), tensor(0.4360, dtype=torch.float64), tensor(0.4392, dtype=torch.float64), tensor(0.4351, dtype=torch.float64), tensor(0.4352, dtype=torch.float64), tensor(0.4338, dtype=torch.float64), tensor(0.4363, dtype=torch.float64), tensor(0.4401, dtype=torch.float64), tensor(0.4368, dtype=torch.float64), tensor(0.4385, dtype=torch.float64), tensor(0.4373, dtype=torch.float64), tensor(0.4418, dtype=torch.float64), tensor(0.4353, dtype=torch.float64), tensor(0.4379, dtype=torch.float64), tensor(0.4360, dtype=torch.float64), tensor(0.4357, dtype=torch.float64), tensor(0.4377, dtype=torch.float64), tensor(0.4340, dtype=torch.float64), tensor(0.4361, dtype=torch.float64), tensor(0.4394, dtype=torch.float64), tensor(0.4413, dtype=torch.float64), tensor(0.4428, dtype=torch.float64), tensor(0.4370, dtype=torch.float64), tensor(0.4402, dtype=torch.float64), tensor(0.4344, dtype=torch.float64), tensor(0.4381, dtype=torch.float64), tensor(0.4388, dtype=torch.float64), tensor(0.4411, dtype=torch.float64), tensor(0.4348, dtype=torch.float64), tensor(0.4355, dtype=torch.float64), tensor(0.4334, dtype=torch.float64), tensor(0.4345, dtype=torch.float64), tensor(0.4370, dtype=torch.float64), tensor(0.4401, dtype=torch.float64), tensor(0.4383, dtype=torch.float64), tensor(0.4396, dtype=torch.float64), tensor(0.4374, dtype=torch.float64), tensor(0.4371, dtype=torch.float64), tensor(0.4350, dtype=torch.float64), tensor(0.4345, dtype=torch.float64), tensor(0.4355, dtype=torch.float64), tensor(0.4382, dtype=torch.float64), tensor(0.4381, dtype=torch.float64), tensor(0.4383, dtype=torch.float64), tensor(0.4364, dtype=torch.float64), tensor(0.4372, dtype=torch.float64), tensor(0.4375, dtype=torch.float64), tensor(0.4396, dtype=torch.float64), tensor(0.4372, dtype=torch.float64), tensor(0.4400, dtype=torch.float64), tensor(0.4318, dtype=torch.float64), tensor(0.4320, dtype=torch.float64), tensor(0.4374, dtype=torch.float64), tensor(0.4402, dtype=torch.float64), tensor(0.4408, dtype=torch.float64), tensor(0.4373, dtype=torch.float64), tensor(0.4415, dtype=torch.float64), tensor(0.4340, dtype=torch.float64), tensor(0.4349, dtype=torch.float64), tensor(0.4377, dtype=torch.float64), tensor(0.4403, dtype=torch.float64), tensor(0.4391, dtype=torch.float64), tensor(0.4338, dtype=torch.float64), tensor(0.4367, dtype=torch.float64), tensor(0.4380, dtype=torch.float64), tensor(0.4381, dtype=torch.float64), tensor(0.4366, dtype=torch.float64), tensor(0.4394, dtype=torch.float64), tensor(0.4371, dtype=torch.float64), tensor(0.4390, dtype=torch.float64), tensor(0.4356, dtype=torch.float64), tensor(0.4363, dtype=torch.float64), tensor(0.4345, dtype=torch.float64), tensor(0.4389, dtype=torch.float64), tensor(0.4353, dtype=torch.float64), tensor(0.4382, dtype=torch.float64), tensor(0.4372, dtype=torch.float64), tensor(0.4385, dtype=torch.float64), tensor(0.4368, dtype=torch.float64), tensor(0.4366, dtype=torch.float64), tensor(0.4352, dtype=torch.float64), tensor(0.4368, dtype=torch.float64), tensor(0.4401, dtype=torch.float64), tensor(0.4397, dtype=torch.float64), tensor(0.4380, dtype=torch.float64), tensor(0.4403, dtype=torch.float64), tensor(0.4386, dtype=torch.float64), tensor(0.4371, dtype=torch.float64), tensor(0.4365, dtype=torch.float64), tensor(0.4373, dtype=torch.float64), tensor(0.4357, dtype=torch.float64), tensor(0.4403, dtype=torch.float64), tensor(0.4373, dtype=torch.float64), tensor(0.4357, dtype=torch.float64), tensor(0.4361, dtype=torch.float64), tensor(0.4341, dtype=torch.float64), tensor(0.4355, dtype=torch.float64), tensor(0.4388, dtype=torch.float64), tensor(0.4383, dtype=torch.float64), tensor(0.4326, dtype=torch.float64), tensor(0.4414, dtype=torch.float64), tensor(0.4368, dtype=torch.float64), tensor(0.4348, dtype=torch.float64), tensor(0.4360, dtype=torch.float64), tensor(0.4394, dtype=torch.float64), tensor(0.4388, dtype=torch.float64), tensor(0.4360, dtype=torch.float64), tensor(0.4359, dtype=torch.float64), tensor(0.4333, dtype=torch.float64), tensor(0.4397, dtype=torch.float64), tensor(0.4363, dtype=torch.float64), tensor(0.4384, dtype=torch.float64), tensor(0.4379, dtype=torch.float64), tensor(0.4333, dtype=torch.float64), tensor(0.4328, dtype=torch.float64), tensor(0.4400, dtype=torch.float64), tensor(0.4356, dtype=torch.float64), tensor(0.4369, dtype=torch.float64), tensor(0.4391, dtype=torch.float64), tensor(0.4404, dtype=torch.float64), tensor(0.4417, dtype=torch.float64), tensor(0.4355, dtype=torch.float64), tensor(0.4372, dtype=torch.float64), tensor(0.4387, dtype=torch.float64), tensor(0.4416, dtype=torch.float64), tensor(0.4325, dtype=torch.float64), tensor(0.4351, dtype=torch.float64), tensor(0.4355, dtype=torch.float64), tensor(0.4369, dtype=torch.float64), tensor(0.4390, dtype=torch.float64), tensor(0.4418, dtype=torch.float64), tensor(0.4335, dtype=torch.float64), tensor(0.4344, dtype=torch.float64), tensor(0.4379, dtype=torch.float64), tensor(0.4351, dtype=torch.float64), tensor(0.4384, dtype=torch.float64), tensor(0.4437, dtype=torch.float64), tensor(0.4379, dtype=torch.float64), tensor(0.4384, dtype=torch.float64), tensor(0.4402, dtype=torch.float64), tensor(0.4380, dtype=torch.float64), tensor(0.4377, dtype=torch.float64), tensor(0.4383, dtype=torch.float64), tensor(0.4365, dtype=torch.float64), tensor(0.4353, dtype=torch.float64), tensor(0.4388, dtype=torch.float64), tensor(0.4342, dtype=torch.float64), tensor(0.4385, dtype=torch.float64), tensor(0.4418, dtype=torch.float64), tensor(0.4407, dtype=torch.float64), tensor(0.4403, dtype=torch.float64), tensor(0.4388, dtype=torch.float64), tensor(0.4418, dtype=torch.float64), tensor(0.4387, dtype=torch.float64), tensor(0.4384, dtype=torch.float64), tensor(0.4324, dtype=torch.float64), tensor(0.4389, dtype=torch.float64), tensor(0.4380, dtype=torch.float64), tensor(0.4382, dtype=torch.float64), tensor(0.4356, dtype=torch.float64), tensor(0.4371, dtype=torch.float64), tensor(0.4380, dtype=torch.float64), tensor(0.4352, dtype=torch.float64), tensor(0.4364, dtype=torch.float64), tensor(0.4394, dtype=torch.float64), tensor(0.4376, dtype=torch.float64), tensor(0.4339, dtype=torch.float64), tensor(0.4372, dtype=torch.float64), tensor(0.4372, dtype=torch.float64), tensor(0.4392, dtype=torch.float64), tensor(0.4346, dtype=torch.float64), tensor(0.4359, dtype=torch.float64), tensor(0.4384, dtype=torch.float64), tensor(0.4421, dtype=torch.float64), tensor(0.4397, dtype=torch.float64), tensor(0.4391, dtype=torch.float64), tensor(0.4403, dtype=torch.float64), tensor(0.4355, dtype=torch.float64), tensor(0.4361, dtype=torch.float64), tensor(0.4386, dtype=torch.float64), tensor(0.4401, dtype=torch.float64), tensor(0.4355, dtype=torch.float64), tensor(0.4392, dtype=torch.float64), tensor(0.4356, dtype=torch.float64), tensor(0.4386, dtype=torch.float64), tensor(0.4366, dtype=torch.float64), tensor(0.4378, dtype=torch.float64), tensor(0.4441, dtype=torch.float64), tensor(0.4324, dtype=torch.float64), tensor(0.4379, dtype=torch.float64), tensor(0.4375, dtype=torch.float64), tensor(0.4413, dtype=torch.float64), tensor(0.4359, dtype=torch.float64), tensor(0.4380, dtype=torch.float64), tensor(0.4379, dtype=torch.float64), tensor(0.4375, dtype=torch.float64), tensor(0.4392, dtype=torch.float64), tensor(0.4365, dtype=torch.float64), tensor(0.4366, dtype=torch.float64), tensor(0.4358, dtype=torch.float64), tensor(0.4359, dtype=torch.float64), tensor(0.4330, dtype=torch.float64), tensor(0.4387, dtype=torch.float64), tensor(0.4364, dtype=torch.float64), tensor(0.4362, dtype=torch.float64), tensor(0.4341, dtype=torch.float64), tensor(0.4427, dtype=torch.float64), tensor(0.4342, dtype=torch.float64), tensor(0.4360, dtype=torch.float64), tensor(0.4382, dtype=torch.float64), tensor(0.4394, dtype=torch.float64), tensor(0.4400, dtype=torch.float64), tensor(0.4395, dtype=torch.float64), tensor(0.4354, dtype=torch.float64), tensor(0.4368, dtype=torch.float64), tensor(0.4341, dtype=torch.float64), tensor(0.4364, dtype=torch.float64), tensor(0.4357, dtype=torch.float64), tensor(0.4383, dtype=torch.float64), tensor(0.4375, dtype=torch.float64), tensor(0.4375, dtype=torch.float64), tensor(0.4377, dtype=torch.float64), tensor(0.4349, dtype=torch.float64), tensor(0.4360, dtype=torch.float64), tensor(0.4413, dtype=torch.float64), tensor(0.4354, dtype=torch.float64), tensor(0.4364, dtype=torch.float64), tensor(0.4341, dtype=torch.float64), tensor(0.4357, dtype=torch.float64), tensor(0.4337, dtype=torch.float64), tensor(0.4378, dtype=torch.float64), tensor(0.4407, dtype=torch.float64), tensor(0.4348, dtype=torch.float64), tensor(0.4399, dtype=torch.float64), tensor(0.4429, dtype=torch.float64), tensor(0.4394, dtype=torch.float64), tensor(0.4402, dtype=torch.float64), tensor(0.4380, dtype=torch.float64), tensor(0.4392, dtype=torch.float64), tensor(0.4369, dtype=torch.float64), tensor(0.4370, dtype=torch.float64), tensor(0.4368, dtype=torch.float64), tensor(0.4366, dtype=torch.float64), tensor(0.4367, dtype=torch.float64), tensor(0.4342, dtype=torch.float64), tensor(0.4402, dtype=torch.float64), tensor(0.4377, dtype=torch.float64), tensor(0.4368, dtype=torch.float64), tensor(0.4405, dtype=torch.float64), tensor(0.4366, dtype=torch.float64), tensor(0.4365, dtype=torch.float64), tensor(0.4343, dtype=torch.float64), tensor(0.4361, dtype=torch.float64), tensor(0.4416, dtype=torch.float64), tensor(0.4398, dtype=torch.float64), tensor(0.4394, dtype=torch.float64), tensor(0.4331, dtype=torch.float64), tensor(0.4401, dtype=torch.float64), tensor(0.4389, dtype=torch.float64), tensor(0.4407, dtype=torch.float64), tensor(0.4317, dtype=torch.float64), tensor(0.4393, dtype=torch.float64), tensor(0.4330, dtype=torch.float64), tensor(0.4371, dtype=torch.float64), tensor(0.4393, dtype=torch.float64), tensor(0.4329, dtype=torch.float64), tensor(0.4395, dtype=torch.float64), tensor(0.4368, dtype=torch.float64), tensor(0.4364, dtype=torch.float64), tensor(0.4378, dtype=torch.float64), tensor(0.4401, dtype=torch.float64), tensor(0.4355, dtype=torch.float64), tensor(0.4372, dtype=torch.float64), tensor(0.4394, dtype=torch.float64), tensor(0.4366, dtype=torch.float64), tensor(0.4416, dtype=torch.float64), tensor(0.4349, dtype=torch.float64), tensor(0.4356, dtype=torch.float64), tensor(0.4397, dtype=torch.float64), tensor(0.4419, dtype=torch.float64), tensor(0.4333, dtype=torch.float64), tensor(0.4356, dtype=torch.float64), tensor(0.4350, dtype=torch.float64), tensor(0.4395, dtype=torch.float64), tensor(0.4334, dtype=torch.float64), tensor(0.4371, dtype=torch.float64), tensor(0.4372, dtype=torch.float64), tensor(0.4398, dtype=torch.float64), tensor(0.4418, dtype=torch.float64), tensor(0.4413, dtype=torch.float64), tensor(0.4384, dtype=torch.float64), tensor(0.4361, dtype=torch.float64), tensor(0.4343, dtype=torch.float64), tensor(0.4384, dtype=torch.float64), tensor(0.4341, dtype=torch.float64), tensor(0.4386, dtype=torch.float64), tensor(0.4362, dtype=torch.float64), tensor(0.4410, dtype=torch.float64), tensor(0.4371, dtype=torch.float64), tensor(0.4333, dtype=torch.float64), tensor(0.4375, dtype=torch.float64), tensor(0.4377, dtype=torch.float64), tensor(0.4380, dtype=torch.float64), tensor(0.4361, dtype=torch.float64), tensor(0.4385, dtype=torch.float64), tensor(0.4392, dtype=torch.float64), tensor(0.4372, dtype=torch.float64), tensor(0.4387, dtype=torch.float64), tensor(0.4422, dtype=torch.float64), tensor(0.4364, dtype=torch.float64), tensor(0.4311, dtype=torch.float64), tensor(0.4389, dtype=torch.float64), tensor(0.4432, dtype=torch.float64), tensor(0.4452, dtype=torch.float64), tensor(0.4454, dtype=torch.float64), tensor(0.4355, dtype=torch.float64), tensor(0.4415, dtype=torch.float64), tensor(0.4382, dtype=torch.float64), tensor(0.4405, dtype=torch.float64), tensor(0.4383, dtype=torch.float64), tensor(0.4343, dtype=torch.float64), tensor(0.4357, dtype=torch.float64), tensor(0.4393, dtype=torch.float64), tensor(0.4341, dtype=torch.float64), tensor(0.4410, dtype=torch.float64), tensor(0.4350, dtype=torch.float64), tensor(0.4406, dtype=torch.float64), tensor(0.4442, dtype=torch.float64), tensor(0.4425, dtype=torch.float64), tensor(0.4411, dtype=torch.float64), tensor(0.4433, dtype=torch.float64), tensor(0.4344, dtype=torch.float64), tensor(0.4364, dtype=torch.float64), tensor(0.4347, dtype=torch.float64), tensor(0.4371, dtype=torch.float64), tensor(0.4373, dtype=torch.float64), tensor(0.4393, dtype=torch.float64), tensor(0.4356, dtype=torch.float64), tensor(0.4363, dtype=torch.float64), tensor(0.4375, dtype=torch.float64), tensor(0.4376, dtype=torch.float64), tensor(0.4356, dtype=torch.float64), tensor(0.4426, dtype=torch.float64), tensor(0.4363, dtype=torch.float64), tensor(0.4379, dtype=torch.float64), tensor(0.4414, dtype=torch.float64), tensor(0.4384, dtype=torch.float64), tensor(0.4406, dtype=torch.float64), tensor(0.4367, dtype=torch.float64), tensor(0.4423, dtype=torch.float64), tensor(0.4360, dtype=torch.float64), tensor(0.4383, dtype=torch.float64), tensor(0.4389, dtype=torch.float64), tensor(0.4376, dtype=torch.float64), tensor(0.4351, dtype=torch.float64), tensor(0.4351, dtype=torch.float64), tensor(0.4379, dtype=torch.float64), tensor(0.4393, dtype=torch.float64), tensor(0.4369, dtype=torch.float64), tensor(0.4332, dtype=torch.float64), tensor(0.4343, dtype=torch.float64), tensor(0.4418, dtype=torch.float64), tensor(0.4356, dtype=torch.float64), tensor(0.4376, dtype=torch.float64), tensor(0.4357, dtype=torch.float64), tensor(0.4346, dtype=torch.float64), tensor(0.4353, dtype=torch.float64), tensor(0.4388, dtype=torch.float64), tensor(0.4349, dtype=torch.float64), tensor(0.4354, dtype=torch.float64), tensor(0.4355, dtype=torch.float64), tensor(0.4372, dtype=torch.float64), tensor(0.4369, dtype=torch.float64), tensor(0.4368, dtype=torch.float64), tensor(0.4439, dtype=torch.float64), tensor(0.4359, dtype=torch.float64), tensor(0.4421, dtype=torch.float64), tensor(0.4344, dtype=torch.float64), tensor(0.4356, dtype=torch.float64), tensor(0.4362, dtype=torch.float64), tensor(0.4374, dtype=torch.float64), tensor(0.4329, dtype=torch.float64), tensor(0.4423, dtype=torch.float64), tensor(0.4358, dtype=torch.float64), tensor(0.4371, dtype=torch.float64), tensor(0.4352, dtype=torch.float64), tensor(0.4384, dtype=torch.float64), tensor(0.4377, dtype=torch.float64), tensor(0.4373, dtype=torch.float64), tensor(0.4364, dtype=torch.float64), tensor(0.4366, dtype=torch.float64), tensor(0.4326, dtype=torch.float64), tensor(0.4358, dtype=torch.float64), tensor(0.4364, dtype=torch.float64), tensor(0.4330, dtype=torch.float64), tensor(0.4380, dtype=torch.float64), tensor(0.4404, dtype=torch.float64), tensor(0.4404, dtype=torch.float64), tensor(0.4348, dtype=torch.float64), tensor(0.4376, dtype=torch.float64), tensor(0.4367, dtype=torch.float64), tensor(0.4385, dtype=torch.float64), tensor(0.4403, dtype=torch.float64), tensor(0.4370, dtype=torch.float64), tensor(0.4383, dtype=torch.float64), tensor(0.4334, dtype=torch.float64), tensor(0.4358, dtype=torch.float64), tensor(0.4415, dtype=torch.float64), tensor(0.4363, dtype=torch.float64), tensor(0.4410, dtype=torch.float64), tensor(0.4380, dtype=torch.float64), tensor(0.4313, dtype=torch.float64), tensor(0.4390, dtype=torch.float64), tensor(0.4393, dtype=torch.float64), tensor(0.4372, dtype=torch.float64), tensor(0.4374, dtype=torch.float64), tensor(0.4344, dtype=torch.float64), tensor(0.4377, dtype=torch.float64), tensor(0.4359, dtype=torch.float64), tensor(0.4384, dtype=torch.float64), tensor(0.4309, dtype=torch.float64), tensor(0.4439, dtype=torch.float64), tensor(0.4419, dtype=torch.float64), tensor(0.4343, dtype=torch.float64), tensor(0.4370, dtype=torch.float64), tensor(0.4377, dtype=torch.float64), tensor(0.4379, dtype=torch.float64), tensor(0.4366, dtype=torch.float64), tensor(0.4403, dtype=torch.float64), tensor(0.4333, dtype=torch.float64), tensor(0.4390, dtype=torch.float64), tensor(0.4365, dtype=torch.float64), tensor(0.4376, dtype=torch.float64), tensor(0.4374, dtype=torch.float64), tensor(0.4384, dtype=torch.float64), tensor(0.4364, dtype=torch.float64), tensor(0.4362, dtype=torch.float64), tensor(0.4359, dtype=torch.float64), tensor(0.4338, dtype=torch.float64), tensor(0.4397, dtype=torch.float64), tensor(0.4380, dtype=torch.float64), tensor(0.4387, dtype=torch.float64), tensor(0.4391, dtype=torch.float64), tensor(0.4354, dtype=torch.float64), tensor(0.4376, dtype=torch.float64), tensor(0.4368, dtype=torch.float64), tensor(0.4352, dtype=torch.float64), tensor(0.4374, dtype=torch.float64), tensor(0.4403, dtype=torch.float64), tensor(0.4344, dtype=torch.float64), tensor(0.4366, dtype=torch.float64), tensor(0.4402, dtype=torch.float64), tensor(0.4368, dtype=torch.float64), tensor(0.4386, dtype=torch.float64), tensor(0.4375, dtype=torch.float64), tensor(0.4361, dtype=torch.float64), tensor(0.4372, dtype=torch.float64), tensor(0.4356, dtype=torch.float64), tensor(0.4400, dtype=torch.float64), tensor(0.4381, dtype=torch.float64), tensor(0.4379, dtype=torch.float64), tensor(0.4386, dtype=torch.float64), tensor(0.4397, dtype=torch.float64), tensor(0.4401, dtype=torch.float64), tensor(0.4369, dtype=torch.float64), tensor(0.4372, dtype=torch.float64), tensor(0.4370, dtype=torch.float64), tensor(0.4374, dtype=torch.float64), tensor(0.4387, dtype=torch.float64), tensor(0.4319, dtype=torch.float64), tensor(0.4351, dtype=torch.float64), tensor(0.4395, dtype=torch.float64), tensor(0.4411, dtype=torch.float64), tensor(0.4349, dtype=torch.float64), tensor(0.4364, dtype=torch.float64), tensor(0.4373, dtype=torch.float64), tensor(0.4385, dtype=torch.float64), tensor(0.4368, dtype=torch.float64), tensor(0.4381, dtype=torch.float64), tensor(0.4358, dtype=torch.float64), tensor(0.4385, dtype=torch.float64), tensor(0.4374, dtype=torch.float64), tensor(0.4329, dtype=torch.float64), tensor(0.4368, dtype=torch.float64), tensor(0.4341, dtype=torch.float64), tensor(0.4367, dtype=torch.float64), tensor(0.4371, dtype=torch.float64), tensor(0.4397, dtype=torch.float64), tensor(0.4375, dtype=torch.float64), tensor(0.4376, dtype=torch.float64), tensor(0.4409, dtype=torch.float64), tensor(0.4378, dtype=torch.float64), tensor(0.4372, dtype=torch.float64), tensor(0.4402, dtype=torch.float64), tensor(0.4393, dtype=torch.float64), tensor(0.4367, dtype=torch.float64), tensor(0.4360, dtype=torch.float64), tensor(0.4364, dtype=torch.float64), tensor(0.4361, dtype=torch.float64), tensor(0.4329, dtype=torch.float64), tensor(0.4377, dtype=torch.float64), tensor(0.4389, dtype=torch.float64), tensor(0.4379, dtype=torch.float64), tensor(0.4381, dtype=torch.float64), tensor(0.4364, dtype=torch.float64), tensor(0.4378, dtype=torch.float64), tensor(0.4353, dtype=torch.float64), tensor(0.4371, dtype=torch.float64), tensor(0.4409, dtype=torch.float64), tensor(0.4399, dtype=torch.float64), tensor(0.4383, dtype=torch.float64), tensor(0.4385, dtype=torch.float64), tensor(0.4375, dtype=torch.float64), tensor(0.4361, dtype=torch.float64), tensor(0.4384, dtype=torch.float64), tensor(0.4323, dtype=torch.float64), tensor(0.4370, dtype=torch.float64), tensor(0.4397, dtype=torch.float64), tensor(0.4419, dtype=torch.float64), tensor(0.4363, dtype=torch.float64), tensor(0.4387, dtype=torch.float64), tensor(0.4356, dtype=torch.float64), tensor(0.4366, dtype=torch.float64), tensor(0.4384, dtype=torch.float64), tensor(0.4358, dtype=torch.float64), tensor(0.4386, dtype=torch.float64), tensor(0.4384, dtype=torch.float64), tensor(0.4348, dtype=torch.float64), tensor(0.4355, dtype=torch.float64), tensor(0.4353, dtype=torch.float64), tensor(0.4355, dtype=torch.float64), tensor(0.4356, dtype=torch.float64), tensor(0.4379, dtype=torch.float64), tensor(0.4361, dtype=torch.float64), tensor(0.4368, dtype=torch.float64), tensor(0.4390, dtype=torch.float64), tensor(0.4318, dtype=torch.float64), tensor(0.4377, dtype=torch.float64), tensor(0.4398, dtype=torch.float64), tensor(0.4368, dtype=torch.float64), tensor(0.4356, dtype=torch.float64), tensor(0.4356, dtype=torch.float64), tensor(0.4367, dtype=torch.float64), tensor(0.4399, dtype=torch.float64), tensor(0.4390, dtype=torch.float64), tensor(0.4403, dtype=torch.float64), tensor(0.4332, dtype=torch.float64), tensor(0.4359, dtype=torch.float64), tensor(0.4359, dtype=torch.float64), tensor(0.4394, dtype=torch.float64), tensor(0.4386, dtype=torch.float64), tensor(0.4418, dtype=torch.float64), tensor(0.4437, dtype=torch.float64), tensor(0.4398, dtype=torch.float64), tensor(0.4411, dtype=torch.float64), tensor(0.4363, dtype=torch.float64), tensor(0.4379, dtype=torch.float64), tensor(0.4365, dtype=torch.float64), tensor(0.4408, dtype=torch.float64), tensor(0.4366, dtype=torch.float64), tensor(0.4418, dtype=torch.float64), tensor(0.4429, dtype=torch.float64), tensor(0.4343, dtype=torch.float64), tensor(0.4341, dtype=torch.float64), tensor(0.4359, dtype=torch.float64), tensor(0.4404, dtype=torch.float64), tensor(0.4369, dtype=torch.float64), tensor(0.4360, dtype=torch.float64), tensor(0.4391, dtype=torch.float64), tensor(0.4373, dtype=torch.float64), tensor(0.4365, dtype=torch.float64), tensor(0.4411, dtype=torch.float64), tensor(0.4373, dtype=torch.float64), tensor(0.4351, dtype=torch.float64), tensor(0.4416, dtype=torch.float64), tensor(0.4431, dtype=torch.float64), tensor(0.4357, dtype=torch.float64), tensor(0.4355, dtype=torch.float64), tensor(0.4403, dtype=torch.float64), tensor(0.4362, dtype=torch.float64), tensor(0.4388, dtype=torch.float64), tensor(0.4361, dtype=torch.float64), tensor(0.4312, dtype=torch.float64), tensor(0.4427, dtype=torch.float64), tensor(0.4376, dtype=torch.float64), tensor(0.4375, dtype=torch.float64), tensor(0.4409, dtype=torch.float64), tensor(0.4366, dtype=torch.float64), tensor(0.4367, dtype=torch.float64), tensor(0.4421, dtype=torch.float64), tensor(0.4353, dtype=torch.float64), tensor(0.4399, dtype=torch.float64), tensor(0.4371, dtype=torch.float64), tensor(0.4377, dtype=torch.float64), tensor(0.4400, dtype=torch.float64), tensor(0.4370, dtype=torch.float64), tensor(0.4358, dtype=torch.float64), tensor(0.4351, dtype=torch.float64), tensor(0.4357, dtype=torch.float64), tensor(0.4342, dtype=torch.float64), tensor(0.4412, dtype=torch.float64), tensor(0.4364, dtype=torch.float64), tensor(0.4401, dtype=torch.float64), tensor(0.4374, dtype=torch.float64), tensor(0.4368, dtype=torch.float64), tensor(0.4388, dtype=torch.float64), tensor(0.4333, dtype=torch.float64), tensor(0.4356, dtype=torch.float64), tensor(0.4368, dtype=torch.float64), tensor(0.4349, dtype=torch.float64), tensor(0.4408, dtype=torch.float64), tensor(0.4364, dtype=torch.float64), tensor(0.4363, dtype=torch.float64), tensor(0.4384, dtype=torch.float64), tensor(0.4374, dtype=torch.float64), tensor(0.4397, dtype=torch.float64), tensor(0.4374, dtype=torch.float64), tensor(0.4375, dtype=torch.float64), tensor(0.4397, dtype=torch.float64), tensor(0.4339, dtype=torch.float64), tensor(0.4364, dtype=torch.float64), tensor(0.4394, dtype=torch.float64), tensor(0.4415, dtype=torch.float64), tensor(0.4380, dtype=torch.float64), tensor(0.4398, dtype=torch.float64), tensor(0.4390, dtype=torch.float64), tensor(0.4408, dtype=torch.float64), tensor(0.4375, dtype=torch.float64), tensor(0.4357, dtype=torch.float64), tensor(0.4343, dtype=torch.float64), tensor(0.4386, dtype=torch.float64), tensor(0.4377, dtype=torch.float64), tensor(0.4406, dtype=torch.float64), tensor(0.4381, dtype=torch.float64), tensor(0.4358, dtype=torch.float64), tensor(0.4369, dtype=torch.float64), tensor(0.4393, dtype=torch.float64), tensor(0.4409, dtype=torch.float64), tensor(0.4407, dtype=torch.float64), tensor(0.4382, dtype=torch.float64), tensor(0.4395, dtype=torch.float64), tensor(0.4361, dtype=torch.float64), tensor(0.4376, dtype=torch.float64), tensor(0.4392, dtype=torch.float64), tensor(0.4351, dtype=torch.float64), tensor(0.4366, dtype=torch.float64), tensor(0.4335, dtype=torch.float64), tensor(0.4384, dtype=torch.float64), tensor(0.4376, dtype=torch.float64), tensor(0.4353, dtype=torch.float64), tensor(0.4361, dtype=torch.float64), tensor(0.4369, dtype=torch.float64), tensor(0.4353, dtype=torch.float64), tensor(0.4405, dtype=torch.float64), tensor(0.4350, dtype=torch.float64), tensor(0.4399, dtype=torch.float64), tensor(0.4381, dtype=torch.float64), tensor(0.4390, dtype=torch.float64), tensor(0.4424, dtype=torch.float64), tensor(0.4361, dtype=torch.float64), tensor(0.4379, dtype=torch.float64), tensor(0.4340, dtype=torch.float64), tensor(0.4345, dtype=torch.float64), tensor(0.4415, dtype=torch.float64), tensor(0.4379, dtype=torch.float64), tensor(0.4377, dtype=torch.float64), tensor(0.4395, dtype=torch.float64), tensor(0.4381, dtype=torch.float64), tensor(0.4395, dtype=torch.float64), tensor(0.4402, dtype=torch.float64), tensor(0.4369, dtype=torch.float64), tensor(0.4371, dtype=torch.float64), tensor(0.4367, dtype=torch.float64), tensor(0.4359, dtype=torch.float64), tensor(0.4411, dtype=torch.float64), tensor(0.4410, dtype=torch.float64), tensor(0.4366, dtype=torch.float64), tensor(0.4365, dtype=torch.float64), tensor(0.4381, dtype=torch.float64), tensor(0.4382, dtype=torch.float64), tensor(0.4409, dtype=torch.float64), tensor(0.4421, dtype=torch.float64), tensor(0.4382, dtype=torch.float64), tensor(0.4356, dtype=torch.float64), tensor(0.4325, dtype=torch.float64), tensor(0.4373, dtype=torch.float64), tensor(0.4403, dtype=torch.float64), tensor(0.4367, dtype=torch.float64), tensor(0.4368, dtype=torch.float64), tensor(0.4348, dtype=torch.float64), tensor(0.4348, dtype=torch.float64), tensor(0.4401, dtype=torch.float64), tensor(0.4377, dtype=torch.float64), tensor(0.4376, dtype=torch.float64), tensor(0.4401, dtype=torch.float64), tensor(0.4340, dtype=torch.float64), tensor(0.4406, dtype=torch.float64), tensor(0.4384, dtype=torch.float64), tensor(0.4324, dtype=torch.float64), tensor(0.4377, dtype=torch.float64), tensor(0.4344, dtype=torch.float64), tensor(0.4408, dtype=torch.float64), tensor(0.4393, dtype=torch.float64), tensor(0.4365, dtype=torch.float64), tensor(0.4413, dtype=torch.float64), tensor(0.4418, dtype=torch.float64), tensor(0.4410, dtype=torch.float64), tensor(0.4408, dtype=torch.float64), tensor(0.4410, dtype=torch.float64), tensor(0.4388, dtype=torch.float64), tensor(0.4376, dtype=torch.float64), tensor(0.4368, dtype=torch.float64), tensor(0.4376, dtype=torch.float64), tensor(0.4375, dtype=torch.float64), tensor(0.4374, dtype=torch.float64), tensor(0.4329, dtype=torch.float64), tensor(0.4357, dtype=torch.float64), tensor(0.4389, dtype=torch.float64), tensor(0.4396, dtype=torch.float64), tensor(0.4321, dtype=torch.float64), tensor(0.4370, dtype=torch.float64), tensor(0.4383, dtype=torch.float64), tensor(0.4368, dtype=torch.float64), tensor(0.4360, dtype=torch.float64), tensor(0.4383, dtype=torch.float64), tensor(0.4411, dtype=torch.float64), tensor(0.4338, dtype=torch.float64), tensor(0.4406, dtype=torch.float64), tensor(0.4388, dtype=torch.float64), tensor(0.4378, dtype=torch.float64), tensor(0.4375, dtype=torch.float64), tensor(0.4373, dtype=torch.float64), tensor(0.4407, dtype=torch.float64), tensor(0.4379, dtype=torch.float64), tensor(0.4363, dtype=torch.float64), tensor(0.4400, dtype=torch.float64), tensor(0.4393, dtype=torch.float64), tensor(0.4419, dtype=torch.float64), tensor(0.4376, dtype=torch.float64), tensor(0.4338, dtype=torch.float64), tensor(0.4326, dtype=torch.float64), tensor(0.4412, dtype=torch.float64), tensor(0.4377, dtype=torch.float64), tensor(0.4387, dtype=torch.float64), tensor(0.4414, dtype=torch.float64), tensor(0.4348, dtype=torch.float64), tensor(0.4395, dtype=torch.float64), tensor(0.4349, dtype=torch.float64), tensor(0.4414, dtype=torch.float64), tensor(0.4349, dtype=torch.float64), tensor(0.4355, dtype=torch.float64), tensor(0.4407, dtype=torch.float64), tensor(0.4344, dtype=torch.float64), tensor(0.4379, dtype=torch.float64), tensor(0.4406, dtype=torch.float64), tensor(0.4379, dtype=torch.float64), tensor(0.4350, dtype=torch.float64), tensor(0.4447, dtype=torch.float64), tensor(0.4403, dtype=torch.float64), tensor(0.4374, dtype=torch.float64), tensor(0.4318, dtype=torch.float64), tensor(0.4358, dtype=torch.float64), tensor(0.4314, dtype=torch.float64), tensor(0.4352, dtype=torch.float64), tensor(0.4414, dtype=torch.float64), tensor(0.4349, dtype=torch.float64), tensor(0.4372, dtype=torch.float64), tensor(0.4413, dtype=torch.float64), tensor(0.4330, dtype=torch.float64), tensor(0.4392, dtype=torch.float64), tensor(0.4393, dtype=torch.float64), tensor(0.4338, dtype=torch.float64), tensor(0.4376, dtype=torch.float64), tensor(0.4386, dtype=torch.float64), tensor(0.4375, dtype=torch.float64), tensor(0.4393, dtype=torch.float64), tensor(0.4364, dtype=torch.float64), tensor(0.4348, dtype=torch.float64), tensor(0.4348, dtype=torch.float64), tensor(0.4375, dtype=torch.float64), tensor(0.4407, dtype=torch.float64), tensor(0.4343, dtype=torch.float64), tensor(0.4346, dtype=torch.float64), tensor(0.4376, dtype=torch.float64), tensor(0.4365, dtype=torch.float64), tensor(0.4420, dtype=torch.float64), tensor(0.4403, dtype=torch.float64), tensor(0.4375, dtype=torch.float64), tensor(0.4385, dtype=torch.float64), tensor(0.4373, dtype=torch.float64), tensor(0.4402, dtype=torch.float64), tensor(0.4375, dtype=torch.float64), tensor(0.4440, dtype=torch.float64), tensor(0.4339, dtype=torch.float64), tensor(0.4389, dtype=torch.float64), tensor(0.4387, dtype=torch.float64), tensor(0.4382, dtype=torch.float64), tensor(0.4393, dtype=torch.float64), tensor(0.4411, dtype=torch.float64), tensor(0.4389, dtype=torch.float64), tensor(0.4380, dtype=torch.float64), tensor(0.4355, dtype=torch.float64), tensor(0.4393, dtype=torch.float64), tensor(0.4337, dtype=torch.float64), tensor(0.4364, dtype=torch.float64), tensor(0.4346, dtype=torch.float64), tensor(0.4416, dtype=torch.float64), tensor(0.4385, dtype=torch.float64), tensor(0.4344, dtype=torch.float64), tensor(0.4383, dtype=torch.float64), tensor(0.4415, dtype=torch.float64), tensor(0.4409, dtype=torch.float64), tensor(0.4420, dtype=torch.float64), tensor(0.4368, dtype=torch.float64), tensor(0.4357, dtype=torch.float64), tensor(0.4414, dtype=torch.float64), tensor(0.4368, dtype=torch.float64), tensor(0.4353, dtype=torch.float64), tensor(0.4354, dtype=torch.float64), tensor(0.4356, dtype=torch.float64), tensor(0.4374, dtype=torch.float64), tensor(0.4365, dtype=torch.float64), tensor(0.4363, dtype=torch.float64), tensor(0.4365, dtype=torch.float64), tensor(0.4354, dtype=torch.float64), tensor(0.4399, dtype=torch.float64), tensor(0.4352, dtype=torch.float64), tensor(0.4381, dtype=torch.float64), tensor(0.4378, dtype=torch.float64), tensor(0.4417, dtype=torch.float64), tensor(0.4375, dtype=torch.float64), tensor(0.4381, dtype=torch.float64), tensor(0.4472, dtype=torch.float64), tensor(0.4420, dtype=torch.float64), tensor(0.4406, dtype=torch.float64), tensor(0.4304, dtype=torch.float64), tensor(0.4347, dtype=torch.float64), tensor(0.4376, dtype=torch.float64), tensor(0.4377, dtype=torch.float64), tensor(0.4375, dtype=torch.float64), tensor(0.4389, dtype=torch.float64), tensor(0.4384, dtype=torch.float64), tensor(0.4363, dtype=torch.float64), tensor(0.4358, dtype=torch.float64), tensor(0.4401, dtype=torch.float64), tensor(0.4361, dtype=torch.float64), tensor(0.4395, dtype=torch.float64), tensor(0.4370, dtype=torch.float64), tensor(0.4386, dtype=torch.float64), tensor(0.4369, dtype=torch.float64), tensor(0.4377, dtype=torch.float64), tensor(0.4351, dtype=torch.float64), tensor(0.4409, dtype=torch.float64), tensor(0.4405, dtype=torch.float64), tensor(0.4390, dtype=torch.float64), tensor(0.4363, dtype=torch.float64), tensor(0.4365, dtype=torch.float64), tensor(0.4384, dtype=torch.float64), tensor(0.4393, dtype=torch.float64), tensor(0.4388, dtype=torch.float64), tensor(0.4354, dtype=torch.float64), tensor(0.4332, dtype=torch.float64), tensor(0.4363, dtype=torch.float64), tensor(0.4380, dtype=torch.float64), tensor(0.4357, dtype=torch.float64), tensor(0.4367, dtype=torch.float64), tensor(0.4413, dtype=torch.float64), tensor(0.4340, dtype=torch.float64), tensor(0.4408, dtype=torch.float64), tensor(0.4337, dtype=torch.float64), tensor(0.4442, dtype=torch.float64), tensor(0.4423, dtype=torch.float64), tensor(0.4383, dtype=torch.float64), tensor(0.4368, dtype=torch.float64), tensor(0.4328, dtype=torch.float64), tensor(0.4385, dtype=torch.float64), tensor(0.4367, dtype=torch.float64), tensor(0.4363, dtype=torch.float64), tensor(0.4359, dtype=torch.float64), tensor(0.4368, dtype=torch.float64), tensor(0.4401, dtype=torch.float64), tensor(0.4389, dtype=torch.float64), tensor(0.4341, dtype=torch.float64), tensor(0.4356, dtype=torch.float64), tensor(0.4374, dtype=torch.float64), tensor(0.4349, dtype=torch.float64), tensor(0.4403, dtype=torch.float64), tensor(0.4372, dtype=torch.float64), tensor(0.4341, dtype=torch.float64), tensor(0.4421, dtype=torch.float64), tensor(0.4389, dtype=torch.float64), tensor(0.4407, dtype=torch.float64), tensor(0.4354, dtype=torch.float64), tensor(0.4390, dtype=torch.float64), tensor(0.4360, dtype=torch.float64), tensor(0.4392, dtype=torch.float64), tensor(0.4384, dtype=torch.float64), tensor(0.4373, dtype=torch.float64), tensor(0.4356, dtype=torch.float64), tensor(0.4368, dtype=torch.float64), tensor(0.4359, dtype=torch.float64), tensor(0.4346, dtype=torch.float64), tensor(0.4381, dtype=torch.float64), tensor(0.4431, dtype=torch.float64), tensor(0.4399, dtype=torch.float64), tensor(0.4349, dtype=torch.float64), tensor(0.4358, dtype=torch.float64), tensor(0.4379, dtype=torch.float64), tensor(0.4336, dtype=torch.float64), tensor(0.4367, dtype=torch.float64), tensor(0.4350, dtype=torch.float64), tensor(0.4386, dtype=torch.float64), tensor(0.4370, dtype=torch.float64), tensor(0.4381, dtype=torch.float64), tensor(0.4385, dtype=torch.float64), tensor(0.4428, dtype=torch.float64), tensor(0.4397, dtype=torch.float64), tensor(0.4379, dtype=torch.float64), tensor(0.4398, dtype=torch.float64), tensor(0.4356, dtype=torch.float64), tensor(0.4354, dtype=torch.float64), tensor(0.4396, dtype=torch.float64), tensor(0.4344, dtype=torch.float64), tensor(0.4365, dtype=torch.float64), tensor(0.4418, dtype=torch.float64), tensor(0.4400, dtype=torch.float64), tensor(0.4389, dtype=torch.float64), tensor(0.4385, dtype=torch.float64), tensor(0.4361, dtype=torch.float64), tensor(0.4364, dtype=torch.float64), tensor(0.4384, dtype=torch.float64), tensor(0.4334, dtype=torch.float64), tensor(0.4374, dtype=torch.float64), tensor(0.4368, dtype=torch.float64), tensor(0.4367, dtype=torch.float64), tensor(0.4355, dtype=torch.float64), tensor(0.4368, dtype=torch.float64), tensor(0.4324, dtype=torch.float64), tensor(0.4352, dtype=torch.float64), tensor(0.4350, dtype=torch.float64), tensor(0.4391, dtype=torch.float64), tensor(0.4377, dtype=torch.float64), tensor(0.4377, dtype=torch.float64), tensor(0.4384, dtype=torch.float64), tensor(0.4396, dtype=torch.float64), tensor(0.4381, dtype=torch.float64), tensor(0.4359, dtype=torch.float64), tensor(0.4335, dtype=torch.float64), tensor(0.4395, dtype=torch.float64), tensor(0.4377, dtype=torch.float64), tensor(0.4369, dtype=torch.float64), tensor(0.4354, dtype=torch.float64), tensor(0.4349, dtype=torch.float64), tensor(0.4379, dtype=torch.float64), tensor(0.4349, dtype=torch.float64), tensor(0.4362, dtype=torch.float64), tensor(0.4392, dtype=torch.float64), tensor(0.4367, dtype=torch.float64), tensor(0.4376, dtype=torch.float64), tensor(0.4363, dtype=torch.float64), tensor(0.4418, dtype=torch.float64), tensor(0.4351, dtype=torch.float64), tensor(0.4395, dtype=torch.float64), tensor(0.4358, dtype=torch.float64), tensor(0.4342, dtype=torch.float64), tensor(0.4367, dtype=torch.float64), tensor(0.4321, dtype=torch.float64), tensor(0.4387, dtype=torch.float64), tensor(0.4362, dtype=torch.float64), tensor(0.4381, dtype=torch.float64), tensor(0.4376, dtype=torch.float64), tensor(0.4360, dtype=torch.float64), tensor(0.4332, dtype=torch.float64), tensor(0.4374, dtype=torch.float64), tensor(0.4362, dtype=torch.float64), tensor(0.4395, dtype=torch.float64), tensor(0.4442, dtype=torch.float64), tensor(0.4380, dtype=torch.float64), tensor(0.4389, dtype=torch.float64), tensor(0.4369, dtype=torch.float64), tensor(0.4350, dtype=torch.float64), tensor(0.4384, dtype=torch.float64), tensor(0.4385, dtype=torch.float64), tensor(0.4386, dtype=torch.float64), tensor(0.4397, dtype=torch.float64), tensor(0.4370, dtype=torch.float64), tensor(0.4383, dtype=torch.float64), tensor(0.4397, dtype=torch.float64), tensor(0.4349, dtype=torch.float64), tensor(0.4371, dtype=torch.float64), tensor(0.4338, dtype=torch.float64), tensor(0.4394, dtype=torch.float64), tensor(0.4422, dtype=torch.float64), tensor(0.4408, dtype=torch.float64), tensor(0.4375, dtype=torch.float64), tensor(0.4364, dtype=torch.float64), tensor(0.4375, dtype=torch.float64), tensor(0.4394, dtype=torch.float64), tensor(0.4367, dtype=torch.float64), tensor(0.4382, dtype=torch.float64), tensor(0.4359, dtype=torch.float64), tensor(0.4432, dtype=torch.float64), tensor(0.4355, dtype=torch.float64), tensor(0.4354, dtype=torch.float64), tensor(0.4372, dtype=torch.float64), tensor(0.4337, dtype=torch.float64), tensor(0.4387, dtype=torch.float64), tensor(0.4402, dtype=torch.float64), tensor(0.4344, dtype=torch.float64), tensor(0.4375, dtype=torch.float64), tensor(0.4380, dtype=torch.float64), tensor(0.4373, dtype=torch.float64), tensor(0.4364, dtype=torch.float64), tensor(0.4398, dtype=torch.float64), tensor(0.4369, dtype=torch.float64), tensor(0.4420, dtype=torch.float64), tensor(0.4428, dtype=torch.float64), tensor(0.4363, dtype=torch.float64), tensor(0.4379, dtype=torch.float64), tensor(0.4353, dtype=torch.float64), tensor(0.4392, dtype=torch.float64), tensor(0.4391, dtype=torch.float64), tensor(0.4364, dtype=torch.float64), tensor(0.4392, dtype=torch.float64), tensor(0.4359, dtype=torch.float64), tensor(0.4418, dtype=torch.float64), tensor(0.4363, dtype=torch.float64), tensor(0.4389, dtype=torch.float64), tensor(0.4326, dtype=torch.float64), tensor(0.4354, dtype=torch.float64), tensor(0.4367, dtype=torch.float64), tensor(0.4418, dtype=torch.float64), tensor(0.4354, dtype=torch.float64), tensor(0.4262, dtype=torch.float64), tensor(0.4383, dtype=torch.float64), tensor(0.4364, dtype=torch.float64), tensor(0.4397, dtype=torch.float64), tensor(0.4370, dtype=torch.float64), tensor(0.4324, dtype=torch.float64), tensor(0.4358, dtype=torch.float64), tensor(0.4443, dtype=torch.float64), tensor(0.4397, dtype=torch.float64), tensor(0.4370, dtype=torch.float64), tensor(0.4399, dtype=torch.float64), tensor(0.4330, dtype=torch.float64), tensor(0.4349, dtype=torch.float64), tensor(0.4366, dtype=torch.float64), tensor(0.4448, dtype=torch.float64), tensor(0.4382, dtype=torch.float64), tensor(0.4363, dtype=torch.float64), tensor(0.4361, dtype=torch.float64), tensor(0.4359, dtype=torch.float64), tensor(0.4395, dtype=torch.float64), tensor(0.4419, dtype=torch.float64), tensor(0.4384, dtype=torch.float64), tensor(0.4400, dtype=torch.float64), tensor(0.4349, dtype=torch.float64), tensor(0.4435, dtype=torch.float64), tensor(0.4380, dtype=torch.float64), tensor(0.4385, dtype=torch.float64), tensor(0.4403, dtype=torch.float64), tensor(0.4408, dtype=torch.float64), tensor(0.4373, dtype=torch.float64), tensor(0.4362, dtype=torch.float64), tensor(0.4353, dtype=torch.float64), tensor(0.4337, dtype=torch.float64), tensor(0.4350, dtype=torch.float64), tensor(0.4358, dtype=torch.float64), tensor(0.4345, dtype=torch.float64), tensor(0.4393, dtype=torch.float64), tensor(0.4395, dtype=torch.float64), tensor(0.4373, dtype=torch.float64), tensor(0.4377, dtype=torch.float64), tensor(0.4398, dtype=torch.float64), tensor(0.4381, dtype=torch.float64), tensor(0.4364, dtype=torch.float64), tensor(0.4394, dtype=torch.float64), tensor(0.4383, dtype=torch.float64), tensor(0.4365, dtype=torch.float64), tensor(0.4436, dtype=torch.float64), tensor(0.4373, dtype=torch.float64), tensor(0.4405, dtype=torch.float64), tensor(0.4407, dtype=torch.float64), tensor(0.4351, dtype=torch.float64), tensor(0.4386, dtype=torch.float64), tensor(0.4307, dtype=torch.float64), tensor(0.4410, dtype=torch.float64), tensor(0.4376, dtype=torch.float64), tensor(0.4374, dtype=torch.float64), tensor(0.4398, dtype=torch.float64), tensor(0.4374, dtype=torch.float64), tensor(0.4393, dtype=torch.float64), tensor(0.4410, dtype=torch.float64), tensor(0.4345, dtype=torch.float64), tensor(0.4390, dtype=torch.float64), tensor(0.4385, dtype=torch.float64), tensor(0.4359, dtype=torch.float64), tensor(0.4366, dtype=torch.float64), tensor(0.4402, dtype=torch.float64), tensor(0.4359, dtype=torch.float64), tensor(0.4389, dtype=torch.float64), tensor(0.4353, dtype=torch.float64), tensor(0.4448, dtype=torch.float64), tensor(0.4347, dtype=torch.float64), tensor(0.4402, dtype=torch.float64), tensor(0.4375, dtype=torch.float64), tensor(0.4391, dtype=torch.float64), tensor(0.4372, dtype=torch.float64), tensor(0.4346, dtype=torch.float64), tensor(0.4409, dtype=torch.float64), tensor(0.4398, dtype=torch.float64), tensor(0.4376, dtype=torch.float64), tensor(0.4432, dtype=torch.float64), tensor(0.4386, dtype=torch.float64), tensor(0.4378, dtype=torch.float64), tensor(0.4389, dtype=torch.float64), tensor(0.4391, dtype=torch.float64), tensor(0.4360, dtype=torch.float64), tensor(0.4343, dtype=torch.float64), tensor(0.4381, dtype=torch.float64), tensor(0.4379, dtype=torch.float64), tensor(0.4389, dtype=torch.float64), tensor(0.4396, dtype=torch.float64), tensor(0.4380, dtype=torch.float64), tensor(0.4433, dtype=torch.float64), tensor(0.4386, dtype=torch.float64), tensor(0.4396, dtype=torch.float64), tensor(0.4378, dtype=torch.float64), tensor(0.4355, dtype=torch.float64), tensor(0.4383, dtype=torch.float64), tensor(0.4377, dtype=torch.float64), tensor(0.4359, dtype=torch.float64), tensor(0.4402, dtype=torch.float64), tensor(0.4365, dtype=torch.float64), tensor(0.4389, dtype=torch.float64), tensor(0.4418, dtype=torch.float64), tensor(0.4375, dtype=torch.float64), tensor(0.4335, dtype=torch.float64), tensor(0.4369, dtype=torch.float64), tensor(0.4370, dtype=torch.float64), tensor(0.4412, dtype=torch.float64), tensor(0.4387, dtype=torch.float64), tensor(0.4454, dtype=torch.float64), tensor(0.4341, dtype=torch.float64), tensor(0.4346, dtype=torch.float64), tensor(0.4348, dtype=torch.float64), tensor(0.4332, dtype=torch.float64), tensor(0.4381, dtype=torch.float64), tensor(0.4409, dtype=torch.float64), tensor(0.4400, dtype=torch.float64), tensor(0.4364, dtype=torch.float64), tensor(0.4391, dtype=torch.float64), tensor(0.4374, dtype=torch.float64), tensor(0.4414, dtype=torch.float64), tensor(0.4375, dtype=torch.float64), tensor(0.4377, dtype=torch.float64), tensor(0.4341, dtype=torch.float64), tensor(0.4372, dtype=torch.float64), tensor(0.4375, dtype=torch.float64), tensor(0.4336, dtype=torch.float64), tensor(0.4344, dtype=torch.float64), tensor(0.4393, dtype=torch.float64), tensor(0.4371, dtype=torch.float64), tensor(0.4400, dtype=torch.float64), tensor(0.4424, dtype=torch.float64), tensor(0.4369, dtype=torch.float64), tensor(0.4361, dtype=torch.float64), tensor(0.4400, dtype=torch.float64), tensor(0.4379, dtype=torch.float64), tensor(0.4332, dtype=torch.float64), tensor(0.4372, dtype=torch.float64), tensor(0.4354, dtype=torch.float64), tensor(0.4315, dtype=torch.float64), tensor(0.4364, dtype=torch.float64), tensor(0.4410, dtype=torch.float64), tensor(0.4365, dtype=torch.float64), tensor(0.4310, dtype=torch.float64), tensor(0.4373, dtype=torch.float64), tensor(0.4357, dtype=torch.float64), tensor(0.4391, dtype=torch.float64), tensor(0.4338, dtype=torch.float64), tensor(0.4340, dtype=torch.float64), tensor(0.4395, dtype=torch.float64), tensor(0.4380, dtype=torch.float64), tensor(0.4400, dtype=torch.float64), tensor(0.4372, dtype=torch.float64), tensor(0.4363, dtype=torch.float64), tensor(0.4383, dtype=torch.float64), tensor(0.4367, dtype=torch.float64), tensor(0.4397, dtype=torch.float64), tensor(0.4376, dtype=torch.float64), tensor(0.4378, dtype=torch.float64), tensor(0.4440, dtype=torch.float64), tensor(0.4409, dtype=torch.float64), tensor(0.4380, dtype=torch.float64), tensor(0.4394, dtype=torch.float64), tensor(0.4378, dtype=torch.float64), tensor(0.4398, dtype=torch.float64), tensor(0.4384, dtype=torch.float64), tensor(0.4338, dtype=torch.float64), tensor(0.4379, dtype=torch.float64), tensor(0.4371, dtype=torch.float64), tensor(0.4388, dtype=torch.float64), tensor(0.4359, dtype=torch.float64), tensor(0.4379, dtype=torch.float64), tensor(0.4396, dtype=torch.float64), tensor(0.4393, dtype=torch.float64), tensor(0.4398, dtype=torch.float64), tensor(0.4359, dtype=torch.float64), tensor(0.4400, dtype=torch.float64), tensor(0.4368, dtype=torch.float64), tensor(0.4366, dtype=torch.float64), tensor(0.4387, dtype=torch.float64), tensor(0.4374, dtype=torch.float64), tensor(0.4355, dtype=torch.float64), tensor(0.4332, dtype=torch.float64), tensor(0.4378, dtype=torch.float64), tensor(0.4354, dtype=torch.float64), tensor(0.4417, dtype=torch.float64), tensor(0.4362, dtype=torch.float64), tensor(0.4407, dtype=torch.float64), tensor(0.4357, dtype=torch.float64), tensor(0.4388, dtype=torch.float64), tensor(0.4390, dtype=torch.float64), tensor(0.4356, dtype=torch.float64), tensor(0.4360, dtype=torch.float64), tensor(0.4321, dtype=torch.float64), tensor(0.4416, dtype=torch.float64), tensor(0.4361, dtype=torch.float64), tensor(0.4378, dtype=torch.float64), tensor(0.4319, dtype=torch.float64), tensor(0.4349, dtype=torch.float64), tensor(0.4414, dtype=torch.float64), tensor(0.4377, dtype=torch.float64), tensor(0.4378, dtype=torch.float64), tensor(0.4354, dtype=torch.float64), tensor(0.4411, dtype=torch.float64), tensor(0.4359, dtype=torch.float64), tensor(0.4329, dtype=torch.float64), tensor(0.4369, dtype=torch.float64), tensor(0.4368, dtype=torch.float64), tensor(0.4396, dtype=torch.float64), tensor(0.4353, dtype=torch.float64), tensor(0.4379, dtype=torch.float64), tensor(0.4387, dtype=torch.float64), tensor(0.4408, dtype=torch.float64), tensor(0.4357, dtype=torch.float64), tensor(0.4367, dtype=torch.float64), tensor(0.4387, dtype=torch.float64), tensor(0.4387, dtype=torch.float64), tensor(0.4364, dtype=torch.float64), tensor(0.4372, dtype=torch.float64), tensor(0.4458, dtype=torch.float64), tensor(0.4363, dtype=torch.float64), tensor(0.4377, dtype=torch.float64), tensor(0.4422, dtype=torch.float64), tensor(0.4426, dtype=torch.float64), tensor(0.4265, dtype=torch.float64), tensor(0.4359, dtype=torch.float64), tensor(0.4374, dtype=torch.float64), tensor(0.4340, dtype=torch.float64), tensor(0.4365, dtype=torch.float64), tensor(0.4439, dtype=torch.float64), tensor(0.4400, dtype=torch.float64), tensor(0.4398, dtype=torch.float64), tensor(0.4383, dtype=torch.float64), tensor(0.4386, dtype=torch.float64), tensor(0.4411, dtype=torch.float64), tensor(0.4328, dtype=torch.float64), tensor(0.4393, dtype=torch.float64), tensor(0.4386, dtype=torch.float64), tensor(0.4403, dtype=torch.float64), tensor(0.4358, dtype=torch.float64), tensor(0.4370, dtype=torch.float64), tensor(0.4381, dtype=torch.float64), tensor(0.4376, dtype=torch.float64), tensor(0.4359, dtype=torch.float64), tensor(0.4372, dtype=torch.float64), tensor(0.4310, dtype=torch.float64), tensor(0.4340, dtype=torch.float64), tensor(0.4388, dtype=torch.float64), tensor(0.4383, dtype=torch.float64), tensor(0.4360, dtype=torch.float64), tensor(0.4346, dtype=torch.float64), tensor(0.4405, dtype=torch.float64), tensor(0.4363, dtype=torch.float64), tensor(0.4402, dtype=torch.float64), tensor(0.4373, dtype=torch.float64), tensor(0.4362, dtype=torch.float64), tensor(0.4348, dtype=torch.float64), tensor(0.4384, dtype=torch.float64), tensor(0.4356, dtype=torch.float64), tensor(0.4372, dtype=torch.float64), tensor(0.4384, dtype=torch.float64), tensor(0.4361, dtype=torch.float64), tensor(0.4363, dtype=torch.float64), tensor(0.4345, dtype=torch.float64), tensor(0.4346, dtype=torch.float64), tensor(0.4386, dtype=torch.float64), tensor(0.4381, dtype=torch.float64), tensor(0.4359, dtype=torch.float64), tensor(0.4385, dtype=torch.float64), tensor(0.4364, dtype=torch.float64), tensor(0.4342, dtype=torch.float64), tensor(0.4377, dtype=torch.float64), tensor(0.4395, dtype=torch.float64), tensor(0.4418, dtype=torch.float64), tensor(0.4357, dtype=torch.float64), tensor(0.4373, dtype=torch.float64), tensor(0.4418, dtype=torch.float64), tensor(0.4401, dtype=torch.float64), tensor(0.4393, dtype=torch.float64), tensor(0.4351, dtype=torch.float64), tensor(0.4409, dtype=torch.float64), tensor(0.4380, dtype=torch.float64), tensor(0.4377, dtype=torch.float64), tensor(0.4418, dtype=torch.float64), tensor(0.4337, dtype=torch.float64), tensor(0.4304, dtype=torch.float64), tensor(0.4304, dtype=torch.float64), tensor(0.4391, dtype=torch.float64), tensor(0.4366, dtype=torch.float64), tensor(0.4378, dtype=torch.float64), tensor(0.4398, dtype=torch.float64), tensor(0.4387, dtype=torch.float64), tensor(0.4385, dtype=torch.float64), tensor(0.4430, dtype=torch.float64), tensor(0.4388, dtype=torch.float64), tensor(0.4356, dtype=torch.float64), tensor(0.4387, dtype=torch.float64), tensor(0.4391, dtype=torch.float64), tensor(0.4416, dtype=torch.float64), tensor(0.4368, dtype=torch.float64), tensor(0.4406, dtype=torch.float64), tensor(0.4386, dtype=torch.float64), tensor(0.4378, dtype=torch.float64), tensor(0.4372, dtype=torch.float64), tensor(0.4396, dtype=torch.float64), tensor(0.4366, dtype=torch.float64), tensor(0.4438, dtype=torch.float64), tensor(0.4380, dtype=torch.float64), tensor(0.4370, dtype=torch.float64), tensor(0.4392, dtype=torch.float64), tensor(0.4351, dtype=torch.float64), tensor(0.4346, dtype=torch.float64), tensor(0.4360, dtype=torch.float64), tensor(0.4359, dtype=torch.float64), tensor(0.4416, dtype=torch.float64), tensor(0.4357, dtype=torch.float64), tensor(0.4401, dtype=torch.float64), tensor(0.4402, dtype=torch.float64), tensor(0.4377, dtype=torch.float64), tensor(0.4379, dtype=torch.float64), tensor(0.4365, dtype=torch.float64), tensor(0.4367, dtype=torch.float64), tensor(0.4360, dtype=torch.float64), tensor(0.4336, dtype=torch.float64), tensor(0.4392, dtype=torch.float64), tensor(0.4357, dtype=torch.float64), tensor(0.4423, dtype=torch.float64), tensor(0.4372, dtype=torch.float64), tensor(0.4388, dtype=torch.float64), tensor(0.4359, dtype=torch.float64), tensor(0.4378, dtype=torch.float64), tensor(0.4388, dtype=torch.float64), tensor(0.4392, dtype=torch.float64), tensor(0.4355, dtype=torch.float64), tensor(0.4388, dtype=torch.float64), tensor(0.4418, dtype=torch.float64), tensor(0.4351, dtype=torch.float64), tensor(0.4333, dtype=torch.float64), tensor(0.4351, dtype=torch.float64), tensor(0.4377, dtype=torch.float64), tensor(0.4409, dtype=torch.float64), tensor(0.4389, dtype=torch.float64), tensor(0.4380, dtype=torch.float64), tensor(0.4365, dtype=torch.float64), tensor(0.4372, dtype=torch.float64), tensor(0.4430, dtype=torch.float64), tensor(0.4386, dtype=torch.float64), tensor(0.4382, dtype=torch.float64), tensor(0.4352, dtype=torch.float64), tensor(0.4394, dtype=torch.float64), tensor(0.4392, dtype=torch.float64), tensor(0.4371, dtype=torch.float64), tensor(0.4349, dtype=torch.float64), tensor(0.4416, dtype=torch.float64), tensor(0.4436, dtype=torch.float64), tensor(0.4380, dtype=torch.float64), tensor(0.4402, dtype=torch.float64), tensor(0.4420, dtype=torch.float64), tensor(0.4370, dtype=torch.float64), tensor(0.4397, dtype=torch.float64), tensor(0.4395, dtype=torch.float64), tensor(0.4369, dtype=torch.float64), tensor(0.4380, dtype=torch.float64), tensor(0.4357, dtype=torch.float64), tensor(0.4319, dtype=torch.float64), tensor(0.4373, dtype=torch.float64), tensor(0.4389, dtype=torch.float64), tensor(0.4397, dtype=torch.float64), tensor(0.4376, dtype=torch.float64), tensor(0.4398, dtype=torch.float64), tensor(0.4380, dtype=torch.float64), tensor(0.4346, dtype=torch.float64), tensor(0.4364, dtype=torch.float64), tensor(0.4402, dtype=torch.float64), tensor(0.4354, dtype=torch.float64), tensor(0.4388, dtype=torch.float64), tensor(0.4396, dtype=torch.float64), tensor(0.4404, dtype=torch.float64), tensor(0.4359, dtype=torch.float64), tensor(0.4356, dtype=torch.float64), tensor(0.4389, dtype=torch.float64), tensor(0.4345, dtype=torch.float64), tensor(0.4320, dtype=torch.float64), tensor(0.4421, dtype=torch.float64), tensor(0.4379, dtype=torch.float64), tensor(0.4367, dtype=torch.float64), tensor(0.4392, dtype=torch.float64), tensor(0.4356, dtype=torch.float64), tensor(0.4384, dtype=torch.float64), tensor(0.4408, dtype=torch.float64), tensor(0.4384, dtype=torch.float64), tensor(0.4389, dtype=torch.float64), tensor(0.4421, dtype=torch.float64), tensor(0.4413, dtype=torch.float64), tensor(0.4418, dtype=torch.float64), tensor(0.4374, dtype=torch.float64), tensor(0.4341, dtype=torch.float64), tensor(0.4388, dtype=torch.float64), tensor(0.4336, dtype=torch.float64), tensor(0.4410, dtype=torch.float64), tensor(0.4361, dtype=torch.float64), tensor(0.4367, dtype=torch.float64), tensor(0.4413, dtype=torch.float64), tensor(0.4373, dtype=torch.float64), tensor(0.4435, dtype=torch.float64), tensor(0.4427, dtype=torch.float64), tensor(0.4389, dtype=torch.float64), tensor(0.4371, dtype=torch.float64), tensor(0.4393, dtype=torch.float64), tensor(0.4434, dtype=torch.float64), tensor(0.4365, dtype=torch.float64), tensor(0.4373, dtype=torch.float64), tensor(0.4339, dtype=torch.float64), tensor(0.4391, dtype=torch.float64), tensor(0.4395, dtype=torch.float64), tensor(0.4379, dtype=torch.float64), tensor(0.4357, dtype=torch.float64), tensor(0.4404, dtype=torch.float64), tensor(0.4348, dtype=torch.float64), tensor(0.4371, dtype=torch.float64), tensor(0.4370, dtype=torch.float64), tensor(0.4373, dtype=torch.float64), tensor(0.4342, dtype=torch.float64), tensor(0.4408, dtype=torch.float64), tensor(0.4375, dtype=torch.float64), tensor(0.4379, dtype=torch.float64), tensor(0.4330, dtype=torch.float64), tensor(0.4431, dtype=torch.float64), tensor(0.4349, dtype=torch.float64), tensor(0.4396, dtype=torch.float64), tensor(0.4341, dtype=torch.float64), tensor(0.4415, dtype=torch.float64), tensor(0.4383, dtype=torch.float64), tensor(0.4380, dtype=torch.float64), tensor(0.4353, dtype=torch.float64), tensor(0.4332, dtype=torch.float64), tensor(0.4384, dtype=torch.float64), tensor(0.4411, dtype=torch.float64), tensor(0.4351, dtype=torch.float64), tensor(0.4369, dtype=torch.float64), tensor(0.4387, dtype=torch.float64), tensor(0.4358, dtype=torch.float64), tensor(0.4370, dtype=torch.float64), tensor(0.4392, dtype=torch.float64), tensor(0.4363, dtype=torch.float64), tensor(0.4403, dtype=torch.float64), tensor(0.4384, dtype=torch.float64), tensor(0.4407, dtype=torch.float64), tensor(0.4363, dtype=torch.float64), tensor(0.4312, dtype=torch.float64), tensor(0.4352, dtype=torch.float64), tensor(0.4424, dtype=torch.float64), tensor(0.4377, dtype=torch.float64), tensor(0.4380, dtype=torch.float64), tensor(0.4368, dtype=torch.float64), tensor(0.4376, dtype=torch.float64), tensor(0.4389, dtype=torch.float64), tensor(0.4341, dtype=torch.float64), tensor(0.4406, dtype=torch.float64), tensor(0.4394, dtype=torch.float64), tensor(0.4385, dtype=torch.float64), tensor(0.4425, dtype=torch.float64), tensor(0.4366, dtype=torch.float64), tensor(0.4365, dtype=torch.float64), tensor(0.4374, dtype=torch.float64), tensor(0.4345, dtype=torch.float64), tensor(0.4344, dtype=torch.float64), tensor(0.4350, dtype=torch.float64), tensor(0.4394, dtype=torch.float64), tensor(0.4345, dtype=torch.float64), tensor(0.4374, dtype=torch.float64), tensor(0.4338, dtype=torch.float64), tensor(0.4384, dtype=torch.float64), tensor(0.4364, dtype=torch.float64), tensor(0.4358, dtype=torch.float64), tensor(0.4402, dtype=torch.float64), tensor(0.4367, dtype=torch.float64), tensor(0.4364, dtype=torch.float64), tensor(0.4341, dtype=torch.float64), tensor(0.4439, dtype=torch.float64), tensor(0.4398, dtype=torch.float64), tensor(0.4404, dtype=torch.float64), tensor(0.4376, dtype=torch.float64), tensor(0.4370, dtype=torch.float64), tensor(0.4357, dtype=torch.float64), tensor(0.4353, dtype=torch.float64), tensor(0.4384, dtype=torch.float64), tensor(0.4346, dtype=torch.float64), tensor(0.4387, dtype=torch.float64), tensor(0.4346, dtype=torch.float64), tensor(0.4373, dtype=torch.float64), tensor(0.4418, dtype=torch.float64), tensor(0.4345, dtype=torch.float64), tensor(0.4377, dtype=torch.float64), tensor(0.4390, dtype=torch.float64), tensor(0.4392, dtype=torch.float64), tensor(0.4319, dtype=torch.float64), tensor(0.4372, dtype=torch.float64), tensor(0.4387, dtype=torch.float64), tensor(0.4373, dtype=torch.float64), tensor(0.4373, dtype=torch.float64), tensor(0.4382, dtype=torch.float64), tensor(0.4349, dtype=torch.float64), tensor(0.4433, dtype=torch.float64), tensor(0.4411, dtype=torch.float64), tensor(0.4414, dtype=torch.float64), tensor(0.4368, dtype=torch.float64), tensor(0.4371, dtype=torch.float64), tensor(0.4398, dtype=torch.float64), tensor(0.4394, dtype=torch.float64), tensor(0.4350, dtype=torch.float64), tensor(0.4375, dtype=torch.float64), tensor(0.4400, dtype=torch.float64), tensor(0.4393, dtype=torch.float64), tensor(0.4403, dtype=torch.float64), tensor(0.4360, dtype=torch.float64), tensor(0.4379, dtype=torch.float64), tensor(0.4441, dtype=torch.float64), tensor(0.4363, dtype=torch.float64), tensor(0.4373, dtype=torch.float64), tensor(0.4407, dtype=torch.float64), tensor(0.4377, dtype=torch.float64), tensor(0.4400, dtype=torch.float64), tensor(0.4331, dtype=torch.float64), tensor(0.4387, dtype=torch.float64), tensor(0.4381, dtype=torch.float64), tensor(0.4359, dtype=torch.float64), tensor(0.4362, dtype=torch.float64), tensor(0.4367, dtype=torch.float64), tensor(0.4400, dtype=torch.float64), tensor(0.4423, dtype=torch.float64), tensor(0.4410, dtype=torch.float64), tensor(0.4375, dtype=torch.float64), tensor(0.4360, dtype=torch.float64), tensor(0.4366, dtype=torch.float64), tensor(0.4359, dtype=torch.float64), tensor(0.4337, dtype=torch.float64), tensor(0.4397, dtype=torch.float64), tensor(0.4352, dtype=torch.float64), tensor(0.4387, dtype=torch.float64), tensor(0.4414, dtype=torch.float64), tensor(0.4377, dtype=torch.float64), tensor(0.4369, dtype=torch.float64), tensor(0.4360, dtype=torch.float64), tensor(0.4351, dtype=torch.float64), tensor(0.4400, dtype=torch.float64), tensor(0.4362, dtype=torch.float64), tensor(0.4341, dtype=torch.float64), tensor(0.4382, dtype=torch.float64), tensor(0.4369, dtype=torch.float64), tensor(0.4326, dtype=torch.float64), tensor(0.4382, dtype=torch.float64), tensor(0.4382, dtype=torch.float64), tensor(0.4378, dtype=torch.float64), tensor(0.4343, dtype=torch.float64), tensor(0.4360, dtype=torch.float64), tensor(0.4377, dtype=torch.float64), tensor(0.4404, dtype=torch.float64), tensor(0.4413, dtype=torch.float64), tensor(0.4391, dtype=torch.float64), tensor(0.4320, dtype=torch.float64), tensor(0.4388, dtype=torch.float64), tensor(0.4407, dtype=torch.float64), tensor(0.4366, dtype=torch.float64), tensor(0.4409, dtype=torch.float64), tensor(0.4399, dtype=torch.float64), tensor(0.4386, dtype=torch.float64), tensor(0.4385, dtype=torch.float64), tensor(0.4362, dtype=torch.float64), tensor(0.4345, dtype=torch.float64), tensor(0.4370, dtype=torch.float64), tensor(0.4371, dtype=torch.float64), tensor(0.4347, dtype=torch.float64), tensor(0.4402, dtype=torch.float64), tensor(0.4360, dtype=torch.float64), tensor(0.4374, dtype=torch.float64), tensor(0.4406, dtype=torch.float64), tensor(0.4374, dtype=torch.float64), tensor(0.4371, dtype=torch.float64), tensor(0.4396, dtype=torch.float64), tensor(0.4394, dtype=torch.float64), tensor(0.4417, dtype=torch.float64), tensor(0.4372, dtype=torch.float64), tensor(0.4391, dtype=torch.float64), tensor(0.4392, dtype=torch.float64), tensor(0.4352, dtype=torch.float64), tensor(0.4338, dtype=torch.float64), tensor(0.4380, dtype=torch.float64), tensor(0.4382, dtype=torch.float64), tensor(0.4420, dtype=torch.float64), tensor(0.4361, dtype=torch.float64), tensor(0.4357, dtype=torch.float64), tensor(0.4328, dtype=torch.float64), tensor(0.4373, dtype=torch.float64), tensor(0.4424, dtype=torch.float64), tensor(0.4371, dtype=torch.float64), tensor(0.4388, dtype=torch.float64), tensor(0.4387, dtype=torch.float64), tensor(0.4357, dtype=torch.float64), tensor(0.4375, dtype=torch.float64), tensor(0.4392, dtype=torch.float64), tensor(0.4369, dtype=torch.float64), tensor(0.4366, dtype=torch.float64), tensor(0.4382, dtype=torch.float64), tensor(0.4337, dtype=torch.float64), tensor(0.4362, dtype=torch.float64), tensor(0.4379, dtype=torch.float64), tensor(0.4397, dtype=torch.float64), tensor(0.4362, dtype=torch.float64), tensor(0.4365, dtype=torch.float64), tensor(0.4366, dtype=torch.float64), tensor(0.4387, dtype=torch.float64), tensor(0.4340, dtype=torch.float64), tensor(0.4373, dtype=torch.float64), tensor(0.4371, dtype=torch.float64), tensor(0.4377, dtype=torch.float64), tensor(0.4382, dtype=torch.float64), tensor(0.4393, dtype=torch.float64), tensor(0.4355, dtype=torch.float64), tensor(0.4405, dtype=torch.float64), tensor(0.4390, dtype=torch.float64), tensor(0.4418, dtype=torch.float64), tensor(0.4349, dtype=torch.float64), tensor(0.4391, dtype=torch.float64), tensor(0.4364, dtype=torch.float64), tensor(0.4403, dtype=torch.float64), tensor(0.4377, dtype=torch.float64), tensor(0.4418, dtype=torch.float64), tensor(0.4369, dtype=torch.float64), tensor(0.4392, dtype=torch.float64), tensor(0.4418, dtype=torch.float64), tensor(0.4358, dtype=torch.float64), tensor(0.4368, dtype=torch.float64), tensor(0.4375, dtype=torch.float64), tensor(0.4349, dtype=torch.float64), tensor(0.4376, dtype=torch.float64), tensor(0.4412, dtype=torch.float64), tensor(0.4357, dtype=torch.float64), tensor(0.4421, dtype=torch.float64), tensor(0.4386, dtype=torch.float64), tensor(0.4381, dtype=torch.float64), tensor(0.4385, dtype=torch.float64), tensor(0.4354, dtype=torch.float64), tensor(0.4402, dtype=torch.float64), tensor(0.4340, dtype=torch.float64), tensor(0.4401, dtype=torch.float64), tensor(0.4382, dtype=torch.float64), tensor(0.4380, dtype=torch.float64), tensor(0.4354, dtype=torch.float64), tensor(0.4390, dtype=torch.float64), tensor(0.4379, dtype=torch.float64), tensor(0.4382, dtype=torch.float64), tensor(0.4400, dtype=torch.float64), tensor(0.4400, dtype=torch.float64), tensor(0.4382, dtype=torch.float64), tensor(0.4362, dtype=torch.float64), tensor(0.4387, dtype=torch.float64), tensor(0.4359, dtype=torch.float64), tensor(0.4375, dtype=torch.float64), tensor(0.4413, dtype=torch.float64), tensor(0.4426, dtype=torch.float64), tensor(0.4314, dtype=torch.float64), tensor(0.4363, dtype=torch.float64), tensor(0.4363, dtype=torch.float64), tensor(0.4348, dtype=torch.float64), tensor(0.4378, dtype=torch.float64), tensor(0.4404, dtype=torch.float64), tensor(0.4406, dtype=torch.float64), tensor(0.4316, dtype=torch.float64), tensor(0.4352, dtype=torch.float64), tensor(0.4422, dtype=torch.float64), tensor(0.4362, dtype=torch.float64), tensor(0.4397, dtype=torch.float64), tensor(0.4354, dtype=torch.float64), tensor(0.4363, dtype=torch.float64), tensor(0.4377, dtype=torch.float64), tensor(0.4361, dtype=torch.float64), tensor(0.4351, dtype=torch.float64), tensor(0.4366, dtype=torch.float64), tensor(0.4386, dtype=torch.float64), tensor(0.4367, dtype=torch.float64), tensor(0.4366, dtype=torch.float64), tensor(0.4333, dtype=torch.float64), tensor(0.4344, dtype=torch.float64), tensor(0.4384, dtype=torch.float64), tensor(0.4316, dtype=torch.float64), tensor(0.4377, dtype=torch.float64), tensor(0.4418, dtype=torch.float64), tensor(0.4371, dtype=torch.float64), tensor(0.4338, dtype=torch.float64), tensor(0.4379, dtype=torch.float64), tensor(0.4382, dtype=torch.float64), tensor(0.4421, dtype=torch.float64), tensor(0.4418, dtype=torch.float64), tensor(0.4329, dtype=torch.float64), tensor(0.4406, dtype=torch.float64), tensor(0.4406, dtype=torch.float64), tensor(0.4383, dtype=torch.float64), tensor(0.4384, dtype=torch.float64), tensor(0.4348, dtype=torch.float64), tensor(0.4360, dtype=torch.float64), tensor(0.4409, dtype=torch.float64), tensor(0.4386, dtype=torch.float64), tensor(0.4397, dtype=torch.float64), tensor(0.4378, dtype=torch.float64), tensor(0.4345, dtype=torch.float64), tensor(0.4344, dtype=torch.float64), tensor(0.4355, dtype=torch.float64), tensor(0.4387, dtype=torch.float64), tensor(0.4410, dtype=torch.float64), tensor(0.4373, dtype=torch.float64), tensor(0.4393, dtype=torch.float64), tensor(0.4368, dtype=torch.float64), tensor(0.4357, dtype=torch.float64), tensor(0.4374, dtype=torch.float64), tensor(0.4388, dtype=torch.float64), tensor(0.4370, dtype=torch.float64), tensor(0.4383, dtype=torch.float64), tensor(0.4357, dtype=torch.float64), tensor(0.4373, dtype=torch.float64), tensor(0.4351, dtype=torch.float64), tensor(0.4363, dtype=torch.float64), tensor(0.4394, dtype=torch.float64), tensor(0.4383, dtype=torch.float64), tensor(0.4372, dtype=torch.float64), tensor(0.4347, dtype=torch.float64), tensor(0.4374, dtype=torch.float64), tensor(0.4366, dtype=torch.float64), tensor(0.4367, dtype=torch.float64), tensor(0.4409, dtype=torch.float64), tensor(0.4332, dtype=torch.float64), tensor(0.4389, dtype=torch.float64), tensor(0.4402, dtype=torch.float64), tensor(0.4393, dtype=torch.float64), tensor(0.4432, dtype=torch.float64), tensor(0.4373, dtype=torch.float64), tensor(0.4404, dtype=torch.float64), tensor(0.4367, dtype=torch.float64), tensor(0.4365, dtype=torch.float64), tensor(0.4368, dtype=torch.float64), tensor(0.4412, dtype=torch.float64), tensor(0.4381, dtype=torch.float64), tensor(0.4389, dtype=torch.float64), tensor(0.4373, dtype=torch.float64), tensor(0.4369, dtype=torch.float64), tensor(0.4367, dtype=torch.float64), tensor(0.4386, dtype=torch.float64), tensor(0.4373, dtype=torch.float64), tensor(0.4371, dtype=torch.float64), tensor(0.4378, dtype=torch.float64), tensor(0.4359, dtype=torch.float64), tensor(0.4402, dtype=torch.float64), tensor(0.4339, dtype=torch.float64), tensor(0.4414, dtype=torch.float64), tensor(0.4402, dtype=torch.float64), tensor(0.4350, dtype=torch.float64), tensor(0.4341, dtype=torch.float64), tensor(0.4380, dtype=torch.float64), tensor(0.4351, dtype=torch.float64), tensor(0.4391, dtype=torch.float64), tensor(0.4381, dtype=torch.float64), tensor(0.4389, dtype=torch.float64), tensor(0.4363, dtype=torch.float64), tensor(0.4402, dtype=torch.float64), tensor(0.4401, dtype=torch.float64), tensor(0.4394, dtype=torch.float64), tensor(0.4345, dtype=torch.float64), tensor(0.4401, dtype=torch.float64), tensor(0.4351, dtype=torch.float64), tensor(0.4381, dtype=torch.float64), tensor(0.4374, dtype=torch.float64), tensor(0.4397, dtype=torch.float64), tensor(0.4379, dtype=torch.float64), tensor(0.4378, dtype=torch.float64), tensor(0.4398, dtype=torch.float64), tensor(0.4363, dtype=torch.float64), tensor(0.4365, dtype=torch.float64), tensor(0.4380, dtype=torch.float64), tensor(0.4370, dtype=torch.float64), tensor(0.4395, dtype=torch.float64), tensor(0.4334, dtype=torch.float64), tensor(0.4389, dtype=torch.float64), tensor(0.4410, dtype=torch.float64), tensor(0.4361, dtype=torch.float64), tensor(0.4376, dtype=torch.float64), tensor(0.4365, dtype=torch.float64), tensor(0.4396, dtype=torch.float64), tensor(0.4367, dtype=torch.float64), tensor(0.4363, dtype=torch.float64), tensor(0.4393, dtype=torch.float64), tensor(0.4401, dtype=torch.float64), tensor(0.4383, dtype=torch.float64), tensor(0.4381, dtype=torch.float64), tensor(0.4395, dtype=torch.float64), tensor(0.4353, dtype=torch.float64), tensor(0.4373, dtype=torch.float64), tensor(0.4363, dtype=torch.float64), tensor(0.4388, dtype=torch.float64), tensor(0.4392, dtype=torch.float64), tensor(0.4374, dtype=torch.float64), tensor(0.4315, dtype=torch.float64), tensor(0.4368, dtype=torch.float64), tensor(0.4402, dtype=torch.float64), tensor(0.4390, dtype=torch.float64), tensor(0.4348, dtype=torch.float64), tensor(0.4376, dtype=torch.float64), tensor(0.4345, dtype=torch.float64), tensor(0.4370, dtype=torch.float64), tensor(0.4399, dtype=torch.float64), tensor(0.4367, dtype=torch.float64), tensor(0.4424, dtype=torch.float64), tensor(0.4396, dtype=torch.float64), tensor(0.4317, dtype=torch.float64), tensor(0.4393, dtype=torch.float64), tensor(0.4358, dtype=torch.float64), tensor(0.4347, dtype=torch.float64), tensor(0.4379, dtype=torch.float64), tensor(0.4351, dtype=torch.float64), tensor(0.4369, dtype=torch.float64), tensor(0.4395, dtype=torch.float64), tensor(0.4422, dtype=torch.float64), tensor(0.4391, dtype=torch.float64), tensor(0.4356, dtype=torch.float64), tensor(0.4355, dtype=torch.float64), tensor(0.4390, dtype=torch.float64), tensor(0.4412, dtype=torch.float64), tensor(0.4382, dtype=torch.float64), tensor(0.4391, dtype=torch.float64), tensor(0.4411, dtype=torch.float64), tensor(0.4365, dtype=torch.float64), tensor(0.4360, dtype=torch.float64), tensor(0.4417, dtype=torch.float64), tensor(0.4390, dtype=torch.float64), tensor(0.4406, dtype=torch.float64), tensor(0.4418, dtype=torch.float64), tensor(0.4398, dtype=torch.float64), tensor(0.4385, dtype=torch.float64), tensor(0.4418, dtype=torch.float64), tensor(0.4397, dtype=torch.float64), tensor(0.4404, dtype=torch.float64), tensor(0.4369, dtype=torch.float64), tensor(0.4378, dtype=torch.float64), tensor(0.4403, dtype=torch.float64), tensor(0.4298, dtype=torch.float64), tensor(0.4374, dtype=torch.float64), tensor(0.4355, dtype=torch.float64), tensor(0.4347, dtype=torch.float64), tensor(0.4399, dtype=torch.float64), tensor(0.4360, dtype=torch.float64), tensor(0.4406, dtype=torch.float64), tensor(0.4348, dtype=torch.float64), tensor(0.4381, dtype=torch.float64), tensor(0.4365, dtype=torch.float64), tensor(0.4396, dtype=torch.float64), tensor(0.4334, dtype=torch.float64), tensor(0.4372, dtype=torch.float64), tensor(0.4349, dtype=torch.float64), tensor(0.4418, dtype=torch.float64), tensor(0.4387, dtype=torch.float64), tensor(0.4373, dtype=torch.float64), tensor(0.4356, dtype=torch.float64), tensor(0.4361, dtype=torch.float64), tensor(0.4412, dtype=torch.float64), tensor(0.4347, dtype=torch.float64), tensor(0.4370, dtype=torch.float64), tensor(0.4372, dtype=torch.float64), tensor(0.4363, dtype=torch.float64), tensor(0.4368, dtype=torch.float64), tensor(0.4376, dtype=torch.float64), tensor(0.4361, dtype=torch.float64), tensor(0.4418, dtype=torch.float64), tensor(0.4420, dtype=torch.float64), tensor(0.4351, dtype=torch.float64), tensor(0.4373, dtype=torch.float64), tensor(0.4409, dtype=torch.float64), tensor(0.4316, dtype=torch.float64), tensor(0.4361, dtype=torch.float64), tensor(0.4373, dtype=torch.float64), tensor(0.4379, dtype=torch.float64), tensor(0.4437, dtype=torch.float64), tensor(0.4372, dtype=torch.float64), tensor(0.4377, dtype=torch.float64), tensor(0.4359, dtype=torch.float64), tensor(0.4424, dtype=torch.float64), tensor(0.4377, dtype=torch.float64), tensor(0.4345, dtype=torch.float64), tensor(0.4372, dtype=torch.float64), tensor(0.4328, dtype=torch.float64), tensor(0.4406, dtype=torch.float64), tensor(0.4341, dtype=torch.float64), tensor(0.4374, dtype=torch.float64), tensor(0.4384, dtype=torch.float64), tensor(0.4401, dtype=torch.float64), tensor(0.4358, dtype=torch.float64), tensor(0.4353, dtype=torch.float64), tensor(0.4388, dtype=torch.float64), tensor(0.4365, dtype=torch.float64), tensor(0.4371, dtype=torch.float64), tensor(0.4362, dtype=torch.float64), tensor(0.4351, dtype=torch.float64), tensor(0.4394, dtype=torch.float64), tensor(0.4338, dtype=torch.float64), tensor(0.4378, dtype=torch.float64), tensor(0.4403, dtype=torch.float64), tensor(0.4330, dtype=torch.float64), tensor(0.4363, dtype=torch.float64), tensor(0.4448, dtype=torch.float64), tensor(0.4367, dtype=torch.float64), tensor(0.4387, dtype=torch.float64), tensor(0.4377, dtype=torch.float64), tensor(0.4376, dtype=torch.float64), tensor(0.4383, dtype=torch.float64), tensor(0.4378, dtype=torch.float64), tensor(0.4408, dtype=torch.float64), tensor(0.4351, dtype=torch.float64), tensor(0.4397, dtype=torch.float64), tensor(0.4356, dtype=torch.float64), tensor(0.4399, dtype=torch.float64), tensor(0.4425, dtype=torch.float64), tensor(0.4364, dtype=torch.float64), tensor(0.4403, dtype=torch.float64), tensor(0.4340, dtype=torch.float64), tensor(0.4369, dtype=torch.float64), tensor(0.4369, dtype=torch.float64), tensor(0.4375, dtype=torch.float64), tensor(0.4465, dtype=torch.float64), tensor(0.4423, dtype=torch.float64), tensor(0.4389, dtype=torch.float64), tensor(0.4347, dtype=torch.float64), tensor(0.4322, dtype=torch.float64), tensor(0.4392, dtype=torch.float64), tensor(0.4363, dtype=torch.float64), tensor(0.4376, dtype=torch.float64), tensor(0.4348, dtype=torch.float64), tensor(0.4392, dtype=torch.float64), tensor(0.4366, dtype=torch.float64), tensor(0.4364, dtype=torch.float64), tensor(0.4360, dtype=torch.float64), tensor(0.4375, dtype=torch.float64), tensor(0.4343, dtype=torch.float64), tensor(0.4386, dtype=torch.float64), tensor(0.4369, dtype=torch.float64), tensor(0.4361, dtype=torch.float64), tensor(0.4393, dtype=torch.float64), tensor(0.4364, dtype=torch.float64), tensor(0.4411, dtype=torch.float64), tensor(0.4416, dtype=torch.float64), tensor(0.4406, dtype=torch.float64), tensor(0.4411, dtype=torch.float64), tensor(0.4375, dtype=torch.float64), tensor(0.4366, dtype=torch.float64), tensor(0.4416, dtype=torch.float64), tensor(0.4384, dtype=torch.float64), tensor(0.4326, dtype=torch.float64), tensor(0.4377, dtype=torch.float64), tensor(0.4426, dtype=torch.float64), tensor(0.4397, dtype=torch.float64), tensor(0.4376, dtype=torch.float64), tensor(0.4425, dtype=torch.float64), tensor(0.4340, dtype=torch.float64), tensor(0.4349, dtype=torch.float64), tensor(0.4398, dtype=torch.float64), tensor(0.4383, dtype=torch.float64), tensor(0.4372, dtype=torch.float64), tensor(0.4418, dtype=torch.float64), tensor(0.4365, dtype=torch.float64), tensor(0.4398, dtype=torch.float64), tensor(0.4386, dtype=torch.float64), tensor(0.4390, dtype=torch.float64), tensor(0.4374, dtype=torch.float64), tensor(0.4385, dtype=torch.float64), tensor(0.4385, dtype=torch.float64), tensor(0.4366, dtype=torch.float64), tensor(0.4374, dtype=torch.float64), tensor(0.4377, dtype=torch.float64), tensor(0.4368, dtype=torch.float64), tensor(0.4417, dtype=torch.float64), tensor(0.4360, dtype=torch.float64), tensor(0.4326, dtype=torch.float64), tensor(0.4342, dtype=torch.float64), tensor(0.4389, dtype=torch.float64), tensor(0.4396, dtype=torch.float64), tensor(0.4405, dtype=torch.float64), tensor(0.4386, dtype=torch.float64), tensor(0.4401, dtype=torch.float64), tensor(0.4364, dtype=torch.float64), tensor(0.4387, dtype=torch.float64), tensor(0.4401, dtype=torch.float64), tensor(0.4379, dtype=torch.float64), tensor(0.4396, dtype=torch.float64), tensor(0.4355, dtype=torch.float64), tensor(0.4335, dtype=torch.float64), tensor(0.4339, dtype=torch.float64), tensor(0.4314, dtype=torch.float64), tensor(0.4397, dtype=torch.float64), tensor(0.4354, dtype=torch.float64), tensor(0.4410, dtype=torch.float64), tensor(0.4407, dtype=torch.float64), tensor(0.4389, dtype=torch.float64), tensor(0.4385, dtype=torch.float64), tensor(0.4351, dtype=torch.float64), tensor(0.4299, dtype=torch.float64), tensor(0.4385, dtype=torch.float64), tensor(0.4370, dtype=torch.float64), tensor(0.4358, dtype=torch.float64), tensor(0.4343, dtype=torch.float64), tensor(0.4429, dtype=torch.float64), tensor(0.4428, dtype=torch.float64), tensor(0.4408, dtype=torch.float64), tensor(0.4387, dtype=torch.float64), tensor(0.4384, dtype=torch.float64), tensor(0.4412, dtype=torch.float64), tensor(0.4367, dtype=torch.float64), tensor(0.4323, dtype=torch.float64), tensor(0.4348, dtype=torch.float64), tensor(0.4388, dtype=torch.float64), tensor(0.4348, dtype=torch.float64), tensor(0.4397, dtype=torch.float64), tensor(0.4377, dtype=torch.float64), tensor(0.4340, dtype=torch.float64), tensor(0.4342, dtype=torch.float64), tensor(0.4382, dtype=torch.float64), tensor(0.4340, dtype=torch.float64), tensor(0.4383, dtype=torch.float64), tensor(0.4395, dtype=torch.float64), tensor(0.4346, dtype=torch.float64), tensor(0.4366, dtype=torch.float64), tensor(0.4392, dtype=torch.float64), tensor(0.4366, dtype=torch.float64), tensor(0.4350, dtype=torch.float64), tensor(0.4385, dtype=torch.float64), tensor(0.4389, dtype=torch.float64), tensor(0.4389, dtype=torch.float64), tensor(0.4351, dtype=torch.float64), tensor(0.4377, dtype=torch.float64), tensor(0.4364, dtype=torch.float64), tensor(0.4303, dtype=torch.float64), tensor(0.4382, dtype=torch.float64), tensor(0.4344, dtype=torch.float64), tensor(0.4378, dtype=torch.float64), tensor(0.4373, dtype=torch.float64), tensor(0.4370, dtype=torch.float64), tensor(0.4380, dtype=torch.float64), tensor(0.4367, dtype=torch.float64), tensor(0.4355, dtype=torch.float64), tensor(0.4386, dtype=torch.float64), tensor(0.4375, dtype=torch.float64), tensor(0.4396, dtype=torch.float64), tensor(0.4369, dtype=torch.float64), tensor(0.4380, dtype=torch.float64), tensor(0.4421, dtype=torch.float64), tensor(0.4354, dtype=torch.float64), tensor(0.4368, dtype=torch.float64), tensor(0.4393, dtype=torch.float64), tensor(0.4343, dtype=torch.float64), tensor(0.4374, dtype=torch.float64), tensor(0.4356, dtype=torch.float64), tensor(0.4356, dtype=torch.float64), tensor(0.4378, dtype=torch.float64), tensor(0.4329, dtype=torch.float64), tensor(0.4342, dtype=torch.float64), tensor(0.4349, dtype=torch.float64), tensor(0.4328, dtype=torch.float64), tensor(0.4360, dtype=torch.float64), tensor(0.4388, dtype=torch.float64), tensor(0.4368, dtype=torch.float64), tensor(0.4365, dtype=torch.float64), tensor(0.4362, dtype=torch.float64), tensor(0.4396, dtype=torch.float64), tensor(0.4400, dtype=torch.float64), tensor(0.4374, dtype=torch.float64), tensor(0.4375, dtype=torch.float64), tensor(0.4370, dtype=torch.float64), tensor(0.4414, dtype=torch.float64), tensor(0.4399, dtype=torch.float64), tensor(0.4370, dtype=torch.float64), tensor(0.4379, dtype=torch.float64), tensor(0.4380, dtype=torch.float64), tensor(0.4365, dtype=torch.float64), tensor(0.4396, dtype=torch.float64), tensor(0.4362, dtype=torch.float64), tensor(0.4378, dtype=torch.float64), tensor(0.4406, dtype=torch.float64), tensor(0.4361, dtype=torch.float64), tensor(0.4360, dtype=torch.float64), tensor(0.4393, dtype=torch.float64), tensor(0.4380, dtype=torch.float64), tensor(0.4382, dtype=torch.float64), tensor(0.4376, dtype=torch.float64), tensor(0.4388, dtype=torch.float64), tensor(0.4402, dtype=torch.float64), tensor(0.4368, dtype=torch.float64), tensor(0.4402, dtype=torch.float64), tensor(0.4381, dtype=torch.float64), tensor(0.4389, dtype=torch.float64), tensor(0.4352, dtype=torch.float64), tensor(0.4404, dtype=torch.float64), tensor(0.4405, dtype=torch.float64), tensor(0.4296, dtype=torch.float64), tensor(0.4373, dtype=torch.float64), tensor(0.4392, dtype=torch.float64), tensor(0.4376, dtype=torch.float64), tensor(0.4324, dtype=torch.float64), tensor(0.4375, dtype=torch.float64), tensor(0.4347, dtype=torch.float64), tensor(0.4381, dtype=torch.float64), tensor(0.4441, dtype=torch.float64), tensor(0.4374, dtype=torch.float64), tensor(0.4383, dtype=torch.float64), tensor(0.4336, dtype=torch.float64), tensor(0.4404, dtype=torch.float64), tensor(0.4381, dtype=torch.float64), tensor(0.4405, dtype=torch.float64), tensor(0.4383, dtype=torch.float64), tensor(0.4385, dtype=torch.float64), tensor(0.4386, dtype=torch.float64), tensor(0.4369, dtype=torch.float64), tensor(0.4345, dtype=torch.float64), tensor(0.4377, dtype=torch.float64), tensor(0.4413, dtype=torch.float64), tensor(0.4330, dtype=torch.float64), tensor(0.4382, dtype=torch.float64), tensor(0.4368, dtype=torch.float64), tensor(0.4380, dtype=torch.float64), tensor(0.4371, dtype=torch.float64), tensor(0.4342, dtype=torch.float64), tensor(0.4397, dtype=torch.float64), tensor(0.4369, dtype=torch.float64), tensor(0.4326, dtype=torch.float64), tensor(0.4370, dtype=torch.float64), tensor(0.4401, dtype=torch.float64), tensor(0.4333, dtype=torch.float64), tensor(0.4388, dtype=torch.float64), tensor(0.4369, dtype=torch.float64), tensor(0.4356, dtype=torch.float64), tensor(0.4366, dtype=torch.float64), tensor(0.4391, dtype=torch.float64), tensor(0.4380, dtype=torch.float64), tensor(0.4385, dtype=torch.float64), tensor(0.4388, dtype=torch.float64), tensor(0.4383, dtype=torch.float64), tensor(0.4377, dtype=torch.float64), tensor(0.4400, dtype=torch.float64), tensor(0.4344, dtype=torch.float64), tensor(0.4406, dtype=torch.float64), tensor(0.4396, dtype=torch.float64), tensor(0.4332, dtype=torch.float64), tensor(0.4391, dtype=torch.float64), tensor(0.4355, dtype=torch.float64), tensor(0.4379, dtype=torch.float64), tensor(0.4350, dtype=torch.float64), tensor(0.4370, dtype=torch.float64), tensor(0.4395, dtype=torch.float64), tensor(0.4373, dtype=torch.float64), tensor(0.4427, dtype=torch.float64), tensor(0.4377, dtype=torch.float64), tensor(0.4335, dtype=torch.float64), tensor(0.4361, dtype=torch.float64), tensor(0.4401, dtype=torch.float64), tensor(0.4381, dtype=torch.float64), tensor(0.4372, dtype=torch.float64), tensor(0.4376, dtype=torch.float64), tensor(0.4343, dtype=torch.float64), tensor(0.4358, dtype=torch.float64), tensor(0.4397, dtype=torch.float64), tensor(0.4361, dtype=torch.float64), tensor(0.4394, dtype=torch.float64), tensor(0.4404, dtype=torch.float64), tensor(0.4375, dtype=torch.float64), tensor(0.4348, dtype=torch.float64), tensor(0.4402, dtype=torch.float64), tensor(0.4370, dtype=torch.float64), tensor(0.4335, dtype=torch.float64), tensor(0.4379, dtype=torch.float64), tensor(0.4384, dtype=torch.float64), tensor(0.4360, dtype=torch.float64), tensor(0.4363, dtype=torch.float64), tensor(0.4374, dtype=torch.float64), tensor(0.4372, dtype=torch.float64), tensor(0.4398, dtype=torch.float64), tensor(0.4367, dtype=torch.float64), tensor(0.4378, dtype=torch.float64), tensor(0.4391, dtype=torch.float64), tensor(0.4343, dtype=torch.float64), tensor(0.4364, dtype=torch.float64), tensor(0.4356, dtype=torch.float64), tensor(0.4345, dtype=torch.float64), tensor(0.4377, dtype=torch.float64), tensor(0.4414, dtype=torch.float64), tensor(0.4336, dtype=torch.float64), tensor(0.4366, dtype=torch.float64), tensor(0.4364, dtype=torch.float64), tensor(0.4362, dtype=torch.float64), tensor(0.4347, dtype=torch.float64), tensor(0.4346, dtype=torch.float64), tensor(0.4399, dtype=torch.float64), tensor(0.4383, dtype=torch.float64), tensor(0.4370, dtype=torch.float64), tensor(0.4374, dtype=torch.float64), tensor(0.4376, dtype=torch.float64), tensor(0.4358, dtype=torch.float64), tensor(0.4320, dtype=torch.float64), tensor(0.4356, dtype=torch.float64), tensor(0.4418, dtype=torch.float64), tensor(0.4368, dtype=torch.float64), tensor(0.4419, dtype=torch.float64), tensor(0.4383, dtype=torch.float64), tensor(0.4344, dtype=torch.float64), tensor(0.4382, dtype=torch.float64), tensor(0.4384, dtype=torch.float64), tensor(0.4410, dtype=torch.float64), tensor(0.4396, dtype=torch.float64), tensor(0.4378, dtype=torch.float64), tensor(0.4345, dtype=torch.float64), tensor(0.4391, dtype=torch.float64), tensor(0.4352, dtype=torch.float64), tensor(0.4357, dtype=torch.float64), tensor(0.4397, dtype=torch.float64), tensor(0.4364, dtype=torch.float64), tensor(0.4358, dtype=torch.float64), tensor(0.4377, dtype=torch.float64), tensor(0.4363, dtype=torch.float64), tensor(0.4406, dtype=torch.float64), tensor(0.4381, dtype=torch.float64), tensor(0.4385, dtype=torch.float64), tensor(0.4390, dtype=torch.float64), tensor(0.4378, dtype=torch.float64), tensor(0.4377, dtype=torch.float64), tensor(0.4368, dtype=torch.float64), tensor(0.4344, dtype=torch.float64), tensor(0.4320, dtype=torch.float64), tensor(0.4410, dtype=torch.float64), tensor(0.4376, dtype=torch.float64), tensor(0.4393, dtype=torch.float64), tensor(0.4390, dtype=torch.float64), tensor(0.4360, dtype=torch.float64), tensor(0.4375, dtype=torch.float64), tensor(0.4351, dtype=torch.float64), tensor(0.4383, dtype=torch.float64), tensor(0.4452, dtype=torch.float64), tensor(0.4396, dtype=torch.float64), tensor(0.4394, dtype=torch.float64), tensor(0.4355, dtype=torch.float64), tensor(0.4335, dtype=torch.float64), tensor(0.4397, dtype=torch.float64), tensor(0.4396, dtype=torch.float64), tensor(0.4325, dtype=torch.float64), tensor(0.4397, dtype=torch.float64), tensor(0.4353, dtype=torch.float64), tensor(0.4345, dtype=torch.float64), tensor(0.4385, dtype=torch.float64), tensor(0.4353, dtype=torch.float64), tensor(0.4394, dtype=torch.float64), tensor(0.4367, dtype=torch.float64), tensor(0.4333, dtype=torch.float64), tensor(0.4361, dtype=torch.float64), tensor(0.4366, dtype=torch.float64), tensor(0.4326, dtype=torch.float64), tensor(0.4419, dtype=torch.float64), tensor(0.4374, dtype=torch.float64), tensor(0.4411, dtype=torch.float64), tensor(0.4392, dtype=torch.float64), tensor(0.4399, dtype=torch.float64), tensor(0.4368, dtype=torch.float64), tensor(0.4412, dtype=torch.float64), tensor(0.4326, dtype=torch.float64), tensor(0.4372, dtype=torch.float64), tensor(0.4355, dtype=torch.float64), tensor(0.4368, dtype=torch.float64), tensor(0.4336, dtype=torch.float64), tensor(0.4387, dtype=torch.float64), tensor(0.4353, dtype=torch.float64), tensor(0.4390, dtype=torch.float64), tensor(0.4353, dtype=torch.float64), tensor(0.4377, dtype=torch.float64), tensor(0.4378, dtype=torch.float64), tensor(0.4376, dtype=torch.float64), tensor(0.4406, dtype=torch.float64), tensor(0.4316, dtype=torch.float64), tensor(0.4392, dtype=torch.float64), tensor(0.4375, dtype=torch.float64), tensor(0.4393, dtype=torch.float64), tensor(0.4414, dtype=torch.float64), tensor(0.4387, dtype=torch.float64), tensor(0.4384, dtype=torch.float64), tensor(0.4380, dtype=torch.float64), tensor(0.4324, dtype=torch.float64), tensor(0.4388, dtype=torch.float64), tensor(0.4331, dtype=torch.float64), tensor(0.4371, dtype=torch.float64), tensor(0.4376, dtype=torch.float64), tensor(0.4378, dtype=torch.float64), tensor(0.4377, dtype=torch.float64), tensor(0.4335, dtype=torch.float64), tensor(0.4358, dtype=torch.float64), tensor(0.4333, dtype=torch.float64), tensor(0.4428, dtype=torch.float64), tensor(0.4397, dtype=torch.float64), tensor(0.4372, dtype=torch.float64), tensor(0.4363, dtype=torch.float64), tensor(0.4390, dtype=torch.float64), tensor(0.4361, dtype=torch.float64), tensor(0.4397, dtype=torch.float64), tensor(0.4340, dtype=torch.float64), tensor(0.4363, dtype=torch.float64), tensor(0.4393, dtype=torch.float64), tensor(0.4339, dtype=torch.float64), tensor(0.4382, dtype=torch.float64), tensor(0.4334, dtype=torch.float64), tensor(0.4354, dtype=torch.float64), tensor(0.4403, dtype=torch.float64), tensor(0.4365, dtype=torch.float64), tensor(0.4418, dtype=torch.float64), tensor(0.4340, dtype=torch.float64), tensor(0.4353, dtype=torch.float64), tensor(0.4427, dtype=torch.float64), tensor(0.4344, dtype=torch.float64), tensor(0.4355, dtype=torch.float64), tensor(0.4418, dtype=torch.float64), tensor(0.4386, dtype=torch.float64), tensor(0.4379, dtype=torch.float64), tensor(0.4387, dtype=torch.float64), tensor(0.4357, dtype=torch.float64), tensor(0.4337, dtype=torch.float64), tensor(0.4366, dtype=torch.float64), tensor(0.4386, dtype=torch.float64), tensor(0.4378, dtype=torch.float64), tensor(0.4385, dtype=torch.float64), tensor(0.4348, dtype=torch.float64), tensor(0.4408, dtype=torch.float64), tensor(0.4412, dtype=torch.float64), tensor(0.4345, dtype=torch.float64), tensor(0.4363, dtype=torch.float64), tensor(0.4358, dtype=torch.float64), tensor(0.4330, dtype=torch.float64), tensor(0.4391, dtype=torch.float64), tensor(0.4350, dtype=torch.float64), tensor(0.4429, dtype=torch.float64), tensor(0.4407, dtype=torch.float64), tensor(0.4372, dtype=torch.float64), tensor(0.4381, dtype=torch.float64), tensor(0.4354, dtype=torch.float64), tensor(0.4361, dtype=torch.float64), tensor(0.4375, dtype=torch.float64), tensor(0.4337, dtype=torch.float64), tensor(0.4325, dtype=torch.float64), tensor(0.4387, dtype=torch.float64), tensor(0.4348, dtype=torch.float64), tensor(0.4354, dtype=torch.float64), tensor(0.4377, dtype=torch.float64), tensor(0.4362, dtype=torch.float64), tensor(0.4320, dtype=torch.float64), tensor(0.4372, dtype=torch.float64), tensor(0.4380, dtype=torch.float64), tensor(0.4394, dtype=torch.float64), tensor(0.4308, dtype=torch.float64), tensor(0.4358, dtype=torch.float64), tensor(0.4408, dtype=torch.float64), tensor(0.4338, dtype=torch.float64), tensor(0.4421, dtype=torch.float64), tensor(0.4352, dtype=torch.float64), tensor(0.4359, dtype=torch.float64), tensor(0.4375, dtype=torch.float64), tensor(0.4370, dtype=torch.float64), tensor(0.4375, dtype=torch.float64), tensor(0.4417, dtype=torch.float64), tensor(0.4404, dtype=torch.float64), tensor(0.4401, dtype=torch.float64), tensor(0.4382, dtype=torch.float64), tensor(0.4462, dtype=torch.float64), tensor(0.4376, dtype=torch.float64), tensor(0.4397, dtype=torch.float64), tensor(0.4413, dtype=torch.float64), tensor(0.4389, dtype=torch.float64), tensor(0.4375, dtype=torch.float64), tensor(0.4364, dtype=torch.float64), tensor(0.4409, dtype=torch.float64), tensor(0.4350, dtype=torch.float64), tensor(0.4355, dtype=torch.float64), tensor(0.4372, dtype=torch.float64), tensor(0.4359, dtype=torch.float64), tensor(0.4370, dtype=torch.float64), tensor(0.4431, dtype=torch.float64), tensor(0.4413, dtype=torch.float64), tensor(0.4375, dtype=torch.float64), tensor(0.4355, dtype=torch.float64), tensor(0.4355, dtype=torch.float64), tensor(0.4434, dtype=torch.float64), tensor(0.4371, dtype=torch.float64), tensor(0.4373, dtype=torch.float64), tensor(0.4396, dtype=torch.float64), tensor(0.4363, dtype=torch.float64), tensor(0.4332, dtype=torch.float64), tensor(0.4366, dtype=torch.float64), tensor(0.4362, dtype=torch.float64), tensor(0.4396, dtype=torch.float64), tensor(0.4392, dtype=torch.float64), tensor(0.4356, dtype=torch.float64), tensor(0.4340, dtype=torch.float64), tensor(0.4385, dtype=torch.float64), tensor(0.4340, dtype=torch.float64), tensor(0.4360, dtype=torch.float64), tensor(0.4434, dtype=torch.float64), tensor(0.4369, dtype=torch.float64), tensor(0.4366, dtype=torch.float64), tensor(0.4317, dtype=torch.float64), tensor(0.4355, dtype=torch.float64), tensor(0.4372, dtype=torch.float64), tensor(0.4357, dtype=torch.float64), tensor(0.4325, dtype=torch.float64), tensor(0.4393, dtype=torch.float64), tensor(0.4369, dtype=torch.float64), tensor(0.4368, dtype=torch.float64), tensor(0.4366, dtype=torch.float64), tensor(0.4418, dtype=torch.float64), tensor(0.4369, dtype=torch.float64), tensor(0.4354, dtype=torch.float64), tensor(0.4347, dtype=torch.float64), tensor(0.4356, dtype=torch.float64), tensor(0.4369, dtype=torch.float64), tensor(0.4353, dtype=torch.float64), tensor(0.4365, dtype=torch.float64), tensor(0.4344, dtype=torch.float64), tensor(0.4408, dtype=torch.float64), tensor(0.4391, dtype=torch.float64), tensor(0.4378, dtype=torch.float64), tensor(0.4388, dtype=torch.float64), tensor(0.4360, dtype=torch.float64), tensor(0.4375, dtype=torch.float64), tensor(0.4368, dtype=torch.float64), tensor(0.4397, dtype=torch.float64), tensor(0.4365, dtype=torch.float64), tensor(0.4382, dtype=torch.float64), tensor(0.4342, dtype=torch.float64), tensor(0.4323, dtype=torch.float64), tensor(0.4400, dtype=torch.float64), tensor(0.4374, dtype=torch.float64), tensor(0.4420, dtype=torch.float64), tensor(0.4397, dtype=torch.float64), tensor(0.4357, dtype=torch.float64), tensor(0.4375, dtype=torch.float64), tensor(0.4356, dtype=torch.float64), tensor(0.4337, dtype=torch.float64), tensor(0.4405, dtype=torch.float64), tensor(0.4400, dtype=torch.float64), tensor(0.4370, dtype=torch.float64), tensor(0.4361, dtype=torch.float64), tensor(0.4374, dtype=torch.float64), tensor(0.4374, dtype=torch.float64), tensor(0.4384, dtype=torch.float64), tensor(0.4385, dtype=torch.float64), tensor(0.4394, dtype=torch.float64), tensor(0.4388, dtype=torch.float64), tensor(0.4425, dtype=torch.float64), tensor(0.4409, dtype=torch.float64), tensor(0.4384, dtype=torch.float64), tensor(0.4330, dtype=torch.float64), tensor(0.4374, dtype=torch.float64), tensor(0.4368, dtype=torch.float64), tensor(0.4376, dtype=torch.float64), tensor(0.4414, dtype=torch.float64), tensor(0.4363, dtype=torch.float64), tensor(0.4353, dtype=torch.float64), tensor(0.4396, dtype=torch.float64), tensor(0.4385, dtype=torch.float64), tensor(0.4372, dtype=torch.float64), tensor(0.4396, dtype=torch.float64), tensor(0.4363, dtype=torch.float64), tensor(0.4406, dtype=torch.float64), tensor(0.4383, dtype=torch.float64), tensor(0.4356, dtype=torch.float64), tensor(0.4352, dtype=torch.float64), tensor(0.4380, dtype=torch.float64), tensor(0.4377, dtype=torch.float64), tensor(0.4402, dtype=torch.float64), tensor(0.4326, dtype=torch.float64), tensor(0.4361, dtype=torch.float64), tensor(0.4384, dtype=torch.float64), tensor(0.4403, dtype=torch.float64), tensor(0.4387, dtype=torch.float64), tensor(0.4367, dtype=torch.float64), tensor(0.4361, dtype=torch.float64), tensor(0.4389, dtype=torch.float64), tensor(0.4414, dtype=torch.float64), tensor(0.4379, dtype=torch.float64), tensor(0.4409, dtype=torch.float64), tensor(0.4399, dtype=torch.float64), tensor(0.4418, dtype=torch.float64), tensor(0.4376, dtype=torch.float64), tensor(0.4400, dtype=torch.float64), tensor(0.4388, dtype=torch.float64), tensor(0.4412, dtype=torch.float64), tensor(0.4347, dtype=torch.float64), tensor(0.4392, dtype=torch.float64), tensor(0.4385, dtype=torch.float64), tensor(0.4370, dtype=torch.float64), tensor(0.4329, dtype=torch.float64), tensor(0.4395, dtype=torch.float64), tensor(0.4379, dtype=torch.float64), tensor(0.4344, dtype=torch.float64), tensor(0.4383, dtype=torch.float64), tensor(0.4386, dtype=torch.float64), tensor(0.4372, dtype=torch.float64), tensor(0.4359, dtype=torch.float64), tensor(0.4375, dtype=torch.float64), tensor(0.4374, dtype=torch.float64), tensor(0.4391, dtype=torch.float64), tensor(0.4366, dtype=torch.float64), tensor(0.4418, dtype=torch.float64), tensor(0.4361, dtype=torch.float64), tensor(0.4326, dtype=torch.float64), tensor(0.4324, dtype=torch.float64), tensor(0.4410, dtype=torch.float64), tensor(0.4368, dtype=torch.float64), tensor(0.4389, dtype=torch.float64), tensor(0.4371, dtype=torch.float64), tensor(0.4399, dtype=torch.float64), tensor(0.4352, dtype=torch.float64), tensor(0.4390, dtype=torch.float64), tensor(0.4366, dtype=torch.float64), tensor(0.4325, dtype=torch.float64), tensor(0.4404, dtype=torch.float64), tensor(0.4371, dtype=torch.float64), tensor(0.4397, dtype=torch.float64), tensor(0.4346, dtype=torch.float64), tensor(0.4367, dtype=torch.float64), tensor(0.4370, dtype=torch.float64), tensor(0.4363, dtype=torch.float64), tensor(0.4373, dtype=torch.float64), tensor(0.4382, dtype=torch.float64), tensor(0.4381, dtype=torch.float64), tensor(0.4368, dtype=torch.float64), tensor(0.4388, dtype=torch.float64), tensor(0.4437, dtype=torch.float64), tensor(0.4395, dtype=torch.float64), tensor(0.4343, dtype=torch.float64), tensor(0.4394, dtype=torch.float64), tensor(0.4354, dtype=torch.float64), tensor(0.4331, dtype=torch.float64), tensor(0.4397, dtype=torch.float64), tensor(0.4377, dtype=torch.float64), tensor(0.4418, dtype=torch.float64), tensor(0.4320, dtype=torch.float64), tensor(0.4360, dtype=torch.float64), tensor(0.4374, dtype=torch.float64), tensor(0.4344, dtype=torch.float64), tensor(0.4371, dtype=torch.float64), tensor(0.4425, dtype=torch.float64), tensor(0.4333, dtype=torch.float64), tensor(0.4418, dtype=torch.float64), tensor(0.4377, dtype=torch.float64), tensor(0.4386, dtype=torch.float64), tensor(0.4397, dtype=torch.float64), tensor(0.4365, dtype=torch.float64), tensor(0.4361, dtype=torch.float64), tensor(0.4388, dtype=torch.float64), tensor(0.4358, dtype=torch.float64), tensor(0.4412, dtype=torch.float64), tensor(0.4376, dtype=torch.float64), tensor(0.4356, dtype=torch.float64), tensor(0.4363, dtype=torch.float64), tensor(0.4415, dtype=torch.float64), tensor(0.4350, dtype=torch.float64), tensor(0.4378, dtype=torch.float64), tensor(0.4390, dtype=torch.float64), tensor(0.4371, dtype=torch.float64), tensor(0.4343, dtype=torch.float64), tensor(0.4374, dtype=torch.float64), tensor(0.4375, dtype=torch.float64), tensor(0.4400, dtype=torch.float64), tensor(0.4372, dtype=torch.float64), tensor(0.4358, dtype=torch.float64), tensor(0.4385, dtype=torch.float64), tensor(0.4382, dtype=torch.float64), tensor(0.4402, dtype=torch.float64), tensor(0.4366, dtype=torch.float64), tensor(0.4358, dtype=torch.float64), tensor(0.4347, dtype=torch.float64), tensor(0.4394, dtype=torch.float64), tensor(0.4375, dtype=torch.float64), tensor(0.4374, dtype=torch.float64), tensor(0.4370, dtype=torch.float64), tensor(0.4345, dtype=torch.float64), tensor(0.4374, dtype=torch.float64), tensor(0.4411, dtype=torch.float64), tensor(0.4401, dtype=torch.float64), tensor(0.4386, dtype=torch.float64), tensor(0.4367, dtype=torch.float64), tensor(0.4389, dtype=torch.float64), tensor(0.4369, dtype=torch.float64), tensor(0.4350, dtype=torch.float64), tensor(0.4381, dtype=torch.float64), tensor(0.4361, dtype=torch.float64), tensor(0.4353, dtype=torch.float64), tensor(0.4415, dtype=torch.float64), tensor(0.4306, dtype=torch.float64), tensor(0.4378, dtype=torch.float64), tensor(0.4352, dtype=torch.float64), tensor(0.4340, dtype=torch.float64), tensor(0.4332, dtype=torch.float64), tensor(0.4349, dtype=torch.float64), tensor(0.4418, dtype=torch.float64), tensor(0.4388, dtype=torch.float64), tensor(0.4376, dtype=torch.float64), tensor(0.4428, dtype=torch.float64), tensor(0.4354, dtype=torch.float64), tensor(0.4352, dtype=torch.float64), tensor(0.4370, dtype=torch.float64), tensor(0.4363, dtype=torch.float64), tensor(0.4431, dtype=torch.float64), tensor(0.4354, dtype=torch.float64), tensor(0.4363, dtype=torch.float64), tensor(0.4374, dtype=torch.float64), tensor(0.4418, dtype=torch.float64), tensor(0.4389, dtype=torch.float64), tensor(0.4339, dtype=torch.float64), tensor(0.4375, dtype=torch.float64), tensor(0.4364, dtype=torch.float64), tensor(0.4366, dtype=torch.float64), tensor(0.4380, dtype=torch.float64), tensor(0.4400, dtype=torch.float64), tensor(0.4421, dtype=torch.float64), tensor(0.4386, dtype=torch.float64), tensor(0.4362, dtype=torch.float64), tensor(0.4395, dtype=torch.float64), tensor(0.4388, dtype=torch.float64), tensor(0.4377, dtype=torch.float64), tensor(0.4396, dtype=torch.float64), tensor(0.4388, dtype=torch.float64), tensor(0.4343, dtype=torch.float64), tensor(0.4415, dtype=torch.float64), tensor(0.4353, dtype=torch.float64), tensor(0.4407, dtype=torch.float64), tensor(0.4451, dtype=torch.float64), tensor(0.4418, dtype=torch.float64), tensor(0.4376, dtype=torch.float64), tensor(0.4371, dtype=torch.float64), tensor(0.4365, dtype=torch.float64), tensor(0.4392, dtype=torch.float64), tensor(0.4410, dtype=torch.float64), tensor(0.4402, dtype=torch.float64), tensor(0.4391, dtype=torch.float64), tensor(0.4344, dtype=torch.float64), tensor(0.4392, dtype=torch.float64), tensor(0.4330, dtype=torch.float64), tensor(0.4332, dtype=torch.float64), tensor(0.4368, dtype=torch.float64), tensor(0.4350, dtype=torch.float64), tensor(0.4351, dtype=torch.float64), tensor(0.4362, dtype=torch.float64), tensor(0.4380, dtype=torch.float64), tensor(0.4383, dtype=torch.float64), tensor(0.4379, dtype=torch.float64), tensor(0.4395, dtype=torch.float64), tensor(0.4367, dtype=torch.float64), tensor(0.4384, dtype=torch.float64), tensor(0.4337, dtype=torch.float64), tensor(0.4327, dtype=torch.float64), tensor(0.4391, dtype=torch.float64), tensor(0.4364, dtype=torch.float64), tensor(0.4348, dtype=torch.float64), tensor(0.4380, dtype=torch.float64), tensor(0.4368, dtype=torch.float64), tensor(0.4399, dtype=torch.float64), tensor(0.4372, dtype=torch.float64), tensor(0.4389, dtype=torch.float64), tensor(0.4325, dtype=torch.float64), tensor(0.4366, dtype=torch.float64), tensor(0.4387, dtype=torch.float64), tensor(0.4394, dtype=torch.float64), tensor(0.4372, dtype=torch.float64), tensor(0.4361, dtype=torch.float64), tensor(0.4342, dtype=torch.float64), tensor(0.4342, dtype=torch.float64), tensor(0.4347, dtype=torch.float64), tensor(0.4393, dtype=torch.float64), tensor(0.4378, dtype=torch.float64), tensor(0.4330, dtype=torch.float64), tensor(0.4410, dtype=torch.float64), tensor(0.4337, dtype=torch.float64), tensor(0.4357, dtype=torch.float64), tensor(0.4391, dtype=torch.float64), tensor(0.4384, dtype=torch.float64), tensor(0.4332, dtype=torch.float64), tensor(0.4361, dtype=torch.float64), tensor(0.4418, dtype=torch.float64), tensor(0.4375, dtype=torch.float64), tensor(0.4391, dtype=torch.float64), tensor(0.4423, dtype=torch.float64), tensor(0.4437, dtype=torch.float64), tensor(0.4355, dtype=torch.float64), tensor(0.4327, dtype=torch.float64), tensor(0.4361, dtype=torch.float64), tensor(0.4365, dtype=torch.float64), tensor(0.4372, dtype=torch.float64), tensor(0.4395, dtype=torch.float64), tensor(0.4397, dtype=torch.float64), tensor(0.4362, dtype=torch.float64), tensor(0.4344, dtype=torch.float64), tensor(0.4381, dtype=torch.float64), tensor(0.4381, dtype=torch.float64), tensor(0.4337, dtype=torch.float64), tensor(0.4412, dtype=torch.float64), tensor(0.4371, dtype=torch.float64), tensor(0.4391, dtype=torch.float64), tensor(0.4358, dtype=torch.float64), tensor(0.4365, dtype=torch.float64), tensor(0.4366, dtype=torch.float64), tensor(0.4367, dtype=torch.float64), tensor(0.4376, dtype=torch.float64), tensor(0.4435, dtype=torch.float64), tensor(0.4350, dtype=torch.float64), tensor(0.4397, dtype=torch.float64), tensor(0.4370, dtype=torch.float64), tensor(0.4353, dtype=torch.float64), tensor(0.4411, dtype=torch.float64), tensor(0.4366, dtype=torch.float64), tensor(0.4402, dtype=torch.float64), tensor(0.4372, dtype=torch.float64), tensor(0.4385, dtype=torch.float64), tensor(0.4371, dtype=torch.float64), tensor(0.4352, dtype=torch.float64), tensor(0.4359, dtype=torch.float64), tensor(0.4367, dtype=torch.float64), tensor(0.4324, dtype=torch.float64), tensor(0.4399, dtype=torch.float64), tensor(0.4418, dtype=torch.float64), tensor(0.4397, dtype=torch.float64), tensor(0.4386, dtype=torch.float64), tensor(0.4401, dtype=torch.float64), tensor(0.4343, dtype=torch.float64), tensor(0.4354, dtype=torch.float64), tensor(0.4361, dtype=torch.float64), tensor(0.4382, dtype=torch.float64), tensor(0.4412, dtype=torch.float64), tensor(0.4353, dtype=torch.float64), tensor(0.4383, dtype=torch.float64), tensor(0.4364, dtype=torch.float64), tensor(0.4369, dtype=torch.float64), tensor(0.4365, dtype=torch.float64), tensor(0.4394, dtype=torch.float64), tensor(0.4365, dtype=torch.float64), tensor(0.4416, dtype=torch.float64), tensor(0.4412, dtype=torch.float64), tensor(0.4368, dtype=torch.float64), tensor(0.4369, dtype=torch.float64), tensor(0.4368, dtype=torch.float64), tensor(0.4329, dtype=torch.float64), tensor(0.4352, dtype=torch.float64), tensor(0.4358, dtype=torch.float64), tensor(0.4360, dtype=torch.float64), tensor(0.4328, dtype=torch.float64), tensor(0.4369, dtype=torch.float64), tensor(0.4369, dtype=torch.float64), tensor(0.4359, dtype=torch.float64), tensor(0.4363, dtype=torch.float64), tensor(0.4361, dtype=torch.float64), tensor(0.4390, dtype=torch.float64), tensor(0.4363, dtype=torch.float64), tensor(0.4375, dtype=torch.float64), tensor(0.4340, dtype=torch.float64), tensor(0.4369, dtype=torch.float64), tensor(0.4367, dtype=torch.float64), tensor(0.4390, dtype=torch.float64), tensor(0.4385, dtype=torch.float64), tensor(0.4338, dtype=torch.float64), tensor(0.4429, dtype=torch.float64), tensor(0.4385, dtype=torch.float64), tensor(0.4335, dtype=torch.float64), tensor(0.4388, dtype=torch.float64), tensor(0.4370, dtype=torch.float64), tensor(0.4399, dtype=torch.float64), tensor(0.4401, dtype=torch.float64), tensor(0.4354, dtype=torch.float64), tensor(0.4362, dtype=torch.float64), tensor(0.4391, dtype=torch.float64), tensor(0.4336, dtype=torch.float64), tensor(0.4370, dtype=torch.float64), tensor(0.4387, dtype=torch.float64), tensor(0.4389, dtype=torch.float64), tensor(0.4372, dtype=torch.float64), tensor(0.4382, dtype=torch.float64), tensor(0.4386, dtype=torch.float64), tensor(0.4374, dtype=torch.float64), tensor(0.4359, dtype=torch.float64), tensor(0.4392, dtype=torch.float64), tensor(0.4386, dtype=torch.float64), tensor(0.4352, dtype=torch.float64), tensor(0.4388, dtype=torch.float64), tensor(0.4411, dtype=torch.float64), tensor(0.4367, dtype=torch.float64), tensor(0.4346, dtype=torch.float64), tensor(0.4388, dtype=torch.float64), tensor(0.4383, dtype=torch.float64), tensor(0.4354, dtype=torch.float64), tensor(0.4345, dtype=torch.float64), tensor(0.4421, dtype=torch.float64), tensor(0.4386, dtype=torch.float64), tensor(0.4362, dtype=torch.float64), tensor(0.4400, dtype=torch.float64), tensor(0.4395, dtype=torch.float64), tensor(0.4330, dtype=torch.float64), tensor(0.4374, dtype=torch.float64), tensor(0.4351, dtype=torch.float64), tensor(0.4361, dtype=torch.float64), tensor(0.4381, dtype=torch.float64), tensor(0.4364, dtype=torch.float64), tensor(0.4400, dtype=torch.float64), tensor(0.4388, dtype=torch.float64), tensor(0.4405, dtype=torch.float64), tensor(0.4391, dtype=torch.float64), tensor(0.4434, dtype=torch.float64), tensor(0.4382, dtype=torch.float64), tensor(0.4359, dtype=torch.float64), tensor(0.4364, dtype=torch.float64), tensor(0.4351, dtype=torch.float64), tensor(0.4405, dtype=torch.float64), tensor(0.4379, dtype=torch.float64), tensor(0.4358, dtype=torch.float64), tensor(0.4385, dtype=torch.float64), tensor(0.4378, dtype=torch.float64), tensor(0.4398, dtype=torch.float64), tensor(0.4383, dtype=torch.float64), tensor(0.4342, dtype=torch.float64), tensor(0.4362, dtype=torch.float64), tensor(0.4343, dtype=torch.float64), tensor(0.4371, dtype=torch.float64), tensor(0.4382, dtype=torch.float64), tensor(0.4391, dtype=torch.float64), tensor(0.4368, dtype=torch.float64), tensor(0.4402, dtype=torch.float64), tensor(0.4375, dtype=torch.float64), tensor(0.4386, dtype=torch.float64), tensor(0.4332, dtype=torch.float64), tensor(0.4354, dtype=torch.float64), tensor(0.4383, dtype=torch.float64), tensor(0.4416, dtype=torch.float64), tensor(0.4349, dtype=torch.float64), tensor(0.4450, dtype=torch.float64), tensor(0.4344, dtype=torch.float64), tensor(0.4388, dtype=torch.float64), tensor(0.4358, dtype=torch.float64), tensor(0.4379, dtype=torch.float64), tensor(0.4403, dtype=torch.float64), tensor(0.4393, dtype=torch.float64), tensor(0.4382, dtype=torch.float64), tensor(0.4417, dtype=torch.float64), tensor(0.4347, dtype=torch.float64), tensor(0.4385, dtype=torch.float64), tensor(0.4363, dtype=torch.float64), tensor(0.4427, dtype=torch.float64), tensor(0.4381, dtype=torch.float64), tensor(0.4390, dtype=torch.float64), tensor(0.4352, dtype=torch.float64), tensor(0.4386, dtype=torch.float64), tensor(0.4326, dtype=torch.float64), tensor(0.4324, dtype=torch.float64), tensor(0.4360, dtype=torch.float64), tensor(0.4326, dtype=torch.float64), tensor(0.4419, dtype=torch.float64), tensor(0.4418, dtype=torch.float64), tensor(0.4340, dtype=torch.float64), tensor(0.4341, dtype=torch.float64), tensor(0.4334, dtype=torch.float64), tensor(0.4407, dtype=torch.float64), tensor(0.4349, dtype=torch.float64), tensor(0.4399, dtype=torch.float64), tensor(0.4371, dtype=torch.float64), tensor(0.4389, dtype=torch.float64), tensor(0.4314, dtype=torch.float64), tensor(0.4366, dtype=torch.float64), tensor(0.4399, dtype=torch.float64), tensor(0.4386, dtype=torch.float64), tensor(0.4401, dtype=torch.float64), tensor(0.4393, dtype=torch.float64), tensor(0.4366, dtype=torch.float64), tensor(0.4389, dtype=torch.float64), tensor(0.4415, dtype=torch.float64), tensor(0.4356, dtype=torch.float64), tensor(0.4431, dtype=torch.float64), tensor(0.4340, dtype=torch.float64), tensor(0.4392, dtype=torch.float64), tensor(0.4364, dtype=torch.float64), tensor(0.4325, dtype=torch.float64), tensor(0.4319, dtype=torch.float64), tensor(0.4363, dtype=torch.float64), tensor(0.4378, dtype=torch.float64), tensor(0.4405, dtype=torch.float64), tensor(0.4375, dtype=torch.float64), tensor(0.4327, dtype=torch.float64), tensor(0.4375, dtype=torch.float64), tensor(0.4386, dtype=torch.float64), tensor(0.4439, dtype=torch.float64), tensor(0.4358, dtype=torch.float64), tensor(0.4353, dtype=torch.float64), tensor(0.4418, dtype=torch.float64), tensor(0.4377, dtype=torch.float64), tensor(0.4409, dtype=torch.float64), tensor(0.4399, dtype=torch.float64), tensor(0.4420, dtype=torch.float64), tensor(0.4392, dtype=torch.float64), tensor(0.4367, dtype=torch.float64), tensor(0.4418, dtype=torch.float64), tensor(0.4432, dtype=torch.float64), tensor(0.4414, dtype=torch.float64), tensor(0.4339, dtype=torch.float64), tensor(0.4385, dtype=torch.float64), tensor(0.4376, dtype=torch.float64), tensor(0.4386, dtype=torch.float64), tensor(0.4383, dtype=torch.float64), tensor(0.4417, dtype=torch.float64), tensor(0.4378, dtype=torch.float64), tensor(0.4389, dtype=torch.float64), tensor(0.4373, dtype=torch.float64), tensor(0.4403, dtype=torch.float64), tensor(0.4356, dtype=torch.float64), tensor(0.4418, dtype=torch.float64), tensor(0.4393, dtype=torch.float64), tensor(0.4358, dtype=torch.float64), tensor(0.4445, dtype=torch.float64), tensor(0.4332, dtype=torch.float64), tensor(0.4378, dtype=torch.float64), tensor(0.4388, dtype=torch.float64), tensor(0.4372, dtype=torch.float64), tensor(0.4327, dtype=torch.float64), tensor(0.4348, dtype=torch.float64), tensor(0.4405, dtype=torch.float64), tensor(0.4364, dtype=torch.float64), tensor(0.4377, dtype=torch.float64), tensor(0.4388, dtype=torch.float64), tensor(0.4425, dtype=torch.float64), tensor(0.4363, dtype=torch.float64), tensor(0.4365, dtype=torch.float64), tensor(0.4359, dtype=torch.float64), tensor(0.4391, dtype=torch.float64), tensor(0.4372, dtype=torch.float64), tensor(0.4310, dtype=torch.float64), tensor(0.4418, dtype=torch.float64), tensor(0.4415, dtype=torch.float64), tensor(0.4357, dtype=torch.float64), tensor(0.4370, dtype=torch.float64), tensor(0.4383, dtype=torch.float64), tensor(0.4399, dtype=torch.float64), tensor(0.4367, dtype=torch.float64), tensor(0.4426, dtype=torch.float64), tensor(0.4357, dtype=torch.float64), tensor(0.4373, dtype=torch.float64), tensor(0.4418, dtype=torch.float64), tensor(0.4348, dtype=torch.float64), tensor(0.4443, dtype=torch.float64), tensor(0.4385, dtype=torch.float64), tensor(0.4365, dtype=torch.float64), tensor(0.4361, dtype=torch.float64), tensor(0.4385, dtype=torch.float64), tensor(0.4374, dtype=torch.float64), tensor(0.4321, dtype=torch.float64), tensor(0.4371, dtype=torch.float64), tensor(0.4409, dtype=torch.float64), tensor(0.4352, dtype=torch.float64), tensor(0.4388, dtype=torch.float64), tensor(0.4367, dtype=torch.float64), tensor(0.4383, dtype=torch.float64), tensor(0.4394, dtype=torch.float64), tensor(0.4355, dtype=torch.float64), tensor(0.4345, dtype=torch.float64), tensor(0.4424, dtype=torch.float64), tensor(0.4353, dtype=torch.float64), tensor(0.4400, dtype=torch.float64), tensor(0.4347, dtype=torch.float64), tensor(0.4375, dtype=torch.float64), tensor(0.4384, dtype=torch.float64), tensor(0.4379, dtype=torch.float64), tensor(0.4361, dtype=torch.float64), tensor(0.4425, dtype=torch.float64), tensor(0.4346, dtype=torch.float64), tensor(0.4355, dtype=torch.float64), tensor(0.4355, dtype=torch.float64), tensor(0.4390, dtype=torch.float64), tensor(0.4434, dtype=torch.float64), tensor(0.4336, dtype=torch.float64), tensor(0.4385, dtype=torch.float64), tensor(0.4362, dtype=torch.float64), tensor(0.4368, dtype=torch.float64), tensor(0.4349, dtype=torch.float64), tensor(0.4408, dtype=torch.float64), tensor(0.4343, dtype=torch.float64), tensor(0.4350, dtype=torch.float64), tensor(0.4372, dtype=torch.float64), tensor(0.4385, dtype=torch.float64), tensor(0.4396, dtype=torch.float64), tensor(0.4399, dtype=torch.float64), tensor(0.4370, dtype=torch.float64), tensor(0.4407, dtype=torch.float64), tensor(0.4337, dtype=torch.float64), tensor(0.4354, dtype=torch.float64), tensor(0.4400, dtype=torch.float64), tensor(0.4356, dtype=torch.float64), tensor(0.4387, dtype=torch.float64), tensor(0.4382, dtype=torch.float64), tensor(0.4354, dtype=torch.float64), tensor(0.4376, dtype=torch.float64), tensor(0.4370, dtype=torch.float64), tensor(0.4393, dtype=torch.float64), tensor(0.4418, dtype=torch.float64), tensor(0.4373, dtype=torch.float64), tensor(0.4351, dtype=torch.float64), tensor(0.4397, dtype=torch.float64), tensor(0.4350, dtype=torch.float64), tensor(0.4432, dtype=torch.float64), tensor(0.4374, dtype=torch.float64), tensor(0.4430, dtype=torch.float64), tensor(0.4348, dtype=torch.float64), tensor(0.4407, dtype=torch.float64), tensor(0.4351, dtype=torch.float64), tensor(0.4359, dtype=torch.float64), tensor(0.4353, dtype=torch.float64), tensor(0.4341, dtype=torch.float64), tensor(0.4359, dtype=torch.float64), tensor(0.4325, dtype=torch.float64), tensor(0.4403, dtype=torch.float64), tensor(0.4444, dtype=torch.float64), tensor(0.4394, dtype=torch.float64), tensor(0.4349, dtype=torch.float64), tensor(0.4366, dtype=torch.float64), tensor(0.4357, dtype=torch.float64), tensor(0.4383, dtype=torch.float64), tensor(0.4390, dtype=torch.float64), tensor(0.4447, dtype=torch.float64), tensor(0.4389, dtype=torch.float64), tensor(0.4377, dtype=torch.float64), tensor(0.4369, dtype=torch.float64), tensor(0.4386, dtype=torch.float64), tensor(0.4384, dtype=torch.float64), tensor(0.4360, dtype=torch.float64), tensor(0.4383, dtype=torch.float64), tensor(0.4428, dtype=torch.float64), tensor(0.4373, dtype=torch.float64), tensor(0.4381, dtype=torch.float64), tensor(0.4391, dtype=torch.float64), tensor(0.4400, dtype=torch.float64), tensor(0.4390, dtype=torch.float64), tensor(0.4364, dtype=torch.float64), tensor(0.4384, dtype=torch.float64), tensor(0.4421, dtype=torch.float64), tensor(0.4408, dtype=torch.float64), tensor(0.4395, dtype=torch.float64), tensor(0.4400, dtype=torch.float64), tensor(0.4376, dtype=torch.float64), tensor(0.4408, dtype=torch.float64), tensor(0.4378, dtype=torch.float64), tensor(0.4407, dtype=torch.float64), tensor(0.4302, dtype=torch.float64), tensor(0.4360, dtype=torch.float64), tensor(0.4374, dtype=torch.float64), tensor(0.4381, dtype=torch.float64), tensor(0.4370, dtype=torch.float64), tensor(0.4358, dtype=torch.float64), tensor(0.4360, dtype=torch.float64), tensor(0.4378, dtype=torch.float64), tensor(0.4426, dtype=torch.float64), tensor(0.4384, dtype=torch.float64), tensor(0.4368, dtype=torch.float64), tensor(0.4342, dtype=torch.float64), tensor(0.4360, dtype=torch.float64), tensor(0.4422, dtype=torch.float64), tensor(0.4415, dtype=torch.float64), tensor(0.4385, dtype=torch.float64), tensor(0.4401, dtype=torch.float64), tensor(0.4352, dtype=torch.float64), tensor(0.4391, dtype=torch.float64), tensor(0.4337, dtype=torch.float64), tensor(0.4357, dtype=torch.float64), tensor(0.4405, dtype=torch.float64), tensor(0.4370, dtype=torch.float64), tensor(0.4417, dtype=torch.float64), tensor(0.4370, dtype=torch.float64), tensor(0.4389, dtype=torch.float64), tensor(0.4387, dtype=torch.float64), tensor(0.4349, dtype=torch.float64), tensor(0.4394, dtype=torch.float64), tensor(0.4322, dtype=torch.float64), tensor(0.4393, dtype=torch.float64), tensor(0.4399, dtype=torch.float64), tensor(0.4433, dtype=torch.float64), tensor(0.4436, dtype=torch.float64), tensor(0.4394, dtype=torch.float64), tensor(0.4354, dtype=torch.float64), tensor(0.4415, dtype=torch.float64), tensor(0.4425, dtype=torch.float64), tensor(0.4391, dtype=torch.float64), tensor(0.4375, dtype=torch.float64), tensor(0.4418, dtype=torch.float64), tensor(0.4348, dtype=torch.float64), tensor(0.4387, dtype=torch.float64), tensor(0.4395, dtype=torch.float64), tensor(0.4365, dtype=torch.float64), tensor(0.4394, dtype=torch.float64), tensor(0.4379, dtype=torch.float64), tensor(0.4363, dtype=torch.float64), tensor(0.4360, dtype=torch.float64), tensor(0.4380, dtype=torch.float64), tensor(0.4372, dtype=torch.float64), tensor(0.4410, dtype=torch.float64), tensor(0.4368, dtype=torch.float64), tensor(0.4383, dtype=torch.float64), tensor(0.4350, dtype=torch.float64), tensor(0.4374, dtype=torch.float64), tensor(0.4377, dtype=torch.float64), tensor(0.4388, dtype=torch.float64), tensor(0.4369, dtype=torch.float64), tensor(0.4428, dtype=torch.float64), tensor(0.4396, dtype=torch.float64), tensor(0.4350, dtype=torch.float64), tensor(0.4374, dtype=torch.float64), tensor(0.4338, dtype=torch.float64), tensor(0.4350, dtype=torch.float64), tensor(0.4369, dtype=torch.float64), tensor(0.4388, dtype=torch.float64), tensor(0.4346, dtype=torch.float64), tensor(0.4410, dtype=torch.float64), tensor(0.4394, dtype=torch.float64), tensor(0.4460, dtype=torch.float64), tensor(0.4340, dtype=torch.float64), tensor(0.4357, dtype=torch.float64), tensor(0.4341, dtype=torch.float64), tensor(0.4335, dtype=torch.float64), tensor(0.4374, dtype=torch.float64), tensor(0.4373, dtype=torch.float64), tensor(0.4370, dtype=torch.float64), tensor(0.4395, dtype=torch.float64), tensor(0.4405, dtype=torch.float64), tensor(0.4418, dtype=torch.float64), tensor(0.4417, dtype=torch.float64), tensor(0.4355, dtype=torch.float64), tensor(0.4396, dtype=torch.float64), tensor(0.4394, dtype=torch.float64), tensor(0.4397, dtype=torch.float64), tensor(0.4359, dtype=torch.float64), tensor(0.4382, dtype=torch.float64), tensor(0.4371, dtype=torch.float64), tensor(0.4347, dtype=torch.float64), tensor(0.4390, dtype=torch.float64), tensor(0.4364, dtype=torch.float64), tensor(0.4356, dtype=torch.float64), tensor(0.4290, dtype=torch.float64), tensor(0.4325, dtype=torch.float64), tensor(0.4396, dtype=torch.float64), tensor(0.4380, dtype=torch.float64), tensor(0.4366, dtype=torch.float64), tensor(0.4407, dtype=torch.float64), tensor(0.4368, dtype=torch.float64), tensor(0.4371, dtype=torch.float64), tensor(0.4390, dtype=torch.float64), tensor(0.4375, dtype=torch.float64), tensor(0.4389, dtype=torch.float64), tensor(0.4352, dtype=torch.float64), tensor(0.4408, dtype=torch.float64), tensor(0.4417, dtype=torch.float64), tensor(0.4375, dtype=torch.float64), tensor(0.4369, dtype=torch.float64), tensor(0.4395, dtype=torch.float64), tensor(0.4384, dtype=torch.float64), tensor(0.4329, dtype=torch.float64), tensor(0.4332, dtype=torch.float64), tensor(0.4381, dtype=torch.float64), tensor(0.4343, dtype=torch.float64), tensor(0.4360, dtype=torch.float64), tensor(0.4365, dtype=torch.float64), tensor(0.4366, dtype=torch.float64), tensor(0.4335, dtype=torch.float64), tensor(0.4372, dtype=torch.float64), tensor(0.4407, dtype=torch.float64), tensor(0.4372, dtype=torch.float64), tensor(0.4342, dtype=torch.float64), tensor(0.4374, dtype=torch.float64), tensor(0.4372, dtype=torch.float64), tensor(0.4368, dtype=torch.float64), tensor(0.4344, dtype=torch.float64), tensor(0.4359, dtype=torch.float64), tensor(0.4386, dtype=torch.float64), tensor(0.4434, dtype=torch.float64), tensor(0.4368, dtype=torch.float64), tensor(0.4408, dtype=torch.float64), tensor(0.4398, dtype=torch.float64), tensor(0.4383, dtype=torch.float64), tensor(0.4357, dtype=torch.float64), tensor(0.4365, dtype=torch.float64), tensor(0.4388, dtype=torch.float64), tensor(0.4363, dtype=torch.float64), tensor(0.4392, dtype=torch.float64), tensor(0.4386, dtype=torch.float64), tensor(0.4340, dtype=torch.float64), tensor(0.4408, dtype=torch.float64), tensor(0.4403, dtype=torch.float64), tensor(0.4370, dtype=torch.float64), tensor(0.4387, dtype=torch.float64), tensor(0.4341, dtype=torch.float64), tensor(0.4407, dtype=torch.float64), tensor(0.4372, dtype=torch.float64), tensor(0.4437, dtype=torch.float64), tensor(0.4383, dtype=torch.float64), tensor(0.4340, dtype=torch.float64), tensor(0.4423, dtype=torch.float64), tensor(0.4425, dtype=torch.float64), tensor(0.4336, dtype=torch.float64), tensor(0.4390, dtype=torch.float64), tensor(0.4399, dtype=torch.float64), tensor(0.4408, dtype=torch.float64), tensor(0.4361, dtype=torch.float64), tensor(0.4381, dtype=torch.float64), tensor(0.4427, dtype=torch.float64), tensor(0.4382, dtype=torch.float64), tensor(0.4400, dtype=torch.float64), tensor(0.4403, dtype=torch.float64), tensor(0.4388, dtype=torch.float64), tensor(0.4369, dtype=torch.float64), tensor(0.4358, dtype=torch.float64), tensor(0.4383, dtype=torch.float64), tensor(0.4383, dtype=torch.float64), tensor(0.4408, dtype=torch.float64), tensor(0.4372, dtype=torch.float64), tensor(0.4370, dtype=torch.float64), tensor(0.4384, dtype=torch.float64), tensor(0.4406, dtype=torch.float64), tensor(0.4425, dtype=torch.float64), tensor(0.4330, dtype=torch.float64), tensor(0.4391, dtype=torch.float64), tensor(0.4408, dtype=torch.float64), tensor(0.4365, dtype=torch.float64), tensor(0.4375, dtype=torch.float64), tensor(0.4393, dtype=torch.float64), tensor(0.4372, dtype=torch.float64), tensor(0.4392, dtype=torch.float64), tensor(0.4378, dtype=torch.float64), tensor(0.4402, dtype=torch.float64), tensor(0.4407, dtype=torch.float64), tensor(0.4371, dtype=torch.float64), tensor(0.4350, dtype=torch.float64), tensor(0.4385, dtype=torch.float64), tensor(0.4386, dtype=torch.float64), tensor(0.4363, dtype=torch.float64), tensor(0.4392, dtype=torch.float64), tensor(0.4445, dtype=torch.float64), tensor(0.4377, dtype=torch.float64), tensor(0.4347, dtype=torch.float64), tensor(0.4347, dtype=torch.float64), tensor(0.4387, dtype=torch.float64), tensor(0.4382, dtype=torch.float64), tensor(0.4374, dtype=torch.float64), tensor(0.4348, dtype=torch.float64), tensor(0.4418, dtype=torch.float64), tensor(0.4364, dtype=torch.float64), tensor(0.4382, dtype=torch.float64), tensor(0.4400, dtype=torch.float64), tensor(0.4394, dtype=torch.float64), tensor(0.4439, dtype=torch.float64), tensor(0.4422, dtype=torch.float64), tensor(0.4398, dtype=torch.float64), tensor(0.4379, dtype=torch.float64), tensor(0.4351, dtype=torch.float64), tensor(0.4369, dtype=torch.float64), tensor(0.4365, dtype=torch.float64), tensor(0.4393, dtype=torch.float64), tensor(0.4358, dtype=torch.float64), tensor(0.4412, dtype=torch.float64), tensor(0.4402, dtype=torch.float64), tensor(0.4367, dtype=torch.float64), tensor(0.4381, dtype=torch.float64), tensor(0.4419, dtype=torch.float64), tensor(0.4376, dtype=torch.float64), tensor(0.4414, dtype=torch.float64), tensor(0.4390, dtype=torch.float64), tensor(0.4361, dtype=torch.float64), tensor(0.4304, dtype=torch.float64), tensor(0.4383, dtype=torch.float64), tensor(0.4408, dtype=torch.float64), tensor(0.4415, dtype=torch.float64), tensor(0.4372, dtype=torch.float64), tensor(0.4371, dtype=torch.float64), tensor(0.4359, dtype=torch.float64), tensor(0.4352, dtype=torch.float64), tensor(0.4369, dtype=torch.float64), tensor(0.4360, dtype=torch.float64), tensor(0.4373, dtype=torch.float64), tensor(0.4401, dtype=torch.float64), tensor(0.4387, dtype=torch.float64), tensor(0.4384, dtype=torch.float64), tensor(0.4362, dtype=torch.float64), tensor(0.4396, dtype=torch.float64), tensor(0.4421, dtype=torch.float64), tensor(0.4385, dtype=torch.float64), tensor(0.4374, dtype=torch.float64), tensor(0.4432, dtype=torch.float64), tensor(0.4362, dtype=torch.float64), tensor(0.4392, dtype=torch.float64), tensor(0.4331, dtype=torch.float64), tensor(0.4358, dtype=torch.float64), tensor(0.4378, dtype=torch.float64), tensor(0.4383, dtype=torch.float64), tensor(0.4441, dtype=torch.float64), tensor(0.4415, dtype=torch.float64), tensor(0.4370, dtype=torch.float64), tensor(0.4368, dtype=torch.float64), tensor(0.4434, dtype=torch.float64), tensor(0.4393, dtype=torch.float64), tensor(0.4427, dtype=torch.float64), tensor(0.4336, dtype=torch.float64), tensor(0.4341, dtype=torch.float64), tensor(0.4369, dtype=torch.float64), tensor(0.4426, dtype=torch.float64), tensor(0.4345, dtype=torch.float64), tensor(0.4386, dtype=torch.float64), tensor(0.4388, dtype=torch.float64), tensor(0.4363, dtype=torch.float64), tensor(0.4410, dtype=torch.float64), tensor(0.4376, dtype=torch.float64), tensor(0.4355, dtype=torch.float64), tensor(0.4377, dtype=torch.float64), tensor(0.4378, dtype=torch.float64), tensor(0.4389, dtype=torch.float64), tensor(0.4363, dtype=torch.float64), tensor(0.4376, dtype=torch.float64), tensor(0.4354, dtype=torch.float64), tensor(0.4378, dtype=torch.float64), tensor(0.4400, dtype=torch.float64), tensor(0.4375, dtype=torch.float64), tensor(0.4378, dtype=torch.float64), tensor(0.4400, dtype=torch.float64), tensor(0.4383, dtype=torch.float64), tensor(0.4390, dtype=torch.float64), tensor(0.4365, dtype=torch.float64), tensor(0.4385, dtype=torch.float64), tensor(0.4347, dtype=torch.float64), tensor(0.4349, dtype=torch.float64), tensor(0.4364, dtype=torch.float64), tensor(0.4367, dtype=torch.float64), tensor(0.4362, dtype=torch.float64), tensor(0.4376, dtype=torch.float64), tensor(0.4319, dtype=torch.float64), tensor(0.4402, dtype=torch.float64), tensor(0.4363, dtype=torch.float64), tensor(0.4374, dtype=torch.float64), tensor(0.4368, dtype=torch.float64), tensor(0.4365, dtype=torch.float64), tensor(0.4378, dtype=torch.float64), tensor(0.4385, dtype=torch.float64), tensor(0.4413, dtype=torch.float64), tensor(0.4373, dtype=torch.float64), tensor(0.4384, dtype=torch.float64), tensor(0.4381, dtype=torch.float64), tensor(0.4380, dtype=torch.float64), tensor(0.4383, dtype=torch.float64), tensor(0.4388, dtype=torch.float64), tensor(0.4400, dtype=torch.float64), tensor(0.4387, dtype=torch.float64), tensor(0.4360, dtype=torch.float64), tensor(0.4368, dtype=torch.float64), tensor(0.4337, dtype=torch.float64), tensor(0.4373, dtype=torch.float64), tensor(0.4421, dtype=torch.float64), tensor(0.4372, dtype=torch.float64), tensor(0.4379, dtype=torch.float64), tensor(0.4387, dtype=torch.float64), tensor(0.4318, dtype=torch.float64), tensor(0.4370, dtype=torch.float64), tensor(0.4416, dtype=torch.float64), tensor(0.4369, dtype=torch.float64), tensor(0.4366, dtype=torch.float64), tensor(0.4371, dtype=torch.float64), tensor(0.4364, dtype=torch.float64), tensor(0.4407, dtype=torch.float64), tensor(0.4419, dtype=torch.float64), tensor(0.4384, dtype=torch.float64), tensor(0.4357, dtype=torch.float64), tensor(0.4352, dtype=torch.float64), tensor(0.4359, dtype=torch.float64), tensor(0.4348, dtype=torch.float64), tensor(0.4358, dtype=torch.float64), tensor(0.4384, dtype=torch.float64), tensor(0.4335, dtype=torch.float64), tensor(0.4352, dtype=torch.float64), tensor(0.4363, dtype=torch.float64), tensor(0.4434, dtype=torch.float64), tensor(0.4384, dtype=torch.float64), tensor(0.4404, dtype=torch.float64), tensor(0.4402, dtype=torch.float64), tensor(0.4422, dtype=torch.float64), tensor(0.4357, dtype=torch.float64), tensor(0.4382, dtype=torch.float64), tensor(0.4373, dtype=torch.float64), tensor(0.4378, dtype=torch.float64), tensor(0.4390, dtype=torch.float64), tensor(0.4326, dtype=torch.float64), tensor(0.4370, dtype=torch.float64), tensor(0.4405, dtype=torch.float64), tensor(0.4359, dtype=torch.float64), tensor(0.4376, dtype=torch.float64), tensor(0.4377, dtype=torch.float64), tensor(0.4347, dtype=torch.float64), tensor(0.4391, dtype=torch.float64), tensor(0.4312, dtype=torch.float64), tensor(0.4407, dtype=torch.float64), tensor(0.4408, dtype=torch.float64), tensor(0.4364, dtype=torch.float64), tensor(0.4371, dtype=torch.float64), tensor(0.4368, dtype=torch.float64), tensor(0.4383, dtype=torch.float64), tensor(0.4376, dtype=torch.float64), tensor(0.4353, dtype=torch.float64), tensor(0.4392, dtype=torch.float64), tensor(0.4381, dtype=torch.float64), tensor(0.4361, dtype=torch.float64), tensor(0.4366, dtype=torch.float64), tensor(0.4390, dtype=torch.float64), tensor(0.4376, dtype=torch.float64), tensor(0.4375, dtype=torch.float64), tensor(0.4354, dtype=torch.float64), tensor(0.4363, dtype=torch.float64), tensor(0.4338, dtype=torch.float64), tensor(0.4385, dtype=torch.float64), tensor(0.4358, dtype=torch.float64), tensor(0.4382, dtype=torch.float64), tensor(0.4357, dtype=torch.float64), tensor(0.4385, dtype=torch.float64), tensor(0.4369, dtype=torch.float64), tensor(0.4369, dtype=torch.float64), tensor(0.4369, dtype=torch.float64), tensor(0.4337, dtype=torch.float64), tensor(0.4343, dtype=torch.float64), tensor(0.4371, dtype=torch.float64), tensor(0.4389, dtype=torch.float64), tensor(0.4361, dtype=torch.float64), tensor(0.4342, dtype=torch.float64), tensor(0.4382, dtype=torch.float64), tensor(0.4377, dtype=torch.float64), tensor(0.4382, dtype=torch.float64), tensor(0.4381, dtype=torch.float64), tensor(0.4365, dtype=torch.float64), tensor(0.4375, dtype=torch.float64), tensor(0.4408, dtype=torch.float64), tensor(0.4375, dtype=torch.float64), tensor(0.4430, dtype=torch.float64), tensor(0.4391, dtype=torch.float64), tensor(0.4370, dtype=torch.float64), tensor(0.4366, dtype=torch.float64), tensor(0.4311, dtype=torch.float64), tensor(0.4378, dtype=torch.float64), tensor(0.4385, dtype=torch.float64), tensor(0.4392, dtype=torch.float64), tensor(0.4350, dtype=torch.float64), tensor(0.4385, dtype=torch.float64), tensor(0.4395, dtype=torch.float64), tensor(0.4361, dtype=torch.float64), tensor(0.4369, dtype=torch.float64), tensor(0.4375, dtype=torch.float64), tensor(0.4333, dtype=torch.float64), tensor(0.4356, dtype=torch.float64), tensor(0.4356, dtype=torch.float64), tensor(0.4338, dtype=torch.float64), tensor(0.4374, dtype=torch.float64), tensor(0.4372, dtype=torch.float64), tensor(0.4376, dtype=torch.float64), tensor(0.4374, dtype=torch.float64), tensor(0.4381, dtype=torch.float64), tensor(0.4411, dtype=torch.float64), tensor(0.4396, dtype=torch.float64), tensor(0.4369, dtype=torch.float64), tensor(0.4413, dtype=torch.float64), tensor(0.4365, dtype=torch.float64), tensor(0.4326, dtype=torch.float64), tensor(0.4365, dtype=torch.float64), tensor(0.4351, dtype=torch.float64), tensor(0.4375, dtype=torch.float64), tensor(0.4384, dtype=torch.float64), tensor(0.4380, dtype=torch.float64), tensor(0.4372, dtype=torch.float64), tensor(0.4436, dtype=torch.float64), tensor(0.4380, dtype=torch.float64), tensor(0.4414, dtype=torch.float64), tensor(0.4389, dtype=torch.float64), tensor(0.4352, dtype=torch.float64), tensor(0.4364, dtype=torch.float64), tensor(0.4333, dtype=torch.float64), tensor(0.4382, dtype=torch.float64), tensor(0.4372, dtype=torch.float64), tensor(0.4382, dtype=torch.float64), tensor(0.4400, dtype=torch.float64), tensor(0.4364, dtype=torch.float64), tensor(0.4364, dtype=torch.float64), tensor(0.4411, dtype=torch.float64), tensor(0.4360, dtype=torch.float64), tensor(0.4367, dtype=torch.float64), tensor(0.4397, dtype=torch.float64), tensor(0.4417, dtype=torch.float64), tensor(0.4398, dtype=torch.float64), tensor(0.4418, dtype=torch.float64), tensor(0.4369, dtype=torch.float64), tensor(0.4368, dtype=torch.float64), tensor(0.4381, dtype=torch.float64), tensor(0.4428, dtype=torch.float64), tensor(0.4367, dtype=torch.float64), tensor(0.4417, dtype=torch.float64), tensor(0.4389, dtype=torch.float64), tensor(0.4357, dtype=torch.float64), tensor(0.4341, dtype=torch.float64), tensor(0.4399, dtype=torch.float64), tensor(0.4365, dtype=torch.float64), tensor(0.4350, dtype=torch.float64), tensor(0.4410, dtype=torch.float64), tensor(0.4386, dtype=torch.float64), tensor(0.4360, dtype=torch.float64), tensor(0.4394, dtype=torch.float64), tensor(0.4387, dtype=torch.float64), tensor(0.4344, dtype=torch.float64), tensor(0.4369, dtype=torch.float64), tensor(0.4342, dtype=torch.float64), tensor(0.4325, dtype=torch.float64), tensor(0.4409, dtype=torch.float64), tensor(0.4387, dtype=torch.float64), tensor(0.4380, dtype=torch.float64), tensor(0.4366, dtype=torch.float64), tensor(0.4348, dtype=torch.float64), tensor(0.4384, dtype=torch.float64), tensor(0.4366, dtype=torch.float64), tensor(0.4355, dtype=torch.float64), tensor(0.4390, dtype=torch.float64), tensor(0.4395, dtype=torch.float64), tensor(0.4408, dtype=torch.float64), tensor(0.4343, dtype=torch.float64), tensor(0.4342, dtype=torch.float64), tensor(0.4402, dtype=torch.float64), tensor(0.4384, dtype=torch.float64), tensor(0.4401, dtype=torch.float64), tensor(0.4397, dtype=torch.float64), tensor(0.4393, dtype=torch.float64), tensor(0.4384, dtype=torch.float64), tensor(0.4374, dtype=torch.float64), tensor(0.4344, dtype=torch.float64), tensor(0.4384, dtype=torch.float64), tensor(0.4363, dtype=torch.float64), tensor(0.4400, dtype=torch.float64), tensor(0.4382, dtype=torch.float64), tensor(0.4422, dtype=torch.float64), tensor(0.4377, dtype=torch.float64), tensor(0.4379, dtype=torch.float64), tensor(0.4388, dtype=torch.float64), tensor(0.4392, dtype=torch.float64), tensor(0.4372, dtype=torch.float64), tensor(0.4401, dtype=torch.float64), tensor(0.4393, dtype=torch.float64), tensor(0.4381, dtype=torch.float64), tensor(0.4350, dtype=torch.float64), tensor(0.4438, dtype=torch.float64), tensor(0.4393, dtype=torch.float64), tensor(0.4385, dtype=torch.float64), tensor(0.4351, dtype=torch.float64), tensor(0.4383, dtype=torch.float64), tensor(0.4360, dtype=torch.float64), tensor(0.4364, dtype=torch.float64), tensor(0.4384, dtype=torch.float64), tensor(0.4416, dtype=torch.float64), tensor(0.4335, dtype=torch.float64), tensor(0.4395, dtype=torch.float64), tensor(0.4382, dtype=torch.float64), tensor(0.4363, dtype=torch.float64), tensor(0.4425, dtype=torch.float64), tensor(0.4387, dtype=torch.float64), tensor(0.4395, dtype=torch.float64), tensor(0.4402, dtype=torch.float64), tensor(0.4344, dtype=torch.float64), tensor(0.4373, dtype=torch.float64), tensor(0.4377, dtype=torch.float64), tensor(0.4423, dtype=torch.float64), tensor(0.4387, dtype=torch.float64), tensor(0.4403, dtype=torch.float64), tensor(0.4325, dtype=torch.float64), tensor(0.4344, dtype=torch.float64), tensor(0.4392, dtype=torch.float64), tensor(0.4362, dtype=torch.float64), tensor(0.4367, dtype=torch.float64), tensor(0.4374, dtype=torch.float64), tensor(0.4371, dtype=torch.float64), tensor(0.4382, dtype=torch.float64), tensor(0.4418, dtype=torch.float64), tensor(0.4427, dtype=torch.float64), tensor(0.4385, dtype=torch.float64), tensor(0.4407, dtype=torch.float64), tensor(0.4364, dtype=torch.float64), tensor(0.4361, dtype=torch.float64), tensor(0.4405, dtype=torch.float64), tensor(0.4375, dtype=torch.float64), tensor(0.4329, dtype=torch.float64), tensor(0.4347, dtype=torch.float64), tensor(0.4380, dtype=torch.float64), tensor(0.4385, dtype=torch.float64), tensor(0.4373, dtype=torch.float64), tensor(0.4389, dtype=torch.float64), tensor(0.4336, dtype=torch.float64), tensor(0.4382, dtype=torch.float64), tensor(0.4361, dtype=torch.float64), tensor(0.4418, dtype=torch.float64), tensor(0.4408, dtype=torch.float64), tensor(0.4371, dtype=torch.float64), tensor(0.4359, dtype=torch.float64), tensor(0.4362, dtype=torch.float64), tensor(0.4385, dtype=torch.float64), tensor(0.4393, dtype=torch.float64), tensor(0.4367, dtype=torch.float64), tensor(0.4339, dtype=torch.float64), tensor(0.4383, dtype=torch.float64), tensor(0.4378, dtype=torch.float64), tensor(0.4377, dtype=torch.float64), tensor(0.4407, dtype=torch.float64), tensor(0.4393, dtype=torch.float64), tensor(0.4367, dtype=torch.float64), tensor(0.4391, dtype=torch.float64), tensor(0.4370, dtype=torch.float64), tensor(0.4407, dtype=torch.float64), tensor(0.4383, dtype=torch.float64), tensor(0.4368, dtype=torch.float64), tensor(0.4424, dtype=torch.float64), tensor(0.4373, dtype=torch.float64), tensor(0.4373, dtype=torch.float64), tensor(0.4393, dtype=torch.float64), tensor(0.4399, dtype=torch.float64), tensor(0.4392, dtype=torch.float64), tensor(0.4383, dtype=torch.float64), tensor(0.4372, dtype=torch.float64), tensor(0.4337, dtype=torch.float64), tensor(0.4421, dtype=torch.float64), tensor(0.4418, dtype=torch.float64), tensor(0.4364, dtype=torch.float64), tensor(0.4376, dtype=torch.float64), tensor(0.4387, dtype=torch.float64), tensor(0.4371, dtype=torch.float64), tensor(0.4369, dtype=torch.float64), tensor(0.4425, dtype=torch.float64), tensor(0.4390, dtype=torch.float64), tensor(0.4415, dtype=torch.float64), tensor(0.4359, dtype=torch.float64), tensor(0.4443, dtype=torch.float64), tensor(0.4369, dtype=torch.float64), tensor(0.4335, dtype=torch.float64), tensor(0.4364, dtype=torch.float64), tensor(0.4405, dtype=torch.float64), tensor(0.4378, dtype=torch.float64), tensor(0.4393, dtype=torch.float64), tensor(0.4400, dtype=torch.float64), tensor(0.4364, dtype=torch.float64), tensor(0.4449, dtype=torch.float64), tensor(0.4406, dtype=torch.float64), tensor(0.4430, dtype=torch.float64), tensor(0.4331, dtype=torch.float64), tensor(0.4398, dtype=torch.float64), tensor(0.4368, dtype=torch.float64), tensor(0.4409, dtype=torch.float64), tensor(0.4366, dtype=torch.float64), tensor(0.4418, dtype=torch.float64), tensor(0.4361, dtype=torch.float64), tensor(0.4369, dtype=torch.float64), tensor(0.4374, dtype=torch.float64)], 'targets': [tensor(0., dtype=torch.float64), tensor(0., dtype=torch.float64), tensor(0., dtype=torch.float64), tensor(0., dtype=torch.float64), tensor(0., dtype=torch.float64), tensor(0., dtype=torch.float64), tensor(0., dtype=torch.float64), tensor(0., dtype=torch.float64), tensor(0., dtype=torch.float64), tensor(0., dtype=torch.float64), tensor(0., dtype=torch.float64), tensor(0., dtype=torch.float64), tensor(0., dtype=torch.float64), tensor(0., dtype=torch.float64), tensor(0., dtype=torch.float64), tensor(0., dtype=torch.float64), tensor(0., dtype=torch.float64), tensor(0., dtype=torch.float64), tensor(0., dtype=torch.float64), tensor(0., dtype=torch.float64), tensor(0., dtype=torch.float64), tensor(0., dtype=torch.float64), tensor(0., dtype=torch.float64), tensor(0., dtype=torch.float64), tensor(0., dtype=torch.float64), tensor(0., dtype=torch.float64), tensor(1., dtype=torch.float64), tensor(0., dtype=torch.float64), tensor(0., dtype=torch.float64), tensor(0., dtype=torch.float64), tensor(1., dtype=torch.float64), tensor(0., dtype=torch.float64), tensor(0., dtype=torch.float64), tensor(0., dtype=torch.float64), tensor(0., dtype=torch.float64), tensor(0., dtype=torch.float64), tensor(0., dtype=torch.float64), tensor(0., dtype=torch.float64), tensor(0., dtype=torch.float64), tensor(0., dtype=torch.float64), tensor(0., dtype=torch.float64), tensor(0., dtype=torch.float64), tensor(0., dtype=torch.float64), tensor(0., dtype=torch.float64), tensor(0., dtype=torch.float64), tensor(0., dtype=torch.float64), tensor(1., dtype=torch.float64), tensor(0., dtype=torch.float64), tensor(0., dtype=torch.float64), tensor(0., dtype=torch.float64), tensor(0., dtype=torch.float64), tensor(0., dtype=torch.float64), tensor(0., dtype=torch.float64), tensor(0., dtype=torch.float64), tensor(0., dtype=torch.float64), tensor(0., dtype=torch.float64), tensor(0., dtype=torch.float64), tensor(0., dtype=torch.float64), tensor(0., dtype=torch.float64), tensor(0., dtype=torch.float64), tensor(0., dtype=torch.float64), tensor(0., dtype=torch.float64), tensor(0., dtype=torch.float64), tensor(0., dtype=torch.float64), tensor(0., dtype=torch.float64), tensor(1., dtype=torch.float64), tensor(0., dtype=torch.float64), tensor(0., dtype=torch.float64), tensor(0., dtype=torch.float64), tensor(0., dtype=torch.float64), tensor(0., dtype=torch.float64), tensor(0., dtype=torch.float64), tensor(0., dtype=torch.float64), tensor(0., dtype=torch.float64), tensor(0., dtype=torch.float64), tensor(0., dtype=torch.float64), tensor(0., dtype=torch.float64), tensor(0., dtype=torch.float64), tensor(0., dtype=torch.float64), tensor(0., dtype=torch.float64), tensor(0., dtype=torch.float64), tensor(0., dtype=torch.float64), tensor(0., dtype=torch.float64), tensor(0., dtype=torch.float64), tensor(0., dtype=torch.float64), tensor(1., dtype=torch.float64), tensor(0., dtype=torch.float64), tensor(0., dtype=torch.float64), tensor(0., dtype=torch.float64), tensor(0., dtype=torch.float64), tensor(0., dtype=torch.float64), tensor(0., dtype=torch.float64), tensor(0., dtype=torch.float64), tensor(0., dtype=torch.float64), tensor(0., dtype=torch.float64), tensor(0., dtype=torch.float64), tensor(0., dtype=torch.float64), tensor(0., dtype=torch.float64), tensor(0., dtype=torch.float64), tensor(0., dtype=torch.float64), tensor(0., dtype=torch.float64), tensor(0., dtype=torch.float64), tensor(0., dtype=torch.float64), tensor(0., dtype=torch.float64), tensor(0., dtype=torch.float64), tensor(0., dtype=torch.float64), tensor(0., dtype=torch.float64), tensor(0., dtype=torch.float64), tensor(0., dtype=torch.float64), tensor(1., dtype=torch.float64), tensor(0., dtype=torch.float64), tensor(0., dtype=torch.float64), tensor(0., dtype=torch.float64), tensor(0., dtype=torch.float64), tensor(0., dtype=torch.float64), tensor(0., dtype=torch.float64), tensor(0., dtype=torch.float64), tensor(0., dtype=torch.float64), tensor(0., dtype=torch.float64), tensor(0., dtype=torch.float64), tensor(0., dtype=torch.float64), tensor(1., dtype=torch.float64), tensor(0., dtype=torch.float64), tensor(0., dtype=torch.float64), tensor(0., dtype=torch.float64), tensor(1., dtype=torch.float64), tensor(0., dtype=torch.float64), tensor(0., dtype=torch.float64), tensor(0., dtype=torch.float64), tensor(0., dtype=torch.float64), tensor(0., dtype=torch.float64), tensor(0., dtype=torch.float64), tensor(0., dtype=torch.float64), tensor(0., dtype=torch.float64), tensor(0., dtype=torch.float64), tensor(0., dtype=torch.float64), tensor(1., dtype=torch.float64), tensor(0., dtype=torch.float64), tensor(0., dtype=torch.float64), tensor(0., dtype=torch.float64), tensor(0., dtype=torch.float64), tensor(0., dtype=torch.float64), tensor(0., dtype=torch.float64), tensor(0., dtype=torch.float64), tensor(0., dtype=torch.float64), tensor(0., dtype=torch.float64), tensor(0., dtype=torch.float64), tensor(0., dtype=torch.float64), tensor(0., dtype=torch.float64), tensor(0., dtype=torch.float64), tensor(0., dtype=torch.float64), tensor(0., dtype=torch.float64), tensor(0., dtype=torch.float64), tensor(0., dtype=torch.float64), tensor(0., dtype=torch.float64), tensor(0., dtype=torch.float64), tensor(0., dtype=torch.float64), tensor(0., dtype=torch.float64), tensor(1., dtype=torch.float64), tensor(0., dtype=torch.float64), tensor(0., dtype=torch.float64), tensor(0., dtype=torch.float64), tensor(0., dtype=torch.float64), tensor(0., dtype=torch.float64), tensor(0., dtype=torch.float64), tensor(0., dtype=torch.float64), tensor(0., dtype=torch.float64), tensor(0., dtype=torch.float64), tensor(0., dtype=torch.float64), tensor(0., dtype=torch.float64), tensor(1., dtype=torch.float64), tensor(0., dtype=torch.float64), tensor(0., dtype=torch.float64), tensor(0., dtype=torch.float64), tensor(0., dtype=torch.float64), tensor(0., dtype=torch.float64), tensor(0., dtype=torch.float64), tensor(0., dtype=torch.float64), tensor(0., dtype=torch.float64), tensor(0., dtype=torch.float64), tensor(0., dtype=torch.float64), tensor(0., dtype=torch.float64), tensor(0., dtype=torch.float64), tensor(0., dtype=torch.float64), tensor(0., dtype=torch.float64), tensor(0., dtype=torch.float64), tensor(0., dtype=torch.float64), tensor(0., dtype=torch.float64), tensor(0., dtype=torch.float64), tensor(0., dtype=torch.float64), tensor(0., dtype=torch.float64), tensor(0., dtype=torch.float64), tensor(0., dtype=torch.float64), tensor(0., dtype=torch.float64), tensor(0., dtype=torch.float64), tensor(0., dtype=torch.float64), tensor(0., dtype=torch.float64), tensor(0., dtype=torch.float64), tensor(0., dtype=torch.float64), tensor(0., dtype=torch.float64), tensor(0., dtype=torch.float64), tensor(0., dtype=torch.float64), tensor(0., dtype=torch.float64), tensor(0., dtype=torch.float64), tensor(1., dtype=torch.float64), tensor(0., dtype=torch.float64), tensor(0., dtype=torch.float64), tensor(0., dtype=torch.float64), tensor(0., dtype=torch.float64), tensor(0., dtype=torch.float64), tensor(0., dtype=torch.float64), tensor(0., dtype=torch.float64), tensor(0., dtype=torch.float64), tensor(0., dtype=torch.float64), tensor(0., dtype=torch.float64), tensor(0., dtype=torch.float64), tensor(0., dtype=torch.float64), tensor(0., dtype=torch.float64), tensor(0., dtype=torch.float64), tensor(0., dtype=torch.float64), tensor(0., dtype=torch.float64), tensor(0., dtype=torch.float64), tensor(0., dtype=torch.float64), tensor(0., dtype=torch.float64), tensor(0., dtype=torch.float64), tensor(0., dtype=torch.float64), tensor(1., dtype=torch.float64), tensor(0., dtype=torch.float64), tensor(0., dtype=torch.float64), tensor(0., dtype=torch.float64), tensor(0., dtype=torch.float64), tensor(0., dtype=torch.float64), tensor(0., dtype=torch.float64), tensor(0., dtype=torch.float64), tensor(0., dtype=torch.float64), tensor(0., dtype=torch.float64), tensor(0., dtype=torch.float64), tensor(0., dtype=torch.float64), tensor(0., dtype=torch.float64), tensor(0., dtype=torch.float64), tensor(0., dtype=torch.float64), tensor(0., dtype=torch.float64), tensor(1., dtype=torch.float64), tensor(1., dtype=torch.float64), tensor(0., dtype=torch.float64), tensor(0., dtype=torch.float64), tensor(0., dtype=torch.float64), tensor(0., dtype=torch.float64), tensor(0., dtype=torch.float64), tensor(1., dtype=torch.float64), tensor(0., dtype=torch.float64), tensor(0., dtype=torch.float64), tensor(0., dtype=torch.float64), tensor(0., dtype=torch.float64), tensor(0., dtype=torch.float64), tensor(0., dtype=torch.float64), tensor(0., dtype=torch.float64), tensor(0., dtype=torch.float64), tensor(0., dtype=torch.float64), tensor(0., dtype=torch.float64), tensor(0., dtype=torch.float64), tensor(0., dtype=torch.float64), tensor(0., dtype=torch.float64), tensor(0., dtype=torch.float64), tensor(0., dtype=torch.float64), tensor(0., dtype=torch.float64), tensor(0., dtype=torch.float64), tensor(0., dtype=torch.float64), tensor(0., dtype=torch.float64), tensor(0., dtype=torch.float64), tensor(0., dtype=torch.float64), tensor(0., dtype=torch.float64), tensor(0., dtype=torch.float64), tensor(0., dtype=torch.float64), tensor(0., dtype=torch.float64), tensor(0., dtype=torch.float64), tensor(0., dtype=torch.float64), tensor(0., dtype=torch.float64), tensor(0., dtype=torch.float64), tensor(0., dtype=torch.float64), tensor(0., dtype=torch.float64), tensor(0., dtype=torch.float64), tensor(0., dtype=torch.float64), tensor(0., dtype=torch.float64), tensor(0., dtype=torch.float64), tensor(0., dtype=torch.float64), tensor(0., dtype=torch.float64), tensor(0., dtype=torch.float64), tensor(0., dtype=torch.float64), tensor(0., dtype=torch.float64), tensor(0., dtype=torch.float64), tensor(0., dtype=torch.float64), tensor(0., dtype=torch.float64), tensor(0., dtype=torch.float64), tensor(0., dtype=torch.float64), tensor(0., dtype=torch.float64), tensor(0., dtype=torch.float64), tensor(1., dtype=torch.float64), tensor(0., dtype=torch.float64), tensor(0., dtype=torch.float64), tensor(1., dtype=torch.float64), tensor(0., dtype=torch.float64), tensor(1., dtype=torch.float64), tensor(0., dtype=torch.float64), tensor(0., dtype=torch.float64), tensor(0., dtype=torch.float64), tensor(0., dtype=torch.float64), tensor(0., dtype=torch.float64), tensor(0., dtype=torch.float64), tensor(0., dtype=torch.float64), tensor(1., dtype=torch.float64), tensor(0., dtype=torch.float64), tensor(0., dtype=torch.float64), tensor(0., dtype=torch.float64), tensor(0., dtype=torch.float64), tensor(0., dtype=torch.float64), tensor(0., dtype=torch.float64), tensor(0., dtype=torch.float64), tensor(0., dtype=torch.float64), tensor(0., dtype=torch.float64), tensor(0., dtype=torch.float64), tensor(0., dtype=torch.float64), tensor(0., dtype=torch.float64), tensor(0., dtype=torch.float64), tensor(0., dtype=torch.float64), tensor(0., dtype=torch.float64), tensor(0., dtype=torch.float64), tensor(0., dtype=torch.float64), tensor(0., dtype=torch.float64), tensor(0., dtype=torch.float64), tensor(0., dtype=torch.float64), tensor(0., dtype=torch.float64), tensor(0., dtype=torch.float64), tensor(0., dtype=torch.float64), tensor(0., dtype=torch.float64), tensor(0., dtype=torch.float64), tensor(0., dtype=torch.float64), tensor(0., dtype=torch.float64), tensor(0., dtype=torch.float64), tensor(0., dtype=torch.float64), tensor(0., dtype=torch.float64), tensor(0., dtype=torch.float64), tensor(0., dtype=torch.float64), tensor(0., dtype=torch.float64), tensor(0., dtype=torch.float64), tensor(0., dtype=torch.float64), tensor(0., dtype=torch.float64), tensor(1., dtype=torch.float64), tensor(0., dtype=torch.float64), tensor(0., dtype=torch.float64), tensor(0., dtype=torch.float64), tensor(0., dtype=torch.float64), tensor(0., dtype=torch.float64), tensor(0., dtype=torch.float64), tensor(0., dtype=torch.float64), tensor(0., dtype=torch.float64), tensor(0., dtype=torch.float64), tensor(1., dtype=torch.float64), tensor(0., dtype=torch.float64), tensor(0., dtype=torch.float64), tensor(0., dtype=torch.float64), tensor(0., dtype=torch.float64), tensor(0., dtype=torch.float64), tensor(0., dtype=torch.float64), tensor(0., dtype=torch.float64), tensor(0., dtype=torch.float64), tensor(0., dtype=torch.float64), tensor(0., dtype=torch.float64), tensor(0., dtype=torch.float64), tensor(0., dtype=torch.float64), tensor(0., dtype=torch.float64), tensor(0., dtype=torch.float64), tensor(0., dtype=torch.float64), tensor(1., dtype=torch.float64), tensor(0., dtype=torch.float64), tensor(0., dtype=torch.float64), tensor(0., dtype=torch.float64), tensor(0., dtype=torch.float64), tensor(0., dtype=torch.float64), tensor(0., dtype=torch.float64), tensor(0., dtype=torch.float64), tensor(0., dtype=torch.float64), tensor(0., dtype=torch.float64), tensor(0., dtype=torch.float64), tensor(0., dtype=torch.float64), tensor(0., dtype=torch.float64), tensor(0., dtype=torch.float64), tensor(0., dtype=torch.float64), tensor(0., dtype=torch.float64), tensor(0., dtype=torch.float64), tensor(0., dtype=torch.float64), tensor(0., dtype=torch.float64), tensor(0., dtype=torch.float64), tensor(0., dtype=torch.float64), tensor(0., dtype=torch.float64), tensor(0., dtype=torch.float64), tensor(0., dtype=torch.float64), tensor(0., dtype=torch.float64), tensor(0., dtype=torch.float64), tensor(0., dtype=torch.float64), tensor(0., dtype=torch.float64), tensor(0., dtype=torch.float64), tensor(0., dtype=torch.float64), tensor(0., dtype=torch.float64), tensor(0., dtype=torch.float64), tensor(0., dtype=torch.float64), tensor(0., dtype=torch.float64), tensor(0., dtype=torch.float64), tensor(0., dtype=torch.float64), tensor(0., dtype=torch.float64), tensor(0., dtype=torch.float64), tensor(0., dtype=torch.float64), tensor(0., dtype=torch.float64), tensor(0., dtype=torch.float64), tensor(0., dtype=torch.float64), tensor(0., dtype=torch.float64), tensor(0., dtype=torch.float64), tensor(0., dtype=torch.float64), tensor(0., dtype=torch.float64), tensor(0., dtype=torch.float64), tensor(0., dtype=torch.float64), tensor(0., dtype=torch.float64), tensor(0., dtype=torch.float64), tensor(1., dtype=torch.float64), tensor(0., dtype=torch.float64), tensor(0., dtype=torch.float64), tensor(0., dtype=torch.float64), tensor(0., dtype=torch.float64), tensor(1., dtype=torch.float64), tensor(0., dtype=torch.float64), tensor(0., dtype=torch.float64), tensor(0., dtype=torch.float64), tensor(0., dtype=torch.float64), tensor(0., dtype=torch.float64), tensor(0., dtype=torch.float64), tensor(0., dtype=torch.float64), tensor(0., dtype=torch.float64), tensor(0., dtype=torch.float64), tensor(0., dtype=torch.float64), tensor(0., dtype=torch.float64), tensor(0., dtype=torch.float64), tensor(0., dtype=torch.float64), tensor(0., dtype=torch.float64), tensor(0., dtype=torch.float64), tensor(0., dtype=torch.float64), tensor(0., dtype=torch.float64), tensor(0., dtype=torch.float64), tensor(0., dtype=torch.float64), tensor(1., dtype=torch.float64), tensor(0., dtype=torch.float64), tensor(0., dtype=torch.float64), tensor(0., dtype=torch.float64), tensor(0., dtype=torch.float64), tensor(0., dtype=torch.float64), tensor(0., dtype=torch.float64), tensor(0., dtype=torch.float64), tensor(0., dtype=torch.float64), tensor(0., dtype=torch.float64), tensor(0., dtype=torch.float64), tensor(0., dtype=torch.float64), tensor(0., dtype=torch.float64), tensor(0., dtype=torch.float64), tensor(0., dtype=torch.float64), tensor(1., dtype=torch.float64), tensor(0., dtype=torch.float64), tensor(0., dtype=torch.float64), tensor(0., dtype=torch.float64), tensor(0., dtype=torch.float64), tensor(0., dtype=torch.float64), tensor(0., dtype=torch.float64), tensor(0., dtype=torch.float64), tensor(0., dtype=torch.float64), tensor(0., dtype=torch.float64), tensor(0., dtype=torch.float64), tensor(0., dtype=torch.float64), tensor(0., dtype=torch.float64), tensor(0., dtype=torch.float64), tensor(0., dtype=torch.float64), tensor(0., dtype=torch.float64), tensor(0., dtype=torch.float64), tensor(0., dtype=torch.float64), tensor(0., dtype=torch.float64), tensor(0., dtype=torch.float64), tensor(0., dtype=torch.float64), tensor(0., dtype=torch.float64), tensor(0., dtype=torch.float64), tensor(0., dtype=torch.float64), tensor(0., dtype=torch.float64), tensor(0., dtype=torch.float64), tensor(0., dtype=torch.float64), tensor(0., dtype=torch.float64), tensor(0., dtype=torch.float64), tensor(1., dtype=torch.float64), tensor(0., dtype=torch.float64), tensor(0., dtype=torch.float64), tensor(0., dtype=torch.float64), tensor(0., dtype=torch.float64), tensor(0., dtype=torch.float64), tensor(0., dtype=torch.float64), tensor(0., dtype=torch.float64), tensor(0., dtype=torch.float64), tensor(0., dtype=torch.float64), tensor(0., dtype=torch.float64), tensor(0., dtype=torch.float64), tensor(0., dtype=torch.float64), tensor(0., dtype=torch.float64), tensor(0., dtype=torch.float64), tensor(0., dtype=torch.float64), tensor(0., dtype=torch.float64), tensor(0., dtype=torch.float64), tensor(0., dtype=torch.float64), tensor(0., dtype=torch.float64), tensor(0., dtype=torch.float64), tensor(0., dtype=torch.float64), tensor(0., dtype=torch.float64), tensor(0., dtype=torch.float64), tensor(1., dtype=torch.float64), tensor(0., dtype=torch.float64), tensor(0., dtype=torch.float64), tensor(0., dtype=torch.float64), tensor(0., dtype=torch.float64), tensor(0., dtype=torch.float64), tensor(0., dtype=torch.float64), tensor(0., dtype=torch.float64), tensor(0., dtype=torch.float64), tensor(0., dtype=torch.float64), tensor(0., dtype=torch.float64), tensor(0., dtype=torch.float64), tensor(1., dtype=torch.float64), tensor(0., dtype=torch.float64), tensor(0., dtype=torch.float64), tensor(0., dtype=torch.float64), tensor(0., dtype=torch.float64), tensor(0., dtype=torch.float64), tensor(0., dtype=torch.float64), tensor(0., dtype=torch.float64), tensor(0., dtype=torch.float64), tensor(0., dtype=torch.float64), tensor(0., dtype=torch.float64), tensor(0., dtype=torch.float64), tensor(0., dtype=torch.float64), tensor(0., dtype=torch.float64), tensor(0., dtype=torch.float64), tensor(0., dtype=torch.float64), tensor(0., dtype=torch.float64), tensor(0., dtype=torch.float64), tensor(0., dtype=torch.float64), tensor(0., dtype=torch.float64), tensor(0., dtype=torch.float64), tensor(0., dtype=torch.float64), tensor(0., dtype=torch.float64), tensor(0., dtype=torch.float64), tensor(0., dtype=torch.float64), tensor(0., dtype=torch.float64), tensor(0., dtype=torch.float64), tensor(0., dtype=torch.float64), tensor(0., dtype=torch.float64), tensor(0., dtype=torch.float64), tensor(0., dtype=torch.float64), tensor(0., dtype=torch.float64), tensor(0., dtype=torch.float64), tensor(0., dtype=torch.float64), tensor(0., dtype=torch.float64), tensor(0., dtype=torch.float64), tensor(0., dtype=torch.float64), tensor(0., dtype=torch.float64), tensor(0., dtype=torch.float64), tensor(0., dtype=torch.float64), tensor(0., dtype=torch.float64), tensor(0., dtype=torch.float64), tensor(0., dtype=torch.float64), tensor(0., dtype=torch.float64), tensor(0., dtype=torch.float64), tensor(0., dtype=torch.float64), tensor(0., dtype=torch.float64), tensor(0., dtype=torch.float64), tensor(0., dtype=torch.float64), tensor(0., dtype=torch.float64), tensor(1., dtype=torch.float64), tensor(0., dtype=torch.float64), tensor(0., dtype=torch.float64), tensor(0., dtype=torch.float64), tensor(0., dtype=torch.float64), tensor(0., dtype=torch.float64), tensor(0., dtype=torch.float64), tensor(0., dtype=torch.float64), tensor(0., dtype=torch.float64), tensor(0., dtype=torch.float64), tensor(0., dtype=torch.float64), tensor(1., dtype=torch.float64), tensor(0., dtype=torch.float64), tensor(0., dtype=torch.float64), tensor(1., dtype=torch.float64), tensor(0., dtype=torch.float64), tensor(0., dtype=torch.float64), tensor(0., dtype=torch.float64), tensor(0., dtype=torch.float64), tensor(0., dtype=torch.float64), tensor(0., dtype=torch.float64), tensor(0., dtype=torch.float64), tensor(0., dtype=torch.float64), tensor(0., dtype=torch.float64), tensor(0., dtype=torch.float64), tensor(0., dtype=torch.float64), tensor(0., dtype=torch.float64), tensor(0., dtype=torch.float64), tensor(0., dtype=torch.float64), tensor(0., dtype=torch.float64), tensor(0., dtype=torch.float64), tensor(0., dtype=torch.float64), tensor(0., dtype=torch.float64), tensor(0., dtype=torch.float64), tensor(0., dtype=torch.float64), tensor(0., dtype=torch.float64), tensor(0., dtype=torch.float64), tensor(0., dtype=torch.float64), tensor(0., dtype=torch.float64), tensor(0., dtype=torch.float64), tensor(1., dtype=torch.float64), tensor(0., dtype=torch.float64), tensor(0., dtype=torch.float64), tensor(0., dtype=torch.float64), tensor(0., dtype=torch.float64), tensor(0., dtype=torch.float64), tensor(0., dtype=torch.float64), tensor(0., dtype=torch.float64), tensor(0., dtype=torch.float64), tensor(0., dtype=torch.float64), tensor(0., dtype=torch.float64), tensor(0., dtype=torch.float64), tensor(0., dtype=torch.float64), tensor(0., dtype=torch.float64), tensor(0., dtype=torch.float64), tensor(0., dtype=torch.float64), tensor(0., dtype=torch.float64), tensor(0., dtype=torch.float64), tensor(0., dtype=torch.float64), tensor(0., dtype=torch.float64), tensor(0., dtype=torch.float64), tensor(0., dtype=torch.float64), tensor(0., dtype=torch.float64), tensor(0., dtype=torch.float64), tensor(0., dtype=torch.float64), tensor(0., dtype=torch.float64), tensor(0., dtype=torch.float64), tensor(0., dtype=torch.float64), tensor(0., dtype=torch.float64), tensor(0., dtype=torch.float64), tensor(0., dtype=torch.float64), tensor(0., dtype=torch.float64), tensor(0., dtype=torch.float64), tensor(0., dtype=torch.float64), tensor(0., dtype=torch.float64), tensor(0., dtype=torch.float64), tensor(0., dtype=torch.float64), tensor(0., dtype=torch.float64), tensor(0., dtype=torch.float64), tensor(0., dtype=torch.float64), tensor(0., dtype=torch.float64), tensor(0., dtype=torch.float64), tensor(1., dtype=torch.float64), tensor(0., dtype=torch.float64), tensor(0., dtype=torch.float64), tensor(1., dtype=torch.float64), tensor(0., dtype=torch.float64), tensor(0., dtype=torch.float64), tensor(0., dtype=torch.float64), tensor(0., dtype=torch.float64), tensor(0., dtype=torch.float64), tensor(1., dtype=torch.float64), tensor(0., dtype=torch.float64), tensor(0., dtype=torch.float64), tensor(0., dtype=torch.float64), tensor(0., dtype=torch.float64), tensor(0., dtype=torch.float64), tensor(0., dtype=torch.float64), tensor(0., dtype=torch.float64), tensor(0., dtype=torch.float64), tensor(0., dtype=torch.float64), tensor(0., dtype=torch.float64), tensor(0., dtype=torch.float64), tensor(0., dtype=torch.float64), tensor(0., dtype=torch.float64), tensor(0., dtype=torch.float64), tensor(0., dtype=torch.float64), tensor(0., dtype=torch.float64), tensor(0., dtype=torch.float64), tensor(0., dtype=torch.float64), tensor(0., dtype=torch.float64), tensor(0., dtype=torch.float64), tensor(0., dtype=torch.float64), tensor(0., dtype=torch.float64), tensor(0., dtype=torch.float64), tensor(0., dtype=torch.float64), tensor(0., dtype=torch.float64), tensor(0., dtype=torch.float64), tensor(0., dtype=torch.float64), tensor(0., dtype=torch.float64), tensor(0., dtype=torch.float64), tensor(0., dtype=torch.float64), tensor(0., dtype=torch.float64), tensor(0., dtype=torch.float64), tensor(0., dtype=torch.float64), tensor(0., dtype=torch.float64), tensor(0., dtype=torch.float64), tensor(0., dtype=torch.float64), tensor(0., dtype=torch.float64), tensor(0., dtype=torch.float64), tensor(0., dtype=torch.float64), tensor(1., dtype=torch.float64), tensor(0., dtype=torch.float64), tensor(0., dtype=torch.float64), tensor(0., dtype=torch.float64), tensor(0., dtype=torch.float64), tensor(1., dtype=torch.float64), tensor(0., dtype=torch.float64), tensor(0., dtype=torch.float64), tensor(0., dtype=torch.float64), tensor(0., dtype=torch.float64), tensor(1., dtype=torch.float64), tensor(1., dtype=torch.float64), tensor(0., dtype=torch.float64), tensor(0., dtype=torch.float64), tensor(0., dtype=torch.float64), tensor(0., dtype=torch.float64), tensor(0., dtype=torch.float64), tensor(1., dtype=torch.float64), tensor(0., dtype=torch.float64), tensor(1., dtype=torch.float64), tensor(0., dtype=torch.float64), tensor(0., dtype=torch.float64), tensor(0., dtype=torch.float64), tensor(0., dtype=torch.float64), tensor(0., dtype=torch.float64), tensor(0., dtype=torch.float64), tensor(0., dtype=torch.float64), tensor(0., dtype=torch.float64), tensor(0., dtype=torch.float64), tensor(0., dtype=torch.float64), tensor(0., dtype=torch.float64), tensor(0., dtype=torch.float64), tensor(0., dtype=torch.float64), tensor(0., dtype=torch.float64), tensor(0., dtype=torch.float64), tensor(0., dtype=torch.float64), tensor(0., dtype=torch.float64), tensor(0., dtype=torch.float64), tensor(0., dtype=torch.float64), tensor(1., dtype=torch.float64), tensor(1., dtype=torch.float64), tensor(0., dtype=torch.float64), tensor(0., dtype=torch.float64), tensor(0., dtype=torch.float64), tensor(0., dtype=torch.float64), tensor(0., dtype=torch.float64), tensor(0., dtype=torch.float64), tensor(0., dtype=torch.float64), tensor(0., dtype=torch.float64), tensor(0., dtype=torch.float64), tensor(0., dtype=torch.float64), tensor(0., dtype=torch.float64), tensor(0., dtype=torch.float64), tensor(0., dtype=torch.float64), tensor(0., dtype=torch.float64), tensor(0., dtype=torch.float64), tensor(0., dtype=torch.float64), tensor(0., dtype=torch.float64), tensor(1., dtype=torch.float64), tensor(0., dtype=torch.float64), tensor(0., dtype=torch.float64), tensor(0., dtype=torch.float64), tensor(0., dtype=torch.float64), tensor(0., dtype=torch.float64), tensor(0., dtype=torch.float64), tensor(0., dtype=torch.float64), tensor(0., dtype=torch.float64), tensor(0., dtype=torch.float64), tensor(1., dtype=torch.float64), tensor(0., dtype=torch.float64), tensor(0., dtype=torch.float64), tensor(0., dtype=torch.float64), tensor(0., dtype=torch.float64), tensor(0., dtype=torch.float64), tensor(0., dtype=torch.float64), tensor(0., dtype=torch.float64), tensor(0., dtype=torch.float64), tensor(0., dtype=torch.float64), tensor(0., dtype=torch.float64), tensor(0., dtype=torch.float64), tensor(0., dtype=torch.float64), tensor(0., dtype=torch.float64), tensor(0., dtype=torch.float64), tensor(0., dtype=torch.float64), tensor(0., dtype=torch.float64), tensor(0., dtype=torch.float64), tensor(1., dtype=torch.float64), tensor(0., dtype=torch.float64), tensor(0., dtype=torch.float64), tensor(0., dtype=torch.float64), tensor(0., dtype=torch.float64), tensor(0., dtype=torch.float64), tensor(0., dtype=torch.float64), tensor(0., dtype=torch.float64), tensor(0., dtype=torch.float64), tensor(0., dtype=torch.float64), tensor(0., dtype=torch.float64), tensor(0., dtype=torch.float64), tensor(0., dtype=torch.float64), tensor(0., dtype=torch.float64), tensor(0., dtype=torch.float64), tensor(0., dtype=torch.float64), tensor(0., dtype=torch.float64), tensor(1., dtype=torch.float64), tensor(0., dtype=torch.float64), tensor(0., dtype=torch.float64), tensor(0., dtype=torch.float64), tensor(0., dtype=torch.float64), tensor(0., dtype=torch.float64), tensor(0., dtype=torch.float64), tensor(0., dtype=torch.float64), tensor(0., dtype=torch.float64), tensor(0., dtype=torch.float64), tensor(0., dtype=torch.float64), tensor(0., dtype=torch.float64), tensor(0., dtype=torch.float64), tensor(0., dtype=torch.float64), tensor(0., dtype=torch.float64), tensor(0., dtype=torch.float64), tensor(0., dtype=torch.float64), tensor(0., dtype=torch.float64), tensor(0., dtype=torch.float64), tensor(0., dtype=torch.float64), tensor(0., dtype=torch.float64), tensor(0., dtype=torch.float64), tensor(0., dtype=torch.float64), tensor(0., dtype=torch.float64), tensor(0., dtype=torch.float64), tensor(0., dtype=torch.float64), tensor(0., dtype=torch.float64), tensor(1., dtype=torch.float64), tensor(0., dtype=torch.float64), tensor(0., dtype=torch.float64), tensor(0., dtype=torch.float64), tensor(0., dtype=torch.float64), tensor(0., dtype=torch.float64), tensor(0., dtype=torch.float64), tensor(0., dtype=torch.float64), tensor(0., dtype=torch.float64), tensor(0., dtype=torch.float64), tensor(0., dtype=torch.float64), tensor(0., dtype=torch.float64), tensor(0., dtype=torch.float64), tensor(0., dtype=torch.float64), tensor(0., dtype=torch.float64), tensor(0., dtype=torch.float64), tensor(0., dtype=torch.float64), tensor(1., dtype=torch.float64), tensor(0., dtype=torch.float64), tensor(0., dtype=torch.float64), tensor(0., dtype=torch.float64), tensor(1., dtype=torch.float64), tensor(0., dtype=torch.float64), tensor(0., dtype=torch.float64), tensor(0., dtype=torch.float64), tensor(0., dtype=torch.float64), tensor(0., dtype=torch.float64), tensor(0., dtype=torch.float64), tensor(0., dtype=torch.float64), tensor(0., dtype=torch.float64), tensor(0., dtype=torch.float64), tensor(0., dtype=torch.float64), tensor(0., dtype=torch.float64), tensor(0., dtype=torch.float64), tensor(0., dtype=torch.float64), tensor(0., dtype=torch.float64), tensor(0., dtype=torch.float64), tensor(0., dtype=torch.float64), tensor(0., dtype=torch.float64), tensor(0., dtype=torch.float64), tensor(1., dtype=torch.float64), tensor(0., dtype=torch.float64), tensor(0., dtype=torch.float64), tensor(0., dtype=torch.float64), tensor(0., dtype=torch.float64), tensor(0., dtype=torch.float64), tensor(0., dtype=torch.float64), tensor(0., dtype=torch.float64), tensor(0., dtype=torch.float64), tensor(0., dtype=torch.float64), tensor(0., dtype=torch.float64), tensor(0., dtype=torch.float64), tensor(0., dtype=torch.float64), tensor(0., dtype=torch.float64), tensor(0., dtype=torch.float64), tensor(0., dtype=torch.float64), tensor(0., dtype=torch.float64), tensor(0., dtype=torch.float64), tensor(0., dtype=torch.float64), tensor(0., dtype=torch.float64), tensor(1., dtype=torch.float64), tensor(0., dtype=torch.float64), tensor(0., dtype=torch.float64), tensor(0., dtype=torch.float64), tensor(0., dtype=torch.float64), tensor(0., dtype=torch.float64), tensor(0., dtype=torch.float64), tensor(0., dtype=torch.float64), tensor(0., dtype=torch.float64), tensor(0., dtype=torch.float64), tensor(1., dtype=torch.float64), tensor(0., dtype=torch.float64), tensor(1., dtype=torch.float64), tensor(0., dtype=torch.float64), tensor(0., dtype=torch.float64), tensor(0., dtype=torch.float64), tensor(0., dtype=torch.float64), tensor(0., dtype=torch.float64), tensor(0., dtype=torch.float64), tensor(0., dtype=torch.float64), tensor(1., dtype=torch.float64), tensor(0., dtype=torch.float64), tensor(0., dtype=torch.float64), tensor(0., dtype=torch.float64), tensor(0., dtype=torch.float64), tensor(0., dtype=torch.float64), tensor(0., dtype=torch.float64), tensor(1., dtype=torch.float64), tensor(0., dtype=torch.float64), tensor(0., dtype=torch.float64), tensor(0., dtype=torch.float64), tensor(0., dtype=torch.float64), tensor(0., dtype=torch.float64), tensor(0., dtype=torch.float64), tensor(0., dtype=torch.float64), tensor(0., dtype=torch.float64), tensor(0., dtype=torch.float64), tensor(0., dtype=torch.float64), tensor(0., dtype=torch.float64), tensor(0., dtype=torch.float64), tensor(1., dtype=torch.float64), tensor(0., dtype=torch.float64), tensor(0., dtype=torch.float64), tensor(0., dtype=torch.float64), tensor(1., dtype=torch.float64), tensor(0., dtype=torch.float64), tensor(1., dtype=torch.float64), tensor(0., dtype=torch.float64), tensor(0., dtype=torch.float64), tensor(0., dtype=torch.float64), tensor(0., dtype=torch.float64), tensor(0., dtype=torch.float64), tensor(0., dtype=torch.float64), tensor(0., dtype=torch.float64), tensor(0., dtype=torch.float64), tensor(0., dtype=torch.float64), tensor(0., dtype=torch.float64), tensor(0., dtype=torch.float64), tensor(0., dtype=torch.float64), tensor(0., dtype=torch.float64), tensor(0., dtype=torch.float64), tensor(0., dtype=torch.float64), tensor(0., dtype=torch.float64), tensor(0., dtype=torch.float64), tensor(0., dtype=torch.float64), tensor(0., dtype=torch.float64), tensor(0., dtype=torch.float64), tensor(0., dtype=torch.float64), tensor(0., dtype=torch.float64), tensor(0., dtype=torch.float64), tensor(0., dtype=torch.float64), tensor(0., dtype=torch.float64), tensor(0., dtype=torch.float64), tensor(0., dtype=torch.float64), tensor(0., dtype=torch.float64), tensor(0., dtype=torch.float64), tensor(0., dtype=torch.float64), tensor(0., dtype=torch.float64), tensor(0., dtype=torch.float64), tensor(0., dtype=torch.float64), tensor(0., dtype=torch.float64), tensor(0., dtype=torch.float64), tensor(0., dtype=torch.float64), tensor(0., dtype=torch.float64), tensor(0., dtype=torch.float64), tensor(0., dtype=torch.float64), tensor(0., dtype=torch.float64), tensor(0., dtype=torch.float64), tensor(0., dtype=torch.float64), tensor(0., dtype=torch.float64), tensor(0., dtype=torch.float64), tensor(0., dtype=torch.float64), tensor(0., dtype=torch.float64), tensor(0., dtype=torch.float64), tensor(0., dtype=torch.float64), tensor(0., dtype=torch.float64), tensor(0., dtype=torch.float64), tensor(0., dtype=torch.float64), tensor(0., dtype=torch.float64), tensor(0., dtype=torch.float64), tensor(0., dtype=torch.float64), tensor(0., dtype=torch.float64), tensor(1., dtype=torch.float64), tensor(0., dtype=torch.float64), tensor(0., dtype=torch.float64), tensor(0., dtype=torch.float64), tensor(0., dtype=torch.float64), tensor(0., dtype=torch.float64), tensor(0., dtype=torch.float64), tensor(0., dtype=torch.float64), tensor(0., dtype=torch.float64), tensor(1., dtype=torch.float64), tensor(0., dtype=torch.float64), tensor(0., dtype=torch.float64), tensor(0., dtype=torch.float64), tensor(0., dtype=torch.float64), tensor(1., dtype=torch.float64), tensor(0., dtype=torch.float64), tensor(0., dtype=torch.float64), tensor(0., dtype=torch.float64), tensor(0., dtype=torch.float64), tensor(0., dtype=torch.float64), tensor(0., dtype=torch.float64), tensor(0., dtype=torch.float64), tensor(0., dtype=torch.float64), tensor(0., dtype=torch.float64), tensor(0., dtype=torch.float64), tensor(0., dtype=torch.float64), tensor(0., dtype=torch.float64), tensor(0., dtype=torch.float64), tensor(0., dtype=torch.float64), tensor(0., dtype=torch.float64), tensor(0., dtype=torch.float64), tensor(0., dtype=torch.float64), tensor(0., dtype=torch.float64), tensor(0., dtype=torch.float64), tensor(0., dtype=torch.float64), tensor(1., dtype=torch.float64), tensor(1., dtype=torch.float64), tensor(0., dtype=torch.float64), tensor(0., dtype=torch.float64), tensor(0., dtype=torch.float64), tensor(0., dtype=torch.float64), tensor(1., dtype=torch.float64), tensor(0., dtype=torch.float64), tensor(0., dtype=torch.float64), tensor(0., dtype=torch.float64), tensor(1., dtype=torch.float64), tensor(0., dtype=torch.float64), tensor(0., dtype=torch.float64), tensor(1., dtype=torch.float64), tensor(0., dtype=torch.float64), tensor(0., dtype=torch.float64), tensor(0., dtype=torch.float64), tensor(0., dtype=torch.float64), tensor(0., dtype=torch.float64), tensor(0., dtype=torch.float64), tensor(0., dtype=torch.float64), tensor(0., dtype=torch.float64), tensor(0., dtype=torch.float64), tensor(0., dtype=torch.float64), tensor(0., dtype=torch.float64), tensor(0., dtype=torch.float64), tensor(0., dtype=torch.float64), tensor(0., dtype=torch.float64), tensor(0., dtype=torch.float64), tensor(0., dtype=torch.float64), tensor(0., dtype=torch.float64), tensor(0., dtype=torch.float64), tensor(0., dtype=torch.float64), tensor(0., dtype=torch.float64), tensor(0., dtype=torch.float64), tensor(0., dtype=torch.float64), tensor(1., dtype=torch.float64), tensor(0., dtype=torch.float64), tensor(0., dtype=torch.float64), tensor(0., dtype=torch.float64), tensor(0., dtype=torch.float64), tensor(0., dtype=torch.float64), tensor(0., dtype=torch.float64), tensor(0., dtype=torch.float64), tensor(0., dtype=torch.float64), tensor(0., dtype=torch.float64), tensor(0., dtype=torch.float64), tensor(1., dtype=torch.float64), tensor(0., dtype=torch.float64), tensor(0., dtype=torch.float64), tensor(0., dtype=torch.float64), tensor(0., dtype=torch.float64), tensor(1., dtype=torch.float64), tensor(0., dtype=torch.float64), tensor(0., dtype=torch.float64), tensor(0., dtype=torch.float64), tensor(0., dtype=torch.float64), tensor(0., dtype=torch.float64), tensor(0., dtype=torch.float64), tensor(1., dtype=torch.float64), tensor(0., dtype=torch.float64), tensor(0., dtype=torch.float64), tensor(0., dtype=torch.float64), tensor(0., dtype=torch.float64), tensor(0., dtype=torch.float64), tensor(0., dtype=torch.float64), tensor(0., dtype=torch.float64), tensor(0., dtype=torch.float64), tensor(0., dtype=torch.float64), tensor(0., dtype=torch.float64), tensor(0., dtype=torch.float64), tensor(0., dtype=torch.float64), tensor(0., dtype=torch.float64), tensor(0., dtype=torch.float64), tensor(0., dtype=torch.float64), tensor(0., dtype=torch.float64), tensor(0., dtype=torch.float64), tensor(0., dtype=torch.float64), tensor(0., dtype=torch.float64), tensor(0., dtype=torch.float64), tensor(0., dtype=torch.float64), tensor(0., dtype=torch.float64), tensor(0., dtype=torch.float64), tensor(0., dtype=torch.float64), tensor(0., dtype=torch.float64), tensor(0., dtype=torch.float64), tensor(0., dtype=torch.float64), tensor(0., dtype=torch.float64), tensor(0., dtype=torch.float64), tensor(0., dtype=torch.float64), tensor(0., dtype=torch.float64), tensor(0., dtype=torch.float64), tensor(0., dtype=torch.float64), tensor(0., dtype=torch.float64), tensor(0., dtype=torch.float64), tensor(0., dtype=torch.float64), tensor(0., dtype=torch.float64), tensor(0., dtype=torch.float64), tensor(0., dtype=torch.float64), tensor(0., dtype=torch.float64), tensor(0., dtype=torch.float64), tensor(0., dtype=torch.float64), tensor(0., dtype=torch.float64), tensor(0., dtype=torch.float64), tensor(0., dtype=torch.float64), tensor(0., dtype=torch.float64), tensor(0., dtype=torch.float64), tensor(0., dtype=torch.float64), tensor(0., dtype=torch.float64), tensor(0., dtype=torch.float64), tensor(0., dtype=torch.float64), tensor(0., dtype=torch.float64), tensor(0., dtype=torch.float64), tensor(0., dtype=torch.float64), tensor(0., dtype=torch.float64), tensor(0., dtype=torch.float64), tensor(0., dtype=torch.float64), tensor(0., dtype=torch.float64), tensor(0., dtype=torch.float64), tensor(0., dtype=torch.float64), tensor(0., dtype=torch.float64), tensor(0., dtype=torch.float64), tensor(1., dtype=torch.float64), tensor(0., dtype=torch.float64), tensor(0., dtype=torch.float64), tensor(0., dtype=torch.float64), tensor(0., dtype=torch.float64), tensor(0., dtype=torch.float64), tensor(0., dtype=torch.float64), tensor(0., dtype=torch.float64), tensor(0., dtype=torch.float64), tensor(0., dtype=torch.float64), tensor(0., dtype=torch.float64), tensor(0., dtype=torch.float64), tensor(0., dtype=torch.float64), tensor(0., dtype=torch.float64), tensor(0., dtype=torch.float64), tensor(0., dtype=torch.float64), tensor(0., dtype=torch.float64), tensor(0., dtype=torch.float64), tensor(0., dtype=torch.float64), tensor(0., dtype=torch.float64), tensor(0., dtype=torch.float64), tensor(0., dtype=torch.float64), tensor(0., dtype=torch.float64), tensor(0., dtype=torch.float64), tensor(0., dtype=torch.float64), tensor(0., dtype=torch.float64), tensor(0., dtype=torch.float64), tensor(0., dtype=torch.float64), tensor(0., dtype=torch.float64), tensor(0., dtype=torch.float64), tensor(0., dtype=torch.float64), tensor(0., dtype=torch.float64), tensor(0., dtype=torch.float64), tensor(0., dtype=torch.float64), tensor(1., dtype=torch.float64), tensor(0., dtype=torch.float64), tensor(0., dtype=torch.float64), tensor(0., dtype=torch.float64), tensor(0., dtype=torch.float64), tensor(0., dtype=torch.float64), tensor(1., dtype=torch.float64), tensor(0., dtype=torch.float64), tensor(0., dtype=torch.float64), tensor(0., dtype=torch.float64), tensor(0., dtype=torch.float64), tensor(0., dtype=torch.float64), tensor(0., dtype=torch.float64), tensor(0., dtype=torch.float64), tensor(0., dtype=torch.float64), tensor(0., dtype=torch.float64), tensor(0., dtype=torch.float64), tensor(0., dtype=torch.float64), tensor(0., dtype=torch.float64), tensor(0., dtype=torch.float64), tensor(0., dtype=torch.float64), tensor(0., dtype=torch.float64), tensor(0., dtype=torch.float64), tensor(0., dtype=torch.float64), tensor(0., dtype=torch.float64), tensor(0., dtype=torch.float64), tensor(0., dtype=torch.float64), tensor(0., dtype=torch.float64), tensor(1., dtype=torch.float64), tensor(0., dtype=torch.float64), tensor(0., dtype=torch.float64), tensor(0., dtype=torch.float64), tensor(0., dtype=torch.float64), tensor(0., dtype=torch.float64), tensor(0., dtype=torch.float64), tensor(0., dtype=torch.float64), tensor(1., dtype=torch.float64), tensor(0., dtype=torch.float64), tensor(0., dtype=torch.float64), tensor(0., dtype=torch.float64), tensor(0., dtype=torch.float64), tensor(0., dtype=torch.float64), tensor(0., dtype=torch.float64), tensor(0., dtype=torch.float64), tensor(0., dtype=torch.float64), tensor(0., dtype=torch.float64), tensor(0., dtype=torch.float64), tensor(0., dtype=torch.float64), tensor(0., dtype=torch.float64), tensor(0., dtype=torch.float64), tensor(0., dtype=torch.float64), tensor(0., dtype=torch.float64), tensor(0., dtype=torch.float64), tensor(0., dtype=torch.float64), tensor(0., dtype=torch.float64), tensor(0., dtype=torch.float64), tensor(0., dtype=torch.float64), tensor(0., dtype=torch.float64), tensor(0., dtype=torch.float64), tensor(0., dtype=torch.float64), tensor(0., dtype=torch.float64), tensor(0., dtype=torch.float64), tensor(0., dtype=torch.float64), tensor(0., dtype=torch.float64), tensor(0., dtype=torch.float64), tensor(0., dtype=torch.float64), tensor(0., dtype=torch.float64), tensor(0., dtype=torch.float64), tensor(0., dtype=torch.float64), tensor(0., dtype=torch.float64), tensor(0., dtype=torch.float64), tensor(0., dtype=torch.float64), tensor(0., dtype=torch.float64), tensor(0., dtype=torch.float64), tensor(0., dtype=torch.float64), tensor(0., dtype=torch.float64), tensor(0., dtype=torch.float64), tensor(0., dtype=torch.float64), tensor(0., dtype=torch.float64), tensor(0., dtype=torch.float64), tensor(0., dtype=torch.float64), tensor(0., dtype=torch.float64), tensor(0., dtype=torch.float64), tensor(0., dtype=torch.float64), tensor(0., dtype=torch.float64), tensor(0., dtype=torch.float64), tensor(0., dtype=torch.float64), tensor(0., dtype=torch.float64), tensor(0., dtype=torch.float64), tensor(0., dtype=torch.float64), tensor(0., dtype=torch.float64), tensor(0., dtype=torch.float64), tensor(0., dtype=torch.float64), tensor(0., dtype=torch.float64), tensor(0., dtype=torch.float64), tensor(1., dtype=torch.float64), tensor(0., dtype=torch.float64), tensor(0., dtype=torch.float64), tensor(0., dtype=torch.float64), tensor(0., dtype=torch.float64), tensor(0., dtype=torch.float64), tensor(0., dtype=torch.float64), tensor(1., dtype=torch.float64), tensor(0., dtype=torch.float64), tensor(0., dtype=torch.float64), tensor(0., dtype=torch.float64), tensor(0., dtype=torch.float64), tensor(0., dtype=torch.float64), tensor(0., dtype=torch.float64), tensor(1., dtype=torch.float64), tensor(0., dtype=torch.float64), tensor(0., dtype=torch.float64), tensor(0., dtype=torch.float64), tensor(0., dtype=torch.float64), tensor(0., dtype=torch.float64), tensor(0., dtype=torch.float64), tensor(0., dtype=torch.float64), tensor(0., dtype=torch.float64), tensor(0., dtype=torch.float64), tensor(0., dtype=torch.float64), tensor(0., dtype=torch.float64), tensor(0., dtype=torch.float64), tensor(0., dtype=torch.float64), tensor(0., dtype=torch.float64), tensor(0., dtype=torch.float64), tensor(0., dtype=torch.float64), tensor(1., dtype=torch.float64), tensor(0., dtype=torch.float64), tensor(0., dtype=torch.float64), tensor(0., dtype=torch.float64), tensor(0., dtype=torch.float64), tensor(0., dtype=torch.float64), tensor(0., dtype=torch.float64), tensor(0., dtype=torch.float64), tensor(0., dtype=torch.float64), tensor(0., dtype=torch.float64), tensor(0., dtype=torch.float64), tensor(0., dtype=torch.float64), tensor(0., dtype=torch.float64), tensor(0., dtype=torch.float64), tensor(0., dtype=torch.float64), tensor(0., dtype=torch.float64), tensor(0., dtype=torch.float64), tensor(0., dtype=torch.float64), tensor(0., dtype=torch.float64), tensor(0., dtype=torch.float64), tensor(0., dtype=torch.float64), tensor(0., dtype=torch.float64), tensor(0., dtype=torch.float64), tensor(0., dtype=torch.float64), tensor(0., dtype=torch.float64), tensor(0., dtype=torch.float64), tensor(0., dtype=torch.float64), tensor(0., dtype=torch.float64), tensor(0., dtype=torch.float64), tensor(0., dtype=torch.float64), tensor(0., dtype=torch.float64), tensor(0., dtype=torch.float64), tensor(0., dtype=torch.float64), tensor(1., dtype=torch.float64), tensor(0., dtype=torch.float64), tensor(0., dtype=torch.float64), tensor(1., dtype=torch.float64), tensor(0., dtype=torch.float64), tensor(0., dtype=torch.float64), tensor(0., dtype=torch.float64), tensor(0., dtype=torch.float64), tensor(0., dtype=torch.float64), tensor(0., dtype=torch.float64), tensor(0., dtype=torch.float64), tensor(0., dtype=torch.float64), tensor(0., dtype=torch.float64), tensor(1., dtype=torch.float64), tensor(0., dtype=torch.float64), tensor(1., dtype=torch.float64), tensor(0., dtype=torch.float64), tensor(0., dtype=torch.float64), tensor(0., dtype=torch.float64), tensor(0., dtype=torch.float64), tensor(1., dtype=torch.float64), tensor(0., dtype=torch.float64), tensor(0., dtype=torch.float64), tensor(0., dtype=torch.float64), tensor(0., dtype=torch.float64), tensor(1., dtype=torch.float64), tensor(0., dtype=torch.float64), tensor(0., dtype=torch.float64), tensor(0., dtype=torch.float64), tensor(0., dtype=torch.float64), tensor(0., dtype=torch.float64), tensor(0., dtype=torch.float64), tensor(0., dtype=torch.float64), tensor(0., dtype=torch.float64), tensor(0., dtype=torch.float64), tensor(0., dtype=torch.float64), tensor(0., dtype=torch.float64), tensor(0., dtype=torch.float64), tensor(0., dtype=torch.float64), tensor(0., dtype=torch.float64), tensor(0., dtype=torch.float64), tensor(0., dtype=torch.float64), tensor(0., dtype=torch.float64), tensor(0., dtype=torch.float64), tensor(0., dtype=torch.float64), tensor(0., dtype=torch.float64), tensor(0., dtype=torch.float64), tensor(0., dtype=torch.float64), tensor(0., dtype=torch.float64), tensor(1., dtype=torch.float64), tensor(0., dtype=torch.float64), tensor(0., dtype=torch.float64), tensor(0., dtype=torch.float64), tensor(0., dtype=torch.float64), tensor(0., dtype=torch.float64), tensor(0., dtype=torch.float64), tensor(0., dtype=torch.float64), tensor(1., dtype=torch.float64), tensor(0., dtype=torch.float64), tensor(0., dtype=torch.float64), tensor(0., dtype=torch.float64), tensor(0., dtype=torch.float64), tensor(0., dtype=torch.float64), tensor(0., dtype=torch.float64), tensor(0., dtype=torch.float64), tensor(0., dtype=torch.float64), tensor(0., dtype=torch.float64), tensor(0., dtype=torch.float64), tensor(0., dtype=torch.float64), tensor(0., dtype=torch.float64), tensor(0., dtype=torch.float64), tensor(0., dtype=torch.float64), tensor(0., dtype=torch.float64), tensor(1., dtype=torch.float64), tensor(0., dtype=torch.float64), tensor(0., dtype=torch.float64), tensor(0., dtype=torch.float64), tensor(0., dtype=torch.float64), tensor(0., dtype=torch.float64), tensor(0., dtype=torch.float64), tensor(0., dtype=torch.float64), tensor(0., dtype=torch.float64), tensor(0., dtype=torch.float64), tensor(0., dtype=torch.float64), tensor(0., dtype=torch.float64), tensor(1., dtype=torch.float64), tensor(0., dtype=torch.float64), tensor(0., dtype=torch.float64), tensor(0., dtype=torch.float64), tensor(0., dtype=torch.float64), tensor(0., dtype=torch.float64), tensor(0., dtype=torch.float64), tensor(0., dtype=torch.float64), tensor(0., dtype=torch.float64), tensor(0., dtype=torch.float64), tensor(0., dtype=torch.float64), tensor(0., dtype=torch.float64), tensor(0., dtype=torch.float64), tensor(0., dtype=torch.float64), tensor(0., dtype=torch.float64), tensor(0., dtype=torch.float64), tensor(0., dtype=torch.float64), tensor(0., dtype=torch.float64), tensor(0., dtype=torch.float64), tensor(0., dtype=torch.float64), tensor(0., dtype=torch.float64), tensor(1., dtype=torch.float64), tensor(0., dtype=torch.float64), tensor(0., dtype=torch.float64), tensor(1., dtype=torch.float64), tensor(0., dtype=torch.float64), tensor(0., dtype=torch.float64), tensor(0., dtype=torch.float64), tensor(0., dtype=torch.float64), tensor(0., dtype=torch.float64), tensor(0., dtype=torch.float64), tensor(0., dtype=torch.float64), tensor(0., dtype=torch.float64), tensor(0., dtype=torch.float64), tensor(1., dtype=torch.float64), tensor(0., dtype=torch.float64), tensor(0., dtype=torch.float64), tensor(0., dtype=torch.float64), tensor(0., dtype=torch.float64), tensor(0., dtype=torch.float64), tensor(0., dtype=torch.float64), tensor(0., dtype=torch.float64), tensor(0., dtype=torch.float64), tensor(0., dtype=torch.float64), tensor(0., dtype=torch.float64), tensor(0., dtype=torch.float64), tensor(0., dtype=torch.float64), tensor(0., dtype=torch.float64), tensor(0., dtype=torch.float64), tensor(0., dtype=torch.float64), tensor(0., dtype=torch.float64), tensor(0., dtype=torch.float64), tensor(0., dtype=torch.float64), tensor(1., dtype=torch.float64), tensor(0., dtype=torch.float64), tensor(0., dtype=torch.float64), tensor(1., dtype=torch.float64), tensor(0., dtype=torch.float64), tensor(0., dtype=torch.float64), tensor(1., dtype=torch.float64), tensor(0., dtype=torch.float64), tensor(0., dtype=torch.float64), tensor(0., dtype=torch.float64), tensor(0., dtype=torch.float64), tensor(0., dtype=torch.float64), tensor(0., dtype=torch.float64), tensor(0., dtype=torch.float64), tensor(0., dtype=torch.float64), tensor(0., dtype=torch.float64), tensor(0., dtype=torch.float64), tensor(0., dtype=torch.float64), tensor(0., dtype=torch.float64), tensor(0., dtype=torch.float64), tensor(0., dtype=torch.float64), tensor(0., dtype=torch.float64), tensor(0., dtype=torch.float64), tensor(0., dtype=torch.float64), tensor(0., dtype=torch.float64), tensor(0., dtype=torch.float64), tensor(0., dtype=torch.float64), tensor(1., dtype=torch.float64), tensor(0., dtype=torch.float64), tensor(0., dtype=torch.float64), tensor(0., dtype=torch.float64), tensor(0., dtype=torch.float64), tensor(1., dtype=torch.float64), tensor(0., dtype=torch.float64), tensor(0., dtype=torch.float64), tensor(0., dtype=torch.float64), tensor(0., dtype=torch.float64), tensor(0., dtype=torch.float64), tensor(0., dtype=torch.float64), tensor(0., dtype=torch.float64), tensor(0., dtype=torch.float64), tensor(0., dtype=torch.float64), tensor(0., dtype=torch.float64), tensor(0., dtype=torch.float64), tensor(0., dtype=torch.float64), tensor(0., dtype=torch.float64), tensor(0., dtype=torch.float64), tensor(0., dtype=torch.float64), tensor(0., dtype=torch.float64), tensor(0., dtype=torch.float64), tensor(0., dtype=torch.float64), tensor(0., dtype=torch.float64), tensor(1., dtype=torch.float64), tensor(0., dtype=torch.float64), tensor(0., dtype=torch.float64), tensor(0., dtype=torch.float64), tensor(0., dtype=torch.float64), tensor(0., dtype=torch.float64), tensor(0., dtype=torch.float64), tensor(0., dtype=torch.float64), tensor(0., dtype=torch.float64), tensor(0., dtype=torch.float64), tensor(0., dtype=torch.float64), tensor(1., dtype=torch.float64), tensor(0., dtype=torch.float64), tensor(0., dtype=torch.float64), tensor(0., dtype=torch.float64), tensor(0., dtype=torch.float64), tensor(0., dtype=torch.float64), tensor(0., dtype=torch.float64), tensor(0., dtype=torch.float64), tensor(0., dtype=torch.float64), tensor(0., dtype=torch.float64), tensor(0., dtype=torch.float64), tensor(0., dtype=torch.float64), tensor(0., dtype=torch.float64), tensor(0., dtype=torch.float64), tensor(1., dtype=torch.float64), tensor(0., dtype=torch.float64), tensor(0., dtype=torch.float64), tensor(0., dtype=torch.float64), tensor(0., dtype=torch.float64), tensor(0., dtype=torch.float64), tensor(0., dtype=torch.float64), tensor(0., dtype=torch.float64), tensor(0., dtype=torch.float64), tensor(0., dtype=torch.float64), tensor(0., dtype=torch.float64), tensor(0., dtype=torch.float64), tensor(0., dtype=torch.float64), tensor(0., dtype=torch.float64), tensor(0., dtype=torch.float64), tensor(0., dtype=torch.float64), tensor(0., dtype=torch.float64), tensor(0., dtype=torch.float64), tensor(0., dtype=torch.float64), tensor(0., dtype=torch.float64), tensor(0., dtype=torch.float64), tensor(0., dtype=torch.float64), tensor(0., dtype=torch.float64), tensor(0., dtype=torch.float64), tensor(0., dtype=torch.float64), tensor(0., dtype=torch.float64), tensor(0., dtype=torch.float64), tensor(0., dtype=torch.float64), tensor(0., dtype=torch.float64), tensor(0., dtype=torch.float64), tensor(0., dtype=torch.float64), tensor(0., dtype=torch.float64), tensor(0., dtype=torch.float64), tensor(0., dtype=torch.float64), tensor(0., dtype=torch.float64), tensor(0., dtype=torch.float64), tensor(0., dtype=torch.float64), tensor(0., dtype=torch.float64), tensor(0., dtype=torch.float64), tensor(0., dtype=torch.float64), tensor(0., dtype=torch.float64), tensor(1., dtype=torch.float64), tensor(1., dtype=torch.float64), tensor(0., dtype=torch.float64), tensor(0., dtype=torch.float64), tensor(0., dtype=torch.float64), tensor(0., dtype=torch.float64), tensor(0., dtype=torch.float64), tensor(0., dtype=torch.float64), tensor(0., dtype=torch.float64), tensor(0., dtype=torch.float64), tensor(0., dtype=torch.float64), tensor(0., dtype=torch.float64), tensor(0., dtype=torch.float64), tensor(0., dtype=torch.float64), tensor(0., dtype=torch.float64), tensor(0., dtype=torch.float64), tensor(0., dtype=torch.float64), tensor(0., dtype=torch.float64), tensor(0., dtype=torch.float64), tensor(0., dtype=torch.float64), tensor(0., dtype=torch.float64), tensor(0., dtype=torch.float64), tensor(0., dtype=torch.float64), tensor(0., dtype=torch.float64), tensor(0., dtype=torch.float64), tensor(0., dtype=torch.float64), tensor(0., dtype=torch.float64), tensor(0., dtype=torch.float64), tensor(0., dtype=torch.float64), tensor(0., dtype=torch.float64), tensor(0., dtype=torch.float64), tensor(0., dtype=torch.float64), tensor(0., dtype=torch.float64), tensor(1., dtype=torch.float64), tensor(0., dtype=torch.float64), tensor(0., dtype=torch.float64), tensor(0., dtype=torch.float64), tensor(0., dtype=torch.float64), tensor(0., dtype=torch.float64), tensor(0., dtype=torch.float64), tensor(0., dtype=torch.float64), tensor(0., dtype=torch.float64), tensor(0., dtype=torch.float64), tensor(0., dtype=torch.float64), tensor(0., dtype=torch.float64), tensor(0., dtype=torch.float64), tensor(0., dtype=torch.float64), tensor(0., dtype=torch.float64), tensor(0., dtype=torch.float64), tensor(0., dtype=torch.float64), tensor(0., dtype=torch.float64), tensor(0., dtype=torch.float64), tensor(0., dtype=torch.float64), tensor(0., dtype=torch.float64), tensor(0., dtype=torch.float64), tensor(0., dtype=torch.float64), tensor(0., dtype=torch.float64), tensor(0., dtype=torch.float64), tensor(0., dtype=torch.float64), tensor(0., dtype=torch.float64), tensor(1., dtype=torch.float64), tensor(0., dtype=torch.float64), tensor(0., dtype=torch.float64), tensor(0., dtype=torch.float64), tensor(1., dtype=torch.float64), tensor(0., dtype=torch.float64), tensor(0., dtype=torch.float64), tensor(0., dtype=torch.float64), tensor(0., dtype=torch.float64), tensor(0., dtype=torch.float64), tensor(0., dtype=torch.float64), tensor(0., dtype=torch.float64), tensor(0., dtype=torch.float64), tensor(0., dtype=torch.float64), tensor(0., dtype=torch.float64), tensor(0., dtype=torch.float64), tensor(0., dtype=torch.float64), tensor(0., dtype=torch.float64), tensor(0., dtype=torch.float64), tensor(0., dtype=torch.float64), tensor(0., dtype=torch.float64), tensor(0., dtype=torch.float64), tensor(0., dtype=torch.float64), tensor(0., dtype=torch.float64), tensor(0., dtype=torch.float64), tensor(0., dtype=torch.float64), tensor(0., dtype=torch.float64), tensor(1., dtype=torch.float64), tensor(0., dtype=torch.float64), tensor(1., dtype=torch.float64), tensor(0., dtype=torch.float64), tensor(0., dtype=torch.float64), tensor(0., dtype=torch.float64), tensor(0., dtype=torch.float64), tensor(0., dtype=torch.float64), tensor(0., dtype=torch.float64), tensor(0., dtype=torch.float64), tensor(0., dtype=torch.float64), tensor(0., dtype=torch.float64), tensor(1., dtype=torch.float64), tensor(0., dtype=torch.float64), tensor(0., dtype=torch.float64), tensor(0., dtype=torch.float64), tensor(0., dtype=torch.float64), tensor(0., dtype=torch.float64), tensor(0., dtype=torch.float64), tensor(0., dtype=torch.float64), tensor(0., dtype=torch.float64), tensor(0., dtype=torch.float64), tensor(0., dtype=torch.float64), tensor(0., dtype=torch.float64), tensor(0., dtype=torch.float64), tensor(0., dtype=torch.float64), tensor(0., dtype=torch.float64), tensor(0., dtype=torch.float64), tensor(0., dtype=torch.float64), tensor(0., dtype=torch.float64), tensor(0., dtype=torch.float64), tensor(0., dtype=torch.float64), tensor(0., dtype=torch.float64), tensor(0., dtype=torch.float64), tensor(0., dtype=torch.float64), tensor(0., dtype=torch.float64), tensor(0., dtype=torch.float64), tensor(0., dtype=torch.float64), tensor(0., dtype=torch.float64), tensor(0., dtype=torch.float64), tensor(0., dtype=torch.float64), tensor(1., dtype=torch.float64), tensor(0., dtype=torch.float64), tensor(0., dtype=torch.float64), tensor(0., dtype=torch.float64), tensor(0., dtype=torch.float64), tensor(0., dtype=torch.float64), tensor(0., dtype=torch.float64), tensor(0., dtype=torch.float64), tensor(0., dtype=torch.float64), tensor(0., dtype=torch.float64), tensor(1., dtype=torch.float64), tensor(0., dtype=torch.float64), tensor(0., dtype=torch.float64), tensor(0., dtype=torch.float64), tensor(0., dtype=torch.float64), tensor(0., dtype=torch.float64), tensor(0., dtype=torch.float64), tensor(0., dtype=torch.float64), tensor(0., dtype=torch.float64), tensor(0., dtype=torch.float64), tensor(0., dtype=torch.float64), tensor(0., dtype=torch.float64), tensor(0., dtype=torch.float64), tensor(0., dtype=torch.float64), tensor(0., dtype=torch.float64), tensor(0., dtype=torch.float64), tensor(0., dtype=torch.float64), tensor(1., dtype=torch.float64), tensor(0., dtype=torch.float64), tensor(0., dtype=torch.float64), tensor(0., dtype=torch.float64), tensor(0., dtype=torch.float64), tensor(0., dtype=torch.float64), tensor(1., dtype=torch.float64), tensor(0., dtype=torch.float64), tensor(0., dtype=torch.float64), tensor(0., dtype=torch.float64), tensor(0., dtype=torch.float64), tensor(0., dtype=torch.float64), tensor(0., dtype=torch.float64), tensor(0., dtype=torch.float64), tensor(0., dtype=torch.float64), tensor(0., dtype=torch.float64), tensor(0., dtype=torch.float64), tensor(0., dtype=torch.float64), tensor(0., dtype=torch.float64), tensor(0., dtype=torch.float64), tensor(0., dtype=torch.float64), tensor(1., dtype=torch.float64), tensor(0., dtype=torch.float64), tensor(0., dtype=torch.float64), tensor(0., dtype=torch.float64), tensor(0., dtype=torch.float64), tensor(0., dtype=torch.float64), tensor(0., dtype=torch.float64), tensor(0., dtype=torch.float64), tensor(1., dtype=torch.float64), tensor(0., dtype=torch.float64), tensor(0., dtype=torch.float64), tensor(0., dtype=torch.float64), tensor(0., dtype=torch.float64), tensor(0., dtype=torch.float64), tensor(0., dtype=torch.float64), tensor(0., dtype=torch.float64), tensor(0., dtype=torch.float64), tensor(0., dtype=torch.float64), tensor(0., dtype=torch.float64), tensor(0., dtype=torch.float64), tensor(0., dtype=torch.float64), tensor(0., dtype=torch.float64), tensor(0., dtype=torch.float64), tensor(0., dtype=torch.float64), tensor(0., dtype=torch.float64), tensor(0., dtype=torch.float64), tensor(0., dtype=torch.float64), tensor(0., dtype=torch.float64), tensor(0., dtype=torch.float64), tensor(0., dtype=torch.float64), tensor(0., dtype=torch.float64), tensor(0., dtype=torch.float64), tensor(0., dtype=torch.float64), tensor(0., dtype=torch.float64), tensor(0., dtype=torch.float64), tensor(0., dtype=torch.float64), tensor(0., dtype=torch.float64), tensor(1., dtype=torch.float64), tensor(0., dtype=torch.float64), tensor(0., dtype=torch.float64), tensor(0., dtype=torch.float64), tensor(0., dtype=torch.float64), tensor(0., dtype=torch.float64), tensor(0., dtype=torch.float64), tensor(0., dtype=torch.float64), tensor(0., dtype=torch.float64), tensor(0., dtype=torch.float64), tensor(0., dtype=torch.float64), tensor(0., dtype=torch.float64), tensor(0., dtype=torch.float64), tensor(0., dtype=torch.float64), tensor(0., dtype=torch.float64), tensor(0., dtype=torch.float64), tensor(1., dtype=torch.float64), tensor(0., dtype=torch.float64), tensor(0., dtype=torch.float64), tensor(0., dtype=torch.float64), tensor(0., dtype=torch.float64), tensor(0., dtype=torch.float64), tensor(0., dtype=torch.float64), tensor(0., dtype=torch.float64), tensor(0., dtype=torch.float64), tensor(1., dtype=torch.float64), tensor(0., dtype=torch.float64), tensor(0., dtype=torch.float64), tensor(0., dtype=torch.float64), tensor(0., dtype=torch.float64), tensor(0., dtype=torch.float64), tensor(0., dtype=torch.float64), tensor(0., dtype=torch.float64), tensor(0., dtype=torch.float64), tensor(0., dtype=torch.float64), tensor(0., dtype=torch.float64), tensor(0., dtype=torch.float64), tensor(0., dtype=torch.float64), tensor(0., dtype=torch.float64), tensor(0., dtype=torch.float64), tensor(0., dtype=torch.float64), tensor(0., dtype=torch.float64), tensor(0., dtype=torch.float64), tensor(1., dtype=torch.float64), tensor(0., dtype=torch.float64), tensor(0., dtype=torch.float64), tensor(0., dtype=torch.float64), tensor(0., dtype=torch.float64), tensor(0., dtype=torch.float64), tensor(0., dtype=torch.float64), tensor(0., dtype=torch.float64), tensor(0., dtype=torch.float64), tensor(1., dtype=torch.float64), tensor(1., dtype=torch.float64), tensor(0., dtype=torch.float64), tensor(0., dtype=torch.float64), tensor(0., dtype=torch.float64), tensor(0., dtype=torch.float64), tensor(0., dtype=torch.float64), tensor(0., dtype=torch.float64), tensor(0., dtype=torch.float64), tensor(1., dtype=torch.float64), tensor(0., dtype=torch.float64), tensor(0., dtype=torch.float64), tensor(0., dtype=torch.float64), tensor(0., dtype=torch.float64), tensor(0., dtype=torch.float64), tensor(0., dtype=torch.float64), tensor(0., dtype=torch.float64), tensor(0., dtype=torch.float64), tensor(0., dtype=torch.float64), tensor(0., dtype=torch.float64), tensor(0., dtype=torch.float64), tensor(0., dtype=torch.float64), tensor(0., dtype=torch.float64), tensor(0., dtype=torch.float64), tensor(0., dtype=torch.float64), tensor(1., dtype=torch.float64), tensor(0., dtype=torch.float64), tensor(0., dtype=torch.float64), tensor(0., dtype=torch.float64), tensor(0., dtype=torch.float64), tensor(0., dtype=torch.float64), tensor(0., dtype=torch.float64), tensor(0., dtype=torch.float64), tensor(0., dtype=torch.float64), tensor(0., dtype=torch.float64), tensor(0., dtype=torch.float64), tensor(0., dtype=torch.float64), tensor(0., dtype=torch.float64), tensor(0., dtype=torch.float64), tensor(0., dtype=torch.float64), tensor(0., dtype=torch.float64), tensor(0., dtype=torch.float64), tensor(0., dtype=torch.float64), tensor(0., dtype=torch.float64), tensor(0., dtype=torch.float64), tensor(0., dtype=torch.float64), tensor(0., dtype=torch.float64), tensor(0., dtype=torch.float64), tensor(0., dtype=torch.float64), tensor(0., dtype=torch.float64), tensor(0., dtype=torch.float64), tensor(0., dtype=torch.float64), tensor(0., dtype=torch.float64), tensor(0., dtype=torch.float64), tensor(0., dtype=torch.float64), tensor(0., dtype=torch.float64), tensor(0., dtype=torch.float64), tensor(1., dtype=torch.float64), tensor(0., dtype=torch.float64), tensor(0., dtype=torch.float64), tensor(0., dtype=torch.float64), tensor(0., dtype=torch.float64), tensor(0., dtype=torch.float64), tensor(0., dtype=torch.float64), tensor(1., dtype=torch.float64), tensor(0., dtype=torch.float64), tensor(0., dtype=torch.float64), tensor(1., dtype=torch.float64), tensor(0., dtype=torch.float64), tensor(0., dtype=torch.float64), tensor(0., dtype=torch.float64), tensor(0., dtype=torch.float64), tensor(1., dtype=torch.float64), tensor(0., dtype=torch.float64), tensor(0., dtype=torch.float64), tensor(0., dtype=torch.float64), tensor(0., dtype=torch.float64), tensor(0., dtype=torch.float64), tensor(0., dtype=torch.float64), tensor(1., dtype=torch.float64), tensor(0., dtype=torch.float64), tensor(0., dtype=torch.float64), tensor(0., dtype=torch.float64), tensor(0., dtype=torch.float64), tensor(0., dtype=torch.float64), tensor(0., dtype=torch.float64), tensor(0., dtype=torch.float64), tensor(0., dtype=torch.float64), tensor(0., dtype=torch.float64), tensor(1., dtype=torch.float64), tensor(0., dtype=torch.float64), tensor(0., dtype=torch.float64), tensor(0., dtype=torch.float64), tensor(0., dtype=torch.float64), tensor(0., dtype=torch.float64), tensor(0., dtype=torch.float64), tensor(0., dtype=torch.float64), tensor(0., dtype=torch.float64), tensor(0., dtype=torch.float64), tensor(0., dtype=torch.float64), tensor(0., dtype=torch.float64), tensor(0., dtype=torch.float64), tensor(0., dtype=torch.float64), tensor(0., dtype=torch.float64), tensor(0., dtype=torch.float64), tensor(0., dtype=torch.float64), tensor(0., dtype=torch.float64), tensor(0., dtype=torch.float64), tensor(0., dtype=torch.float64), tensor(0., dtype=torch.float64), tensor(0., dtype=torch.float64), tensor(0., dtype=torch.float64), tensor(0., dtype=torch.float64), tensor(0., dtype=torch.float64), tensor(0., dtype=torch.float64), tensor(1., dtype=torch.float64), tensor(0., dtype=torch.float64), tensor(0., dtype=torch.float64), tensor(0., dtype=torch.float64), tensor(0., dtype=torch.float64), tensor(0., dtype=torch.float64), tensor(0., dtype=torch.float64), tensor(0., dtype=torch.float64), tensor(0., dtype=torch.float64), tensor(0., dtype=torch.float64), tensor(1., dtype=torch.float64), tensor(0., dtype=torch.float64), tensor(0., dtype=torch.float64), tensor(0., dtype=torch.float64), tensor(0., dtype=torch.float64), tensor(0., dtype=torch.float64), tensor(0., dtype=torch.float64), tensor(0., dtype=torch.float64), tensor(0., dtype=torch.float64), tensor(0., dtype=torch.float64), tensor(0., dtype=torch.float64), tensor(1., dtype=torch.float64), tensor(0., dtype=torch.float64), tensor(1., dtype=torch.float64), tensor(0., dtype=torch.float64), tensor(0., dtype=torch.float64), tensor(0., dtype=torch.float64), tensor(0., dtype=torch.float64), tensor(0., dtype=torch.float64), tensor(0., dtype=torch.float64), tensor(1., dtype=torch.float64), tensor(0., dtype=torch.float64), tensor(0., dtype=torch.float64), tensor(0., dtype=torch.float64), tensor(0., dtype=torch.float64), tensor(0., dtype=torch.float64), tensor(0., dtype=torch.float64), tensor(0., dtype=torch.float64), tensor(0., dtype=torch.float64), tensor(0., dtype=torch.float64), tensor(0., dtype=torch.float64), tensor(0., dtype=torch.float64), tensor(0., dtype=torch.float64), tensor(0., dtype=torch.float64), tensor(0., dtype=torch.float64), tensor(0., dtype=torch.float64), tensor(0., dtype=torch.float64), tensor(0., dtype=torch.float64), tensor(0., dtype=torch.float64), tensor(0., dtype=torch.float64), tensor(0., dtype=torch.float64), tensor(0., dtype=torch.float64), tensor(0., dtype=torch.float64), tensor(0., dtype=torch.float64), tensor(0., dtype=torch.float64), tensor(0., dtype=torch.float64), tensor(0., dtype=torch.float64), tensor(0., dtype=torch.float64), tensor(0., dtype=torch.float64), tensor(0., dtype=torch.float64), tensor(0., dtype=torch.float64), tensor(0., dtype=torch.float64), tensor(0., dtype=torch.float64), tensor(0., dtype=torch.float64), tensor(0., dtype=torch.float64), tensor(0., dtype=torch.float64), tensor(0., dtype=torch.float64), tensor(0., dtype=torch.float64), tensor(0., dtype=torch.float64), tensor(0., dtype=torch.float64), tensor(0., dtype=torch.float64), tensor(0., dtype=torch.float64), tensor(0., dtype=torch.float64), tensor(0., dtype=torch.float64), tensor(0., dtype=torch.float64), tensor(1., dtype=torch.float64), tensor(0., dtype=torch.float64), tensor(0., dtype=torch.float64), tensor(0., dtype=torch.float64), tensor(0., dtype=torch.float64), tensor(0., dtype=torch.float64), tensor(0., dtype=torch.float64), tensor(0., dtype=torch.float64), tensor(0., dtype=torch.float64), tensor(0., dtype=torch.float64), tensor(0., dtype=torch.float64), tensor(0., dtype=torch.float64), tensor(0., dtype=torch.float64), tensor(0., dtype=torch.float64), tensor(0., dtype=torch.float64), tensor(0., dtype=torch.float64), tensor(0., dtype=torch.float64), tensor(0., dtype=torch.float64), tensor(0., dtype=torch.float64), tensor(0., dtype=torch.float64), tensor(0., dtype=torch.float64), tensor(0., dtype=torch.float64), tensor(1., dtype=torch.float64), tensor(0., dtype=torch.float64), tensor(0., dtype=torch.float64), tensor(0., dtype=torch.float64), tensor(0., dtype=torch.float64), tensor(0., dtype=torch.float64), tensor(0., dtype=torch.float64), tensor(0., dtype=torch.float64), tensor(0., dtype=torch.float64), tensor(0., dtype=torch.float64), tensor(0., dtype=torch.float64), tensor(0., dtype=torch.float64), tensor(0., dtype=torch.float64), tensor(0., dtype=torch.float64), tensor(1., dtype=torch.float64), tensor(0., dtype=torch.float64), tensor(0., dtype=torch.float64), tensor(0., dtype=torch.float64), tensor(0., dtype=torch.float64), tensor(0., dtype=torch.float64), tensor(0., dtype=torch.float64), tensor(0., dtype=torch.float64), tensor(0., dtype=torch.float64), tensor(0., dtype=torch.float64), tensor(0., dtype=torch.float64), tensor(0., dtype=torch.float64), tensor(0., dtype=torch.float64), tensor(0., dtype=torch.float64), tensor(0., dtype=torch.float64), tensor(0., dtype=torch.float64), tensor(0., dtype=torch.float64), tensor(0., dtype=torch.float64), tensor(0., dtype=torch.float64), tensor(0., dtype=torch.float64), tensor(0., dtype=torch.float64), tensor(0., dtype=torch.float64), tensor(0., dtype=torch.float64), tensor(0., dtype=torch.float64), tensor(0., dtype=torch.float64), tensor(0., dtype=torch.float64), tensor(0., dtype=torch.float64), tensor(0., dtype=torch.float64), tensor(0., dtype=torch.float64), tensor(0., dtype=torch.float64), tensor(0., dtype=torch.float64), tensor(0., dtype=torch.float64), tensor(0., dtype=torch.float64), tensor(0., dtype=torch.float64), tensor(0., dtype=torch.float64), tensor(1., dtype=torch.float64), tensor(1., dtype=torch.float64), tensor(0., dtype=torch.float64), tensor(0., dtype=torch.float64), tensor(0., dtype=torch.float64), tensor(0., dtype=torch.float64), tensor(0., dtype=torch.float64), tensor(0., dtype=torch.float64), tensor(0., dtype=torch.float64), tensor(0., dtype=torch.float64), tensor(1., dtype=torch.float64), tensor(0., dtype=torch.float64), tensor(0., dtype=torch.float64), tensor(0., dtype=torch.float64), tensor(0., dtype=torch.float64), tensor(0., dtype=torch.float64), tensor(0., dtype=torch.float64), tensor(0., dtype=torch.float64), tensor(0., dtype=torch.float64), tensor(0., dtype=torch.float64), tensor(0., dtype=torch.float64), tensor(0., dtype=torch.float64), tensor(0., dtype=torch.float64), tensor(0., dtype=torch.float64), tensor(0., dtype=torch.float64), tensor(0., dtype=torch.float64), tensor(0., dtype=torch.float64), tensor(0., dtype=torch.float64), tensor(0., dtype=torch.float64), tensor(0., dtype=torch.float64), tensor(0., dtype=torch.float64), tensor(0., dtype=torch.float64), tensor(0., dtype=torch.float64), tensor(0., dtype=torch.float64), tensor(0., dtype=torch.float64), tensor(0., dtype=torch.float64), tensor(0., dtype=torch.float64), tensor(0., dtype=torch.float64), tensor(0., dtype=torch.float64), tensor(0., dtype=torch.float64), tensor(0., dtype=torch.float64), tensor(1., dtype=torch.float64), tensor(0., dtype=torch.float64), tensor(0., dtype=torch.float64), tensor(0., dtype=torch.float64), tensor(0., dtype=torch.float64), tensor(0., dtype=torch.float64), tensor(0., dtype=torch.float64), tensor(0., dtype=torch.float64), tensor(0., dtype=torch.float64), tensor(0., dtype=torch.float64), tensor(0., dtype=torch.float64), tensor(0., dtype=torch.float64), tensor(0., dtype=torch.float64), tensor(0., dtype=torch.float64), tensor(0., dtype=torch.float64), tensor(0., dtype=torch.float64), tensor(0., dtype=torch.float64), tensor(0., dtype=torch.float64), tensor(0., dtype=torch.float64), tensor(0., dtype=torch.float64), tensor(0., dtype=torch.float64), tensor(0., dtype=torch.float64), tensor(0., dtype=torch.float64), tensor(0., dtype=torch.float64), tensor(0., dtype=torch.float64), tensor(0., dtype=torch.float64), tensor(0., dtype=torch.float64), tensor(0., dtype=torch.float64), tensor(0., dtype=torch.float64), tensor(0., dtype=torch.float64), tensor(0., dtype=torch.float64), tensor(0., dtype=torch.float64), tensor(0., dtype=torch.float64), tensor(0., dtype=torch.float64), tensor(1., dtype=torch.float64), tensor(0., dtype=torch.float64), tensor(0., dtype=torch.float64), tensor(0., dtype=torch.float64), tensor(0., dtype=torch.float64), tensor(0., dtype=torch.float64), tensor(0., dtype=torch.float64), tensor(0., dtype=torch.float64), tensor(0., dtype=torch.float64), tensor(0., dtype=torch.float64), tensor(0., dtype=torch.float64), tensor(1., dtype=torch.float64), tensor(0., dtype=torch.float64), tensor(1., dtype=torch.float64), tensor(0., dtype=torch.float64), tensor(0., dtype=torch.float64), tensor(0., dtype=torch.float64), tensor(0., dtype=torch.float64), tensor(0., dtype=torch.float64), tensor(0., dtype=torch.float64), tensor(0., dtype=torch.float64), tensor(0., dtype=torch.float64), tensor(0., dtype=torch.float64), tensor(0., dtype=torch.float64), tensor(0., dtype=torch.float64), tensor(0., dtype=torch.float64), tensor(0., dtype=torch.float64), tensor(0., dtype=torch.float64), tensor(0., dtype=torch.float64), tensor(0., dtype=torch.float64), tensor(0., dtype=torch.float64), tensor(1., dtype=torch.float64), tensor(0., dtype=torch.float64), tensor(0., dtype=torch.float64), tensor(0., dtype=torch.float64), tensor(1., dtype=torch.float64), tensor(0., dtype=torch.float64), tensor(0., dtype=torch.float64), tensor(1., dtype=torch.float64), tensor(0., dtype=torch.float64), tensor(0., dtype=torch.float64), tensor(0., dtype=torch.float64), tensor(0., dtype=torch.float64), tensor(0., dtype=torch.float64), tensor(0., dtype=torch.float64), tensor(0., dtype=torch.float64), tensor(0., dtype=torch.float64), tensor(0., dtype=torch.float64), tensor(0., dtype=torch.float64), tensor(0., dtype=torch.float64), tensor(0., dtype=torch.float64), tensor(0., dtype=torch.float64), tensor(0., dtype=torch.float64), tensor(0., dtype=torch.float64), tensor(0., dtype=torch.float64), tensor(0., dtype=torch.float64), tensor(0., dtype=torch.float64), tensor(0., dtype=torch.float64), tensor(0., dtype=torch.float64), tensor(0., dtype=torch.float64), tensor(0., dtype=torch.float64), tensor(0., dtype=torch.float64), tensor(1., dtype=torch.float64), tensor(0., dtype=torch.float64), tensor(0., dtype=torch.float64), tensor(0., dtype=torch.float64), tensor(0., dtype=torch.float64), tensor(0., dtype=torch.float64), tensor(0., dtype=torch.float64), tensor(0., dtype=torch.float64), tensor(0., dtype=torch.float64), tensor(0., dtype=torch.float64), tensor(0., dtype=torch.float64), tensor(0., dtype=torch.float64), tensor(0., dtype=torch.float64), tensor(0., dtype=torch.float64), tensor(0., dtype=torch.float64), tensor(0., dtype=torch.float64), tensor(0., dtype=torch.float64), tensor(0., dtype=torch.float64), tensor(0., dtype=torch.float64), tensor(0., dtype=torch.float64), tensor(0., dtype=torch.float64), tensor(0., dtype=torch.float64), tensor(0., dtype=torch.float64), tensor(0., dtype=torch.float64), tensor(0., dtype=torch.float64), tensor(0., dtype=torch.float64), tensor(0., dtype=torch.float64), tensor(0., dtype=torch.float64), tensor(0., dtype=torch.float64), tensor(0., dtype=torch.float64), tensor(0., dtype=torch.float64), tensor(0., dtype=torch.float64), tensor(0., dtype=torch.float64), tensor(0., dtype=torch.float64), tensor(0., dtype=torch.float64), tensor(0., dtype=torch.float64), tensor(0., dtype=torch.float64), tensor(0., dtype=torch.float64), tensor(0., dtype=torch.float64), tensor(0., dtype=torch.float64), tensor(0., dtype=torch.float64), tensor(1., dtype=torch.float64), tensor(0., dtype=torch.float64), tensor(0., dtype=torch.float64), tensor(0., dtype=torch.float64), tensor(0., dtype=torch.float64), tensor(0., dtype=torch.float64), tensor(1., dtype=torch.float64), tensor(1., dtype=torch.float64), tensor(0., dtype=torch.float64), tensor(0., dtype=torch.float64), tensor(0., dtype=torch.float64), tensor(0., dtype=torch.float64), tensor(0., dtype=torch.float64), tensor(0., dtype=torch.float64), tensor(0., dtype=torch.float64), tensor(0., dtype=torch.float64), tensor(0., dtype=torch.float64), tensor(0., dtype=torch.float64), tensor(0., dtype=torch.float64), tensor(0., dtype=torch.float64), tensor(0., dtype=torch.float64), tensor(0., dtype=torch.float64), tensor(0., dtype=torch.float64), tensor(0., dtype=torch.float64), tensor(0., dtype=torch.float64), tensor(0., dtype=torch.float64), tensor(0., dtype=torch.float64), tensor(1., dtype=torch.float64), tensor(0., dtype=torch.float64), tensor(0., dtype=torch.float64), tensor(0., dtype=torch.float64), tensor(0., dtype=torch.float64), tensor(1., dtype=torch.float64), tensor(0., dtype=torch.float64), tensor(0., dtype=torch.float64), tensor(0., dtype=torch.float64), tensor(1., dtype=torch.float64), tensor(0., dtype=torch.float64), tensor(0., dtype=torch.float64), tensor(0., dtype=torch.float64), tensor(0., dtype=torch.float64), tensor(0., dtype=torch.float64), tensor(0., dtype=torch.float64), tensor(0., dtype=torch.float64), tensor(0., dtype=torch.float64), tensor(0., dtype=torch.float64), tensor(0., dtype=torch.float64), tensor(1., dtype=torch.float64), tensor(0., dtype=torch.float64), tensor(0., dtype=torch.float64), tensor(1., dtype=torch.float64), tensor(0., dtype=torch.float64), tensor(0., dtype=torch.float64), tensor(0., dtype=torch.float64), tensor(0., dtype=torch.float64), tensor(0., dtype=torch.float64), tensor(0., dtype=torch.float64), tensor(0., dtype=torch.float64), tensor(0., dtype=torch.float64), tensor(0., dtype=torch.float64), tensor(0., dtype=torch.float64), tensor(0., dtype=torch.float64), tensor(0., dtype=torch.float64), tensor(0., dtype=torch.float64), tensor(0., dtype=torch.float64), tensor(0., dtype=torch.float64), tensor(0., dtype=torch.float64), tensor(1., dtype=torch.float64), tensor(0., dtype=torch.float64), tensor(0., dtype=torch.float64), tensor(0., dtype=torch.float64), tensor(0., dtype=torch.float64), tensor(0., dtype=torch.float64), tensor(0., dtype=torch.float64), tensor(0., dtype=torch.float64), tensor(0., dtype=torch.float64), tensor(0., dtype=torch.float64), tensor(0., dtype=torch.float64), tensor(0., dtype=torch.float64), tensor(0., dtype=torch.float64), tensor(0., dtype=torch.float64), tensor(0., dtype=torch.float64), tensor(0., dtype=torch.float64), tensor(0., dtype=torch.float64), tensor(0., dtype=torch.float64), tensor(0., dtype=torch.float64), tensor(0., dtype=torch.float64), tensor(0., dtype=torch.float64), tensor(0., dtype=torch.float64), tensor(1., dtype=torch.float64), tensor(0., dtype=torch.float64), tensor(0., dtype=torch.float64), tensor(0., dtype=torch.float64), tensor(0., dtype=torch.float64), tensor(0., dtype=torch.float64), tensor(0., dtype=torch.float64), tensor(0., dtype=torch.float64), tensor(0., dtype=torch.float64), tensor(0., dtype=torch.float64), tensor(0., dtype=torch.float64), tensor(0., dtype=torch.float64), tensor(0., dtype=torch.float64), tensor(0., dtype=torch.float64), tensor(1., dtype=torch.float64), tensor(0., dtype=torch.float64), tensor(0., dtype=torch.float64), tensor(0., dtype=torch.float64), tensor(0., dtype=torch.float64), tensor(0., dtype=torch.float64), tensor(1., dtype=torch.float64), tensor(0., dtype=torch.float64), tensor(0., dtype=torch.float64), tensor(0., dtype=torch.float64), tensor(0., dtype=torch.float64), tensor(0., dtype=torch.float64), tensor(1., dtype=torch.float64), tensor(0., dtype=torch.float64), tensor(0., dtype=torch.float64), tensor(0., dtype=torch.float64), tensor(0., dtype=torch.float64), tensor(0., dtype=torch.float64), tensor(0., dtype=torch.float64), tensor(0., dtype=torch.float64), tensor(0., dtype=torch.float64), tensor(0., dtype=torch.float64), tensor(0., dtype=torch.float64), tensor(1., dtype=torch.float64), tensor(0., dtype=torch.float64), tensor(0., dtype=torch.float64), tensor(0., dtype=torch.float64), tensor(0., dtype=torch.float64), tensor(0., dtype=torch.float64), tensor(0., dtype=torch.float64), tensor(0., dtype=torch.float64), tensor(0., dtype=torch.float64), tensor(0., dtype=torch.float64), tensor(0., dtype=torch.float64), tensor(0., dtype=torch.float64), tensor(0., dtype=torch.float64), tensor(0., dtype=torch.float64), tensor(0., dtype=torch.float64), tensor(0., dtype=torch.float64), tensor(0., dtype=torch.float64), tensor(0., dtype=torch.float64), tensor(0., dtype=torch.float64), tensor(0., dtype=torch.float64), tensor(0., dtype=torch.float64), tensor(0., dtype=torch.float64), tensor(0., dtype=torch.float64), tensor(0., dtype=torch.float64), tensor(0., dtype=torch.float64), tensor(0., dtype=torch.float64), tensor(0., dtype=torch.float64), tensor(0., dtype=torch.float64), tensor(0., dtype=torch.float64), tensor(0., dtype=torch.float64), tensor(0., dtype=torch.float64), tensor(0., dtype=torch.float64), tensor(0., dtype=torch.float64), tensor(0., dtype=torch.float64), tensor(1., dtype=torch.float64), tensor(0., dtype=torch.float64), tensor(0., dtype=torch.float64), tensor(0., dtype=torch.float64), tensor(0., dtype=torch.float64), tensor(0., dtype=torch.float64), tensor(1., dtype=torch.float64), tensor(0., dtype=torch.float64), tensor(0., dtype=torch.float64), tensor(0., dtype=torch.float64), tensor(0., dtype=torch.float64), tensor(0., dtype=torch.float64), tensor(0., dtype=torch.float64), tensor(0., dtype=torch.float64), tensor(0., dtype=torch.float64), tensor(0., dtype=torch.float64), tensor(0., dtype=torch.float64), tensor(0., dtype=torch.float64), tensor(0., dtype=torch.float64), tensor(0., dtype=torch.float64), tensor(0., dtype=torch.float64), tensor(0., dtype=torch.float64), tensor(0., dtype=torch.float64), tensor(0., dtype=torch.float64), tensor(1., dtype=torch.float64), tensor(0., dtype=torch.float64), tensor(0., dtype=torch.float64), tensor(0., dtype=torch.float64), tensor(0., dtype=torch.float64), tensor(0., dtype=torch.float64), tensor(0., dtype=torch.float64), tensor(0., dtype=torch.float64), tensor(0., dtype=torch.float64), tensor(0., dtype=torch.float64), tensor(0., dtype=torch.float64), tensor(0., dtype=torch.float64), tensor(0., dtype=torch.float64), tensor(0., dtype=torch.float64), tensor(0., dtype=torch.float64), tensor(0., dtype=torch.float64), tensor(0., dtype=torch.float64), tensor(0., dtype=torch.float64), tensor(0., dtype=torch.float64), tensor(0., dtype=torch.float64), tensor(0., dtype=torch.float64), tensor(0., dtype=torch.float64), tensor(0., dtype=torch.float64), tensor(0., dtype=torch.float64), tensor(0., dtype=torch.float64), tensor(0., dtype=torch.float64), tensor(0., dtype=torch.float64), tensor(0., dtype=torch.float64), tensor(0., dtype=torch.float64), tensor(0., dtype=torch.float64), tensor(0., dtype=torch.float64), tensor(0., dtype=torch.float64), tensor(1., dtype=torch.float64), tensor(0., dtype=torch.float64), tensor(0., dtype=torch.float64), tensor(0., dtype=torch.float64), tensor(0., dtype=torch.float64), tensor(0., dtype=torch.float64), tensor(0., dtype=torch.float64), tensor(0., dtype=torch.float64), tensor(0., dtype=torch.float64), tensor(0., dtype=torch.float64), tensor(1., dtype=torch.float64), tensor(0., dtype=torch.float64), tensor(0., dtype=torch.float64), tensor(0., dtype=torch.float64), tensor(0., dtype=torch.float64), tensor(0., dtype=torch.float64), tensor(0., dtype=torch.float64), tensor(0., dtype=torch.float64), tensor(0., dtype=torch.float64), tensor(0., dtype=torch.float64), tensor(0., dtype=torch.float64), tensor(0., dtype=torch.float64), tensor(0., dtype=torch.float64), tensor(0., dtype=torch.float64), tensor(0., dtype=torch.float64), tensor(0., dtype=torch.float64), tensor(0., dtype=torch.float64), tensor(0., dtype=torch.float64), tensor(0., dtype=torch.float64), tensor(0., dtype=torch.float64), tensor(0., dtype=torch.float64), tensor(1., dtype=torch.float64), tensor(0., dtype=torch.float64), tensor(0., dtype=torch.float64), tensor(0., dtype=torch.float64), tensor(0., dtype=torch.float64), tensor(0., dtype=torch.float64), tensor(0., dtype=torch.float64), tensor(0., dtype=torch.float64), tensor(0., dtype=torch.float64), tensor(0., dtype=torch.float64), tensor(1., dtype=torch.float64), tensor(0., dtype=torch.float64), tensor(0., dtype=torch.float64), tensor(0., dtype=torch.float64), tensor(0., dtype=torch.float64), tensor(1., dtype=torch.float64), tensor(0., dtype=torch.float64), tensor(0., dtype=torch.float64), tensor(0., dtype=torch.float64), tensor(0., dtype=torch.float64), tensor(0., dtype=torch.float64), tensor(0., dtype=torch.float64), tensor(0., dtype=torch.float64), tensor(0., dtype=torch.float64), tensor(0., dtype=torch.float64), tensor(0., dtype=torch.float64), tensor(0., dtype=torch.float64), tensor(0., dtype=torch.float64), tensor(0., dtype=torch.float64), tensor(0., dtype=torch.float64), tensor(0., dtype=torch.float64), tensor(0., dtype=torch.float64), tensor(0., dtype=torch.float64), tensor(1., dtype=torch.float64), tensor(0., dtype=torch.float64), tensor(0., dtype=torch.float64), tensor(0., dtype=torch.float64), tensor(0., dtype=torch.float64), tensor(0., dtype=torch.float64), tensor(0., dtype=torch.float64), tensor(0., dtype=torch.float64), tensor(0., dtype=torch.float64), tensor(0., dtype=torch.float64), tensor(0., dtype=torch.float64), tensor(0., dtype=torch.float64), tensor(1., dtype=torch.float64), tensor(0., dtype=torch.float64), tensor(0., dtype=torch.float64), tensor(0., dtype=torch.float64), tensor(0., dtype=torch.float64), tensor(0., dtype=torch.float64), tensor(0., dtype=torch.float64), tensor(0., dtype=torch.float64), tensor(0., dtype=torch.float64), tensor(1., dtype=torch.float64), tensor(1., dtype=torch.float64), tensor(0., dtype=torch.float64), tensor(0., dtype=torch.float64), tensor(0., dtype=torch.float64), tensor(0., dtype=torch.float64), tensor(0., dtype=torch.float64), tensor(0., dtype=torch.float64), tensor(0., dtype=torch.float64), tensor(0., dtype=torch.float64), tensor(0., dtype=torch.float64), tensor(0., dtype=torch.float64), tensor(0., dtype=torch.float64), tensor(0., dtype=torch.float64), tensor(1., dtype=torch.float64), tensor(0., dtype=torch.float64), tensor(0., dtype=torch.float64), tensor(0., dtype=torch.float64), tensor(0., dtype=torch.float64), tensor(0., dtype=torch.float64), tensor(0., dtype=torch.float64), tensor(0., dtype=torch.float64), tensor(1., dtype=torch.float64), tensor(0., dtype=torch.float64), tensor(0., dtype=torch.float64), tensor(0., dtype=torch.float64), tensor(0., dtype=torch.float64), tensor(0., dtype=torch.float64), tensor(0., dtype=torch.float64), tensor(0., dtype=torch.float64), tensor(0., dtype=torch.float64), tensor(0., dtype=torch.float64), tensor(0., dtype=torch.float64), tensor(0., dtype=torch.float64), tensor(0., dtype=torch.float64), tensor(0., dtype=torch.float64), tensor(0., dtype=torch.float64), tensor(0., dtype=torch.float64), tensor(1., dtype=torch.float64), tensor(0., dtype=torch.float64), tensor(0., dtype=torch.float64), tensor(0., dtype=torch.float64), tensor(0., dtype=torch.float64), tensor(0., dtype=torch.float64), tensor(0., dtype=torch.float64), tensor(0., dtype=torch.float64), tensor(1., dtype=torch.float64), tensor(0., dtype=torch.float64), tensor(0., dtype=torch.float64), tensor(0., dtype=torch.float64), tensor(0., dtype=torch.float64), tensor(0., dtype=torch.float64), tensor(0., dtype=torch.float64), tensor(0., dtype=torch.float64), tensor(0., dtype=torch.float64), tensor(0., dtype=torch.float64), tensor(0., dtype=torch.float64), tensor(0., dtype=torch.float64), tensor(0., dtype=torch.float64), tensor(1., dtype=torch.float64), tensor(0., dtype=torch.float64), tensor(0., dtype=torch.float64), tensor(0., dtype=torch.float64), tensor(0., dtype=torch.float64), tensor(0., dtype=torch.float64), tensor(0., dtype=torch.float64), tensor(0., dtype=torch.float64), tensor(0., dtype=torch.float64), tensor(0., dtype=torch.float64), tensor(1., dtype=torch.float64), tensor(0., dtype=torch.float64), tensor(0., dtype=torch.float64), tensor(0., dtype=torch.float64), tensor(0., dtype=torch.float64), tensor(0., dtype=torch.float64), tensor(0., dtype=torch.float64), tensor(1., dtype=torch.float64), tensor(0., dtype=torch.float64), tensor(0., dtype=torch.float64), tensor(0., dtype=torch.float64), tensor(0., dtype=torch.float64), tensor(0., dtype=torch.float64), tensor(0., dtype=torch.float64), tensor(0., dtype=torch.float64), tensor(0., dtype=torch.float64), tensor(0., dtype=torch.float64), tensor(0., dtype=torch.float64), tensor(0., dtype=torch.float64), tensor(0., dtype=torch.float64), tensor(0., dtype=torch.float64), tensor(0., dtype=torch.float64), tensor(0., dtype=torch.float64), tensor(0., dtype=torch.float64), tensor(0., dtype=torch.float64), tensor(0., dtype=torch.float64), tensor(0., dtype=torch.float64), tensor(1., dtype=torch.float64), tensor(0., dtype=torch.float64), tensor(1., dtype=torch.float64), tensor(0., dtype=torch.float64), tensor(0., dtype=torch.float64), tensor(0., dtype=torch.float64), tensor(0., dtype=torch.float64), tensor(0., dtype=torch.float64), tensor(0., dtype=torch.float64), tensor(0., dtype=torch.float64), tensor(0., dtype=torch.float64), tensor(0., dtype=torch.float64), tensor(0., dtype=torch.float64), tensor(0., dtype=torch.float64), tensor(0., dtype=torch.float64), tensor(0., dtype=torch.float64), tensor(0., dtype=torch.float64), tensor(0., dtype=torch.float64), tensor(0., dtype=torch.float64), tensor(0., dtype=torch.float64), tensor(0., dtype=torch.float64), tensor(0., dtype=torch.float64), tensor(0., dtype=torch.float64), tensor(0., dtype=torch.float64), tensor(0., dtype=torch.float64), tensor(0., dtype=torch.float64), tensor(0., dtype=torch.float64), tensor(1., dtype=torch.float64), tensor(0., dtype=torch.float64), tensor(0., dtype=torch.float64), tensor(0., dtype=torch.float64), tensor(0., dtype=torch.float64), tensor(0., dtype=torch.float64), tensor(0., dtype=torch.float64), tensor(0., dtype=torch.float64), tensor(0., dtype=torch.float64), tensor(0., dtype=torch.float64), tensor(0., dtype=torch.float64), tensor(0., dtype=torch.float64), tensor(0., dtype=torch.float64), tensor(0., dtype=torch.float64), tensor(0., dtype=torch.float64), tensor(0., dtype=torch.float64), tensor(0., dtype=torch.float64), tensor(0., dtype=torch.float64), tensor(0., dtype=torch.float64), tensor(0., dtype=torch.float64), tensor(0., dtype=torch.float64), tensor(0., dtype=torch.float64), tensor(0., dtype=torch.float64), tensor(0., dtype=torch.float64), tensor(1., dtype=torch.float64), tensor(0., dtype=torch.float64), tensor(0., dtype=torch.float64), tensor(0., dtype=torch.float64), tensor(0., dtype=torch.float64), tensor(0., dtype=torch.float64), tensor(0., dtype=torch.float64), tensor(1., dtype=torch.float64), tensor(0., dtype=torch.float64), tensor(0., dtype=torch.float64), tensor(0., dtype=torch.float64), tensor(0., dtype=torch.float64), tensor(0., dtype=torch.float64), tensor(0., dtype=torch.float64), tensor(0., dtype=torch.float64), tensor(0., dtype=torch.float64), tensor(0., dtype=torch.float64), tensor(0., dtype=torch.float64), tensor(0., dtype=torch.float64), tensor(0., dtype=torch.float64), tensor(0., dtype=torch.float64), tensor(0., dtype=torch.float64), tensor(0., dtype=torch.float64), tensor(0., dtype=torch.float64), tensor(0., dtype=torch.float64), tensor(0., dtype=torch.float64), tensor(0., dtype=torch.float64), tensor(0., dtype=torch.float64), tensor(0., dtype=torch.float64), tensor(0., dtype=torch.float64), tensor(0., dtype=torch.float64), tensor(0., dtype=torch.float64), tensor(1., dtype=torch.float64), tensor(0., dtype=torch.float64), tensor(0., dtype=torch.float64), tensor(0., dtype=torch.float64), tensor(0., dtype=torch.float64), tensor(0., dtype=torch.float64), tensor(0., dtype=torch.float64), tensor(0., dtype=torch.float64), tensor(0., dtype=torch.float64), tensor(0., dtype=torch.float64), tensor(0., dtype=torch.float64), tensor(0., dtype=torch.float64), tensor(0., dtype=torch.float64), tensor(0., dtype=torch.float64), tensor(0., dtype=torch.float64), tensor(0., dtype=torch.float64), tensor(0., dtype=torch.float64), tensor(0., dtype=torch.float64), tensor(0., dtype=torch.float64), tensor(0., dtype=torch.float64), tensor(0., dtype=torch.float64), tensor(0., dtype=torch.float64), tensor(0., dtype=torch.float64), tensor(0., dtype=torch.float64), tensor(0., dtype=torch.float64), tensor(0., dtype=torch.float64), tensor(0., dtype=torch.float64), tensor(0., dtype=torch.float64), tensor(1., dtype=torch.float64), tensor(0., dtype=torch.float64), tensor(0., dtype=torch.float64), tensor(0., dtype=torch.float64), tensor(0., dtype=torch.float64), tensor(0., dtype=torch.float64), tensor(0., dtype=torch.float64), tensor(0., dtype=torch.float64), tensor(0., dtype=torch.float64), tensor(0., dtype=torch.float64), tensor(0., dtype=torch.float64), tensor(0., dtype=torch.float64), tensor(0., dtype=torch.float64), tensor(1., dtype=torch.float64), tensor(0., dtype=torch.float64), tensor(0., dtype=torch.float64), tensor(0., dtype=torch.float64), tensor(0., dtype=torch.float64), tensor(0., dtype=torch.float64), tensor(0., dtype=torch.float64), tensor(1., dtype=torch.float64), tensor(0., dtype=torch.float64), tensor(0., dtype=torch.float64), tensor(0., dtype=torch.float64), tensor(0., dtype=torch.float64), tensor(0., dtype=torch.float64), tensor(0., dtype=torch.float64), tensor(0., dtype=torch.float64), tensor(0., dtype=torch.float64), tensor(0., dtype=torch.float64), tensor(0., dtype=torch.float64), tensor(0., dtype=torch.float64), tensor(0., dtype=torch.float64), tensor(0., dtype=torch.float64), tensor(0., dtype=torch.float64), tensor(0., dtype=torch.float64), tensor(0., dtype=torch.float64), tensor(0., dtype=torch.float64), tensor(0., dtype=torch.float64), tensor(0., dtype=torch.float64), tensor(0., dtype=torch.float64), tensor(0., dtype=torch.float64), tensor(0., dtype=torch.float64), tensor(0., dtype=torch.float64), tensor(0., dtype=torch.float64), tensor(0., dtype=torch.float64), tensor(0., dtype=torch.float64), tensor(0., dtype=torch.float64), tensor(0., dtype=torch.float64), tensor(0., dtype=torch.float64), tensor(0., dtype=torch.float64), tensor(0., dtype=torch.float64), tensor(0., dtype=torch.float64), tensor(0., dtype=torch.float64), tensor(0., dtype=torch.float64), tensor(0., dtype=torch.float64), tensor(0., dtype=torch.float64), tensor(0., dtype=torch.float64), tensor(0., dtype=torch.float64), tensor(0., dtype=torch.float64), tensor(0., dtype=torch.float64), tensor(0., dtype=torch.float64), tensor(0., dtype=torch.float64), tensor(0., dtype=torch.float64), tensor(0., dtype=torch.float64), tensor(0., dtype=torch.float64), tensor(0., dtype=torch.float64), tensor(1., dtype=torch.float64), tensor(0., dtype=torch.float64), tensor(0., dtype=torch.float64), tensor(0., dtype=torch.float64), tensor(0., dtype=torch.float64), tensor(0., dtype=torch.float64), tensor(0., dtype=torch.float64), tensor(0., dtype=torch.float64), tensor(0., dtype=torch.float64), tensor(0., dtype=torch.float64), tensor(0., dtype=torch.float64), tensor(0., dtype=torch.float64), tensor(0., dtype=torch.float64), tensor(0., dtype=torch.float64), tensor(0., dtype=torch.float64), tensor(0., dtype=torch.float64), tensor(0., dtype=torch.float64), tensor(0., dtype=torch.float64), tensor(0., dtype=torch.float64), tensor(0., dtype=torch.float64), tensor(0., dtype=torch.float64), tensor(0., dtype=torch.float64), tensor(0., dtype=torch.float64), tensor(0., dtype=torch.float64), tensor(0., dtype=torch.float64), tensor(0., dtype=torch.float64), tensor(0., dtype=torch.float64), tensor(0., dtype=torch.float64), tensor(0., dtype=torch.float64), tensor(0., dtype=torch.float64), tensor(0., dtype=torch.float64), tensor(0., dtype=torch.float64), tensor(0., dtype=torch.float64), tensor(0., dtype=torch.float64), tensor(0., dtype=torch.float64), tensor(0., dtype=torch.float64), tensor(0., dtype=torch.float64), tensor(0., dtype=torch.float64), tensor(0., dtype=torch.float64), tensor(0., dtype=torch.float64), tensor(0., dtype=torch.float64), tensor(1., dtype=torch.float64), tensor(0., dtype=torch.float64), tensor(1., dtype=torch.float64), tensor(0., dtype=torch.float64), tensor(0., dtype=torch.float64), tensor(0., dtype=torch.float64), tensor(0., dtype=torch.float64), tensor(0., dtype=torch.float64), tensor(0., dtype=torch.float64), tensor(0., dtype=torch.float64), tensor(0., dtype=torch.float64), tensor(0., dtype=torch.float64), tensor(0., dtype=torch.float64), tensor(0., dtype=torch.float64), tensor(0., dtype=torch.float64), tensor(0., dtype=torch.float64), tensor(0., dtype=torch.float64), tensor(0., dtype=torch.float64), tensor(0., dtype=torch.float64), tensor(0., dtype=torch.float64), tensor(0., dtype=torch.float64), tensor(0., dtype=torch.float64), tensor(0., dtype=torch.float64), tensor(0., dtype=torch.float64), tensor(0., dtype=torch.float64), tensor(1., dtype=torch.float64), tensor(0., dtype=torch.float64), tensor(0., dtype=torch.float64), tensor(0., dtype=torch.float64), tensor(0., dtype=torch.float64), tensor(0., dtype=torch.float64), tensor(1., dtype=torch.float64), tensor(0., dtype=torch.float64), tensor(0., dtype=torch.float64), tensor(0., dtype=torch.float64), tensor(0., dtype=torch.float64), tensor(0., dtype=torch.float64), tensor(0., dtype=torch.float64), tensor(0., dtype=torch.float64), tensor(0., dtype=torch.float64), tensor(0., dtype=torch.float64), tensor(0., dtype=torch.float64), tensor(0., dtype=torch.float64), tensor(0., dtype=torch.float64), tensor(0., dtype=torch.float64), tensor(0., dtype=torch.float64), tensor(0., dtype=torch.float64), tensor(0., dtype=torch.float64), tensor(0., dtype=torch.float64), tensor(0., dtype=torch.float64), tensor(0., dtype=torch.float64), tensor(0., dtype=torch.float64), tensor(0., dtype=torch.float64), tensor(0., dtype=torch.float64), tensor(0., dtype=torch.float64), tensor(0., dtype=torch.float64), tensor(0., dtype=torch.float64), tensor(0., dtype=torch.float64), tensor(1., dtype=torch.float64), tensor(0., dtype=torch.float64), tensor(0., dtype=torch.float64), tensor(0., dtype=torch.float64), tensor(0., dtype=torch.float64), tensor(0., dtype=torch.float64), tensor(0., dtype=torch.float64), tensor(0., dtype=torch.float64), tensor(1., dtype=torch.float64), tensor(0., dtype=torch.float64), tensor(0., dtype=torch.float64), tensor(0., dtype=torch.float64), tensor(0., dtype=torch.float64), tensor(0., dtype=torch.float64), tensor(0., dtype=torch.float64), tensor(0., dtype=torch.float64), tensor(0., dtype=torch.float64), tensor(0., dtype=torch.float64), tensor(0., dtype=torch.float64), tensor(0., dtype=torch.float64), tensor(0., dtype=torch.float64), tensor(0., dtype=torch.float64), tensor(0., dtype=torch.float64), tensor(0., dtype=torch.float64), tensor(0., dtype=torch.float64), tensor(0., dtype=torch.float64), tensor(0., dtype=torch.float64), tensor(0., dtype=torch.float64), tensor(0., dtype=torch.float64), tensor(0., dtype=torch.float64), tensor(0., dtype=torch.float64), tensor(0., dtype=torch.float64), tensor(0., dtype=torch.float64), tensor(0., dtype=torch.float64), tensor(0., dtype=torch.float64), tensor(0., dtype=torch.float64), tensor(1., dtype=torch.float64), tensor(0., dtype=torch.float64), tensor(1., dtype=torch.float64), tensor(0., dtype=torch.float64), tensor(0., dtype=torch.float64), tensor(0., dtype=torch.float64), tensor(0., dtype=torch.float64), tensor(0., dtype=torch.float64), tensor(0., dtype=torch.float64), tensor(0., dtype=torch.float64), tensor(0., dtype=torch.float64), tensor(0., dtype=torch.float64), tensor(0., dtype=torch.float64), tensor(0., dtype=torch.float64), tensor(0., dtype=torch.float64), tensor(0., dtype=torch.float64), tensor(0., dtype=torch.float64), tensor(0., dtype=torch.float64), tensor(0., dtype=torch.float64), tensor(0., dtype=torch.float64), tensor(0., dtype=torch.float64), tensor(0., dtype=torch.float64), tensor(0., dtype=torch.float64), tensor(0., dtype=torch.float64), tensor(0., dtype=torch.float64), tensor(0., dtype=torch.float64), tensor(0., dtype=torch.float64), tensor(1., dtype=torch.float64), tensor(0., dtype=torch.float64), tensor(0., dtype=torch.float64), tensor(0., dtype=torch.float64), tensor(0., dtype=torch.float64), tensor(1., dtype=torch.float64), tensor(0., dtype=torch.float64), tensor(0., dtype=torch.float64), tensor(1., dtype=torch.float64), tensor(0., dtype=torch.float64), tensor(0., dtype=torch.float64), tensor(0., dtype=torch.float64), tensor(0., dtype=torch.float64), tensor(0., dtype=torch.float64), tensor(0., dtype=torch.float64), tensor(0., dtype=torch.float64), tensor(1., dtype=torch.float64), tensor(0., dtype=torch.float64), tensor(0., dtype=torch.float64), tensor(0., dtype=torch.float64), tensor(0., dtype=torch.float64), tensor(0., dtype=torch.float64), tensor(0., dtype=torch.float64), tensor(0., dtype=torch.float64), tensor(0., dtype=torch.float64), tensor(0., dtype=torch.float64), tensor(0., dtype=torch.float64), tensor(1., dtype=torch.float64), tensor(0., dtype=torch.float64), tensor(0., dtype=torch.float64), tensor(0., dtype=torch.float64), tensor(0., dtype=torch.float64), tensor(0., dtype=torch.float64), tensor(0., dtype=torch.float64), tensor(0., dtype=torch.float64), tensor(0., dtype=torch.float64), tensor(0., dtype=torch.float64), tensor(0., dtype=torch.float64), tensor(0., dtype=torch.float64), tensor(0., dtype=torch.float64), tensor(0., dtype=torch.float64), tensor(0., dtype=torch.float64), tensor(0., dtype=torch.float64), tensor(0., dtype=torch.float64), tensor(0., dtype=torch.float64), tensor(0., dtype=torch.float64), tensor(0., dtype=torch.float64), tensor(0., dtype=torch.float64), tensor(0., dtype=torch.float64), tensor(0., dtype=torch.float64), tensor(0., dtype=torch.float64), tensor(0., dtype=torch.float64), tensor(0., dtype=torch.float64), tensor(0., dtype=torch.float64), tensor(0., dtype=torch.float64), tensor(0., dtype=torch.float64), tensor(0., dtype=torch.float64), tensor(0., dtype=torch.float64), tensor(0., dtype=torch.float64), tensor(0., dtype=torch.float64), tensor(0., dtype=torch.float64), tensor(0., dtype=torch.float64), tensor(0., dtype=torch.float64), tensor(0., dtype=torch.float64), tensor(0., dtype=torch.float64), tensor(0., dtype=torch.float64), tensor(0., dtype=torch.float64), tensor(0., dtype=torch.float64), tensor(0., dtype=torch.float64), tensor(0., dtype=torch.float64), tensor(0., dtype=torch.float64), tensor(0., dtype=torch.float64), tensor(0., dtype=torch.float64), tensor(0., dtype=torch.float64), tensor(0., dtype=torch.float64), tensor(0., dtype=torch.float64), tensor(0., dtype=torch.float64), tensor(0., dtype=torch.float64), tensor(0., dtype=torch.float64), tensor(0., dtype=torch.float64), tensor(0., dtype=torch.float64), tensor(1., dtype=torch.float64), tensor(0., dtype=torch.float64), tensor(0., dtype=torch.float64), tensor(0., dtype=torch.float64), tensor(0., dtype=torch.float64), tensor(0., dtype=torch.float64), tensor(0., dtype=torch.float64), tensor(0., dtype=torch.float64), tensor(0., dtype=torch.float64), tensor(0., dtype=torch.float64), tensor(0., dtype=torch.float64), tensor(0., dtype=torch.float64), tensor(0., dtype=torch.float64), tensor(0., dtype=torch.float64), tensor(0., dtype=torch.float64), tensor(0., dtype=torch.float64), tensor(0., dtype=torch.float64), tensor(0., dtype=torch.float64), tensor(0., dtype=torch.float64), tensor(0., dtype=torch.float64), tensor(0., dtype=torch.float64), tensor(1., dtype=torch.float64), tensor(1., dtype=torch.float64), tensor(0., dtype=torch.float64), tensor(0., dtype=torch.float64), tensor(0., dtype=torch.float64), tensor(0., dtype=torch.float64), tensor(0., dtype=torch.float64), tensor(0., dtype=torch.float64), tensor(0., dtype=torch.float64), tensor(0., dtype=torch.float64), tensor(0., dtype=torch.float64), tensor(0., dtype=torch.float64), tensor(0., dtype=torch.float64), tensor(0., dtype=torch.float64), tensor(0., dtype=torch.float64), tensor(0., dtype=torch.float64), tensor(1., dtype=torch.float64), tensor(1., dtype=torch.float64), tensor(0., dtype=torch.float64), tensor(0., dtype=torch.float64), tensor(1., dtype=torch.float64), tensor(0., dtype=torch.float64), tensor(0., dtype=torch.float64), tensor(0., dtype=torch.float64), tensor(0., dtype=torch.float64), tensor(0., dtype=torch.float64), tensor(0., dtype=torch.float64), tensor(0., dtype=torch.float64), tensor(0., dtype=torch.float64), tensor(0., dtype=torch.float64), tensor(0., dtype=torch.float64), tensor(0., dtype=torch.float64), tensor(0., dtype=torch.float64), tensor(0., dtype=torch.float64), tensor(0., dtype=torch.float64), tensor(0., dtype=torch.float64), tensor(0., dtype=torch.float64), tensor(0., dtype=torch.float64), tensor(0., dtype=torch.float64), tensor(0., dtype=torch.float64), tensor(0., dtype=torch.float64), tensor(0., dtype=torch.float64), tensor(0., dtype=torch.float64), tensor(0., dtype=torch.float64), tensor(0., dtype=torch.float64), tensor(1., dtype=torch.float64), tensor(0., dtype=torch.float64), tensor(0., dtype=torch.float64), tensor(0., dtype=torch.float64), tensor(0., dtype=torch.float64), tensor(0., dtype=torch.float64), tensor(1., dtype=torch.float64), tensor(0., dtype=torch.float64), tensor(0., dtype=torch.float64), tensor(0., dtype=torch.float64), tensor(0., dtype=torch.float64), tensor(0., dtype=torch.float64), tensor(0., dtype=torch.float64), tensor(0., dtype=torch.float64), tensor(0., dtype=torch.float64), tensor(0., dtype=torch.float64), tensor(0., dtype=torch.float64), tensor(0., dtype=torch.float64), tensor(0., dtype=torch.float64), tensor(0., dtype=torch.float64), tensor(1., dtype=torch.float64), tensor(0., dtype=torch.float64), tensor(0., dtype=torch.float64), tensor(0., dtype=torch.float64), tensor(0., dtype=torch.float64), tensor(1., dtype=torch.float64), tensor(0., dtype=torch.float64), tensor(0., dtype=torch.float64), tensor(0., dtype=torch.float64), tensor(0., dtype=torch.float64), tensor(0., dtype=torch.float64), tensor(0., dtype=torch.float64), tensor(0., dtype=torch.float64), tensor(0., dtype=torch.float64), tensor(0., dtype=torch.float64), tensor(0., dtype=torch.float64), tensor(0., dtype=torch.float64), tensor(0., dtype=torch.float64), tensor(0., dtype=torch.float64), tensor(0., dtype=torch.float64), tensor(0., dtype=torch.float64), tensor(0., dtype=torch.float64), tensor(0., dtype=torch.float64), tensor(0., dtype=torch.float64), tensor(0., dtype=torch.float64), tensor(0., dtype=torch.float64), tensor(0., dtype=torch.float64), tensor(0., dtype=torch.float64), tensor(1., dtype=torch.float64), tensor(1., dtype=torch.float64), tensor(1., dtype=torch.float64), tensor(0., dtype=torch.float64), tensor(0., dtype=torch.float64), tensor(0., dtype=torch.float64), tensor(0., dtype=torch.float64), tensor(1., dtype=torch.float64), tensor(0., dtype=torch.float64), tensor(0., dtype=torch.float64), tensor(0., dtype=torch.float64), tensor(0., dtype=torch.float64), tensor(0., dtype=torch.float64), tensor(0., dtype=torch.float64), tensor(0., dtype=torch.float64), tensor(0., dtype=torch.float64), tensor(0., dtype=torch.float64), tensor(0., dtype=torch.float64), tensor(1., dtype=torch.float64), tensor(0., dtype=torch.float64), tensor(0., dtype=torch.float64), tensor(0., dtype=torch.float64), tensor(1., dtype=torch.float64), tensor(0., dtype=torch.float64), tensor(0., dtype=torch.float64), tensor(0., dtype=torch.float64), tensor(0., dtype=torch.float64), tensor(0., dtype=torch.float64), tensor(0., dtype=torch.float64), tensor(0., dtype=torch.float64), tensor(0., dtype=torch.float64), tensor(0., dtype=torch.float64), tensor(0., dtype=torch.float64), tensor(0., dtype=torch.float64), tensor(0., dtype=torch.float64), tensor(0., dtype=torch.float64), tensor(0., dtype=torch.float64), tensor(1., dtype=torch.float64), tensor(0., dtype=torch.float64), tensor(0., dtype=torch.float64), tensor(0., dtype=torch.float64), tensor(0., dtype=torch.float64), tensor(0., dtype=torch.float64), tensor(0., dtype=torch.float64), tensor(0., dtype=torch.float64), tensor(0., dtype=torch.float64), tensor(0., dtype=torch.float64), tensor(0., dtype=torch.float64), tensor(0., dtype=torch.float64), tensor(0., dtype=torch.float64), tensor(0., dtype=torch.float64), tensor(0., dtype=torch.float64), tensor(0., dtype=torch.float64), tensor(0., dtype=torch.float64), tensor(0., dtype=torch.float64), tensor(0., dtype=torch.float64), tensor(0., dtype=torch.float64), tensor(0., dtype=torch.float64), tensor(0., dtype=torch.float64), tensor(0., dtype=torch.float64), tensor(0., dtype=torch.float64), tensor(0., dtype=torch.float64), tensor(0., dtype=torch.float64), tensor(0., dtype=torch.float64), tensor(0., dtype=torch.float64), tensor(0., dtype=torch.float64), tensor(1., dtype=torch.float64), tensor(0., dtype=torch.float64), tensor(0., dtype=torch.float64), tensor(0., dtype=torch.float64), tensor(0., dtype=torch.float64), tensor(0., dtype=torch.float64), tensor(0., dtype=torch.float64), tensor(0., dtype=torch.float64), tensor(0., dtype=torch.float64), tensor(0., dtype=torch.float64), tensor(0., dtype=torch.float64), tensor(0., dtype=torch.float64), tensor(0., dtype=torch.float64), tensor(0., dtype=torch.float64), tensor(0., dtype=torch.float64), tensor(0., dtype=torch.float64), tensor(0., dtype=torch.float64), tensor(0., dtype=torch.float64), tensor(0., dtype=torch.float64), tensor(0., dtype=torch.float64), tensor(0., dtype=torch.float64), tensor(0., dtype=torch.float64), tensor(0., dtype=torch.float64), tensor(0., dtype=torch.float64), tensor(0., dtype=torch.float64), tensor(0., dtype=torch.float64), tensor(0., dtype=torch.float64), tensor(0., dtype=torch.float64), tensor(0., dtype=torch.float64), tensor(0., dtype=torch.float64), tensor(0., dtype=torch.float64), tensor(0., dtype=torch.float64), tensor(0., dtype=torch.float64), tensor(0., dtype=torch.float64), tensor(0., dtype=torch.float64), tensor(0., dtype=torch.float64), tensor(0., dtype=torch.float64), tensor(0., dtype=torch.float64), tensor(0., dtype=torch.float64), tensor(0., dtype=torch.float64), tensor(0., dtype=torch.float64), tensor(0., dtype=torch.float64), tensor(0., dtype=torch.float64), tensor(0., dtype=torch.float64), tensor(0., dtype=torch.float64), tensor(0., dtype=torch.float64), tensor(0., dtype=torch.float64), tensor(0., dtype=torch.float64), tensor(1., dtype=torch.float64), tensor(0., dtype=torch.float64), tensor(0., dtype=torch.float64), tensor(1., dtype=torch.float64), tensor(0., dtype=torch.float64), tensor(0., dtype=torch.float64), tensor(0., dtype=torch.float64), tensor(0., dtype=torch.float64), tensor(0., dtype=torch.float64), tensor(0., dtype=torch.float64), tensor(0., dtype=torch.float64), tensor(0., dtype=torch.float64), tensor(0., dtype=torch.float64), tensor(0., dtype=torch.float64), tensor(0., dtype=torch.float64), tensor(0., dtype=torch.float64), tensor(0., dtype=torch.float64), tensor(0., dtype=torch.float64), tensor(0., dtype=torch.float64), tensor(0., dtype=torch.float64), tensor(0., dtype=torch.float64), tensor(1., dtype=torch.float64), tensor(0., dtype=torch.float64), tensor(0., dtype=torch.float64), tensor(0., dtype=torch.float64), tensor(0., dtype=torch.float64), tensor(0., dtype=torch.float64), tensor(0., dtype=torch.float64), tensor(0., dtype=torch.float64), tensor(0., dtype=torch.float64), tensor(0., dtype=torch.float64), tensor(0., dtype=torch.float64), tensor(0., dtype=torch.float64), tensor(0., dtype=torch.float64), tensor(0., dtype=torch.float64), tensor(0., dtype=torch.float64), tensor(0., dtype=torch.float64), tensor(0., dtype=torch.float64), tensor(1., dtype=torch.float64), tensor(0., dtype=torch.float64), tensor(0., dtype=torch.float64), tensor(0., dtype=torch.float64), tensor(0., dtype=torch.float64), tensor(0., dtype=torch.float64), tensor(0., dtype=torch.float64), tensor(1., dtype=torch.float64), tensor(1., dtype=torch.float64), tensor(0., dtype=torch.float64), tensor(0., dtype=torch.float64), tensor(0., dtype=torch.float64), tensor(0., dtype=torch.float64), tensor(0., dtype=torch.float64), tensor(0., dtype=torch.float64), tensor(0., dtype=torch.float64), tensor(0., dtype=torch.float64), tensor(0., dtype=torch.float64), tensor(0., dtype=torch.float64), tensor(0., dtype=torch.float64), tensor(0., dtype=torch.float64), tensor(0., dtype=torch.float64), tensor(0., dtype=torch.float64), tensor(0., dtype=torch.float64), tensor(0., dtype=torch.float64), tensor(0., dtype=torch.float64), tensor(0., dtype=torch.float64), tensor(0., dtype=torch.float64), tensor(0., dtype=torch.float64), tensor(0., dtype=torch.float64), tensor(0., dtype=torch.float64), tensor(0., dtype=torch.float64), tensor(1., dtype=torch.float64), tensor(0., dtype=torch.float64), tensor(0., dtype=torch.float64), tensor(0., dtype=torch.float64), tensor(0., dtype=torch.float64), tensor(0., dtype=torch.float64), tensor(0., dtype=torch.float64), tensor(0., dtype=torch.float64), tensor(0., dtype=torch.float64), tensor(0., dtype=torch.float64), tensor(0., dtype=torch.float64), tensor(0., dtype=torch.float64), tensor(0., dtype=torch.float64), tensor(1., dtype=torch.float64), tensor(0., dtype=torch.float64), tensor(0., dtype=torch.float64), tensor(0., dtype=torch.float64), tensor(0., dtype=torch.float64), tensor(0., dtype=torch.float64), tensor(0., dtype=torch.float64), tensor(0., dtype=torch.float64), tensor(0., dtype=torch.float64), tensor(0., dtype=torch.float64), tensor(0., dtype=torch.float64), tensor(0., dtype=torch.float64), tensor(0., dtype=torch.float64), tensor(0., dtype=torch.float64), tensor(0., dtype=torch.float64), tensor(0., dtype=torch.float64), tensor(0., dtype=torch.float64), tensor(0., dtype=torch.float64), tensor(0., dtype=torch.float64), tensor(0., dtype=torch.float64), tensor(1., dtype=torch.float64), tensor(0., dtype=torch.float64), tensor(0., dtype=torch.float64), tensor(0., dtype=torch.float64), tensor(0., dtype=torch.float64), tensor(0., dtype=torch.float64), tensor(0., dtype=torch.float64), tensor(0., dtype=torch.float64), tensor(0., dtype=torch.float64), tensor(0., dtype=torch.float64), tensor(0., dtype=torch.float64), tensor(0., dtype=torch.float64), tensor(0., dtype=torch.float64), tensor(1., dtype=torch.float64), tensor(0., dtype=torch.float64), tensor(1., dtype=torch.float64), tensor(0., dtype=torch.float64), tensor(0., dtype=torch.float64), tensor(0., dtype=torch.float64), tensor(0., dtype=torch.float64), tensor(0., dtype=torch.float64), tensor(0., dtype=torch.float64), tensor(0., dtype=torch.float64), tensor(0., dtype=torch.float64), tensor(0., dtype=torch.float64), tensor(0., dtype=torch.float64), tensor(0., dtype=torch.float64), tensor(0., dtype=torch.float64), tensor(0., dtype=torch.float64), tensor(1., dtype=torch.float64), tensor(0., dtype=torch.float64), tensor(0., dtype=torch.float64), tensor(0., dtype=torch.float64), tensor(0., dtype=torch.float64), tensor(0., dtype=torch.float64), tensor(0., dtype=torch.float64), tensor(0., dtype=torch.float64), tensor(0., dtype=torch.float64), tensor(0., dtype=torch.float64), tensor(0., dtype=torch.float64), tensor(0., dtype=torch.float64), tensor(0., dtype=torch.float64), tensor(0., dtype=torch.float64), tensor(0., dtype=torch.float64), tensor(0., dtype=torch.float64), tensor(0., dtype=torch.float64), tensor(0., dtype=torch.float64), tensor(0., dtype=torch.float64), tensor(0., dtype=torch.float64), tensor(0., dtype=torch.float64), tensor(0., dtype=torch.float64), tensor(0., dtype=torch.float64), tensor(0., dtype=torch.float64), tensor(0., dtype=torch.float64), tensor(0., dtype=torch.float64), tensor(0., dtype=torch.float64), tensor(0., dtype=torch.float64), tensor(0., dtype=torch.float64), tensor(0., dtype=torch.float64), tensor(0., dtype=torch.float64), tensor(0., dtype=torch.float64), tensor(0., dtype=torch.float64), tensor(0., dtype=torch.float64), tensor(0., dtype=torch.float64), tensor(0., dtype=torch.float64), tensor(1., dtype=torch.float64), tensor(0., dtype=torch.float64), tensor(0., dtype=torch.float64), tensor(0., dtype=torch.float64), tensor(0., dtype=torch.float64), tensor(0., dtype=torch.float64), tensor(0., dtype=torch.float64), tensor(0., dtype=torch.float64), tensor(0., dtype=torch.float64), tensor(0., dtype=torch.float64), tensor(0., dtype=torch.float64), tensor(0., dtype=torch.float64), tensor(0., dtype=torch.float64), tensor(0., dtype=torch.float64), tensor(0., dtype=torch.float64), tensor(0., dtype=torch.float64), tensor(0., dtype=torch.float64), tensor(1., dtype=torch.float64), tensor(0., dtype=torch.float64), tensor(0., dtype=torch.float64), tensor(0., dtype=torch.float64), tensor(0., dtype=torch.float64), tensor(0., dtype=torch.float64), tensor(0., dtype=torch.float64), tensor(0., dtype=torch.float64), tensor(0., dtype=torch.float64), tensor(0., dtype=torch.float64), tensor(0., dtype=torch.float64), tensor(0., dtype=torch.float64), tensor(0., dtype=torch.float64), tensor(1., dtype=torch.float64), tensor(0., dtype=torch.float64), tensor(0., dtype=torch.float64), tensor(0., dtype=torch.float64), tensor(0., dtype=torch.float64), tensor(0., dtype=torch.float64), tensor(0., dtype=torch.float64), tensor(0., dtype=torch.float64), tensor(0., dtype=torch.float64), tensor(0., dtype=torch.float64), tensor(0., dtype=torch.float64), tensor(0., dtype=torch.float64), tensor(0., dtype=torch.float64), tensor(1., dtype=torch.float64), tensor(0., dtype=torch.float64), tensor(0., dtype=torch.float64), tensor(0., dtype=torch.float64), tensor(0., dtype=torch.float64), tensor(0., dtype=torch.float64), tensor(0., dtype=torch.float64), tensor(0., dtype=torch.float64), tensor(0., dtype=torch.float64), tensor(0., dtype=torch.float64), tensor(0., dtype=torch.float64), tensor(0., dtype=torch.float64), tensor(0., dtype=torch.float64), tensor(0., dtype=torch.float64), tensor(0., dtype=torch.float64), tensor(0., dtype=torch.float64), tensor(0., dtype=torch.float64), tensor(0., dtype=torch.float64), tensor(0., dtype=torch.float64), tensor(0., dtype=torch.float64), tensor(0., dtype=torch.float64), tensor(0., dtype=torch.float64), tensor(0., dtype=torch.float64), tensor(0., dtype=torch.float64), tensor(0., dtype=torch.float64), tensor(0., dtype=torch.float64), tensor(0., dtype=torch.float64), tensor(0., dtype=torch.float64), tensor(0., dtype=torch.float64), tensor(0., dtype=torch.float64), tensor(0., dtype=torch.float64), tensor(0., dtype=torch.float64), tensor(0., dtype=torch.float64), tensor(0., dtype=torch.float64), tensor(0., dtype=torch.float64), tensor(0., dtype=torch.float64), tensor(0., dtype=torch.float64), tensor(0., dtype=torch.float64), tensor(0., dtype=torch.float64), tensor(0., dtype=torch.float64), tensor(0., dtype=torch.float64), tensor(0., dtype=torch.float64), tensor(0., dtype=torch.float64), tensor(0., dtype=torch.float64), tensor(0., dtype=torch.float64), tensor(0., dtype=torch.float64), tensor(0., dtype=torch.float64), tensor(0., dtype=torch.float64), tensor(0., dtype=torch.float64), tensor(0., dtype=torch.float64), tensor(0., dtype=torch.float64), tensor(0., dtype=torch.float64), tensor(0., dtype=torch.float64), tensor(0., dtype=torch.float64), tensor(0., dtype=torch.float64), tensor(0., dtype=torch.float64), tensor(1., dtype=torch.float64), tensor(0., dtype=torch.float64), tensor(0., dtype=torch.float64), tensor(0., dtype=torch.float64), tensor(0., dtype=torch.float64), tensor(0., dtype=torch.float64), tensor(0., dtype=torch.float64), tensor(0., dtype=torch.float64), tensor(0., dtype=torch.float64), tensor(0., dtype=torch.float64), tensor(0., dtype=torch.float64), tensor(0., dtype=torch.float64), tensor(0., dtype=torch.float64), tensor(0., dtype=torch.float64), tensor(0., dtype=torch.float64), tensor(0., dtype=torch.float64), tensor(0., dtype=torch.float64), tensor(0., dtype=torch.float64), tensor(0., dtype=torch.float64), tensor(0., dtype=torch.float64), tensor(0., dtype=torch.float64), tensor(1., dtype=torch.float64), tensor(0., dtype=torch.float64), tensor(0., dtype=torch.float64), tensor(0., dtype=torch.float64), tensor(0., dtype=torch.float64), tensor(1., dtype=torch.float64), tensor(1., dtype=torch.float64), tensor(0., dtype=torch.float64), tensor(0., dtype=torch.float64), tensor(0., dtype=torch.float64), tensor(0., dtype=torch.float64), tensor(0., dtype=torch.float64), tensor(1., dtype=torch.float64), tensor(0., dtype=torch.float64), tensor(0., dtype=torch.float64), tensor(1., dtype=torch.float64), tensor(0., dtype=torch.float64), tensor(0., dtype=torch.float64), tensor(0., dtype=torch.float64), tensor(0., dtype=torch.float64), tensor(0., dtype=torch.float64), tensor(0., dtype=torch.float64), tensor(0., dtype=torch.float64), tensor(0., dtype=torch.float64), tensor(0., dtype=torch.float64), tensor(0., dtype=torch.float64), tensor(0., dtype=torch.float64), tensor(1., dtype=torch.float64), tensor(0., dtype=torch.float64), tensor(0., dtype=torch.float64), tensor(0., dtype=torch.float64), tensor(0., dtype=torch.float64), tensor(0., dtype=torch.float64), tensor(0., dtype=torch.float64), tensor(0., dtype=torch.float64), tensor(0., dtype=torch.float64), tensor(1., dtype=torch.float64), tensor(0., dtype=torch.float64), tensor(0., dtype=torch.float64), tensor(0., dtype=torch.float64), tensor(0., dtype=torch.float64), tensor(0., dtype=torch.float64), tensor(0., dtype=torch.float64), tensor(0., dtype=torch.float64), tensor(0., dtype=torch.float64), tensor(0., dtype=torch.float64), tensor(0., dtype=torch.float64), tensor(0., dtype=torch.float64), tensor(0., dtype=torch.float64), tensor(0., dtype=torch.float64), tensor(0., dtype=torch.float64), tensor(0., dtype=torch.float64), tensor(0., dtype=torch.float64), tensor(0., dtype=torch.float64), tensor(0., dtype=torch.float64), tensor(0., dtype=torch.float64), tensor(0., dtype=torch.float64), tensor(0., dtype=torch.float64), tensor(0., dtype=torch.float64), tensor(0., dtype=torch.float64), tensor(0., dtype=torch.float64), tensor(1., dtype=torch.float64), tensor(0., dtype=torch.float64), tensor(0., dtype=torch.float64), tensor(0., dtype=torch.float64), tensor(0., dtype=torch.float64), tensor(0., dtype=torch.float64), tensor(1., dtype=torch.float64), tensor(0., dtype=torch.float64), tensor(1., dtype=torch.float64), tensor(0., dtype=torch.float64), tensor(1., dtype=torch.float64), tensor(0., dtype=torch.float64), tensor(0., dtype=torch.float64), tensor(0., dtype=torch.float64), tensor(0., dtype=torch.float64), tensor(0., dtype=torch.float64), tensor(0., dtype=torch.float64), tensor(0., dtype=torch.float64), tensor(0., dtype=torch.float64), tensor(0., dtype=torch.float64), tensor(0., dtype=torch.float64), tensor(0., dtype=torch.float64), tensor(0., dtype=torch.float64), tensor(0., dtype=torch.float64), tensor(0., dtype=torch.float64), tensor(0., dtype=torch.float64), tensor(1., dtype=torch.float64), tensor(0., dtype=torch.float64), tensor(0., dtype=torch.float64), tensor(0., dtype=torch.float64), tensor(0., dtype=torch.float64), tensor(0., dtype=torch.float64), tensor(0., dtype=torch.float64), tensor(0., dtype=torch.float64), tensor(0., dtype=torch.float64), tensor(0., dtype=torch.float64), tensor(0., dtype=torch.float64), tensor(0., dtype=torch.float64), tensor(0., dtype=torch.float64), tensor(0., dtype=torch.float64), tensor(0., dtype=torch.float64), tensor(0., dtype=torch.float64), tensor(0., dtype=torch.float64), tensor(0., dtype=torch.float64), tensor(0., dtype=torch.float64), tensor(1., dtype=torch.float64), tensor(0., dtype=torch.float64), tensor(0., dtype=torch.float64), tensor(0., dtype=torch.float64), tensor(0., dtype=torch.float64), tensor(0., dtype=torch.float64), tensor(0., dtype=torch.float64), tensor(0., dtype=torch.float64), tensor(0., dtype=torch.float64), tensor(0., dtype=torch.float64), tensor(0., dtype=torch.float64), tensor(0., dtype=torch.float64), tensor(0., dtype=torch.float64), tensor(0., dtype=torch.float64), tensor(0., dtype=torch.float64), tensor(0., dtype=torch.float64), tensor(0., dtype=torch.float64), tensor(0., dtype=torch.float64), tensor(0., dtype=torch.float64), tensor(0., dtype=torch.float64), tensor(0., dtype=torch.float64), tensor(0., dtype=torch.float64), tensor(0., dtype=torch.float64), tensor(0., dtype=torch.float64), tensor(0., dtype=torch.float64), tensor(0., dtype=torch.float64), tensor(0., dtype=torch.float64), tensor(0., dtype=torch.float64), tensor(1., dtype=torch.float64), tensor(0., dtype=torch.float64), tensor(0., dtype=torch.float64), tensor(1., dtype=torch.float64), tensor(0., dtype=torch.float64), tensor(1., dtype=torch.float64), tensor(0., dtype=torch.float64), tensor(0., dtype=torch.float64), tensor(1., dtype=torch.float64), tensor(0., dtype=torch.float64), tensor(0., dtype=torch.float64), tensor(0., dtype=torch.float64), tensor(0., dtype=torch.float64), tensor(0., dtype=torch.float64), tensor(0., dtype=torch.float64), tensor(0., dtype=torch.float64), tensor(0., dtype=torch.float64), tensor(0., dtype=torch.float64), tensor(0., dtype=torch.float64), tensor(0., dtype=torch.float64), tensor(0., dtype=torch.float64), tensor(1., dtype=torch.float64), tensor(0., dtype=torch.float64), tensor(1., dtype=torch.float64), tensor(0., dtype=torch.float64), tensor(0., dtype=torch.float64), tensor(0., dtype=torch.float64), tensor(0., dtype=torch.float64), tensor(1., dtype=torch.float64), tensor(0., dtype=torch.float64), tensor(0., dtype=torch.float64), tensor(0., dtype=torch.float64), tensor(0., dtype=torch.float64), tensor(0., dtype=torch.float64), tensor(0., dtype=torch.float64), tensor(0., dtype=torch.float64), tensor(0., dtype=torch.float64), tensor(0., dtype=torch.float64), tensor(0., dtype=torch.float64), tensor(0., dtype=torch.float64), tensor(0., dtype=torch.float64), tensor(0., dtype=torch.float64), tensor(0., dtype=torch.float64), tensor(0., dtype=torch.float64), tensor(0., dtype=torch.float64), tensor(0., dtype=torch.float64), tensor(0., dtype=torch.float64), tensor(0., dtype=torch.float64), tensor(0., dtype=torch.float64), tensor(0., dtype=torch.float64), tensor(0., dtype=torch.float64), tensor(0., dtype=torch.float64), tensor(0., dtype=torch.float64), tensor(0., dtype=torch.float64), tensor(0., dtype=torch.float64), tensor(0., dtype=torch.float64), tensor(0., dtype=torch.float64), tensor(0., dtype=torch.float64), tensor(0., dtype=torch.float64), tensor(0., dtype=torch.float64), tensor(0., dtype=torch.float64), tensor(0., dtype=torch.float64), tensor(0., dtype=torch.float64), tensor(0., dtype=torch.float64), tensor(0., dtype=torch.float64), tensor(0., dtype=torch.float64), tensor(0., dtype=torch.float64), tensor(0., dtype=torch.float64), tensor(0., dtype=torch.float64), tensor(0., dtype=torch.float64), tensor(0., dtype=torch.float64), tensor(0., dtype=torch.float64), tensor(0., dtype=torch.float64), tensor(0., dtype=torch.float64), tensor(0., dtype=torch.float64), tensor(0., dtype=torch.float64), tensor(0., dtype=torch.float64), tensor(0., dtype=torch.float64), tensor(0., dtype=torch.float64), tensor(0., dtype=torch.float64), tensor(0., dtype=torch.float64), tensor(0., dtype=torch.float64), tensor(0., dtype=torch.float64), tensor(0., dtype=torch.float64), tensor(0., dtype=torch.float64), tensor(0., dtype=torch.float64), tensor(0., dtype=torch.float64), tensor(0., dtype=torch.float64), tensor(0., dtype=torch.float64), tensor(0., dtype=torch.float64), tensor(0., dtype=torch.float64), tensor(0., dtype=torch.float64), tensor(0., dtype=torch.float64), tensor(0., dtype=torch.float64), tensor(0., dtype=torch.float64), tensor(0., dtype=torch.float64), tensor(1., dtype=torch.float64), tensor(0., dtype=torch.float64), tensor(0., dtype=torch.float64), tensor(0., dtype=torch.float64), tensor(0., dtype=torch.float64), tensor(0., dtype=torch.float64), tensor(1., dtype=torch.float64), tensor(0., dtype=torch.float64), tensor(0., dtype=torch.float64), tensor(0., dtype=torch.float64), tensor(0., dtype=torch.float64), tensor(1., dtype=torch.float64), tensor(1., dtype=torch.float64), tensor(0., dtype=torch.float64), tensor(0., dtype=torch.float64), tensor(0., dtype=torch.float64), tensor(1., dtype=torch.float64), tensor(0., dtype=torch.float64), tensor(0., dtype=torch.float64), tensor(0., dtype=torch.float64), tensor(0., dtype=torch.float64), tensor(0., dtype=torch.float64), tensor(0., dtype=torch.float64), tensor(0., dtype=torch.float64), tensor(0., dtype=torch.float64), tensor(0., dtype=torch.float64), tensor(0., dtype=torch.float64), tensor(0., dtype=torch.float64), tensor(0., dtype=torch.float64), tensor(0., dtype=torch.float64), tensor(0., dtype=torch.float64), tensor(0., dtype=torch.float64), tensor(0., dtype=torch.float64), tensor(0., dtype=torch.float64), tensor(0., dtype=torch.float64), tensor(0., dtype=torch.float64), tensor(0., dtype=torch.float64), tensor(0., dtype=torch.float64), tensor(0., dtype=torch.float64), tensor(0., dtype=torch.float64), tensor(0., dtype=torch.float64), tensor(1., dtype=torch.float64), tensor(1., dtype=torch.float64), tensor(0., dtype=torch.float64), tensor(0., dtype=torch.float64), tensor(0., dtype=torch.float64), tensor(0., dtype=torch.float64), tensor(0., dtype=torch.float64), tensor(1., dtype=torch.float64), tensor(0., dtype=torch.float64), tensor(1., dtype=torch.float64), tensor(0., dtype=torch.float64), tensor(0., dtype=torch.float64), tensor(0., dtype=torch.float64), tensor(1., dtype=torch.float64), tensor(1., dtype=torch.float64), tensor(0., dtype=torch.float64), tensor(0., dtype=torch.float64), tensor(0., dtype=torch.float64), tensor(0., dtype=torch.float64), tensor(0., dtype=torch.float64), tensor(0., dtype=torch.float64), tensor(0., dtype=torch.float64), tensor(0., dtype=torch.float64), tensor(0., dtype=torch.float64), tensor(0., dtype=torch.float64), tensor(0., dtype=torch.float64), tensor(0., dtype=torch.float64), tensor(0., dtype=torch.float64), tensor(0., dtype=torch.float64), tensor(0., dtype=torch.float64), tensor(0., dtype=torch.float64), tensor(0., dtype=torch.float64), tensor(0., dtype=torch.float64), tensor(0., dtype=torch.float64), tensor(0., dtype=torch.float64), tensor(0., dtype=torch.float64), tensor(0., dtype=torch.float64), tensor(0., dtype=torch.float64), tensor(0., dtype=torch.float64), tensor(0., dtype=torch.float64), tensor(0., dtype=torch.float64), tensor(0., dtype=torch.float64), tensor(0., dtype=torch.float64), tensor(0., dtype=torch.float64), tensor(0., dtype=torch.float64), tensor(0., dtype=torch.float64), tensor(0., dtype=torch.float64), tensor(0., dtype=torch.float64), tensor(0., dtype=torch.float64), tensor(0., dtype=torch.float64), tensor(0., dtype=torch.float64), tensor(0., dtype=torch.float64), tensor(1., dtype=torch.float64), tensor(0., dtype=torch.float64), tensor(0., dtype=torch.float64), tensor(0., dtype=torch.float64), tensor(0., dtype=torch.float64), tensor(1., dtype=torch.float64), tensor(0., dtype=torch.float64), tensor(0., dtype=torch.float64), tensor(0., dtype=torch.float64), tensor(0., dtype=torch.float64), tensor(0., dtype=torch.float64), tensor(0., dtype=torch.float64), tensor(0., dtype=torch.float64), tensor(0., dtype=torch.float64), tensor(0., dtype=torch.float64), tensor(0., dtype=torch.float64), tensor(0., dtype=torch.float64), tensor(0., dtype=torch.float64), tensor(0., dtype=torch.float64), tensor(0., dtype=torch.float64), tensor(0., dtype=torch.float64), tensor(0., dtype=torch.float64), tensor(0., dtype=torch.float64), tensor(0., dtype=torch.float64), tensor(0., dtype=torch.float64), tensor(0., dtype=torch.float64), tensor(0., dtype=torch.float64), tensor(0., dtype=torch.float64), tensor(0., dtype=torch.float64), tensor(0., dtype=torch.float64), tensor(0., dtype=torch.float64), tensor(0., dtype=torch.float64), tensor(0., dtype=torch.float64), tensor(0., dtype=torch.float64), tensor(0., dtype=torch.float64), tensor(0., dtype=torch.float64), tensor(0., dtype=torch.float64), tensor(0., dtype=torch.float64), tensor(0., dtype=torch.float64), tensor(0., dtype=torch.float64), tensor(0., dtype=torch.float64), tensor(0., dtype=torch.float64), tensor(0., dtype=torch.float64), tensor(0., dtype=torch.float64), tensor(0., dtype=torch.float64), tensor(0., dtype=torch.float64), tensor(0., dtype=torch.float64), tensor(0., dtype=torch.float64), tensor(0., dtype=torch.float64), tensor(0., dtype=torch.float64), tensor(0., dtype=torch.float64), tensor(0., dtype=torch.float64), tensor(0., dtype=torch.float64), tensor(0., dtype=torch.float64), tensor(0., dtype=torch.float64), tensor(1., dtype=torch.float64), tensor(0., dtype=torch.float64), tensor(0., dtype=torch.float64), tensor(0., dtype=torch.float64), tensor(0., dtype=torch.float64), tensor(0., dtype=torch.float64), tensor(0., dtype=torch.float64), tensor(0., dtype=torch.float64), tensor(0., dtype=torch.float64), tensor(1., dtype=torch.float64), tensor(0., dtype=torch.float64), tensor(0., dtype=torch.float64), tensor(0., dtype=torch.float64), tensor(0., dtype=torch.float64), tensor(0., dtype=torch.float64), tensor(0., dtype=torch.float64), tensor(0., dtype=torch.float64), tensor(0., dtype=torch.float64), tensor(0., dtype=torch.float64), tensor(0., dtype=torch.float64), tensor(0., dtype=torch.float64), tensor(0., dtype=torch.float64), tensor(0., dtype=torch.float64), tensor(0., dtype=torch.float64), tensor(0., dtype=torch.float64), tensor(0., dtype=torch.float64), tensor(0., dtype=torch.float64), tensor(0., dtype=torch.float64), tensor(0., dtype=torch.float64), tensor(0., dtype=torch.float64), tensor(0., dtype=torch.float64), tensor(0., dtype=torch.float64), tensor(0., dtype=torch.float64), tensor(0., dtype=torch.float64), tensor(0., dtype=torch.float64), tensor(0., dtype=torch.float64), tensor(0., dtype=torch.float64), tensor(0., dtype=torch.float64), tensor(1., dtype=torch.float64), tensor(0., dtype=torch.float64), tensor(0., dtype=torch.float64), tensor(0., dtype=torch.float64), tensor(0., dtype=torch.float64), tensor(0., dtype=torch.float64), tensor(0., dtype=torch.float64), tensor(0., dtype=torch.float64), tensor(0., dtype=torch.float64), tensor(0., dtype=torch.float64), tensor(0., dtype=torch.float64), tensor(0., dtype=torch.float64), tensor(0., dtype=torch.float64), tensor(0., dtype=torch.float64), tensor(0., dtype=torch.float64), tensor(0., dtype=torch.float64), tensor(0., dtype=torch.float64), tensor(0., dtype=torch.float64), tensor(0., dtype=torch.float64), tensor(0., dtype=torch.float64), tensor(0., dtype=torch.float64), tensor(0., dtype=torch.float64), tensor(0., dtype=torch.float64), tensor(0., dtype=torch.float64), tensor(0., dtype=torch.float64), tensor(0., dtype=torch.float64), tensor(0., dtype=torch.float64), tensor(0., dtype=torch.float64), tensor(0., dtype=torch.float64), tensor(0., dtype=torch.float64), tensor(0., dtype=torch.float64), tensor(0., dtype=torch.float64), tensor(0., dtype=torch.float64), tensor(0., dtype=torch.float64), tensor(0., dtype=torch.float64), tensor(1., dtype=torch.float64), tensor(0., dtype=torch.float64), tensor(0., dtype=torch.float64), tensor(1., dtype=torch.float64), tensor(0., dtype=torch.float64), tensor(0., dtype=torch.float64), tensor(0., dtype=torch.float64), tensor(0., dtype=torch.float64), tensor(0., dtype=torch.float64), tensor(0., dtype=torch.float64), tensor(0., dtype=torch.float64), tensor(0., dtype=torch.float64), tensor(0., dtype=torch.float64), tensor(0., dtype=torch.float64), tensor(0., dtype=torch.float64), tensor(0., dtype=torch.float64), tensor(0., dtype=torch.float64), tensor(0., dtype=torch.float64), tensor(0., dtype=torch.float64), tensor(0., dtype=torch.float64), tensor(0., dtype=torch.float64), tensor(0., dtype=torch.float64), tensor(0., dtype=torch.float64), tensor(0., dtype=torch.float64), tensor(0., dtype=torch.float64), tensor(1., dtype=torch.float64), tensor(0., dtype=torch.float64), tensor(0., dtype=torch.float64), tensor(0., dtype=torch.float64), tensor(0., dtype=torch.float64), tensor(0., dtype=torch.float64), tensor(0., dtype=torch.float64), tensor(0., dtype=torch.float64), tensor(0., dtype=torch.float64), tensor(0., dtype=torch.float64), tensor(0., dtype=torch.float64), tensor(0., dtype=torch.float64), tensor(0., dtype=torch.float64), tensor(0., dtype=torch.float64), tensor(0., dtype=torch.float64), tensor(0., dtype=torch.float64), tensor(0., dtype=torch.float64), tensor(0., dtype=torch.float64), tensor(0., dtype=torch.float64), tensor(0., dtype=torch.float64), tensor(0., dtype=torch.float64), tensor(0., dtype=torch.float64), tensor(0., dtype=torch.float64), tensor(0., dtype=torch.float64), tensor(0., dtype=torch.float64), tensor(0., dtype=torch.float64), tensor(0., dtype=torch.float64), tensor(0., dtype=torch.float64), tensor(1., dtype=torch.float64), tensor(0., dtype=torch.float64), tensor(0., dtype=torch.float64), tensor(0., dtype=torch.float64), tensor(0., dtype=torch.float64), tensor(0., dtype=torch.float64), tensor(1., dtype=torch.float64), tensor(0., dtype=torch.float64), tensor(0., dtype=torch.float64), tensor(0., dtype=torch.float64), tensor(0., dtype=torch.float64), tensor(0., dtype=torch.float64), tensor(0., dtype=torch.float64), tensor(0., dtype=torch.float64), tensor(0., dtype=torch.float64), tensor(0., dtype=torch.float64), tensor(0., dtype=torch.float64), tensor(0., dtype=torch.float64), tensor(0., dtype=torch.float64), tensor(0., dtype=torch.float64), tensor(0., dtype=torch.float64), tensor(0., dtype=torch.float64), tensor(0., dtype=torch.float64), tensor(0., dtype=torch.float64), tensor(0., dtype=torch.float64), tensor(0., dtype=torch.float64), tensor(0., dtype=torch.float64), tensor(0., dtype=torch.float64), tensor(0., dtype=torch.float64), tensor(0., dtype=torch.float64), tensor(0., dtype=torch.float64), tensor(0., dtype=torch.float64), tensor(0., dtype=torch.float64), tensor(0., dtype=torch.float64), tensor(0., dtype=torch.float64), tensor(0., dtype=torch.float64), tensor(0., dtype=torch.float64), tensor(0., dtype=torch.float64), tensor(0., dtype=torch.float64), tensor(0., dtype=torch.float64), tensor(0., dtype=torch.float64), tensor(1., dtype=torch.float64), tensor(0., dtype=torch.float64), tensor(0., dtype=torch.float64), tensor(0., dtype=torch.float64), tensor(0., dtype=torch.float64), tensor(0., dtype=torch.float64), tensor(0., dtype=torch.float64), tensor(0., dtype=torch.float64), tensor(0., dtype=torch.float64), tensor(0., dtype=torch.float64), tensor(0., dtype=torch.float64), tensor(0., dtype=torch.float64), tensor(0., dtype=torch.float64), tensor(0., dtype=torch.float64), tensor(1., dtype=torch.float64), tensor(0., dtype=torch.float64), tensor(0., dtype=torch.float64), tensor(0., dtype=torch.float64), tensor(0., dtype=torch.float64), tensor(0., dtype=torch.float64), tensor(0., dtype=torch.float64), tensor(0., dtype=torch.float64), tensor(0., dtype=torch.float64), tensor(0., dtype=torch.float64), tensor(0., dtype=torch.float64), tensor(0., dtype=torch.float64), tensor(0., dtype=torch.float64), tensor(0., dtype=torch.float64), tensor(0., dtype=torch.float64), tensor(0., dtype=torch.float64), tensor(0., dtype=torch.float64), tensor(0., dtype=torch.float64), tensor(0., dtype=torch.float64), tensor(0., dtype=torch.float64), tensor(0., dtype=torch.float64), tensor(0., dtype=torch.float64), tensor(0., dtype=torch.float64), tensor(0., dtype=torch.float64), tensor(1., dtype=torch.float64), tensor(0., dtype=torch.float64), tensor(0., dtype=torch.float64), tensor(0., dtype=torch.float64), tensor(0., dtype=torch.float64), tensor(0., dtype=torch.float64), tensor(0., dtype=torch.float64), tensor(0., dtype=torch.float64), tensor(0., dtype=torch.float64), tensor(0., dtype=torch.float64), tensor(0., dtype=torch.float64), tensor(0., dtype=torch.float64), tensor(0., dtype=torch.float64), tensor(0., dtype=torch.float64), tensor(0., dtype=torch.float64), tensor(0., dtype=torch.float64), tensor(0., dtype=torch.float64), tensor(0., dtype=torch.float64), tensor(0., dtype=torch.float64), tensor(0., dtype=torch.float64), tensor(0., dtype=torch.float64), tensor(0., dtype=torch.float64), tensor(0., dtype=torch.float64), tensor(0., dtype=torch.float64), tensor(1., dtype=torch.float64), tensor(0., dtype=torch.float64), tensor(0., dtype=torch.float64), tensor(0., dtype=torch.float64), tensor(0., dtype=torch.float64), tensor(0., dtype=torch.float64), tensor(0., dtype=torch.float64), tensor(0., dtype=torch.float64), tensor(1., dtype=torch.float64), tensor(0., dtype=torch.float64), tensor(0., dtype=torch.float64), tensor(0., dtype=torch.float64), tensor(0., dtype=torch.float64), tensor(0., dtype=torch.float64), tensor(0., dtype=torch.float64), tensor(0., dtype=torch.float64), tensor(0., dtype=torch.float64), tensor(0., dtype=torch.float64), tensor(0., dtype=torch.float64), tensor(0., dtype=torch.float64), tensor(0., dtype=torch.float64), tensor(0., dtype=torch.float64), tensor(0., dtype=torch.float64), tensor(0., dtype=torch.float64), tensor(0., dtype=torch.float64), tensor(0., dtype=torch.float64), tensor(1., dtype=torch.float64), tensor(0., dtype=torch.float64), tensor(0., dtype=torch.float64), tensor(0., dtype=torch.float64), tensor(0., dtype=torch.float64), tensor(0., dtype=torch.float64), tensor(0., dtype=torch.float64), tensor(0., dtype=torch.float64), tensor(0., dtype=torch.float64), tensor(0., dtype=torch.float64), tensor(0., dtype=torch.float64), tensor(0., dtype=torch.float64), tensor(0., dtype=torch.float64), tensor(0., dtype=torch.float64), tensor(0., dtype=torch.float64), tensor(0., dtype=torch.float64), tensor(1., dtype=torch.float64), tensor(0., dtype=torch.float64), tensor(0., dtype=torch.float64), tensor(1., dtype=torch.float64), tensor(0., dtype=torch.float64), tensor(0., dtype=torch.float64), tensor(0., dtype=torch.float64), tensor(0., dtype=torch.float64), tensor(0., dtype=torch.float64), tensor(0., dtype=torch.float64), tensor(0., dtype=torch.float64), tensor(0., dtype=torch.float64), tensor(0., dtype=torch.float64), tensor(0., dtype=torch.float64), tensor(0., dtype=torch.float64), tensor(0., dtype=torch.float64), tensor(0., dtype=torch.float64), tensor(0., dtype=torch.float64), tensor(0., dtype=torch.float64), tensor(0., dtype=torch.float64), tensor(0., dtype=torch.float64), tensor(0., dtype=torch.float64), tensor(0., dtype=torch.float64), tensor(0., dtype=torch.float64), tensor(0., dtype=torch.float64), tensor(0., dtype=torch.float64), tensor(0., dtype=torch.float64), tensor(0., dtype=torch.float64), tensor(0., dtype=torch.float64), tensor(0., dtype=torch.float64), tensor(0., dtype=torch.float64), tensor(0., dtype=torch.float64), tensor(0., dtype=torch.float64), tensor(1., dtype=torch.float64), tensor(0., dtype=torch.float64), tensor(0., dtype=torch.float64), tensor(0., dtype=torch.float64), tensor(0., dtype=torch.float64), tensor(0., dtype=torch.float64), tensor(0., dtype=torch.float64), tensor(0., dtype=torch.float64), tensor(0., dtype=torch.float64), tensor(0., dtype=torch.float64), tensor(0., dtype=torch.float64), tensor(0., dtype=torch.float64), tensor(0., dtype=torch.float64), tensor(0., dtype=torch.float64), tensor(0., dtype=torch.float64), tensor(0., dtype=torch.float64), tensor(0., dtype=torch.float64), tensor(0., dtype=torch.float64), tensor(0., dtype=torch.float64), tensor(0., dtype=torch.float64), tensor(0., dtype=torch.float64), tensor(0., dtype=torch.float64), tensor(0., dtype=torch.float64), tensor(0., dtype=torch.float64), tensor(0., dtype=torch.float64), tensor(0., dtype=torch.float64), tensor(0., dtype=torch.float64), tensor(0., dtype=torch.float64), tensor(0., dtype=torch.float64), tensor(0., dtype=torch.float64), tensor(0., dtype=torch.float64), tensor(0., dtype=torch.float64), tensor(0., dtype=torch.float64), tensor(0., dtype=torch.float64), tensor(0., dtype=torch.float64), tensor(0., dtype=torch.float64), tensor(0., dtype=torch.float64), tensor(0., dtype=torch.float64), tensor(0., dtype=torch.float64), tensor(0., dtype=torch.float64), tensor(0., dtype=torch.float64), tensor(0., dtype=torch.float64), tensor(0., dtype=torch.float64), tensor(0., dtype=torch.float64), tensor(0., dtype=torch.float64), tensor(0., dtype=torch.float64), tensor(0., dtype=torch.float64), tensor(0., dtype=torch.float64), tensor(0., dtype=torch.float64), tensor(0., dtype=torch.float64), tensor(0., dtype=torch.float64), tensor(0., dtype=torch.float64), tensor(1., dtype=torch.float64), tensor(0., dtype=torch.float64), tensor(0., dtype=torch.float64), tensor(0., dtype=torch.float64), tensor(0., dtype=torch.float64), tensor(0., dtype=torch.float64), tensor(0., dtype=torch.float64), tensor(0., dtype=torch.float64), tensor(0., dtype=torch.float64), tensor(0., dtype=torch.float64), tensor(0., dtype=torch.float64), tensor(0., dtype=torch.float64), tensor(0., dtype=torch.float64), tensor(0., dtype=torch.float64), tensor(0., dtype=torch.float64), tensor(0., dtype=torch.float64), tensor(0., dtype=torch.float64), tensor(0., dtype=torch.float64), tensor(0., dtype=torch.float64), tensor(0., dtype=torch.float64), tensor(0., dtype=torch.float64), tensor(0., dtype=torch.float64), tensor(0., dtype=torch.float64), tensor(0., dtype=torch.float64), tensor(0., dtype=torch.float64), tensor(0., dtype=torch.float64), tensor(0., dtype=torch.float64), tensor(0., dtype=torch.float64), tensor(0., dtype=torch.float64), tensor(0., dtype=torch.float64), tensor(0., dtype=torch.float64), tensor(0., dtype=torch.float64), tensor(0., dtype=torch.float64), tensor(0., dtype=torch.float64), tensor(0., dtype=torch.float64), tensor(0., dtype=torch.float64), tensor(0., dtype=torch.float64), tensor(0., dtype=torch.float64), tensor(0., dtype=torch.float64), tensor(0., dtype=torch.float64), tensor(0., dtype=torch.float64), tensor(0., dtype=torch.float64), tensor(0., dtype=torch.float64), tensor(0., dtype=torch.float64), tensor(0., dtype=torch.float64), tensor(0., dtype=torch.float64), tensor(0., dtype=torch.float64), tensor(0., dtype=torch.float64), tensor(0., dtype=torch.float64), tensor(0., dtype=torch.float64), tensor(0., dtype=torch.float64), tensor(0., dtype=torch.float64), tensor(0., dtype=torch.float64), tensor(0., dtype=torch.float64), tensor(0., dtype=torch.float64), tensor(0., dtype=torch.float64), tensor(0., dtype=torch.float64), tensor(0., dtype=torch.float64), tensor(0., dtype=torch.float64), tensor(0., dtype=torch.float64), tensor(0., dtype=torch.float64), tensor(0., dtype=torch.float64), tensor(0., dtype=torch.float64), tensor(0., dtype=torch.float64), tensor(0., dtype=torch.float64), tensor(0., dtype=torch.float64), tensor(1., dtype=torch.float64), tensor(0., dtype=torch.float64), tensor(0., dtype=torch.float64), tensor(0., dtype=torch.float64), tensor(0., dtype=torch.float64), tensor(0., dtype=torch.float64), tensor(0., dtype=torch.float64), tensor(0., dtype=torch.float64), tensor(0., dtype=torch.float64), tensor(1., dtype=torch.float64), tensor(1., dtype=torch.float64), tensor(0., dtype=torch.float64), tensor(0., dtype=torch.float64), tensor(0., dtype=torch.float64), tensor(1., dtype=torch.float64), tensor(0., dtype=torch.float64), tensor(0., dtype=torch.float64), tensor(0., dtype=torch.float64), tensor(0., dtype=torch.float64), tensor(0., dtype=torch.float64), tensor(0., dtype=torch.float64), tensor(0., dtype=torch.float64), tensor(0., dtype=torch.float64), tensor(0., dtype=torch.float64), tensor(0., dtype=torch.float64), tensor(0., dtype=torch.float64), tensor(0., dtype=torch.float64), tensor(0., dtype=torch.float64), tensor(0., dtype=torch.float64), tensor(1., dtype=torch.float64), tensor(0., dtype=torch.float64), tensor(0., dtype=torch.float64), tensor(0., dtype=torch.float64), tensor(0., dtype=torch.float64), tensor(0., dtype=torch.float64), tensor(0., dtype=torch.float64), tensor(1., dtype=torch.float64), tensor(0., dtype=torch.float64), tensor(0., dtype=torch.float64), tensor(0., dtype=torch.float64), tensor(0., dtype=torch.float64), tensor(0., dtype=torch.float64), tensor(0., dtype=torch.float64), tensor(0., dtype=torch.float64), tensor(0., dtype=torch.float64), tensor(0., dtype=torch.float64), tensor(0., dtype=torch.float64), tensor(0., dtype=torch.float64), tensor(0., dtype=torch.float64), tensor(0., dtype=torch.float64), tensor(0., dtype=torch.float64), tensor(0., dtype=torch.float64), tensor(0., dtype=torch.float64), tensor(0., dtype=torch.float64), tensor(0., dtype=torch.float64), tensor(0., dtype=torch.float64), tensor(0., dtype=torch.float64), tensor(0., dtype=torch.float64), tensor(0., dtype=torch.float64), tensor(0., dtype=torch.float64), tensor(0., dtype=torch.float64), tensor(0., dtype=torch.float64), tensor(0., dtype=torch.float64), tensor(0., dtype=torch.float64), tensor(0., dtype=torch.float64), tensor(1., dtype=torch.float64), tensor(1., dtype=torch.float64), tensor(0., dtype=torch.float64), tensor(0., dtype=torch.float64), tensor(0., dtype=torch.float64), tensor(0., dtype=torch.float64), tensor(0., dtype=torch.float64), tensor(0., dtype=torch.float64), tensor(0., dtype=torch.float64), tensor(0., dtype=torch.float64), tensor(0., dtype=torch.float64), tensor(0., dtype=torch.float64), tensor(0., dtype=torch.float64), tensor(0., dtype=torch.float64), tensor(0., dtype=torch.float64), tensor(0., dtype=torch.float64), tensor(0., dtype=torch.float64), tensor(0., dtype=torch.float64), tensor(0., dtype=torch.float64), tensor(0., dtype=torch.float64), tensor(0., dtype=torch.float64), tensor(0., dtype=torch.float64), tensor(0., dtype=torch.float64), tensor(0., dtype=torch.float64), tensor(0., dtype=torch.float64), tensor(1., dtype=torch.float64), tensor(1., dtype=torch.float64), tensor(0., dtype=torch.float64), tensor(0., dtype=torch.float64), tensor(0., dtype=torch.float64), tensor(0., dtype=torch.float64), tensor(0., dtype=torch.float64), tensor(0., dtype=torch.float64), tensor(0., dtype=torch.float64), tensor(1., dtype=torch.float64), tensor(0., dtype=torch.float64), tensor(0., dtype=torch.float64), tensor(0., dtype=torch.float64), tensor(1., dtype=torch.float64), tensor(0., dtype=torch.float64), tensor(0., dtype=torch.float64), tensor(0., dtype=torch.float64), tensor(0., dtype=torch.float64), tensor(0., dtype=torch.float64), tensor(0., dtype=torch.float64), tensor(0., dtype=torch.float64), tensor(1., dtype=torch.float64), tensor(0., dtype=torch.float64), tensor(1., dtype=torch.float64), tensor(0., dtype=torch.float64), tensor(0., dtype=torch.float64), tensor(0., dtype=torch.float64), tensor(0., dtype=torch.float64), tensor(0., dtype=torch.float64), tensor(0., dtype=torch.float64), tensor(0., dtype=torch.float64), tensor(0., dtype=torch.float64), tensor(0., dtype=torch.float64), tensor(0., dtype=torch.float64), tensor(0., dtype=torch.float64), tensor(0., dtype=torch.float64), tensor(0., dtype=torch.float64), tensor(0., dtype=torch.float64), tensor(0., dtype=torch.float64), tensor(0., dtype=torch.float64), tensor(0., dtype=torch.float64), tensor(0., dtype=torch.float64), tensor(0., dtype=torch.float64), tensor(0., dtype=torch.float64), tensor(0., dtype=torch.float64), tensor(0., dtype=torch.float64), tensor(0., dtype=torch.float64), tensor(0., dtype=torch.float64), tensor(0., dtype=torch.float64), tensor(0., dtype=torch.float64), tensor(0., dtype=torch.float64), tensor(0., dtype=torch.float64), tensor(0., dtype=torch.float64), tensor(0., dtype=torch.float64), tensor(0., dtype=torch.float64), tensor(0., dtype=torch.float64), tensor(0., dtype=torch.float64), tensor(0., dtype=torch.float64), tensor(1., dtype=torch.float64), tensor(0., dtype=torch.float64), tensor(0., dtype=torch.float64), tensor(0., dtype=torch.float64), tensor(0., dtype=torch.float64), tensor(1., dtype=torch.float64), tensor(0., dtype=torch.float64), tensor(0., dtype=torch.float64), tensor(0., dtype=torch.float64), tensor(0., dtype=torch.float64), tensor(0., dtype=torch.float64), tensor(0., dtype=torch.float64), tensor(0., dtype=torch.float64), tensor(0., dtype=torch.float64), tensor(0., dtype=torch.float64), tensor(0., dtype=torch.float64), tensor(0., dtype=torch.float64), tensor(0., dtype=torch.float64), tensor(0., dtype=torch.float64), tensor(0., dtype=torch.float64), tensor(0., dtype=torch.float64), tensor(1., dtype=torch.float64), tensor(0., dtype=torch.float64), tensor(0., dtype=torch.float64), tensor(0., dtype=torch.float64), tensor(0., dtype=torch.float64), tensor(0., dtype=torch.float64), tensor(1., dtype=torch.float64), tensor(0., dtype=torch.float64), tensor(0., dtype=torch.float64), tensor(0., dtype=torch.float64), tensor(0., dtype=torch.float64), tensor(1., dtype=torch.float64), tensor(0., dtype=torch.float64), tensor(1., dtype=torch.float64), tensor(1., dtype=torch.float64), tensor(0., dtype=torch.float64), tensor(0., dtype=torch.float64), tensor(1., dtype=torch.float64), tensor(0., dtype=torch.float64), tensor(0., dtype=torch.float64), tensor(0., dtype=torch.float64), tensor(0., dtype=torch.float64), tensor(0., dtype=torch.float64), tensor(0., dtype=torch.float64), tensor(0., dtype=torch.float64), tensor(0., dtype=torch.float64), tensor(0., dtype=torch.float64), tensor(0., dtype=torch.float64), tensor(0., dtype=torch.float64), tensor(0., dtype=torch.float64), tensor(0., dtype=torch.float64), tensor(0., dtype=torch.float64), tensor(0., dtype=torch.float64), tensor(0., dtype=torch.float64), tensor(0., dtype=torch.float64), tensor(0., dtype=torch.float64), tensor(1., dtype=torch.float64), tensor(0., dtype=torch.float64), tensor(0., dtype=torch.float64), tensor(0., dtype=torch.float64), tensor(0., dtype=torch.float64), tensor(0., dtype=torch.float64), tensor(0., dtype=torch.float64), tensor(0., dtype=torch.float64), tensor(0., dtype=torch.float64), tensor(0., dtype=torch.float64), tensor(0., dtype=torch.float64), tensor(0., dtype=torch.float64), tensor(1., dtype=torch.float64), tensor(0., dtype=torch.float64), tensor(0., dtype=torch.float64), tensor(0., dtype=torch.float64), tensor(0., dtype=torch.float64), tensor(0., dtype=torch.float64), tensor(0., dtype=torch.float64), tensor(0., dtype=torch.float64), tensor(0., dtype=torch.float64), tensor(1., dtype=torch.float64), tensor(0., dtype=torch.float64), tensor(0., dtype=torch.float64), tensor(0., dtype=torch.float64), tensor(0., dtype=torch.float64), tensor(0., dtype=torch.float64), tensor(0., dtype=torch.float64), tensor(0., dtype=torch.float64), tensor(0., dtype=torch.float64), tensor(0., dtype=torch.float64), tensor(0., dtype=torch.float64), tensor(0., dtype=torch.float64), tensor(0., dtype=torch.float64), tensor(0., dtype=torch.float64), tensor(0., dtype=torch.float64), tensor(0., dtype=torch.float64), tensor(0., dtype=torch.float64), tensor(0., dtype=torch.float64), tensor(0., dtype=torch.float64), tensor(0., dtype=torch.float64), tensor(1., dtype=torch.float64), tensor(0., dtype=torch.float64), tensor(0., dtype=torch.float64), tensor(1., dtype=torch.float64), tensor(0., dtype=torch.float64), tensor(0., dtype=torch.float64), tensor(1., dtype=torch.float64), tensor(0., dtype=torch.float64), tensor(0., dtype=torch.float64), tensor(0., dtype=torch.float64), tensor(0., dtype=torch.float64), tensor(0., dtype=torch.float64), tensor(0., dtype=torch.float64), tensor(0., dtype=torch.float64), tensor(0., dtype=torch.float64), tensor(0., dtype=torch.float64), tensor(0., dtype=torch.float64), tensor(0., dtype=torch.float64), tensor(0., dtype=torch.float64), tensor(0., dtype=torch.float64), tensor(0., dtype=torch.float64), tensor(0., dtype=torch.float64), tensor(0., dtype=torch.float64), tensor(0., dtype=torch.float64), tensor(0., dtype=torch.float64), tensor(0., dtype=torch.float64), tensor(0., dtype=torch.float64), tensor(0., dtype=torch.float64), tensor(0., dtype=torch.float64), tensor(0., dtype=torch.float64), tensor(0., dtype=torch.float64), tensor(0., dtype=torch.float64), tensor(0., dtype=torch.float64), tensor(0., dtype=torch.float64), tensor(0., dtype=torch.float64), tensor(0., dtype=torch.float64), tensor(0., dtype=torch.float64), tensor(0., dtype=torch.float64), tensor(1., dtype=torch.float64), tensor(0., dtype=torch.float64), tensor(0., dtype=torch.float64), tensor(0., dtype=torch.float64), tensor(0., dtype=torch.float64), tensor(0., dtype=torch.float64), tensor(0., dtype=torch.float64), tensor(1., dtype=torch.float64), tensor(0., dtype=torch.float64), tensor(0., dtype=torch.float64), tensor(0., dtype=torch.float64), tensor(0., dtype=torch.float64), tensor(0., dtype=torch.float64), tensor(1., dtype=torch.float64), tensor(0., dtype=torch.float64), tensor(0., dtype=torch.float64), tensor(1., dtype=torch.float64), tensor(0., dtype=torch.float64), tensor(0., dtype=torch.float64), tensor(1., dtype=torch.float64), tensor(0., dtype=torch.float64), tensor(0., dtype=torch.float64), tensor(0., dtype=torch.float64), tensor(0., dtype=torch.float64), tensor(0., dtype=torch.float64), tensor(0., dtype=torch.float64), tensor(0., dtype=torch.float64), tensor(0., dtype=torch.float64), tensor(0., dtype=torch.float64), tensor(0., dtype=torch.float64), tensor(0., dtype=torch.float64), tensor(0., dtype=torch.float64), tensor(0., dtype=torch.float64), tensor(0., dtype=torch.float64), tensor(0., dtype=torch.float64), tensor(0., dtype=torch.float64), tensor(0., dtype=torch.float64), tensor(0., dtype=torch.float64), tensor(0., dtype=torch.float64), tensor(0., dtype=torch.float64), tensor(0., dtype=torch.float64), tensor(0., dtype=torch.float64), tensor(0., dtype=torch.float64), tensor(0., dtype=torch.float64), tensor(0., dtype=torch.float64), tensor(0., dtype=torch.float64), tensor(0., dtype=torch.float64), tensor(0., dtype=torch.float64), tensor(0., dtype=torch.float64), tensor(0., dtype=torch.float64), tensor(0., dtype=torch.float64), tensor(0., dtype=torch.float64), tensor(0., dtype=torch.float64), tensor(0., dtype=torch.float64), tensor(0., dtype=torch.float64), tensor(0., dtype=torch.float64), tensor(0., dtype=torch.float64), tensor(0., dtype=torch.float64), tensor(0., dtype=torch.float64), tensor(0., dtype=torch.float64), tensor(0., dtype=torch.float64), tensor(1., dtype=torch.float64), tensor(0., dtype=torch.float64), tensor(0., dtype=torch.float64), tensor(1., dtype=torch.float64), tensor(0., dtype=torch.float64)], 'val_epoch_loss': [0.5754947820412328, 0.6021828818714393, 0.588620522078843, 0.5870967991106957, 0.5890298449639273, 0.5884151250702769, 0.6146499104925177, 0.5889576475783246, 0.5890124192598212, 0.5750978064838623, 0.5883882949752497, 0.5886713015720126, 0.6149854275287232, 0.5760068367709804, 0.5871148971650806, 0.6125461971970653, 0.5759364439446041, 0.5993617348736272, 0.5898497301766314, 0.5763277260338194, 0.5774691615702674, 0.5994869696943228, 0.5900429833269665, 0.5903874808682736, 0.5875210940473121, 0.5885272766475986, 0.5874477393928613, 0.5747211240170024, 0.5893111130453939, 0.6012567573051977, 0.5870990317583403, 0.5784206958841365, 0.5756532028949994, 0.6137137917732234, 0.5754157241502363, 0.6112380167429813, 0.6149930765738488, 0.603940018488146, 0.5997917134786198, 0.5883734095161214, 0.5867015093172693, 0.5878701289019084, 0.5875061413438208, 0.6017916895252885, 0.5875175827809357, 0.6138762998503715, 0.6015492432711477, 0.6012564559652581, 0.5748008222326403, 0.5757498756859114, 0.6126827231022396, 0.6023635011788524, 0.6123840065880474, 0.5890378843774065, 0.6147592129996635, 0.5744825937099274, 0.5759082102392759, 0.5879605149558277, 0.5750880663431026, 0.5994689724801717, 0.5740516349689089, 0.6007949881067418, 0.5767316977958112, 0.5752328831112015, 0.6009362497588454, 0.6000295005557318, 0.5756732555817416, 0.5998680189621062, 0.6248637534074267, 0.5753940177646577, 0.6032904357435791, 0.6021828980643018, 0.5889237384994122, 0.6005226956565537, 0.6136502393107718, 0.5876545717917477, 0.588694448592313, 0.5999407293512833, 0.5880943554449296, 0.574896628276787, 0.6012545966942753, 0.5739503944498839, 0.5894012003309864, 0.6018564382082429, 0.6005749358726044, 0.5875896397476689, 0.5896072928450137, 0.5884367069715667, 0.6016914010244505, 0.6008277049990539, 0.5769036487476568, 0.6019143288643372, 0.5878671235184861, 0.6133246127991926, 0.6013793146440503, 0.5758083634642146, 0.6149471560554471, 0.6015718446087195, 0.5879861088944629, 0.5999282947669273, 0.6131054593394831, 0.5741165033378187, 0.5746537910328099, 0.5880297354068655, 0.600585174594405, 0.5760267377660124, 0.6018284230874682, 0.5897043560985377, 0.5874506505638557, 0.5766934080448796, 0.6024898976406935, 0.6018172680634977, 0.6000027921942561, 0.5872908432748212, 0.5768115169835305, 0.6135137859548134, 0.5872529012306765, 0.61669403177365, 0.6015957211833954, 0.574188077478673, 0.6000471362646858, 0.6156871272488567, 0.5754243568984038, 0.6026048452367069, 0.589295554068246, 0.5756506597907026, 0.6023699992064001, 0.5884394485817592, 0.6010535576465704, 0.5889244717625998, 0.6123768559878557, 0.6017917022550716, 0.6015214077512935, 0.5877247995200797, 0.6018238271959409, 0.6007657073645857, 0.5876166775534397, 0.5879542606568761, 0.5892988801857324, 0.5885667654279776, 0.5876115128043433, 0.6021527772411894, 0.5748595203391829, 0.576538013136991, 0.5892551520089421, 0.5754789727893426, 0.600328743658781, 0.6006254279700904, 0.5773414952487703, 0.5999994212432804, 0.5758884662774699, 0.6008895439271028, 0.6160177982252308, 0.5997735636775738, 0.5773711545906532, 0.5761630965229747, 0.5870817717340439, 0.6008302479890231, 0.6135478542983812, 0.5869344685887372, 0.6016459356739504, 0.5877603801498452, 0.6263154018900545, 0.6017018525216838, 0.5882318013049707, 0.5878621963084796, 0.5744502289024664, 0.5881809476819552, 0.6004396811072823, 0.5868022114612311, 0.6013669301393938, 0.5876431351448561, 0.5880484262191381, 0.6127078892609337, 0.5881951000348555, 0.5776049517086597, 0.5873493689726568, 0.5997783024995662, 0.5889084955796987, 0.5763501761703678, 0.576222665790293, 0.5883790408708937, 0.6256946969108027, 0.6012213961422093, 0.5877318821303043, 0.6257322560425582, 0.5877070514785386, 0.5889595344121813, 0.5901672900831249, 0.6121008080701363, 0.6129829604714999, 0.5756935631806517, 0.5752540539141421, 0.5891509041624536, 0.6241366934305335, 0.60085693424273, 0.625013085400005, 0.5759965477315303, 0.6025002735394718, 0.5744166285295751, 0.575187342299083, 0.6034931833709607, 0.5763037165927802, 0.5891477142445728, 0.5996548348378873, 0.5749892061633537, 0.5882670028278565, 0.6007720390351653, 0.5782201652207747, 0.5888859964210542, 0.5903190656067234, 0.5887012605260491, 0.5884034022901439, 0.6020692896607278, 0.6012161240913314, 0.5751062479388409, 0.5887557544943773, 0.5774860824941433, 0.5897946006692733, 0.5774859016221943, 0.5759199532100918, 0.5780843959993109, 0.6254963933849951, 0.5874628159250616, 0.5887912092375223, 0.60150626987233, 0.599030668238153, 0.6251846984266343, 0.5747121237126922, 0.5994217455635861, 0.5884188637954058, 0.6385653600184614, 0.5882064941590879, 0.6032411664519304, 0.6138551488463133, 0.5766016134176946, 0.6005814186688948, 0.6154957492831619, 0.5769830054797005, 0.6118023452698065], 'val_epoch_acc': [0.0, 10.0, 5.0, 5.0, 5.0, 5.0, 15.0, 5.0, 5.0, 0.0, 5.0, 5.0, 15.0, 0.0, 5.0, 15.0, 0.0, 10.0, 5.0, 0.0, 0.0, 10.0, 5.0, 5.0, 5.0, 5.0, 5.0, 0.0, 5.0, 10.0, 5.0, 0.0, 0.0, 15.0, 0.0, 15.0, 15.0, 10.0, 10.0, 5.0, 5.0, 5.0, 5.0, 10.0, 5.0, 15.0, 10.0, 10.0, 0.0, 0.0, 15.0, 10.0, 15.0, 5.0, 15.0, 0.0, 0.0, 5.0, 0.0, 10.0, 0.0, 10.0, 0.0, 0.0, 10.0, 10.0, 0.0, 10.0, 20.0, 0.0, 10.0, 10.0, 5.0, 10.0, 15.0, 5.0, 5.0, 10.0, 5.0, 0.0, 10.0, 0.0, 5.0, 10.0, 10.0, 5.0, 5.0, 5.0, 10.0, 10.0, 0.0, 10.0, 5.0, 15.0, 10.0, 0.0, 15.0, 10.0, 5.0, 10.0, 15.0, 0.0, 0.0, 5.0, 10.0, 0.0, 10.0, 5.0, 5.0, 0.0, 10.0, 10.0, 10.0, 5.0, 0.0, 15.0, 5.0, 15.0, 10.0, 0.0, 10.0, 15.0, 0.0, 10.0, 5.0, 0.0, 10.0, 5.0, 10.0, 5.0, 15.0, 10.0, 10.0, 5.0, 10.0, 10.0, 5.0, 5.0, 5.0, 5.0, 5.0, 10.0, 0.0, 0.0, 5.0, 0.0, 10.0, 10.0, 0.0, 10.0, 0.0, 10.0, 15.0, 10.0, 0.0, 0.0, 5.0, 10.0, 15.0, 5.0, 10.0, 5.0, 20.0, 10.0, 5.0, 5.0, 0.0, 5.0, 10.0, 5.0, 10.0, 5.0, 5.0, 15.0, 5.0, 0.0, 5.0, 10.0, 5.0, 0.0, 0.0, 5.0, 20.0, 10.0, 5.0, 20.0, 5.0, 5.0, 5.0, 15.0, 15.0, 0.0, 0.0, 5.0, 20.0, 10.0, 20.0, 0.0, 10.0, 0.0, 0.0, 10.0, 0.0, 5.0, 10.0, 0.0, 5.0, 10.0, 0.0, 5.0, 5.0, 5.0, 5.0, 10.0, 10.0, 0.0, 5.0, 0.0, 5.0, 0.0, 0.0, 0.0, 20.0, 5.0, 5.0, 10.0, 10.0, 20.0, 0.0, 10.0, 5.0, 25.0, 5.0, 10.0, 15.0, 0.0, 10.0, 15.0, 0.0, 13.333333015441895]}\n"
          ],
          "name": "stdout"
        }
      ]
    },
    {
      "cell_type": "code",
      "metadata": {
        "id": "KO7LIVy-h0TW"
      },
      "source": [
        "np.save('my_file.npy', result) "
      ],
      "execution_count": 25,
      "outputs": []
    },
    {
      "cell_type": "code",
      "metadata": {
        "colab": {
          "base_uri": "https://localhost:8080/"
        },
        "id": "cKTN41oHh83K",
        "outputId": "3075f68f-6eec-48f1-f819-0a4783a4e2a9"
      },
      "source": [
        "!pip install numpy==1.16.1\n",
        "import numpy as np\n",
        "from sklearn.metrics import precision_recall_curve\n",
        "\n",
        "result = np.load('my_file.npy')"
      ],
      "execution_count": 1,
      "outputs": [
        {
          "output_type": "stream",
          "text": [
            "Requirement already satisfied: numpy==1.16.1 in /usr/local/lib/python3.7/dist-packages (1.16.1)\n"
          ],
          "name": "stdout"
        }
      ]
    },
    {
      "cell_type": "code",
      "metadata": {
        "id": "O75J15W53k-j"
      },
      "source": [
        "predictions = [ i.item() for i in result.item(0)['predictions'] ]\n",
        "labels = [ i.item() for i in result.item(0)['targets'] ]"
      ],
      "execution_count": 2,
      "outputs": []
    },
    {
      "cell_type": "code",
      "metadata": {
        "colab": {
          "base_uri": "https://localhost:8080/"
        },
        "id": "_1qxXb2T41li",
        "outputId": "a4f0f0fa-f583-4e3c-d69e-19098db185c5"
      },
      "source": [
        "print(len(labels))\n",
        "print(len(predictions))"
      ],
      "execution_count": 3,
      "outputs": [
        {
          "output_type": "stream",
          "text": [
            "4795\n",
            "4795\n"
          ],
          "name": "stdout"
        }
      ]
    },
    {
      "cell_type": "code",
      "metadata": {
        "id": "q5zJ7uon6Qap"
      },
      "source": [
        "precision, recall, thresholds = precision_recall_curve(labels, updated_predictions)"
      ],
      "execution_count": 70,
      "outputs": []
    }
  ]
}